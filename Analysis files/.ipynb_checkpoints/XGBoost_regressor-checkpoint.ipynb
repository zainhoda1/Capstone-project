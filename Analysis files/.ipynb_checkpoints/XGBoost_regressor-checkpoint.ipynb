{
 "cells": [
  {
   "cell_type": "code",
   "execution_count": 1,
   "metadata": {
    "id": "DVA5gZxP24G2"
   },
   "outputs": [],
   "source": [
    "import pandas as pd\n",
    "import numpy as np\n",
    "import xgboost as xgb\n",
    "from sklearn.ensemble import AdaBoostRegressor\n",
    "from sklearn.tree import DecisionTreeRegressor\n",
    "\n",
    "\n",
    "\n",
    "import matplotlib.pyplot as plt\n",
    "import numpy as np\n",
    "\n",
    "from sklearn import datasets, ensemble\n",
    "from sklearn.inspection import permutation_importance\n",
    "from sklearn.metrics import mean_squared_error\n",
    "from sklearn.model_selection import train_test_split"
   ]
  },
  {
   "cell_type": "code",
   "execution_count": 2,
   "metadata": {
    "colab": {
     "base_uri": "https://localhost:8080/",
     "height": 159
    },
    "id": "LTvg7Tht5V1s",
    "outputId": "eb7e8bbb-9b51-4ed3-cccf-747b73ff8e2c"
   },
   "outputs": [
    {
     "data": {
      "text/html": [
       "<div>\n",
       "<style scoped>\n",
       "    .dataframe tbody tr th:only-of-type {\n",
       "        vertical-align: middle;\n",
       "    }\n",
       "\n",
       "    .dataframe tbody tr th {\n",
       "        vertical-align: top;\n",
       "    }\n",
       "\n",
       "    .dataframe thead th {\n",
       "        text-align: right;\n",
       "    }\n",
       "</style>\n",
       "<table border=\"1\" class=\"dataframe\">\n",
       "  <thead>\n",
       "    <tr style=\"text-align: right;\">\n",
       "      <th></th>\n",
       "      <th>Unnamed: 0_x_x</th>\n",
       "      <th>games_x</th>\n",
       "      <th>games_started_x</th>\n",
       "      <th>mp_per_g_x</th>\n",
       "      <th>fg_per_g_x</th>\n",
       "      <th>fga_per_g_x</th>\n",
       "      <th>fg2_per_g_x</th>\n",
       "      <th>fg2a_per_g_x</th>\n",
       "      <th>fg3_per_g_x</th>\n",
       "      <th>fg3a_per_g_x</th>\n",
       "      <th>...</th>\n",
       "      <th>TORate_y</th>\n",
       "      <th>Blk%_y</th>\n",
       "      <th>Stl%_y</th>\n",
       "      <th>FC/40_y</th>\n",
       "      <th>FD/40_y</th>\n",
       "      <th>FTRate_y</th>\n",
       "      <th>Pct.2_y</th>\n",
       "      <th>%Pct_y</th>\n",
       "      <th>%Pct.1_y</th>\n",
       "      <th>offense</th>\n",
       "    </tr>\n",
       "  </thead>\n",
       "  <tbody>\n",
       "    <tr>\n",
       "      <th>0</th>\n",
       "      <td>8.0</td>\n",
       "      <td>30</td>\n",
       "      <td>29</td>\n",
       "      <td>37.4</td>\n",
       "      <td>8.8</td>\n",
       "      <td>21.9</td>\n",
       "      <td>4.4</td>\n",
       "      <td>10.3</td>\n",
       "      <td>4.4</td>\n",
       "      <td>11.6</td>\n",
       "      <td>...</td>\n",
       "      <td>19.4</td>\n",
       "      <td>0.3</td>\n",
       "      <td>2.7</td>\n",
       "      <td>2.7</td>\n",
       "      <td>5.6</td>\n",
       "      <td>27.4</td>\n",
       "      <td>0.324</td>\n",
       "      <td>0.901</td>\n",
       "      <td>0.437</td>\n",
       "      <td>8860.0</td>\n",
       "    </tr>\n",
       "    <tr>\n",
       "      <th>1</th>\n",
       "      <td>9.0</td>\n",
       "      <td>30</td>\n",
       "      <td>30</td>\n",
       "      <td>36.7</td>\n",
       "      <td>7.9</td>\n",
       "      <td>20.8</td>\n",
       "      <td>4.5</td>\n",
       "      <td>10.4</td>\n",
       "      <td>3.4</td>\n",
       "      <td>10.4</td>\n",
       "      <td>...</td>\n",
       "      <td>15.6</td>\n",
       "      <td>0.0</td>\n",
       "      <td>2.2</td>\n",
       "      <td>1.7</td>\n",
       "      <td>4.7</td>\n",
       "      <td>22.9</td>\n",
       "      <td>0.372</td>\n",
       "      <td>0.917</td>\n",
       "      <td>0.482</td>\n",
       "      <td>10563.8</td>\n",
       "    </tr>\n",
       "  </tbody>\n",
       "</table>\n",
       "<p>2 rows × 231 columns</p>\n",
       "</div>"
      ],
      "text/plain": [
       "   Unnamed: 0_x_x  games_x  games_started_x  mp_per_g_x  fg_per_g_x  \\\n",
       "0             8.0       30               29        37.4         8.8   \n",
       "1             9.0       30               30        36.7         7.9   \n",
       "\n",
       "   fga_per_g_x  fg2_per_g_x  fg2a_per_g_x  fg3_per_g_x  fg3a_per_g_x  ...  \\\n",
       "0         21.9          4.4          10.3          4.4          11.6  ...   \n",
       "1         20.8          4.5          10.4          3.4          10.4  ...   \n",
       "\n",
       "   TORate_y  Blk%_y  Stl%_y  FC/40_y  FD/40_y  FTRate_y  Pct.2_y  %Pct_y  \\\n",
       "0      19.4     0.3     2.7      2.7      5.6      27.4    0.324   0.901   \n",
       "1      15.6     0.0     2.2      1.7      4.7      22.9    0.372   0.917   \n",
       "\n",
       "   %Pct.1_y  offense  \n",
       "0     0.437   8860.0  \n",
       "1     0.482  10563.8  \n",
       "\n",
       "[2 rows x 231 columns]"
      ]
     },
     "execution_count": 2,
     "metadata": {},
     "output_type": "execute_result"
    }
   ],
   "source": [
    "'''\n",
    "from google.colab import drive\n",
    "drive.mount('/content/drive/')\n",
    "\n",
    "data =pd.read_csv('/content/drive/Shareddrives/Data Policy Basketball Project/Capstone/Data Analysis/zain_testing.csv',encoding=\"ISO-8859-1\")\n",
    "data.head(2)\n",
    "'''\n",
    "\n",
    "data = pd.read_csv(\"D:\\\\Github\\\\Capstone-project\\\\Data folder\\\\zain_testing.csv\")\n",
    "data.head(2)"
   ]
  },
  {
   "cell_type": "code",
   "execution_count": 3,
   "metadata": {
    "colab": {
     "base_uri": "https://localhost:8080/",
     "height": 141
    },
    "id": "wVn53SFQB4n-",
    "outputId": "3ed7c8b9-c056-4f6c-8f45-f6be5b366663"
   },
   "outputs": [
    {
     "data": {
      "text/html": [
       "<div>\n",
       "<style scoped>\n",
       "    .dataframe tbody tr th:only-of-type {\n",
       "        vertical-align: middle;\n",
       "    }\n",
       "\n",
       "    .dataframe tbody tr th {\n",
       "        vertical-align: top;\n",
       "    }\n",
       "\n",
       "    .dataframe thead th {\n",
       "        text-align: right;\n",
       "    }\n",
       "</style>\n",
       "<table border=\"1\" class=\"dataframe\">\n",
       "  <thead>\n",
       "    <tr style=\"text-align: right;\">\n",
       "      <th></th>\n",
       "      <th>games_x</th>\n",
       "      <th>games_started_x</th>\n",
       "      <th>mp_per_g_x</th>\n",
       "      <th>fg_per_g_x</th>\n",
       "      <th>fga_per_g_x</th>\n",
       "      <th>fg2_per_g_x</th>\n",
       "      <th>fg2a_per_g_x</th>\n",
       "      <th>fg3_per_g_x</th>\n",
       "      <th>fg3a_per_g_x</th>\n",
       "      <th>ft_per_g_x</th>\n",
       "      <th>...</th>\n",
       "      <th>obpm_x</th>\n",
       "      <th>dbpm_x</th>\n",
       "      <th>bpm_x</th>\n",
       "      <th>Ht_x</th>\n",
       "      <th>Wt_x</th>\n",
       "      <th>G_x</th>\n",
       "      <th>S_x</th>\n",
       "      <th>%Min_x</th>\n",
       "      <th>ORtg_x</th>\n",
       "      <th>%Poss_x</th>\n",
       "    </tr>\n",
       "  </thead>\n",
       "  <tbody>\n",
       "    <tr>\n",
       "      <th>0</th>\n",
       "      <td>30</td>\n",
       "      <td>29</td>\n",
       "      <td>37.4</td>\n",
       "      <td>8.8</td>\n",
       "      <td>21.9</td>\n",
       "      <td>4.4</td>\n",
       "      <td>10.3</td>\n",
       "      <td>4.4</td>\n",
       "      <td>11.6</td>\n",
       "      <td>4.2</td>\n",
       "      <td>...</td>\n",
       "      <td>5.8</td>\n",
       "      <td>-3.6</td>\n",
       "      <td>2.2</td>\n",
       "      <td>73</td>\n",
       "      <td>170.0</td>\n",
       "      <td>30</td>\n",
       "      <td>30.0</td>\n",
       "      <td>90.4</td>\n",
       "      <td>107.7</td>\n",
       "      <td>34.8</td>\n",
       "    </tr>\n",
       "    <tr>\n",
       "      <th>1</th>\n",
       "      <td>30</td>\n",
       "      <td>30</td>\n",
       "      <td>36.7</td>\n",
       "      <td>7.9</td>\n",
       "      <td>20.8</td>\n",
       "      <td>4.5</td>\n",
       "      <td>10.4</td>\n",
       "      <td>3.4</td>\n",
       "      <td>10.4</td>\n",
       "      <td>5.1</td>\n",
       "      <td>...</td>\n",
       "      <td>3.4</td>\n",
       "      <td>-2.4</td>\n",
       "      <td>1.1</td>\n",
       "      <td>73</td>\n",
       "      <td>160.0</td>\n",
       "      <td>30</td>\n",
       "      <td>30.0</td>\n",
       "      <td>88.6</td>\n",
       "      <td>100.0</td>\n",
       "      <td>36.1</td>\n",
       "    </tr>\n",
       "  </tbody>\n",
       "</table>\n",
       "<p>2 rows × 99 columns</p>\n",
       "</div>"
      ],
      "text/plain": [
       "   games_x  games_started_x  mp_per_g_x  fg_per_g_x  fga_per_g_x  fg2_per_g_x  \\\n",
       "0       30               29        37.4         8.8         21.9          4.4   \n",
       "1       30               30        36.7         7.9         20.8          4.5   \n",
       "\n",
       "   fg2a_per_g_x  fg3_per_g_x  fg3a_per_g_x  ft_per_g_x  ...  obpm_x  dbpm_x  \\\n",
       "0          10.3          4.4          11.6         4.2  ...     5.8    -3.6   \n",
       "1          10.4          3.4          10.4         5.1  ...     3.4    -2.4   \n",
       "\n",
       "   bpm_x  Ht_x   Wt_x  G_x   S_x  %Min_x  ORtg_x  %Poss_x  \n",
       "0    2.2    73  170.0   30  30.0    90.4   107.7     34.8  \n",
       "1    1.1    73  160.0   30  30.0    88.6   100.0     36.1  \n",
       "\n",
       "[2 rows x 99 columns]"
      ]
     },
     "execution_count": 3,
     "metadata": {},
     "output_type": "execute_result"
    }
   ],
   "source": [
    "X = data[data.columns[1:100]]\n",
    "X.head(2)"
   ]
  },
  {
   "cell_type": "code",
   "execution_count": 4,
   "metadata": {
    "colab": {
     "base_uri": "https://localhost:8080/"
    },
    "id": "182gZy_2B4ls",
    "outputId": "efebf97a-926e-4c4f-a141-1a590d8394c7"
   },
   "outputs": [
    {
     "data": {
      "text/plain": [
       "0     8860.0\n",
       "1    10563.8\n",
       "Name: offense, dtype: float64"
      ]
     },
     "execution_count": 4,
     "metadata": {},
     "output_type": "execute_result"
    }
   ],
   "source": [
    "y = data['offense']\n",
    "y.head(2)"
   ]
  },
  {
   "cell_type": "code",
   "execution_count": 5,
   "metadata": {
    "id": "yWEE-L8Z5V68"
   },
   "outputs": [],
   "source": [
    "diabetes = datasets.load_diabetes()\n",
    "#X, y = diabetes.data, diabetes.target"
   ]
  },
  {
   "cell_type": "code",
   "execution_count": 6,
   "metadata": {
    "id": "t525XVENCqZO"
   },
   "outputs": [
    {
     "data": {
      "text/plain": [
       "Index(['games_x', 'games_started_x', 'mp_per_g_x', 'fg_per_g_x', 'fga_per_g_x',\n",
       "       'fg2_per_g_x', 'fg2a_per_g_x', 'fg3_per_g_x', 'fg3a_per_g_x',\n",
       "       'ft_per_g_x', 'fta_per_g_x', 'orb_per_g_x', 'drb_per_g_x',\n",
       "       'trb_per_g_x', 'ast_per_g_x', 'stl_per_g_x', 'blk_per_g_x',\n",
       "       'tov_per_g_x', 'pf_per_g_x', 'pts_per_g_x', 'sos_x', 'mp_x', 'fg_x',\n",
       "       'fga_x', 'fg2_x', 'fg2a_x', 'fg3_x', 'fg3a_x', 'ft_x', 'fta_x', 'orb_x',\n",
       "       'drb_x', 'trb_x', 'ast_x', 'stl_x', 'blk_x', 'tov_x', 'pf_x', 'pts_x',\n",
       "       'fg_per_min_x', 'fga_per_min_x', 'fg2_per_min_x', 'fg2a_per_min_x',\n",
       "       'fg3_per_min_x', 'fg3a_per_min_x', 'ft_per_min_x', 'fta_per_min_x',\n",
       "       'trb_per_min_x', 'ast_per_min_x', 'stl_per_min_x', 'blk_per_min_x',\n",
       "       'tov_per_min_x', 'pf_per_min_x', 'pts_per_min_x', 'fg_per_poss_x',\n",
       "       'fga_per_poss_x', 'fg2_per_poss_x', 'fg2a_per_poss_x', 'fg3_per_poss_x',\n",
       "       'fg3a_per_poss_x', 'ft_per_poss_x', 'fta_per_poss_x', 'trb_per_poss_x',\n",
       "       'ast_per_poss_x', 'stl_per_poss_x', 'blk_per_poss_x', 'tov_per_poss_x',\n",
       "       'pf_per_poss_x', 'pts_per_poss_x', 'off_rtg_x', 'def_rtg_x', 'per_x',\n",
       "       'ts_pct_x', 'efg_pct_x', 'fg3a_per_fga_pct_x', 'fta_per_fga_pct_x',\n",
       "       'pprod_x', 'orb_pct_x', 'drb_pct_x', 'trb_pct_x', 'ast_pct_x',\n",
       "       'stl_pct_x', 'blk_pct_x', 'tov_pct_x', 'usg_pct_x', 'ows_x', 'dws_x',\n",
       "       'ws_x', 'ws_per_40_x', 'obpm_x', 'dbpm_x', 'bpm_x', 'Ht_x', 'Wt_x',\n",
       "       'G_x', 'S_x', '%Min_x', 'ORtg_x', '%Poss_x'],\n",
       "      dtype='object')"
      ]
     },
     "execution_count": 6,
     "metadata": {},
     "output_type": "execute_result"
    }
   ],
   "source": [
    "X.columns"
   ]
  },
  {
   "cell_type": "code",
   "execution_count": 7,
   "metadata": {
    "colab": {
     "base_uri": "https://localhost:8080/"
    },
    "id": "L-Z1bpI2Blet",
    "outputId": "f95558c4-0c74-4152-bf59-99af62623046"
   },
   "outputs": [
    {
     "name": "stdout",
     "output_type": "stream",
     "text": [
      "(6106, 99)\n",
      "(6106,)\n"
     ]
    }
   ],
   "source": [
    "print(X.shape)\n",
    "print(y.shape)"
   ]
  },
  {
   "cell_type": "code",
   "execution_count": 8,
   "metadata": {
    "id": "hfhJKuJYBgtD"
   },
   "outputs": [],
   "source": [
    "X_train, X_test, y_train, y_test = train_test_split(\n",
    "    X, y, test_size=0.1, random_state=13\n",
    ")\n",
    "\n",
    "params = {\n",
    "    \"n_estimators\": 500,\n",
    "    \"max_depth\": 5,\n",
    "    \"min_samples_split\": 5,\n",
    "    \"learning_rate\": 0.01,\n",
    "    \"loss\": \"squared_error\",\n",
    "}"
   ]
  },
  {
   "cell_type": "code",
   "execution_count": null,
   "metadata": {
    "colab": {
     "base_uri": "https://localhost:8080/",
     "height": 356
    },
    "id": "qPekdN-jUM6F",
    "outputId": "6bd2d792-dd49-404b-9af9-833cf08091af"
   },
   "outputs": [],
   "source": [
    "#=========================================================================\n",
    "# XGBoost regression:\n",
    "# Parameters:\n",
    "# n_estimators  \"Number of gradient boosted trees. Equivalent to number\n",
    "#                of boosting rounds.\"\n",
    "# learning_rate \"Boosting learning rate (also known as “eta”)\"\n",
    "# max_depth     \"Maximum depth of a tree. Increasing this value will make\n",
    "#                the model more complex and more likely to overfit.\"\n",
    "#=========================================================================\n",
    "regressor=xgb.XGBRegressor(eval_metric='rmsle')\n",
    "\n",
    "#=========================================================================\n",
    "# exhaustively search for the optimal hyperparameters\n",
    "#=========================================================================\n",
    "from sklearn.model_selection import GridSearchCV\n",
    "# set up our search grid\n",
    "param_grid = {\"max_depth\":    [4, 5, 6],\n",
    "              \"n_estimators\": [500, 600, 700],\n",
    "              \"learning_rate\": [0.01, 0.015]}\n",
    "\n",
    "# try out every combination of the above values\n",
    "search = GridSearchCV(regressor, param_grid, cv=5).fit(X_train, y_train)\n",
    "\n",
    "print(\"The best hyperparameters are \",search.best_params_)"
   ]
  },
  {
   "cell_type": "code",
   "execution_count": null,
   "metadata": {
    "id": "4WhvOQKZUM8o"
   },
   "outputs": [],
   "source": [
    "regressor=xgb.XGBRegressor(learning_rate = search.best_params_[\"learning_rate\"],\n",
    "                           n_estimators  = search.best_params_[\"n_estimators\"],\n",
    "                           max_depth     = search.best_params_[\"max_depth\"],\n",
    "                           eval_metric='rmsle')\n",
    "\n",
    "regressor.fit(X_train, y_train)\n",
    "\n",
    "#=========================================================================\n",
    "# To use early_stopping_rounds:\n",
    "# \"Validation metric needs to improve at least once in every\n",
    "# early_stopping_rounds round(s) to continue training.\"\n",
    "#=========================================================================\n",
    "# first perform a test/train split\n",
    "#from sklearn.model_selection import train_test_split\n",
    "\n",
    "#X_train,X_test,y_train,y_test = train_test_split(X_train,y_train, test_size = 0.2)\n",
    "#regressor.fit(X_train, y_train, early_stopping_rounds=6, eval_set=[(X_test, y_test)], verbose=False)\n",
    "\n",
    "#=========================================================================\n",
    "# use the model to predict the prices for the test data\n",
    "#=========================================================================\n",
    "predictions = regressor.predict(X_test)"
   ]
  },
  {
   "cell_type": "code",
   "execution_count": null,
   "metadata": {
    "id": "yLfo7TrGUM-0"
   },
   "outputs": [],
   "source": [
    "# read in the ground truth file\n",
    "#solution   = pd.read_csv('../input/house-prices-advanced-regression-solution-file/solution.csv')\n",
    "y_true     = y_test\n",
    "\n",
    "from sklearn.metrics import mean_squared_log_error\n",
    "RMSLE = np.sqrt( mean_squared_log_error(y_true, predictions) )\n",
    "print(\"The score is %.5f\" % RMSLE )"
   ]
  },
  {
   "cell_type": "code",
   "execution_count": null,
   "metadata": {
    "id": "oVkjB6NgUNBJ"
   },
   "outputs": [],
   "source": []
  },
  {
   "cell_type": "code",
   "execution_count": null,
   "metadata": {
    "id": "Kk44Yhc1UNC_"
   },
   "outputs": [],
   "source": []
  },
  {
   "cell_type": "code",
   "execution_count": null,
   "metadata": {
    "id": "fSoTfO_WUNFO"
   },
   "outputs": [],
   "source": []
  },
  {
   "cell_type": "code",
   "execution_count": null,
   "metadata": {
    "id": "we0pYhViUNHV"
   },
   "outputs": [],
   "source": []
  },
  {
   "cell_type": "code",
   "execution_count": null,
   "metadata": {
    "id": "AIBhYdGrUNJR"
   },
   "outputs": [],
   "source": []
  },
  {
   "cell_type": "code",
   "execution_count": null,
   "metadata": {
    "id": "otalgsWxUNLk"
   },
   "outputs": [],
   "source": []
  }
 ],
 "metadata": {
  "colab": {
   "provenance": []
  },
  "kernelspec": {
   "display_name": "Python 3 (ipykernel)",
   "language": "python",
   "name": "python3"
  },
  "language_info": {
   "codemirror_mode": {
    "name": "ipython",
    "version": 3
   },
   "file_extension": ".py",
   "mimetype": "text/x-python",
   "name": "python",
   "nbconvert_exporter": "python",
   "pygments_lexer": "ipython3",
   "version": "3.10.9"
  }
 },
 "nbformat": 4,
 "nbformat_minor": 1
}
