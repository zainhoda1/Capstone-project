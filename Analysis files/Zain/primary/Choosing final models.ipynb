{
 "cells": [
  {
   "cell_type": "code",
   "execution_count": 9,
   "id": "dd86487b",
   "metadata": {},
   "outputs": [],
   "source": [
    "#essentials\n",
    "import numpy as np\n",
    "import pandas as pd\n",
    "\n",
    "#visualization\n",
    "import matplotlib.pyplot as plt\n",
    "import seaborn as sns\n",
    "import plotly.express as px\n",
    "import shap\n",
    "import ast\n",
    "\n",
    "#tools/metrics\n",
    "from sklearn.model_selection import KFold\n",
    "from sklearn.model_selection import cross_val_score\n",
    "from sklearn.feature_selection import RFE\n",
    "from sklearn.feature_selection import RFECV\n",
    "from sklearn.preprocessing import StandardScaler\n",
    "from sklearn.metrics import mean_squared_error\n",
    "from sklearn.metrics import r2_score\n",
    "from sklearn.metrics import median_absolute_error\n",
    "from sklearn.metrics import max_error\n",
    "from sklearn.feature_selection import mutual_info_regression\n",
    "from sklearn.model_selection import train_test_split\n",
    "from sklearn.model_selection import GridSearchCV\n",
    "from sklearn.metrics import r2_score\n",
    "\n",
    "#modeling\n",
    "from sklearn.ensemble import RandomForestRegressor\n",
    "from sklearn.svm import SVR\n",
    "from sklearn.linear_model import LinearRegression\n",
    "from xgboost import XGBRegressor\n",
    "from lightgbm import LGBMRegressor\n",
    "from sklearn import linear_model\n",
    "from sklearn.linear_model import Ridge\n"
   ]
  },
  {
   "cell_type": "code",
   "execution_count": 10,
   "id": "8a14c736",
   "metadata": {},
   "outputs": [],
   "source": [
    "kp =  pd.read_csv(\"D:\\\\Github\\\\Capstone-project\\\\Data folder\\\\KenPom Team Metrics.csv\")\n",
    "kp_conf_rat =  pd.read_csv(\"D:\\\\Github\\\\Capstone-project\\\\Data folder\\\\KP_Conf_Ratings.csv\")\n",
    "\n",
    "df =  pd.read_csv(\"D:\\\\Github\\\\Capstone-project\\\\Data folder\\\\training_data_to_use.csv\")\n",
    "models_parameters =  pd.read_csv(\"D:\\\\Github\\\\Capstone-project\\\\Data folder\\\\model_parameters_defense.csv\")\n",
    "\n",
    "model_hyperparameters = pd.read_csv(\"D:\\\\Github\\\\Capstone-project\\\\Data folder\\\\model_hyper_parameters_defense.csv\")"
   ]
  },
  {
   "cell_type": "code",
   "execution_count": 11,
   "id": "3ac5fc4a",
   "metadata": {},
   "outputs": [
    {
     "data": {
      "text/html": [
       "<div>\n",
       "<style scoped>\n",
       "    .dataframe tbody tr th:only-of-type {\n",
       "        vertical-align: middle;\n",
       "    }\n",
       "\n",
       "    .dataframe tbody tr th {\n",
       "        vertical-align: top;\n",
       "    }\n",
       "\n",
       "    .dataframe thead th {\n",
       "        text-align: right;\n",
       "    }\n",
       "</style>\n",
       "<table border=\"1\" class=\"dataframe\">\n",
       "  <thead>\n",
       "    <tr style=\"text-align: right;\">\n",
       "      <th></th>\n",
       "      <th>Unnamed: 0</th>\n",
       "      <th>player_type</th>\n",
       "      <th>Team</th>\n",
       "      <th>Team_n1</th>\n",
       "      <th>Unnamed..0_x</th>\n",
       "      <th>Player.Name</th>\n",
       "      <th>season</th>\n",
       "      <th>conf_abbr</th>\n",
       "      <th>games</th>\n",
       "      <th>games_started</th>\n",
       "      <th>...</th>\n",
       "      <th>Calc B</th>\n",
       "      <th>Calc B_n1</th>\n",
       "      <th>Calc C</th>\n",
       "      <th>Calc C_n1</th>\n",
       "      <th>Calc Overall A</th>\n",
       "      <th>Calc Overall A2</th>\n",
       "      <th>Calc Overall A3</th>\n",
       "      <th>Calc Overall A_n1</th>\n",
       "      <th>Calc Overall A2_n1</th>\n",
       "      <th>Calc Overall A3_n1</th>\n",
       "    </tr>\n",
       "  </thead>\n",
       "  <tbody>\n",
       "    <tr>\n",
       "      <th>0</th>\n",
       "      <td>1</td>\n",
       "      <td>1</td>\n",
       "      <td>JACKSONVILLE</td>\n",
       "      <td>JACKSONVILLE</td>\n",
       "      <td>16199.0</td>\n",
       "      <td>aamahne-santos-1</td>\n",
       "      <td>2018-19</td>\n",
       "      <td>A-Sun</td>\n",
       "      <td>32</td>\n",
       "      <td>31</td>\n",
       "      <td>...</td>\n",
       "      <td>513.80</td>\n",
       "      <td>618.80</td>\n",
       "      <td>-800.06</td>\n",
       "      <td>-516.80</td>\n",
       "      <td>594.54</td>\n",
       "      <td>168.82</td>\n",
       "      <td>7450.10</td>\n",
       "      <td>720.80</td>\n",
       "      <td>360.40</td>\n",
       "      <td>6834.0</td>\n",
       "    </tr>\n",
       "    <tr>\n",
       "      <th>1</th>\n",
       "      <td>2</td>\n",
       "      <td>1</td>\n",
       "      <td>CLEMSON</td>\n",
       "      <td>CLEMSON</td>\n",
       "      <td>7084.0</td>\n",
       "      <td>aamir-simms-1</td>\n",
       "      <td>2018-19</td>\n",
       "      <td>ACC</td>\n",
       "      <td>34</td>\n",
       "      <td>34</td>\n",
       "      <td>...</td>\n",
       "      <td>1100.55</td>\n",
       "      <td>1676.10</td>\n",
       "      <td>493.58</td>\n",
       "      <td>1155.15</td>\n",
       "      <td>1280.64</td>\n",
       "      <td>1374.02</td>\n",
       "      <td>8037.35</td>\n",
       "      <td>1985.65</td>\n",
       "      <td>2272.55</td>\n",
       "      <td>9769.7</td>\n",
       "    </tr>\n",
       "    <tr>\n",
       "      <th>2</th>\n",
       "      <td>3</td>\n",
       "      <td>1</td>\n",
       "      <td>CLEMSON</td>\n",
       "      <td>CLEMSON</td>\n",
       "      <td>7085.0</td>\n",
       "      <td>aamir-simms-1</td>\n",
       "      <td>2019-20</td>\n",
       "      <td>ACC</td>\n",
       "      <td>30</td>\n",
       "      <td>30</td>\n",
       "      <td>...</td>\n",
       "      <td>1676.10</td>\n",
       "      <td>1453.86</td>\n",
       "      <td>1155.15</td>\n",
       "      <td>1461.24</td>\n",
       "      <td>1985.65</td>\n",
       "      <td>2272.55</td>\n",
       "      <td>9769.70</td>\n",
       "      <td>1719.54</td>\n",
       "      <td>2095.92</td>\n",
       "      <td>9778.5</td>\n",
       "    </tr>\n",
       "  </tbody>\n",
       "</table>\n",
       "<p>3 rows × 395 columns</p>\n",
       "</div>"
      ],
      "text/plain": [
       "   Unnamed: 0  player_type          Team       Team_n1  Unnamed..0_x  \\\n",
       "0           1            1  JACKSONVILLE  JACKSONVILLE       16199.0   \n",
       "1           2            1       CLEMSON       CLEMSON        7084.0   \n",
       "2           3            1       CLEMSON       CLEMSON        7085.0   \n",
       "\n",
       "        Player.Name   season conf_abbr  games  games_started  ...   Calc B  \\\n",
       "0  aamahne-santos-1  2018-19     A-Sun     32             31  ...   513.80   \n",
       "1     aamir-simms-1  2018-19       ACC     34             34  ...  1100.55   \n",
       "2     aamir-simms-1  2019-20       ACC     30             30  ...  1676.10   \n",
       "\n",
       "   Calc B_n1   Calc C  Calc C_n1  Calc Overall A  Calc Overall A2  \\\n",
       "0     618.80  -800.06    -516.80          594.54           168.82   \n",
       "1    1676.10   493.58    1155.15         1280.64          1374.02   \n",
       "2    1453.86  1155.15    1461.24         1985.65          2272.55   \n",
       "\n",
       "   Calc Overall A3  Calc Overall A_n1  Calc Overall A2_n1  Calc Overall A3_n1  \n",
       "0          7450.10             720.80              360.40              6834.0  \n",
       "1          8037.35            1985.65             2272.55              9769.7  \n",
       "2          9769.70            1719.54             2095.92              9778.5  \n",
       "\n",
       "[3 rows x 395 columns]"
      ]
     },
     "execution_count": 11,
     "metadata": {},
     "output_type": "execute_result"
    }
   ],
   "source": [
    "df.head(3)"
   ]
  },
  {
   "cell_type": "code",
   "execution_count": 12,
   "id": "cea96ba5",
   "metadata": {},
   "outputs": [
    {
     "data": {
      "text/html": [
       "<div>\n",
       "<style scoped>\n",
       "    .dataframe tbody tr th:only-of-type {\n",
       "        vertical-align: middle;\n",
       "    }\n",
       "\n",
       "    .dataframe tbody tr th {\n",
       "        vertical-align: top;\n",
       "    }\n",
       "\n",
       "    .dataframe thead th {\n",
       "        text-align: right;\n",
       "    }\n",
       "</style>\n",
       "<table border=\"1\" class=\"dataframe\">\n",
       "  <thead>\n",
       "    <tr style=\"text-align: right;\">\n",
       "      <th></th>\n",
       "      <th>regression_model</th>\n",
       "      <th>parameter_list</th>\n",
       "      <th>no_of_features</th>\n",
       "    </tr>\n",
       "  </thead>\n",
       "  <tbody>\n",
       "    <tr>\n",
       "      <th>0</th>\n",
       "      <td>linear_regression</td>\n",
       "      <td>['player_type','games', 'games_started', 'mp_p...</td>\n",
       "      <td>4</td>\n",
       "    </tr>\n",
       "    <tr>\n",
       "      <th>1</th>\n",
       "      <td>ridge_regression</td>\n",
       "      <td>['player_type', 'games', 'fg_per_g', 'fga_per_...</td>\n",
       "      <td>4</td>\n",
       "    </tr>\n",
       "    <tr>\n",
       "      <th>2</th>\n",
       "      <td>xg_boost</td>\n",
       "      <td>['player_type', 'trb_per_min', 'trb_per_poss',...</td>\n",
       "      <td>4</td>\n",
       "    </tr>\n",
       "  </tbody>\n",
       "</table>\n",
       "</div>"
      ],
      "text/plain": [
       "    regression_model                                     parameter_list  \\\n",
       "0  linear_regression  ['player_type','games', 'games_started', 'mp_p...   \n",
       "1   ridge_regression  ['player_type', 'games', 'fg_per_g', 'fga_per_...   \n",
       "2           xg_boost  ['player_type', 'trb_per_min', 'trb_per_poss',...   \n",
       "\n",
       "   no_of_features  \n",
       "0               4  \n",
       "1               4  \n",
       "2               4  "
      ]
     },
     "execution_count": 12,
     "metadata": {},
     "output_type": "execute_result"
    }
   ],
   "source": [
    "models_parameters.head(3)"
   ]
  },
  {
   "cell_type": "code",
   "execution_count": 13,
   "id": "c95bd173",
   "metadata": {},
   "outputs": [
    {
     "data": {
      "text/html": [
       "<div>\n",
       "<style scoped>\n",
       "    .dataframe tbody tr th:only-of-type {\n",
       "        vertical-align: middle;\n",
       "    }\n",
       "\n",
       "    .dataframe tbody tr th {\n",
       "        vertical-align: top;\n",
       "    }\n",
       "\n",
       "    .dataframe thead th {\n",
       "        text-align: right;\n",
       "    }\n",
       "</style>\n",
       "<table border=\"1\" class=\"dataframe\">\n",
       "  <thead>\n",
       "    <tr style=\"text-align: right;\">\n",
       "      <th></th>\n",
       "      <th>model</th>\n",
       "      <th>best_score</th>\n",
       "      <th>best_params</th>\n",
       "    </tr>\n",
       "  </thead>\n",
       "  <tbody>\n",
       "    <tr>\n",
       "      <th>0</th>\n",
       "      <td>linear_regression</td>\n",
       "      <td>0.630944</td>\n",
       "      <td>{}</td>\n",
       "    </tr>\n",
       "    <tr>\n",
       "      <th>1</th>\n",
       "      <td>ridge_regression</td>\n",
       "      <td>0.634638</td>\n",
       "      <td>{'alpha': 150}</td>\n",
       "    </tr>\n",
       "    <tr>\n",
       "      <th>2</th>\n",
       "      <td>xg_boost</td>\n",
       "      <td>0.616541</td>\n",
       "      <td>{'learning_rate': 0.1, 'max_depth': 4, 'min_ch...</td>\n",
       "    </tr>\n",
       "  </tbody>\n",
       "</table>\n",
       "</div>"
      ],
      "text/plain": [
       "               model  best_score  \\\n",
       "0  linear_regression    0.630944   \n",
       "1   ridge_regression    0.634638   \n",
       "2           xg_boost    0.616541   \n",
       "\n",
       "                                         best_params  \n",
       "0                                                 {}  \n",
       "1                                     {'alpha': 150}  \n",
       "2  {'learning_rate': 0.1, 'max_depth': 4, 'min_ch...  "
      ]
     },
     "execution_count": 13,
     "metadata": {},
     "output_type": "execute_result"
    }
   ],
   "source": [
    "model_hyperparameters.head(3)"
   ]
  },
  {
   "cell_type": "code",
   "execution_count": 15,
   "id": "e1a48432",
   "metadata": {},
   "outputs": [],
   "source": [
    "def r2(actual: np.ndarray, predicted: np.ndarray):\n",
    "    \"\"\" R2 Score \"\"\"\n",
    "    return r2_score(actual, predicted)\n",
    "\n",
    "def adjr2(actual: np.ndarray, predicted: np.ndarray, rowcount: int, featurecount: int):\n",
    "    \"\"\" Adjusted R2 Score \"\"\"\n",
    "    return 1-(1-r2(actual,predicted))*(rowcount-1)/(rowcount-featurecount)"
   ]
  },
  {
   "cell_type": "code",
   "execution_count": 29,
   "id": "687a0e2d",
   "metadata": {},
   "outputs": [
    {
     "name": "stdout",
     "output_type": "stream",
     "text": [
      "92\n"
     ]
    }
   ],
   "source": [
    "columns = models_parameters['parameter_list'][2]\n",
    "columns = ast.literal_eval(columns)\n",
    "print(len(columns))"
   ]
  },
  {
   "cell_type": "code",
   "execution_count": 32,
   "id": "cbb9702c",
   "metadata": {},
   "outputs": [
    {
     "name": "stdout",
     "output_type": "stream",
     "text": [
      "{'learning_rate': 0.1, 'max_depth': 4, 'min_child_weight': 0.1, 'subsample': 0.5}\n"
     ]
    }
   ],
   "source": [
    "hyperparameters = model_hyperparameters['best_params'][2]\n",
    "print(hyperparameters)"
   ]
  },
  {
   "cell_type": "code",
   "execution_count": 33,
   "id": "3cc1e936",
   "metadata": {},
   "outputs": [
    {
     "name": "stdout",
     "output_type": "stream",
     "text": [
      "(7747, 92)\n",
      "(7747, 1)\n"
     ]
    }
   ],
   "source": [
    "master_table  = df[columns]\n",
    "print(master_table.shape)\n",
    "    \n",
    "y= (df['defence_def_rtg']).to_frame()\n",
    "print(y.shape)"
   ]
  },
  {
   "cell_type": "code",
   "execution_count": 34,
   "id": "e83d458b",
   "metadata": {},
   "outputs": [],
   "source": [
    "# split the data with 90% in training set\n",
    "X_train, X_test, y_train, y_test = train_test_split(master_table, y, random_state=0,\n",
    "                                    train_size=0.85)"
   ]
  },
  {
   "cell_type": "code",
   "execution_count": 35,
   "id": "48eb9b4d",
   "metadata": {},
   "outputs": [
    {
     "name": "stdout",
     "output_type": "stream",
     "text": [
      "(1163, 1)\n"
     ]
    },
    {
     "name": "stderr",
     "output_type": "stream",
     "text": [
      "D:\\Anaconda\\lib\\site-packages\\xgboost\\core.py:727: FutureWarning: Pass `objective` as keyword args.\n",
      "  warnings.warn(msg, FutureWarning)\n"
     ]
    }
   ],
   "source": [
    "model_xg = XGBRegressor(hyperparameters)\n",
    "model_lr.fit(X_train, y_train)\n",
    "y_predicted = model_lr.predict(X_test)\n",
    "print(y_predicted.shape)"
   ]
  },
  {
   "cell_type": "code",
   "execution_count": 25,
   "id": "75760647",
   "metadata": {},
   "outputs": [
    {
     "name": "stdout",
     "output_type": "stream",
     "text": [
      "(1163, 1)\n"
     ]
    }
   ],
   "source": [
    "'''\n",
    "model_lr = LinearRegression()\n",
    "model_lr.fit(X_train, y_train)\n",
    "y_predicted = model_lr.predict(X_test)\n",
    "print(y_predicted.shape)\n",
    "'''"
   ]
  },
  {
   "cell_type": "code",
   "execution_count": 36,
   "id": "9cf31986",
   "metadata": {},
   "outputs": [
    {
     "data": {
      "text/plain": [
       "1163"
      ]
     },
     "execution_count": 36,
     "metadata": {},
     "output_type": "execute_result"
    }
   ],
   "source": [
    "y_predicted.shape[0]"
   ]
  },
  {
   "cell_type": "code",
   "execution_count": 37,
   "id": "0e0d5671",
   "metadata": {},
   "outputs": [
    {
     "name": "stdout",
     "output_type": "stream",
     "text": [
      "0.6293656082657113\n",
      "0.6583911931605653\n"
     ]
    }
   ],
   "source": [
    "no_of_features = len(columns)\n",
    "no_of_rows = y_predicted.shape[0]\n",
    "\n",
    "print(adjr2(y_test,y_predicted,no_of_rows, no_of_features ))\n",
    "print(r2(y_test,y_predicted))"
   ]
  },
  {
   "cell_type": "code",
   "execution_count": null,
   "id": "7e264486",
   "metadata": {},
   "outputs": [],
   "source": []
  },
  {
   "cell_type": "code",
   "execution_count": null,
   "id": "48ebbcd5",
   "metadata": {},
   "outputs": [],
   "source": []
  },
  {
   "cell_type": "code",
   "execution_count": null,
   "id": "08b66e19",
   "metadata": {},
   "outputs": [],
   "source": []
  },
  {
   "cell_type": "code",
   "execution_count": null,
   "id": "bab56a69",
   "metadata": {},
   "outputs": [],
   "source": []
  },
  {
   "cell_type": "code",
   "execution_count": null,
   "id": "8de8a254",
   "metadata": {},
   "outputs": [],
   "source": []
  }
 ],
 "metadata": {
  "kernelspec": {
   "display_name": "Python 3 (ipykernel)",
   "language": "python",
   "name": "python3"
  },
  "language_info": {
   "codemirror_mode": {
    "name": "ipython",
    "version": 3
   },
   "file_extension": ".py",
   "mimetype": "text/x-python",
   "name": "python",
   "nbconvert_exporter": "python",
   "pygments_lexer": "ipython3",
   "version": "3.10.9"
  }
 },
 "nbformat": 4,
 "nbformat_minor": 5
}
