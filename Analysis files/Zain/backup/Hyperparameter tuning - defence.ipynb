{
 "cells": [
  {
   "cell_type": "markdown",
   "id": "3e5db41f",
   "metadata": {},
   "source": [
    "# Hyperparameter tuning "
   ]
  },
  {
   "cell_type": "code",
   "execution_count": 1,
   "id": "11b3360e",
   "metadata": {},
   "outputs": [],
   "source": [
    "#essentials\n",
    "import os\n",
    "import numpy as np\n",
    "import pandas as pd\n",
    "import dataframe_image as dfi\n",
    "from tqdm import tqdm\n",
    "import pickle\n",
    "import warnings\n",
    "warnings.filterwarnings('ignore')\n",
    "\n",
    "#visualization\n",
    "import matplotlib.pyplot as plt\n",
    "import seaborn as sns\n",
    "import plotly.express as px\n",
    "\n",
    "#tools/metrics\n",
    "from sklearn.preprocessing import StandardScaler\n",
    "from sklearn.metrics import mean_absolute_error\n",
    "from sklearn.metrics import r2_score\n",
    "from sklearn.feature_selection import mutual_info_regression\n",
    "from sklearn.model_selection import train_test_split\n",
    "import shap\n",
    "\n",
    "#modeling\n",
    "from sklearn.ensemble import RandomForestRegressor\n",
    "from sklearn.svm import SVR\n",
    "from sklearn.linear_model import LinearRegression\n",
    "from xgboost import XGBRegressor\n",
    "from lightgbm import LGBMRegressor\n",
    "\n",
    "#pandas show all columns\n",
    "pd.set_option('display.max_columns', None)\n",
    "\n",
    "#%load_ext autoreload\n",
    "#%autoreload 2\n",
    "#%run ./__init__"
   ]
  },
  {
   "cell_type": "code",
   "execution_count": 2,
   "id": "699ffc3e",
   "metadata": {},
   "outputs": [],
   "source": [
    "from xgboost import XGBClassifier\n",
    "from sklearn.model_selection import train_test_split\n",
    "from sklearn.metrics import accuracy_score\n",
    "import numpy as np\n",
    "import matplotlib.pyplot as plt\n",
    "import seaborn as sns\n",
    "#from fitter import Fitter, get_common_distributions, get_distributions, pd.options.display.max_rows"
   ]
  },
  {
   "cell_type": "code",
   "execution_count": 3,
   "id": "0ca9d9f4",
   "metadata": {},
   "outputs": [],
   "source": [
    "from sklearn.preprocessing import PolynomialFeatures\n",
    "from sklearn.linear_model import LinearRegression\n",
    "from sklearn.pipeline import make_pipeline\n",
    "from sklearn.model_selection import RandomizedSearchCV, GridSearchCV, train_test_split\n",
    "from sklearn.metrics import accuracy_score\n",
    "from sklearn.model_selection import KFold\n",
    "from sklearn.model_selection import cross_val_score\n",
    "from sklearn.feature_selection import RFE\n",
    "from sklearn.metrics import mean_squared_error\n"
   ]
  },
  {
   "cell_type": "code",
   "execution_count": 5,
   "id": "ff220ebb",
   "metadata": {},
   "outputs": [],
   "source": [
    "kp =  pd.read_csv(\"D:\\\\Github\\\\Capstone-project\\\\Data folder\\\\KenPom Team Metrics.csv\")\n",
    "kp_conf_rat =  pd.read_csv(\"D:\\\\Github\\\\Capstone-project\\\\Data folder\\\\KP_Conf_Ratings.csv\")\n",
    "models_parameters =  pd.read_csv(\"D:\\\\Github\\\\Capstone-project\\\\Data folder\\\\model_parameters_defense.csv\")\n"
   ]
  },
  {
   "cell_type": "code",
   "execution_count": 6,
   "id": "7f7f408c",
   "metadata": {},
   "outputs": [
    {
     "data": {
      "text/html": [
       "<div>\n",
       "<style scoped>\n",
       "    .dataframe tbody tr th:only-of-type {\n",
       "        vertical-align: middle;\n",
       "    }\n",
       "\n",
       "    .dataframe tbody tr th {\n",
       "        vertical-align: top;\n",
       "    }\n",
       "\n",
       "    .dataframe thead th {\n",
       "        text-align: right;\n",
       "    }\n",
       "</style>\n",
       "<table border=\"1\" class=\"dataframe\">\n",
       "  <thead>\n",
       "    <tr style=\"text-align: right;\">\n",
       "      <th></th>\n",
       "      <th>Season</th>\n",
       "      <th>TeamName</th>\n",
       "      <th>TeamName 2</th>\n",
       "      <th>Tempo</th>\n",
       "      <th>RankTempo</th>\n",
       "      <th>AdjTempo</th>\n",
       "      <th>RankAdjTempo</th>\n",
       "      <th>OE</th>\n",
       "      <th>RankOE</th>\n",
       "      <th>AdjOE</th>\n",
       "      <th>RankAdjOE</th>\n",
       "      <th>DE</th>\n",
       "      <th>RankDE</th>\n",
       "      <th>AdjDE</th>\n",
       "      <th>RankAdjDE</th>\n",
       "      <th>AdjEM</th>\n",
       "      <th>RankAdjEM</th>\n",
       "      <th>seed</th>\n",
       "    </tr>\n",
       "  </thead>\n",
       "  <tbody>\n",
       "    <tr>\n",
       "      <th>0</th>\n",
       "      <td>2019</td>\n",
       "      <td>ABILENE CHRISTIAN</td>\n",
       "      <td>Abilene Christian</td>\n",
       "      <td>66.5681</td>\n",
       "      <td>293</td>\n",
       "      <td>66.0042</td>\n",
       "      <td>254</td>\n",
       "      <td>107.1020</td>\n",
       "      <td>87</td>\n",
       "      <td>103.625</td>\n",
       "      <td>186</td>\n",
       "      <td>96.7466</td>\n",
       "      <td>43</td>\n",
       "      <td>101.539</td>\n",
       "      <td>119</td>\n",
       "      <td>2.08626</td>\n",
       "      <td>145</td>\n",
       "      <td>15.0</td>\n",
       "    </tr>\n",
       "    <tr>\n",
       "      <th>1</th>\n",
       "      <td>2019</td>\n",
       "      <td>AIR FORCE</td>\n",
       "      <td>Air Force</td>\n",
       "      <td>67.2794</td>\n",
       "      <td>269</td>\n",
       "      <td>66.4070</td>\n",
       "      <td>234</td>\n",
       "      <td>98.7687</td>\n",
       "      <td>274</td>\n",
       "      <td>100.431</td>\n",
       "      <td>250</td>\n",
       "      <td>105.6820</td>\n",
       "      <td>242</td>\n",
       "      <td>107.275</td>\n",
       "      <td>238</td>\n",
       "      <td>-6.84432</td>\n",
       "      <td>241</td>\n",
       "      <td>NaN</td>\n",
       "    </tr>\n",
       "  </tbody>\n",
       "</table>\n",
       "</div>"
      ],
      "text/plain": [
       "   Season           TeamName         TeamName 2    Tempo  RankTempo  AdjTempo  \\\n",
       "0    2019  ABILENE CHRISTIAN  Abilene Christian  66.5681        293   66.0042   \n",
       "1    2019          AIR FORCE          Air Force  67.2794        269   66.4070   \n",
       "\n",
       "   RankAdjTempo        OE  RankOE    AdjOE  RankAdjOE        DE  RankDE  \\\n",
       "0           254  107.1020      87  103.625        186   96.7466      43   \n",
       "1           234   98.7687     274  100.431        250  105.6820     242   \n",
       "\n",
       "     AdjDE  RankAdjDE    AdjEM  RankAdjEM  seed  \n",
       "0  101.539        119  2.08626        145  15.0  \n",
       "1  107.275        238 -6.84432        241   NaN  "
      ]
     },
     "execution_count": 6,
     "metadata": {},
     "output_type": "execute_result"
    }
   ],
   "source": [
    "kp.head(2)"
   ]
  },
  {
   "cell_type": "code",
   "execution_count": 7,
   "id": "b5777cde",
   "metadata": {},
   "outputs": [
    {
     "data": {
      "text/html": [
       "<div>\n",
       "<style scoped>\n",
       "    .dataframe tbody tr th:only-of-type {\n",
       "        vertical-align: middle;\n",
       "    }\n",
       "\n",
       "    .dataframe tbody tr th {\n",
       "        vertical-align: top;\n",
       "    }\n",
       "\n",
       "    .dataframe thead th {\n",
       "        text-align: right;\n",
       "    }\n",
       "</style>\n",
       "<table border=\"1\" class=\"dataframe\">\n",
       "  <thead>\n",
       "    <tr style=\"text-align: right;\">\n",
       "      <th></th>\n",
       "      <th>Year_Conf</th>\n",
       "      <th>Conf_Abb</th>\n",
       "      <th>Conf_Rk</th>\n",
       "      <th>Conf_Full</th>\n",
       "      <th>Conf_Rating</th>\n",
       "      <th>Unnamed: 5</th>\n",
       "      <th>Unnamed: 6</th>\n",
       "      <th>Unnamed: 7</th>\n",
       "      <th>Unnamed: 8</th>\n",
       "      <th>Unnamed: 9</th>\n",
       "      <th>Unnamed: 10</th>\n",
       "      <th>Unnamed: 11</th>\n",
       "      <th>Unnamed: 12</th>\n",
       "    </tr>\n",
       "  </thead>\n",
       "  <tbody>\n",
       "    <tr>\n",
       "      <th>0</th>\n",
       "      <td>2023</td>\n",
       "      <td>Big 12</td>\n",
       "      <td>1</td>\n",
       "      <td>Big 12 Conference</td>\n",
       "      <td>17.99</td>\n",
       "      <td>NaN</td>\n",
       "      <td>NaN</td>\n",
       "      <td>NaN</td>\n",
       "      <td>NaN</td>\n",
       "      <td>NaN</td>\n",
       "      <td>NaN</td>\n",
       "      <td>NaN</td>\n",
       "      <td>NaN</td>\n",
       "    </tr>\n",
       "    <tr>\n",
       "      <th>1</th>\n",
       "      <td>2023</td>\n",
       "      <td>Big Ten</td>\n",
       "      <td>2</td>\n",
       "      <td>Big Ten Conference</td>\n",
       "      <td>14.88</td>\n",
       "      <td>NaN</td>\n",
       "      <td>NaN</td>\n",
       "      <td>NaN</td>\n",
       "      <td>NaN</td>\n",
       "      <td>NaN</td>\n",
       "      <td>NaN</td>\n",
       "      <td>NaN</td>\n",
       "      <td>NaN</td>\n",
       "    </tr>\n",
       "  </tbody>\n",
       "</table>\n",
       "</div>"
      ],
      "text/plain": [
       "   Year_Conf Conf_Abb  Conf_Rk           Conf_Full  Conf_Rating  Unnamed: 5  \\\n",
       "0       2023   Big 12        1   Big 12 Conference        17.99         NaN   \n",
       "1       2023  Big Ten        2  Big Ten Conference        14.88         NaN   \n",
       "\n",
       "   Unnamed: 6  Unnamed: 7  Unnamed: 8  Unnamed: 9  Unnamed: 10  Unnamed: 11  \\\n",
       "0         NaN         NaN         NaN         NaN          NaN          NaN   \n",
       "1         NaN         NaN         NaN         NaN          NaN          NaN   \n",
       "\n",
       "   Unnamed: 12  \n",
       "0          NaN  \n",
       "1          NaN  "
      ]
     },
     "execution_count": 7,
     "metadata": {},
     "output_type": "execute_result"
    }
   ],
   "source": [
    "kp_conf_rat.head(2)"
   ]
  },
  {
   "cell_type": "code",
   "execution_count": 8,
   "id": "b7f42c57",
   "metadata": {},
   "outputs": [],
   "source": [
    "#data_path = os.path.dirname(os.getcwd()) + '/data' + '/master_table.csv'\n",
    "#master_table = pd.read_csv(data_path)\n",
    "#master_table = pd.read_csv(\"D:\\\\Github\\\\Capstone-project\\\\Data folder\\\\final_dataset.csv\")"
   ]
  },
  {
   "cell_type": "code",
   "execution_count": 9,
   "id": "0ffa3553",
   "metadata": {},
   "outputs": [],
   "source": [
    "#master_table.head()"
   ]
  },
  {
   "cell_type": "code",
   "execution_count": 10,
   "id": "dfb639a9",
   "metadata": {},
   "outputs": [],
   "source": [
    "#list(master_table.columns)"
   ]
  },
  {
   "cell_type": "code",
   "execution_count": 11,
   "id": "eb78aeb6",
   "metadata": {},
   "outputs": [],
   "source": [
    "d = pd.read_csv(\"D:\\\\Github\\\\Capstone-project\\\\Data folder\\\\final_data_by_player_type.csv\")\n",
    "d = pd.merge(d, kp, left_on=['Team', 'year'], right_on=['TeamName', 'Season'], how='left')\n",
    "d = pd.merge(d, kp, left_on=['Team_n1', 'year'], right_on=['TeamName', 'Season'], how='left')\n",
    "df = pd.merge(d, kp, left_on=['Team_n1', 'year_n1'], right_on=['TeamName', 'Season'], how='left')\n",
    "df = pd.merge(df, kp_conf_rat, left_on=['conf_abbr', 'year'], right_on=['Conf_Abb', 'Year_Conf'], how='left')\n",
    "df = pd.merge(df, kp_conf_rat, left_on=['conf_abbr_n1', 'year'], right_on=['Conf_Abb', 'Year_Conf'], how='left')\n",
    "df = pd.merge(df, kp_conf_rat, left_on=['conf_abbr_n1', 'year_n1'], right_on=['Conf_Abb', 'Year_Conf'], how='left')\n",
    "\n",
    "#df['offense'] = df['X.Min_n1']*df['ORtg_n1']\n",
    "#df['offense'] = df['X.Min_n1']*df['bpm_n1']  #box plus minus\n",
    "# (stl_per_poss+blk_per_poss+Dreb%)*%Min\n",
    "df['defence'] = (df['stl_per_poss_n1'] + df['blk_per_poss_n1'] + df['drb_pct_n1']) * df['X.Min_n1']"
   ]
  },
  {
   "cell_type": "code",
   "execution_count": 12,
   "id": "192d9ab1",
   "metadata": {
    "scrolled": true
   },
   "outputs": [
    {
     "data": {
      "text/html": [
       "<div>\n",
       "<style scoped>\n",
       "    .dataframe tbody tr th:only-of-type {\n",
       "        vertical-align: middle;\n",
       "    }\n",
       "\n",
       "    .dataframe tbody tr th {\n",
       "        vertical-align: top;\n",
       "    }\n",
       "\n",
       "    .dataframe thead th {\n",
       "        text-align: right;\n",
       "    }\n",
       "</style>\n",
       "<table border=\"1\" class=\"dataframe\">\n",
       "  <thead>\n",
       "    <tr style=\"text-align: right;\">\n",
       "      <th></th>\n",
       "      <th>X.Min_n1</th>\n",
       "      <th>mp_per_g</th>\n",
       "      <th>games</th>\n",
       "    </tr>\n",
       "  </thead>\n",
       "  <tbody>\n",
       "    <tr>\n",
       "      <th>count</th>\n",
       "      <td>11042.000000</td>\n",
       "      <td>11042.000000</td>\n",
       "      <td>11042.000000</td>\n",
       "    </tr>\n",
       "    <tr>\n",
       "      <th>mean</th>\n",
       "      <td>48.420766</td>\n",
       "      <td>19.833680</td>\n",
       "      <td>25.684749</td>\n",
       "    </tr>\n",
       "    <tr>\n",
       "      <th>std</th>\n",
       "      <td>25.011647</td>\n",
       "      <td>8.984115</td>\n",
       "      <td>9.599929</td>\n",
       "    </tr>\n",
       "    <tr>\n",
       "      <th>min</th>\n",
       "      <td>2.000000</td>\n",
       "      <td>1.600000</td>\n",
       "      <td>1.000000</td>\n",
       "    </tr>\n",
       "    <tr>\n",
       "      <th>25%</th>\n",
       "      <td>27.825000</td>\n",
       "      <td>12.100000</td>\n",
       "      <td>20.000000</td>\n",
       "    </tr>\n",
       "    <tr>\n",
       "      <th>50%</th>\n",
       "      <td>51.500000</td>\n",
       "      <td>20.300000</td>\n",
       "      <td>28.000000</td>\n",
       "    </tr>\n",
       "    <tr>\n",
       "      <th>75%</th>\n",
       "      <td>69.700000</td>\n",
       "      <td>27.400000</td>\n",
       "      <td>31.000000</td>\n",
       "    </tr>\n",
       "    <tr>\n",
       "      <th>max</th>\n",
       "      <td>96.500000</td>\n",
       "      <td>38.700000</td>\n",
       "      <td>144.000000</td>\n",
       "    </tr>\n",
       "  </tbody>\n",
       "</table>\n",
       "</div>"
      ],
      "text/plain": [
       "           X.Min_n1      mp_per_g         games\n",
       "count  11042.000000  11042.000000  11042.000000\n",
       "mean      48.420766     19.833680     25.684749\n",
       "std       25.011647      8.984115      9.599929\n",
       "min        2.000000      1.600000      1.000000\n",
       "25%       27.825000     12.100000     20.000000\n",
       "50%       51.500000     20.300000     28.000000\n",
       "75%       69.700000     27.400000     31.000000\n",
       "max       96.500000     38.700000    144.000000"
      ]
     },
     "execution_count": 12,
     "metadata": {},
     "output_type": "execute_result"
    }
   ],
   "source": [
    "df[['X.Min_n1','mp_per_g','games']].describe()"
   ]
  },
  {
   "cell_type": "code",
   "execution_count": 13,
   "id": "1f0f600e",
   "metadata": {},
   "outputs": [],
   "source": [
    "df = df.drop(df[(df['games']<=13) & (df['games_started']/df['games']>0.1)].index)\n",
    "df = df.drop(df[(df['games_n1']<=13) & (df['games_started_n1']/df['games_n1']>0.1)].index)\n",
    "\n",
    "\n",
    "df = df.drop(df.loc[((df['games']>39) & (df['year']==2023)) | ((df['games_n1']>39) & (df['year_n1']==2023)) | \n",
    "   ((df['games']>40) & (df['year']==2022)) | ((df['games_n1']>40) & (df['year_n1']==2022)) | \n",
    "   ((df['games']>33) & (df['year']==2021)) | ((df['games_n1']>33) & (df['year_n1']==2021)) | \n",
    "   ((df['games']>35) & (df['year']==2020)) | ((df['games_n1']>35) & (df['year_n1']==2020)) | \n",
    "   ((df['games']>40) & (df['year']==2019)) | ((df['games_n1']>40) & (df['year_n1']==2019)) |\n",
    "   (df['year']==0)]['Player.Name'].index)\n",
    "idx = df.groupby(['Team', 'year'])['games'].max()\n",
    "a = pd.DataFrame(idx)\n",
    "ab = a.reset_index()\n",
    "ab.columns = ['Team_max', 'year_max', 'games_max']\n",
    "df = pd.merge(df, ab, left_on=['Team', 'year'], right_on=['Team_max', 'year_max'], how='left')\n",
    "idx2 = df.groupby(['Team_n1', 'year_n1'])['games_n1'].max()\n",
    "a2 = pd.DataFrame(idx2)\n",
    "ab2 = a2.reset_index()\n",
    "ab2.columns = ['Team_max', 'year_max', 'games_max']\n",
    "df = pd.merge(df, ab2, left_on=['Team_n1', 'year_n1'], right_on=['Team_max', 'year_max'], how='left')"
   ]
  },
  {
   "cell_type": "code",
   "execution_count": 14,
   "id": "369c5418",
   "metadata": {},
   "outputs": [],
   "source": [
    "df = df.drop(df.loc[(df['games_max_x']<15)].index)\n",
    "df = df.drop(df.loc[(df['games_max_y']<15)].index)\n",
    "\n",
    "#df = df.drop(df.loc[(df['year']==2020) | (df['year_n1']==2020)].index)\n",
    "df = df.drop(df[(df['X.Min_n1']<=10)].index)\n",
    "df = df.drop(df[(df['X.Min']<=10)].index)"
   ]
  },
  {
   "cell_type": "code",
   "execution_count": 15,
   "id": "6dd0fca5",
   "metadata": {},
   "outputs": [],
   "source": [
    "# df = df.drop(df[(df['games']<=0.05*df['games_max_x'])].index)\n",
    "# df = df.drop(df[(df['games_n1']<=0.05*df['games_max_y'])].index)"
   ]
  },
  {
   "cell_type": "code",
   "execution_count": null,
   "id": "9fc43e57",
   "metadata": {},
   "outputs": [],
   "source": [
    "df = df.drop(df[(df['X.Min_n1']<=10)].index)\n",
    "df = df.drop(df[(df['X.Min']<=10)].index)\n",
    "df['Year_dif'] = df['year_n1']-df['year']\n",
    "df['Team_AdjEM_dif'] = df['AdjEM_y']-df['AdjEM_x']\n",
    "df['KP_Rk_Dif'] = df['RankAdjEM_y']-df['RankAdjEM_x']\n",
    "df['KP_Conf_Dif'] = df['Conf_Rating_y']-df['Conf_Rating_x']\n",
    "df['Calc A'] = df['X.Min']*df['ws']\n",
    "df['Calc A2'] = df['X.Min']*df['bpm']\n",
    "df['Calc A3'] = df['X.Min']*df['ORtg']\n",
    "df['Calc A2_n1'] = df['X.Min_n1']*df['bpm_n1']\n",
    "df['Calc A_n1'] =df['X.Min_n1']*df['ws_n1']\n",
    "df['Calc A3_n1'] = df['X.Min_n1']*df['ORtg_n1']\n",
    "df['Calc B'] = (df['stl_per_poss']+df['blk_per_poss']+df['DR.'])*df['X.Min']\n",
    "df['Calc B_n1'] = (df['stl_per_poss_n1']+df['blk_per_poss_n1']+df['DR._n1'])*df['X.Min_n1']\n",
    "df['Calc C']=(df['off_rtg']-df['def_rtg'])*df['X.Min']\n",
    "df['Calc C_n1']=(df['off_rtg_n1']-df['def_rtg_n1'])*df['X.Min_n1']\n",
    "df['Calc Overall A'] = df['Calc A'] + df['Calc B']\n",
    "df['Calc Overall A2'] = df['Calc A2'] + df['Calc B']\n",
    "df['Calc Overall A3'] = df['Calc A3'] + df['Calc B']\n",
    "df['Calc Overall A_n1'] = df['Calc A_n1'] + df['Calc B_n1']\n",
    "df['Calc Overall A2_n1'] = df['Calc A2_n1'] + df['Calc B_n1']\n",
    "df['Calc Overall A3_n1'] = df['Calc A3_n1'] + df['Calc B_n1']"
   ]
  },
  {
   "cell_type": "code",
   "execution_count": null,
   "id": "f8298f61",
   "metadata": {},
   "outputs": [],
   "source": [
    "df[['X.Min_n1','mp_per_g','games']].describe()"
   ]
  },
  {
   "cell_type": "code",
   "execution_count": null,
   "id": "bfc65988",
   "metadata": {},
   "outputs": [],
   "source": []
  },
  {
   "cell_type": "code",
   "execution_count": null,
   "id": "f9e314fd",
   "metadata": {},
   "outputs": [],
   "source": [
    "#df = df[(df['X.Min_n1']>6) & (df['games']<40)  & (df['games']>7)]\n",
    "#filtered_df\n",
    "df[['X.Min_n1','mp_per_g','games']].describe()"
   ]
  },
  {
   "cell_type": "code",
   "execution_count": null,
   "id": "d56c81ba",
   "metadata": {},
   "outputs": [],
   "source": [
    "# Removed rows where Player Season was termed \"career\"\n",
    "#indexrows = all_BR_data[all_BR_data['season']=='Career'].index\n",
    "#all_BR_data.drop(indexrows , inplace=True)"
   ]
  },
  {
   "cell_type": "code",
   "execution_count": null,
   "id": "9c9665b3",
   "metadata": {},
   "outputs": [],
   "source": [
    "#filtered_df = df[(df['games']<40)  & (df['games']>7)]\n",
    "#filtered_df[['Team', 'Player.Name', 'X.Min','season' ]].head(3)\n",
    "#df_to_use = filtered_df.dropna()"
   ]
  },
  {
   "cell_type": "code",
   "execution_count": null,
   "id": "c131cb1f",
   "metadata": {},
   "outputs": [],
   "source": [
    "#filtered_df1 = filtered_df[filtered_df['mp_per_g'] > 6]\n",
    "#filtered_df1\n",
    "#df = filtered_df1"
   ]
  },
  {
   "cell_type": "code",
   "execution_count": null,
   "id": "2e258724",
   "metadata": {},
   "outputs": [],
   "source": [
    "#df = filtered_df"
   ]
  },
  {
   "cell_type": "code",
   "execution_count": null,
   "id": "ba892efe",
   "metadata": {},
   "outputs": [],
   "source": [
    "#filtered_df[['X.Min_n1','mp_per_g','games']].describe()"
   ]
  },
  {
   "cell_type": "code",
   "execution_count": null,
   "id": "1635483b",
   "metadata": {},
   "outputs": [],
   "source": []
  },
  {
   "cell_type": "code",
   "execution_count": null,
   "id": "068e15ca",
   "metadata": {},
   "outputs": [],
   "source": [
    "d[['Player.Name','season','Team','year', 'Team_n1', 'year_n1']].head(5)"
   ]
  },
  {
   "cell_type": "code",
   "execution_count": null,
   "id": "ebb6d34f",
   "metadata": {},
   "outputs": [],
   "source": [
    "df[['Player.Name','season','Team','year', 'Team_n1', 'year_n1','Conf_Rating_x', 'Conf_Rating_y', 'defence']].head(5)"
   ]
  },
  {
   "cell_type": "code",
   "execution_count": null,
   "id": "4f66e332",
   "metadata": {},
   "outputs": [],
   "source": [
    "kp.head(2)"
   ]
  },
  {
   "cell_type": "code",
   "execution_count": null,
   "id": "a19754a5",
   "metadata": {
    "scrolled": true
   },
   "outputs": [],
   "source": [
    "kp_conf_rat.head(2)"
   ]
  },
  {
   "cell_type": "code",
   "execution_count": null,
   "id": "d22f279c",
   "metadata": {},
   "outputs": [],
   "source": [
    "list(df.columns)"
   ]
  },
  {
   "cell_type": "code",
   "execution_count": null,
   "id": "3b73068c",
   "metadata": {},
   "outputs": [],
   "source": [
    "to_use= list(df.columns[(df. dtypes == 'float64') | (df. dtypes == 'int64') ])\n",
    "len(to_use)\n",
    "to_use"
   ]
  },
  {
   "cell_type": "code",
   "execution_count": null,
   "id": "bd524439",
   "metadata": {},
   "outputs": [],
   "source": [
    "df = df.replace(to_replace=\"NO IDEA\",value=0)\n",
    "df = df.replace(to_replace=\"---\",value=0)\n",
    "df = df.fillna(0)\n",
    "pd.options.display.max_columns"
   ]
  },
  {
   "cell_type": "code",
   "execution_count": null,
   "id": "07212cc6",
   "metadata": {},
   "outputs": [],
   "source": [
    "#columns = ['games','games_started','mp_per_g','fg_per_g','fga_per_g','fg2_per_g','fg2a_per_g','fg3_per_g','fg3a_per_g','ft_per_g','fta_per_g','orb_per_g','drb_per_g','trb_per_g','ast_per_g','stl_per_g','blk_per_g','tov_per_g','pf_per_g','pts_per_g','sos','mp','fg','fga','fg2','fg2a','fg3','fg3a','ft','fta','orb','drb','trb','ast','stl','blk','tov','pf','pts','fg_per_min','fga_per_min','fg2_per_min','fg2a_per_min','fg3_per_min','fg3a_per_min','ft_per_min','fta_per_min','trb_per_min','ast_per_min','stl_per_min','blk_per_min','tov_per_min','pf_per_min','pts_per_min','fg_per_poss','fga_per_poss','fg2_per_poss','fg2a_per_poss','fg3_per_poss','fg3a_per_poss','ft_per_poss','fta_per_poss','trb_per_poss','ast_per_poss','stl_per_poss','blk_per_poss','tov_per_poss','pf_per_poss','pts_per_poss','off_rtg','def_rtg','per','ts_pct','efg_pct','fg3a_per_fga_pct','fta_per_fga_pct','pprod','orb_pct','drb_pct','trb_pct','ast_pct','stl_pct','blk_pct','tov_pct','usg_pct','ows','dws','ws','ws_per_40','obpm','dbpm','bpm','year','Ht','Wt','G','S','X.Min','ORtg','X.Poss','X.Shots','eFG.','TS.','OR.','DR.','ARate','TORate','Blk.','Stl.','FC.40','FD.40','FTRate','Pct.2','X.Pct','X.Pct.1','Season_x','Tempo_x','RankTempo_x','AdjTempo_x','RankAdjTempo_x','OE_x','RankOE_x','AdjOE_x','RankAdjOE_x','DE_x','RankDE_x','AdjDE_x','RankAdjDE_x','AdjEM_x','RankAdjEM_x','seed_x','Season_y','Tempo_y','RankTempo_y','AdjTempo_y','RankAdjTempo_y','OE_y','RankOE_y','AdjOE_y','RankAdjOE_y','DE_y','RankDE_y','AdjDE_y','RankAdjDE_y','AdjEM_y','RankAdjEM_y','seed_y', 'Year_Conf_x','Conf_Rk_x','Conf_Rating_x','Year_Conf_y','Conf_Rk_y','Conf_Rating_y']\n",
    "columns = ['player_type', 'games', 'games_started', 'mp_per_g', 'fg_per_g', 'fga_per_g', 'fg2_per_g', 'fg2a_per_g', 'fg3_per_g', 'fg3a_per_g', 'ft_per_g', 'fta_per_g', 'orb_per_g', 'drb_per_g', 'trb_per_g', 'ast_per_g', 'stl_per_g', 'blk_per_g', 'tov_per_g', 'pf_per_g', 'pts_per_g', 'sos', 'mp', 'fg', 'fga', 'fg2', 'fg2a', 'fg3', 'fg3a', 'ft', 'fta', 'orb', 'drb', 'trb', 'ast', 'stl', 'blk', 'tov', 'pf', 'pts', 'fg_per_min', 'fga_per_min', 'fg2_per_min', 'fg2a_per_min', 'fg3_per_min', 'fg3a_per_min', 'ft_per_min', 'fta_per_min', 'trb_per_min', 'ast_per_min', 'stl_per_min', 'blk_per_min', 'tov_per_min', 'pf_per_min', 'pts_per_min', 'fg_per_poss', 'fga_per_poss', 'fg2_per_poss', 'fg2a_per_poss', 'fg3_per_poss', 'fg3a_per_poss', 'ft_per_poss', 'fta_per_poss', 'trb_per_poss', 'ast_per_poss', 'stl_per_poss', 'blk_per_poss', 'tov_per_poss', 'pf_per_poss', 'pts_per_poss', 'off_rtg', 'def_rtg', 'per', 'ts_pct', 'efg_pct', 'fg3a_per_fga_pct', 'fta_per_fga_pct', 'pprod', 'orb_pct', 'drb_pct', 'trb_pct', 'ast_pct', 'stl_pct', 'blk_pct', 'tov_pct', 'usg_pct', 'ows', 'dws', 'ws', 'ws_per_40', 'obpm', 'dbpm', 'bpm', 'year', 'Ht', 'Wt', 'G', 'S', 'X.Min', 'ORtg', 'X.Poss', 'X.Shots', 'eFG.', 'TS.', 'OR.', 'DR.', 'ARate', 'TORate', 'Blk.', 'Stl.', 'FC.40', 'FD.40', 'FTRate', 'Pct.2', 'X.Pct', 'X.Pct.1', 'Season_x', 'Tempo_x', 'RankTempo_x', 'AdjTempo_x', 'RankAdjTempo_x', 'OE_x', 'RankOE_x', 'AdjOE_x', 'RankAdjOE_x', 'DE_x', 'RankDE_x', 'AdjDE_x', 'RankAdjDE_x', 'AdjEM_x', 'RankAdjEM_x', 'seed_x', 'Season_y', 'Tempo_y', 'RankTempo_y', 'AdjTempo_y', 'RankAdjTempo_y', 'OE_y', 'RankOE_y', 'AdjOE_y', 'RankAdjOE_y', 'DE_y', 'RankDE_y', 'AdjDE_y', 'RankAdjDE_y', 'AdjEM_y', 'RankAdjEM_y', 'seed_y', 'Year_Conf_x', 'Conf_Rk_x', 'Conf_Rating_x', 'Year_Conf_y', 'Conf_Rk_y', 'Conf_Rating_y', 'year_max_x', 'games_max_x', 'year_max_y', 'games_max_y', 'Team_AdjEM_dif', 'KP_Rk_Dif', 'KP_Conf_Dif', 'Calc A', 'Calc A2', 'Calc A3', 'Calc B', 'Calc C', 'Calc Overall A', 'Calc Overall A2', 'Calc Overall A3']\n",
    " \n"
   ]
  },
  {
   "cell_type": "code",
   "execution_count": null,
   "id": "1a8d878c",
   "metadata": {},
   "outputs": [],
   "source": [
    "master_table  = df[columns]\n",
    "print(master_table.shape)"
   ]
  },
  {
   "cell_type": "code",
   "execution_count": null,
   "id": "68dc5ab0",
   "metadata": {},
   "outputs": [],
   "source": [
    "y = df['defence'].to_frame()\n",
    "y.shape"
   ]
  },
  {
   "cell_type": "code",
   "execution_count": null,
   "id": "bf13208c",
   "metadata": {},
   "outputs": [],
   "source": [
    "from sklearn.decomposition import PCA"
   ]
  },
  {
   "cell_type": "code",
   "execution_count": null,
   "id": "baf14e50",
   "metadata": {},
   "outputs": [],
   "source": [
    "pca = PCA().fit(master_table)\n",
    "plt.plot(np.cumsum(pca.explained_variance_ratio_))\n",
    "plt.xlabel('number of components')\n",
    "plt.ylabel('cumulative explained variance');"
   ]
  },
  {
   "cell_type": "code",
   "execution_count": null,
   "id": "96896024",
   "metadata": {},
   "outputs": [],
   "source": [
    "pca = PCA(n_components=15)\n",
    "projected= pca.fit_transform(master_table)\n",
    "print(projected.shape)"
   ]
  },
  {
   "cell_type": "code",
   "execution_count": null,
   "id": "23972080",
   "metadata": {},
   "outputs": [],
   "source": [
    "pca_components = pd.DataFrame(projected)"
   ]
  },
  {
   "cell_type": "code",
   "execution_count": null,
   "id": "c1316746",
   "metadata": {
    "scrolled": true
   },
   "outputs": [],
   "source": [
    "pca_components.head(2)"
   ]
  },
  {
   "cell_type": "code",
   "execution_count": null,
   "id": "c17a687c",
   "metadata": {},
   "outputs": [],
   "source": [
    "pca_components.shape"
   ]
  },
  {
   "cell_type": "code",
   "execution_count": null,
   "id": "0b9bd6b1",
   "metadata": {},
   "outputs": [],
   "source": [
    "# split the data with 90% in training set\n",
    "X_train, X_test, y_train, y_test = train_test_split(master_table, y, random_state=0,\n",
    "                                    train_size=0.9)\n"
   ]
  },
  {
   "cell_type": "code",
   "execution_count": null,
   "id": "0722328c",
   "metadata": {},
   "outputs": [],
   "source": [
    "print(X_train.shape)\n",
    "print(X_test.shape)\n",
    "print(y_train.shape)\n",
    "print(y_test.shape)"
   ]
  },
  {
   "cell_type": "code",
   "execution_count": null,
   "id": "6f5e3d95",
   "metadata": {},
   "outputs": [],
   "source": [
    "model_params = {\n",
    "    \n",
    "    'random_forest': {\n",
    "        'model': RandomForestRegressor(),\n",
    "        'params' : {\n",
    "            'n_estimators': [1,5,10,20, 25, 30, 50],\n",
    "            'max_depth':[2,4,6,8,10,12]\n",
    "        }\n",
    "    },\n",
    "    \n",
    "    'naive_bayes_gaussian': {\n",
    "        'model': SVR(),\n",
    "        'params': {\n",
    "            'C': [0.4, 0.6, 0.8, 1],\n",
    "            'epsilon': [0.01, 0.02, 0.04, 0.06, 0.08, 0.1]\n",
    "        }\n",
    "    },\n",
    "    \n",
    "    'xg_boost':  {\n",
    "        'model': XGBRegressor(),\n",
    "        'params' : {\n",
    "            'max_depth' : [2,4, 6, 8, 10, 15, 20],\n",
    "            'learning_rate' : [0.1, 0.25, 0.5, 0.75],\n",
    "            'subsample' : [0.5],\n",
    "            'min_child_weight' : [0.1, 0.25, 0.5, 0.75]\n",
    "        }\n",
    "        \n",
    "    }\n",
    "\n",
    "      \n",
    "}"
   ]
  },
  {
   "cell_type": "code",
   "execution_count": null,
   "id": "0c7cf5f0",
   "metadata": {},
   "outputs": [],
   "source": [
    "from sklearn.model_selection import GridSearchCV\n",
    "import pandas as pd\n",
    "scores = []\n",
    "\n",
    "for model_name, mp in model_params.items():\n",
    "    rgr =  GridSearchCV(mp['model'], mp['params'], cv=5, return_train_score=False)\n",
    "    rgr.fit(X_train, y_train)\n",
    "    print(f\" model --> {model_name} done \")\n",
    "    scores.append({\n",
    "        'model': model_name,\n",
    "        'best_score': rgr.best_score_,\n",
    "        'best_params': rgr.best_params_\n",
    "    })\n",
    "    \n",
    "df_params = pd.DataFrame(scores,columns=['model','best_score','best_params'])\n",
    "df_params"
   ]
  },
  {
   "cell_type": "code",
   "execution_count": null,
   "id": "5e44747b",
   "metadata": {},
   "outputs": [],
   "source": [
    "df_params['best_params'].iloc[2]"
   ]
  },
  {
   "cell_type": "markdown",
   "id": "90f3f69d",
   "metadata": {},
   "source": [
    "# Best parameters\n",
    "\n",
    "{'learning_rate': 0.1,\n",
    " 'max_depth': 2,\n",
    " 'min_child_weight': 0.1,\n",
    " 'subsample': 0.5}"
   ]
  },
  {
   "cell_type": "code",
   "execution_count": null,
   "id": "1e70a67d",
   "metadata": {},
   "outputs": [],
   "source": [
    "#df_params_pca = df_params"
   ]
  },
  {
   "cell_type": "code",
   "execution_count": null,
   "id": "bc7ed324",
   "metadata": {},
   "outputs": [],
   "source": [
    "df_params_pca.head()"
   ]
  },
  {
   "cell_type": "code",
   "execution_count": null,
   "id": "743b4a0e",
   "metadata": {},
   "outputs": [],
   "source": []
  }
 ],
 "metadata": {
  "kernelspec": {
   "display_name": "Python 3 (ipykernel)",
   "language": "python",
   "name": "python3"
  },
  "language_info": {
   "codemirror_mode": {
    "name": "ipython",
    "version": 3
   },
   "file_extension": ".py",
   "mimetype": "text/x-python",
   "name": "python",
   "nbconvert_exporter": "python",
   "pygments_lexer": "ipython3",
   "version": "3.10.9"
  }
 },
 "nbformat": 4,
 "nbformat_minor": 5
}
