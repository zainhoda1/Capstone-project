{
 "cells": [
  {
   "cell_type": "code",
   "execution_count": 11,
   "id": "999c5277",
   "metadata": {},
   "outputs": [],
   "source": [
    "# linear regression prediction with prediction interval\n",
    "from numpy.random import randn\n",
    "from numpy.random import seed\n",
    "from numpy import power\n",
    "from numpy import sqrt\n",
    "from numpy import mean\n",
    "from numpy import std\n",
    "from numpy import sum as arraysum\n",
    "from scipy.stats import linregress\n",
    "from matplotlib import pyplot\n",
    "import pandas as pd\n",
    "import numpy as np"
   ]
  },
  {
   "cell_type": "code",
   "execution_count": 2,
   "id": "070c8a98",
   "metadata": {},
   "outputs": [],
   "source": [
    "data =  pd.read_csv(\"D:\\\\Github\\\\Capstone-project\\\\Data folder\\\\player_performances.csv\")\n",
    "\n",
    "#kp_conf_rat =  pd.read_csv(\"D:\\\\Github\\\\Capstone-project\\\\Data folder\\\\KP_Conf_Ratings.csv\")"
   ]
  },
  {
   "cell_type": "code",
   "execution_count": 3,
   "id": "2a3c23c9",
   "metadata": {},
   "outputs": [
    {
     "data": {
      "text/html": [
       "<div>\n",
       "<style scoped>\n",
       "    .dataframe tbody tr th:only-of-type {\n",
       "        vertical-align: middle;\n",
       "    }\n",
       "\n",
       "    .dataframe tbody tr th {\n",
       "        vertical-align: top;\n",
       "    }\n",
       "\n",
       "    .dataframe thead th {\n",
       "        text-align: right;\n",
       "    }\n",
       "</style>\n",
       "<table border=\"1\" class=\"dataframe\">\n",
       "  <thead>\n",
       "    <tr style=\"text-align: right;\">\n",
       "      <th></th>\n",
       "      <th>Player.Name</th>\n",
       "      <th>season</th>\n",
       "      <th>season_copy</th>\n",
       "      <th>player_name_Cal</th>\n",
       "      <th>year</th>\n",
       "      <th>defence_def_rtg</th>\n",
       "      <th>offence</th>\n",
       "      <th>defensive_score</th>\n",
       "      <th>offensive_score</th>\n",
       "      <th>player_name</th>\n",
       "      <th>offensive_ranking</th>\n",
       "      <th>defensive_ranking</th>\n",
       "    </tr>\n",
       "  </thead>\n",
       "  <tbody>\n",
       "    <tr>\n",
       "      <th>0</th>\n",
       "      <td>zach-edey-1</td>\n",
       "      <td>2021-22</td>\n",
       "      <td>2021</td>\n",
       "      <td>zach-edey-1_2021</td>\n",
       "      <td>22</td>\n",
       "      <td>3018.74</td>\n",
       "      <td>1181.18</td>\n",
       "      <td>3009.0586</td>\n",
       "      <td>976.78186</td>\n",
       "      <td>zach-edey-1_2021-22</td>\n",
       "      <td>0</td>\n",
       "      <td>18</td>\n",
       "    </tr>\n",
       "    <tr>\n",
       "      <th>1</th>\n",
       "      <td>luka-garza-1</td>\n",
       "      <td>2019-20</td>\n",
       "      <td>2019</td>\n",
       "      <td>luka-garza-1_2019</td>\n",
       "      <td>20</td>\n",
       "      <td>2274.60</td>\n",
       "      <td>1079.56</td>\n",
       "      <td>2616.9224</td>\n",
       "      <td>970.78503</td>\n",
       "      <td>luka-garza-1_2019-20</td>\n",
       "      <td>1</td>\n",
       "      <td>147</td>\n",
       "    </tr>\n",
       "  </tbody>\n",
       "</table>\n",
       "</div>"
      ],
      "text/plain": [
       "    Player.Name   season  season_copy    player_name_Cal  year  \\\n",
       "0   zach-edey-1  2021-22         2021   zach-edey-1_2021    22   \n",
       "1  luka-garza-1  2019-20         2019  luka-garza-1_2019    20   \n",
       "\n",
       "   defence_def_rtg  offence  defensive_score  offensive_score  \\\n",
       "0          3018.74  1181.18        3009.0586        976.78186   \n",
       "1          2274.60  1079.56        2616.9224        970.78503   \n",
       "\n",
       "            player_name  offensive_ranking  defensive_ranking  \n",
       "0   zach-edey-1_2021-22                  0                 18  \n",
       "1  luka-garza-1_2019-20                  1                147  "
      ]
     },
     "execution_count": 3,
     "metadata": {},
     "output_type": "execute_result"
    }
   ],
   "source": [
    "data.head(2)"
   ]
  },
  {
   "cell_type": "code",
   "execution_count": 4,
   "id": "35ad4255",
   "metadata": {},
   "outputs": [],
   "source": [
    "y_def  = data['defence_def_rtg'] \n",
    "y_def_pred = data['defensive_score'] "
   ]
  },
  {
   "cell_type": "code",
   "execution_count": 6,
   "id": "db64e20b",
   "metadata": {},
   "outputs": [
    {
     "name": "stdout",
     "output_type": "stream",
     "text": [
      "(7715,)\n",
      "(7715,)\n"
     ]
    }
   ],
   "source": [
    "print(y_def.shape)\n",
    "print(y_def_pred.shape)"
   ]
  },
  {
   "cell_type": "code",
   "execution_count": 7,
   "id": "f0bf28c7",
   "metadata": {},
   "outputs": [],
   "source": [
    "# fit linear regression model\n",
    "#b1, b0, r_value, p_value, std_err = linregress(x, y)"
   ]
  },
  {
   "cell_type": "code",
   "execution_count": 8,
   "id": "e68e5790",
   "metadata": {},
   "outputs": [
    {
     "name": "stdout",
     "output_type": "stream",
     "text": [
      "Prediction Interval: 538.251\n",
      "95% likelihood that the true value is between 2470.808 and 3547.309\n",
      "True value: 3018.740\n",
      "Predicted value: 3009.059\n"
     ]
    }
   ],
   "source": [
    "y = y_def\n",
    "yhat = y_def_pred\n",
    "\n",
    "y_out = y[0]\n",
    "yhat_out = yhat[0]\n",
    "\n",
    "# estimate stdev of yhat\n",
    "\n",
    "sum_errs = arraysum((y - yhat)**2) \n",
    "stdev = sqrt(1/(len(y)-2) * sum_errs)  \n",
    "\n",
    "# calculate prediction interval\n",
    "interval = 1.96 * stdev\n",
    "print('Prediction Interval: %.3f' % interval)\n",
    "lower, upper = yhat_out - interval, yhat_out + interval\n",
    "print('95%% likelihood that the true value is between %.3f and %.3f' % (lower, upper))\n",
    "print('True value: %.3f' % y_out)\n",
    "print('Predicted value: %.3f' % yhat_out)\n",
    "\n"
   ]
  },
  {
   "cell_type": "code",
   "execution_count": null,
   "id": "505fc7f3",
   "metadata": {},
   "outputs": [],
   "source": [
    "# plot dataset and prediction with interval\n",
    "#pyplot.scatter(x, y)\n",
    "#pyplot.plot(x, yhat, color='red')\n",
    "#pyplot.errorbar(x_in, yhat_out, yerr=interval, color='black', fmt='o')\n",
    "#pyplot.show()"
   ]
  },
  {
   "cell_type": "code",
   "execution_count": null,
   "id": "183f134f",
   "metadata": {},
   "outputs": [],
   "source": []
  },
  {
   "cell_type": "code",
   "execution_count": null,
   "id": "4b6120d5",
   "metadata": {},
   "outputs": [],
   "source": [
    "X_train, X_test, y_train, y_test = train_test_split(X, y, random_state=42)"
   ]
  },
  {
   "cell_type": "code",
   "execution_count": 50,
   "id": "056faccf",
   "metadata": {},
   "outputs": [
    {
     "data": {
      "text/plain": [
       "'\\n# Print out statistics\\nmae_test = mean_absolute_error(y_test, y_test_pred)\\nprint(f\"MAE: {mae_test:.3f}\")\\nprint(f\"Width of 95% prediction interval: {np.mean(y_err) * 2:3f}\")\\ncoverage = regression_coverage_score(\\n    y_test, y_test_pred - std * 1.96, y_test_pred + std * 1.96\\n)\\nprint(f\"Coverage: {coverage:.3f}\")\\n'"
      ]
     },
     "execution_count": 50,
     "metadata": {},
     "output_type": "execute_result"
    },
    {
     "data": {
      "image/png": "[encoded data removed]",
      "text/plain": [
       "<Figure size 640x480 with 1 Axes>"
      ]
     },
     "metadata": {},
     "output_type": "display_data"
    }
   ],
   "source": [
    "import matplotlib.pyplot as plt\n",
    "#from mapie.metrics import regression_coverage_score\n",
    "\n",
    "# Fit the scikit-learn model\n",
    "#est = LinearRegression()\n",
    "#est.fit(X_train, y_train)\n",
    "#y_train_pred = est.predict(X_train)\n",
    "#y_test_pred = est.predict(X_test)\n",
    "\n",
    "y_train = y_def.iloc[0:5]\n",
    "y_train_pred = y_def_pred.iloc[0:5]\n",
    "\n",
    "# Compute prediction intervals\n",
    "sum_of_squares = np.sum((y_train - y_train_pred) ** 2)\n",
    "std = np.sqrt(1 / (len(y_train) - 2) * sum_of_squares)\n",
    "\n",
    "# Plot the prediction intervals\n",
    "y_err = np.vstack([std, std]) * 1.96\n",
    "plt.errorbar(y_train, y_train_pred, yerr=y_err, fmt=\"o\", ecolor=\"grey\", capsize=3)\n",
    "plt.plot(plt.xlim(), plt.xlim(), color=\"red\", scalex=False, scaley=False)\n",
    "plt.xlabel(\"actual\")\n",
    "plt.ylabel(\"prediction\")\n",
    "\n",
    "'''\n",
    "# Print out statistics\n",
    "mae_test = mean_absolute_error(y_test, y_test_pred)\n",
    "print(f\"MAE: {mae_test:.3f}\")\n",
    "print(f\"Width of 95% prediction interval: {np.mean(y_err) * 2:3f}\")\n",
    "coverage = regression_coverage_score(\n",
    "    y_test, y_test_pred - std * 1.96, y_test_pred + std * 1.96\n",
    ")\n",
    "print(f\"Coverage: {coverage:.3f}\")\n",
    "'''"
   ]
  },
  {
   "cell_type": "code",
   "execution_count": 40,
   "id": "4e20b2c9",
   "metadata": {},
   "outputs": [
    {
     "data": {
      "text/plain": [
       "682.4847873302158"
      ]
     },
     "execution_count": 40,
     "metadata": {},
     "output_type": "execute_result"
    }
   ],
   "source": [
    "y_err[0][0]"
   ]
  },
  {
   "cell_type": "code",
   "execution_count": 24,
   "id": "ded78db3",
   "metadata": {},
   "outputs": [],
   "source": [
    "data['defensive_score_UL']  = data['defensive_score'] + y_err[0][0]\n",
    "\n",
    "data['defensive_score_LL']  =  data['defensive_score'] -y_err[0][0]"
   ]
  },
  {
   "cell_type": "code",
   "execution_count": 39,
   "id": "041c2fd5",
   "metadata": {},
   "outputs": [
    {
     "data": {
      "text/html": [
       "<div>\n",
       "<style scoped>\n",
       "    .dataframe tbody tr th:only-of-type {\n",
       "        vertical-align: middle;\n",
       "    }\n",
       "\n",
       "    .dataframe tbody tr th {\n",
       "        vertical-align: top;\n",
       "    }\n",
       "\n",
       "    .dataframe thead th {\n",
       "        text-align: right;\n",
       "    }\n",
       "</style>\n",
       "<table border=\"1\" class=\"dataframe\">\n",
       "  <thead>\n",
       "    <tr style=\"text-align: right;\">\n",
       "      <th></th>\n",
       "      <th>player_name_Cal</th>\n",
       "      <th>defence_def_rtg</th>\n",
       "      <th>defensive_score</th>\n",
       "      <th>defensive_score_UL</th>\n",
       "      <th>defensive_score_LL</th>\n",
       "    </tr>\n",
       "  </thead>\n",
       "  <tbody>\n",
       "    <tr>\n",
       "      <th>0</th>\n",
       "      <td>zach-edey-1_2021</td>\n",
       "      <td>3018.74</td>\n",
       "      <td>3009.0586</td>\n",
       "      <td>3547.309311</td>\n",
       "      <td>2470.807889</td>\n",
       "    </tr>\n",
       "    <tr>\n",
       "      <th>1</th>\n",
       "      <td>luka-garza-1_2019</td>\n",
       "      <td>2274.60</td>\n",
       "      <td>2616.9224</td>\n",
       "      <td>3155.173111</td>\n",
       "      <td>2078.671689</td>\n",
       "    </tr>\n",
       "    <tr>\n",
       "      <th>2</th>\n",
       "      <td>xavier-tillman-1_2018</td>\n",
       "      <td>2608.50</td>\n",
       "      <td>2545.4966</td>\n",
       "      <td>3083.747311</td>\n",
       "      <td>2007.245889</td>\n",
       "    </tr>\n",
       "  </tbody>\n",
       "</table>\n",
       "</div>"
      ],
      "text/plain": [
       "         player_name_Cal  defence_def_rtg  defensive_score  \\\n",
       "0       zach-edey-1_2021          3018.74        3009.0586   \n",
       "1      luka-garza-1_2019          2274.60        2616.9224   \n",
       "2  xavier-tillman-1_2018          2608.50        2545.4966   \n",
       "\n",
       "   defensive_score_UL  defensive_score_LL  \n",
       "0         3547.309311         2470.807889  \n",
       "1         3155.173111         2078.671689  \n",
       "2         3083.747311         2007.245889  "
      ]
     },
     "execution_count": 39,
     "metadata": {},
     "output_type": "execute_result"
    }
   ],
   "source": [
    "data[['player_name_Cal','defence_def_rtg', 'defensive_score', 'defensive_score_UL', 'defensive_score_LL']].iloc[0:3]"
   ]
  },
  {
   "cell_type": "code",
   "execution_count": null,
   "id": "3e95ccc6",
   "metadata": {},
   "outputs": [],
   "source": []
  },
  {
   "cell_type": "code",
   "execution_count": 42,
   "id": "766a6b03",
   "metadata": {},
   "outputs": [],
   "source": [
    "y_off  = data['offence'] \n",
    "y_off_pred = data['offensive_score'] "
   ]
  },
  {
   "cell_type": "code",
   "execution_count": 7,
   "id": "23a82971",
   "metadata": {},
   "outputs": [],
   "source": [
    "# fit linear regression model\n",
    "#b1, b0, r_value, p_value, std_err = linregress(x, y)"
   ]
  },
  {
   "cell_type": "code",
   "execution_count": 43,
   "id": "370ace48",
   "metadata": {},
   "outputs": [
    {
     "name": "stdout",
     "output_type": "stream",
     "text": [
      "Prediction Interval: 250.476\n",
      "95% likelihood that the true value is between 726.306 and 1227.258\n",
      "True value: 1181.180\n",
      "Predicted value: 976.782\n"
     ]
    }
   ],
   "source": [
    "y = y_off\n",
    "yhat = y_off_pred\n",
    "\n",
    "y_out = y[0]\n",
    "yhat_out = yhat[0]\n",
    "\n",
    "# estimate stdev of yhat\n",
    "\n",
    "sum_errs = arraysum((y - yhat)**2) \n",
    "stdev = sqrt(1/(len(y)-2) * sum_errs)  \n",
    "\n",
    "# calculate prediction interval\n",
    "interval = 1.96 * stdev\n",
    "print('Prediction Interval: %.3f' % interval)\n",
    "lower, upper = yhat_out - interval, yhat_out + interval\n",
    "print('95%% likelihood that the true value is between %.3f and %.3f' % (lower, upper))\n",
    "print('True value: %.3f' % y_out)\n",
    "print('Predicted value: %.3f' % yhat_out)\n",
    "\n"
   ]
  },
  {
   "cell_type": "code",
   "execution_count": null,
   "id": "f18140ee",
   "metadata": {},
   "outputs": [],
   "source": [
    "# plot dataset and prediction with interval\n",
    "#pyplot.scatter(x, y)\n",
    "#pyplot.plot(x, yhat, color='red')\n",
    "#pyplot.errorbar(x_in, yhat_out, yerr=interval, color='black', fmt='o')\n",
    "#pyplot.show()"
   ]
  },
  {
   "cell_type": "code",
   "execution_count": null,
   "id": "8dc279dd",
   "metadata": {},
   "outputs": [],
   "source": []
  },
  {
   "cell_type": "code",
   "execution_count": 45,
   "id": "7e74e9a2",
   "metadata": {},
   "outputs": [],
   "source": [
    "#X_train, X_test, y_train, y_test = train_test_split(X, y, random_state=42)"
   ]
  },
  {
   "cell_type": "code",
   "execution_count": 59,
   "id": "7764dcc6",
   "metadata": {},
   "outputs": [
    {
     "data": {
      "text/plain": [
       "'\\n# Print out statistics\\nmae_test = mean_absolute_error(y_test, y_test_pred)\\nprint(f\"MAE: {mae_test:.3f}\")\\nprint(f\"Width of 95% prediction interval: {np.mean(y_err) * 2:3f}\")\\ncoverage = regression_coverage_score(\\n    y_test, y_test_pred - std * 1.96, y_test_pred + std * 1.96\\n)\\nprint(f\"Coverage: {coverage:.3f}\")\\n'"
      ]
     },
     "execution_count": 59,
     "metadata": {},
     "output_type": "execute_result"
    },
    {
     "data": {
      "image/png": "[encoded data removed]",
      "text/plain": [
       "<Figure size 640x480 with 1 Axes>"
      ]
     },
     "metadata": {},
     "output_type": "display_data"
    }
   ],
   "source": [
    "import matplotlib.pyplot as plt\n",
    "#from mapie.metrics import regression_coverage_score\n",
    "\n",
    "# Fit the scikit-learn model\n",
    "#est = LinearRegression()\n",
    "#est.fit(X_train, y_train)\n",
    "#y_train_pred = est.predict(X_train)\n",
    "#y_test_pred = est.predict(X_test)\n",
    "\n",
    "y_train = y_off.iloc[0:5]\n",
    "y_train_pred = y_off_pred.iloc[0:5]\n",
    "\n",
    "# Compute prediction intervals\n",
    "sum_of_squares = np.sum((y_train - y_train_pred) ** 2)\n",
    "std = np.sqrt(1 / (len(y_train) - 2) * sum_of_squares)\n",
    "\n",
    "# Plot the prediction intervals\n",
    "y_err = np.vstack([std, std]) * 1.96\n",
    "plt.errorbar(y_train, y_train_pred, yerr=y_err, fmt=\"o\", ecolor=\"grey\", capsize=3)\n",
    "plt.plot(plt.xlim(), plt.xlim(), color=\"red\", scalex=False, scaley=False)\n",
    "plt.xlabel(\"actual\")\n",
    "plt.ylabel(\"prediction\")\n",
    "\n",
    "'''\n",
    "# Print out statistics\n",
    "mae_test = mean_absolute_error(y_test, y_test_pred)\n",
    "print(f\"MAE: {mae_test:.3f}\")\n",
    "print(f\"Width of 95% prediction interval: {np.mean(y_err) * 2:3f}\")\n",
    "coverage = regression_coverage_score(\n",
    "    y_test, y_test_pred - std * 1.96, y_test_pred + std * 1.96\n",
    ")\n",
    "print(f\"Coverage: {coverage:.3f}\")\n",
    "'''"
   ]
  },
  {
   "cell_type": "code",
   "execution_count": 55,
   "id": "4de6038f",
   "metadata": {},
   "outputs": [
    {
     "data": {
      "text/plain": [
       "250.47634501274337"
      ]
     },
     "execution_count": 55,
     "metadata": {},
     "output_type": "execute_result"
    }
   ],
   "source": [
    "y_err[0][0]"
   ]
  },
  {
   "cell_type": "code",
   "execution_count": 57,
   "id": "be12bb92",
   "metadata": {},
   "outputs": [],
   "source": [
    "data['offensive_score_UL']  = data['offensive_score'] + y_err[0][0]\n",
    "\n",
    "data['offensive_score_LL']  =  data['offensive_score'] -y_err[0][0]"
   ]
  },
  {
   "cell_type": "code",
   "execution_count": 58,
   "id": "891ef11a",
   "metadata": {},
   "outputs": [
    {
     "data": {
      "text/html": [
       "<div>\n",
       "<style scoped>\n",
       "    .dataframe tbody tr th:only-of-type {\n",
       "        vertical-align: middle;\n",
       "    }\n",
       "\n",
       "    .dataframe tbody tr th {\n",
       "        vertical-align: top;\n",
       "    }\n",
       "\n",
       "    .dataframe thead th {\n",
       "        text-align: right;\n",
       "    }\n",
       "</style>\n",
       "<table border=\"1\" class=\"dataframe\">\n",
       "  <thead>\n",
       "    <tr style=\"text-align: right;\">\n",
       "      <th></th>\n",
       "      <th>player_name_Cal</th>\n",
       "      <th>defence_def_rtg</th>\n",
       "      <th>defensive_score</th>\n",
       "      <th>defensive_score_UL</th>\n",
       "      <th>defensive_score_LL</th>\n",
       "      <th>offence</th>\n",
       "      <th>offensive_score</th>\n",
       "      <th>offensive_score_UL</th>\n",
       "      <th>offensive_score_LL</th>\n",
       "    </tr>\n",
       "  </thead>\n",
       "  <tbody>\n",
       "    <tr>\n",
       "      <th>0</th>\n",
       "      <td>zach-edey-1_2021</td>\n",
       "      <td>3018.74</td>\n",
       "      <td>3009.0586</td>\n",
       "      <td>3547.309311</td>\n",
       "      <td>2470.807889</td>\n",
       "      <td>1181.18</td>\n",
       "      <td>976.78186</td>\n",
       "      <td>1227.258205</td>\n",
       "      <td>726.305515</td>\n",
       "    </tr>\n",
       "    <tr>\n",
       "      <th>1</th>\n",
       "      <td>luka-garza-1_2019</td>\n",
       "      <td>2274.60</td>\n",
       "      <td>2616.9224</td>\n",
       "      <td>3155.173111</td>\n",
       "      <td>2078.671689</td>\n",
       "      <td>1079.56</td>\n",
       "      <td>970.78503</td>\n",
       "      <td>1221.261375</td>\n",
       "      <td>720.308685</td>\n",
       "    </tr>\n",
       "    <tr>\n",
       "      <th>2</th>\n",
       "      <td>xavier-tillman-1_2018</td>\n",
       "      <td>2608.50</td>\n",
       "      <td>2545.4966</td>\n",
       "      <td>3083.747311</td>\n",
       "      <td>2007.245889</td>\n",
       "      <td>1010.52</td>\n",
       "      <td>914.29694</td>\n",
       "      <td>1164.773285</td>\n",
       "      <td>663.820595</td>\n",
       "    </tr>\n",
       "    <tr>\n",
       "      <th>3</th>\n",
       "      <td>drew-timme-1_2020</td>\n",
       "      <td>1760.67</td>\n",
       "      <td>2109.6152</td>\n",
       "      <td>2647.865911</td>\n",
       "      <td>1571.364489</td>\n",
       "      <td>631.80</td>\n",
       "      <td>790.72974</td>\n",
       "      <td>1041.206085</td>\n",
       "      <td>540.253395</td>\n",
       "    </tr>\n",
       "    <tr>\n",
       "      <th>4</th>\n",
       "      <td>oscar-tshiebwe-1_2021</td>\n",
       "      <td>3127.34</td>\n",
       "      <td>3123.5452</td>\n",
       "      <td>3661.795911</td>\n",
       "      <td>2585.294489</td>\n",
       "      <td>821.10</td>\n",
       "      <td>783.17770</td>\n",
       "      <td>1033.654045</td>\n",
       "      <td>532.701355</td>\n",
       "    </tr>\n",
       "  </tbody>\n",
       "</table>\n",
       "</div>"
      ],
      "text/plain": [
       "         player_name_Cal  defence_def_rtg  defensive_score  \\\n",
       "0       zach-edey-1_2021          3018.74        3009.0586   \n",
       "1      luka-garza-1_2019          2274.60        2616.9224   \n",
       "2  xavier-tillman-1_2018          2608.50        2545.4966   \n",
       "3      drew-timme-1_2020          1760.67        2109.6152   \n",
       "4  oscar-tshiebwe-1_2021          3127.34        3123.5452   \n",
       "\n",
       "   defensive_score_UL  defensive_score_LL  offence  offensive_score  \\\n",
       "0         3547.309311         2470.807889  1181.18        976.78186   \n",
       "1         3155.173111         2078.671689  1079.56        970.78503   \n",
       "2         3083.747311         2007.245889  1010.52        914.29694   \n",
       "3         2647.865911         1571.364489   631.80        790.72974   \n",
       "4         3661.795911         2585.294489   821.10        783.17770   \n",
       "\n",
       "   offensive_score_UL  offensive_score_LL  \n",
       "0         1227.258205          726.305515  \n",
       "1         1221.261375          720.308685  \n",
       "2         1164.773285          663.820595  \n",
       "3         1041.206085          540.253395  \n",
       "4         1033.654045          532.701355  "
      ]
     },
     "execution_count": 58,
     "metadata": {},
     "output_type": "execute_result"
    }
   ],
   "source": [
    "data[['player_name_Cal','defence_def_rtg', 'defensive_score', 'defensive_score_UL',\n",
    "      'defensive_score_LL', 'offence', 'offensive_score', 'offensive_score_UL',\n",
    "      'offensive_score_LL' ]].iloc[0:5]"
   ]
  },
  {
   "cell_type": "code",
   "execution_count": null,
   "id": "171d1986",
   "metadata": {},
   "outputs": [],
   "source": []
  },
  {
   "cell_type": "code",
   "execution_count": null,
   "id": "0e9cc7c7",
   "metadata": {},
   "outputs": [],
   "source": []
  },
  {
   "cell_type": "code",
   "execution_count": null,
   "id": "e824d5d5",
   "metadata": {},
   "outputs": [],
   "source": []
  },
  {
   "cell_type": "code",
   "execution_count": null,
   "id": "93824918",
   "metadata": {},
   "outputs": [],
   "source": []
  },
  {
   "cell_type": "code",
   "execution_count": null,
   "id": "d4cfef18",
   "metadata": {},
   "outputs": [],
   "source": []
  },
  {
   "cell_type": "code",
   "execution_count": null,
   "id": "6553c80c",
   "metadata": {},
   "outputs": [],
   "source": []
  },
  {
   "cell_type": "code",
   "execution_count": null,
   "id": "413061a2",
   "metadata": {},
   "outputs": [],
   "source": []
  },
  {
   "cell_type": "code",
   "execution_count": null,
   "id": "d38e52ce",
   "metadata": {},
   "outputs": [],
   "source": []
  },
  {
   "cell_type": "code",
   "execution_count": null,
   "id": "10f3c673",
   "metadata": {},
   "outputs": [],
   "source": []
  },
  {
   "cell_type": "code",
   "execution_count": null,
   "id": "1a718547",
   "metadata": {},
   "outputs": [],
   "source": []
  },
  {
   "cell_type": "code",
   "execution_count": null,
   "id": "ddaece0f",
   "metadata": {},
   "outputs": [],
   "source": []
  },
  {
   "cell_type": "code",
   "execution_count": null,
   "id": "af3f7860",
   "metadata": {},
   "outputs": [],
   "source": []
  },
  {
   "cell_type": "code",
   "execution_count": null,
   "id": "dfe4861d",
   "metadata": {},
   "outputs": [],
   "source": []
  },
  {
   "cell_type": "code",
   "execution_count": null,
   "id": "a8ed07d0",
   "metadata": {},
   "outputs": [],
   "source": []
  }
 ],
 "metadata": {
  "kernelspec": {
   "display_name": "Python 3 (ipykernel)",
   "language": "python",
   "name": "python3"
  },
  "language_info": {
   "codemirror_mode": {
    "name": "ipython",
    "version": 3
   },
   "file_extension": ".py",
   "mimetype": "text/x-python",
   "name": "python",
   "nbconvert_exporter": "python",
   "pygments_lexer": "ipython3",
   "version": "3.10.9"
  }
 },
 "nbformat": 4,
 "nbformat_minor": 5
}
