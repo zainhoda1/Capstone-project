{
 "cells": [
  {
   "cell_type": "code",
   "execution_count": null,
   "metadata": {},
   "outputs": [],
   "source": [
    "import pandas as pd\n",
    "import numpy as np\n",
    "import copy"
   ]
  },
  {
   "cell_type": "code",
   "execution_count": null,
   "metadata": {},
   "outputs": [],
   "source": [
    "df = pd.read_excel('/Users/caldavis/Documents/GitHub/Capstone-project/Player ID MASTER (2018-19 - 2022-23) copy.xlsx')\n",
    "df['School Season'] = df['Season'] + \"_\" + df['School']\n",
    "df\n"
   ]
  },
  {
   "cell_type": "code",
   "execution_count": null,
   "metadata": {},
   "outputs": [],
   "source": [
    "total_temp = df\n",
    "total_temp = total_temp.drop(['Rk', 'Player', 'Pos', 'Conf', 'PLAYER_ID', 'School Season'], axis=1)\n",
    "total_temp\n",
    "\n",
    "class_cond = [(total_temp['Class']=='FR'),\n",
    "             (total_temp['Class']=='SO'),\n",
    "             (total_temp['Class']=='JR'),\n",
    "             (total_temp['Class']=='SR')]\n",
    "class_val = [1, 2, 3, 4]\n",
    "\n",
    "total_temp['Class'] = np.select(class_cond, class_val)\n",
    "total_temp"
   ]
  },
  {
   "cell_type": "code",
   "execution_count": null,
   "metadata": {},
   "outputs": [],
   "source": [
    "total = total_temp.groupby(['Season', 'School']).sum()\n",
    "total = total.reset_index()\n",
    "total['School Season'] = total['Season'] + \"_\" + total['School']\n",
    "total"
   ]
  },
  {
   "cell_type": "code",
   "execution_count": null,
   "metadata": {},
   "outputs": [],
   "source": [
    "players_temp = total\n",
    "players_temp['School Season'] = players_temp['Season'] + \"_\" + players_temp['School']\n",
    "unique = list(players_temp['School Season'])\n",
    "unique\n"
   ]
  },
  {
   "cell_type": "code",
   "execution_count": null,
   "metadata": {},
   "outputs": [],
   "source": [
    "temp_dict = {}\n",
    "for un in unique:\n",
    "    temp_dict[un] = {'Total': []}\n",
    "    temp = df[df['School Season']==un]\n",
    "    \n",
    "    i = 0\n",
    "    temp2 = list(temp['PLAYER_ID'])\n",
    "    for t in temp2:\n",
    "        #print(t)\n",
    "        #print()\n",
    "        \n",
    "        temp_dict[un][t] = []\n",
    "        \n",
    "        for col in temp.columns:\n",
    "            #print(temp[temp['PLAYER_ID']==t][col].iloc[0])\n",
    "            if i == 0:\n",
    "                if col in ['Rk', 'Player', 'Pos', 'Conf', 'PLAYER_ID', 'School Season']:\n",
    "                    temp_dict[un]['Total'].append(None)\n",
    "                else:\n",
    "                    temp_dict[un]['Total'].append(total[total['School Season']==un][col].iloc[0])\n",
    "            \n",
    "            temp_dict[un][t].append(temp[temp['PLAYER_ID']==t][col].iloc[0])\n",
    "        i+=1\n",
    "\n",
    "\n",
    "\n"
   ]
  },
  {
   "cell_type": "code",
   "execution_count": null,
   "metadata": {},
   "outputs": [],
   "source": [
    "continuity_df_team = pd.DataFrame(temp_lst_team, columns=['Blank 1', 'Blank 2', 'Blank 3', 'Season', 'Blank 5', 'Team', 'Blank 6',\n",
    "                                         'G_REM', 'MP_REM', 'FG_REM', 'FGA_REM', 'FG%_REM', '2P_REM', '2PA_REM',\n",
    "                                        '3P_REM', '3PA_REM', '3P%_REM', 'FT_REM', 'FTA_REM', 'FT%_REM', 'ORB_REM', 'DRB_REM', 'TRB_REM', 'AST_REM',\n",
    "                                        'STL_REM', 'BLK_REM', 'TOV_REM', 'PF_REM', 'PTS_REM', 'Blank 7', 'Blank 8'])\n",
    "continuity_df_team['Correct_Season'] = (continuity_df_team['Season_PCT'].str[0:4].astype(int)+1).astype(str)+\"-\"+(continuity_df_team['Season_PCT'].str[5:7].astype(int)+1).astype(str)+'_'+continuity_df_team['Team_PCT']\n",
    "#continuity_df['Correct_Year'] = (continuity_df['Season_PCT'].str[0:4].astype(int)+1).astype(str)\n",
    "continuity_df_team = pd.merge(continuity_df_team, continuity_df, left_on='Correct_Season', right_on='School Season', how='left')"
   ]
  },
  {
   "cell_type": "code",
   "execution_count": null,
   "metadata": {},
   "outputs": [],
   "source": [
    "continuity_df_team"
   ]
  },
  {
   "cell_type": "code",
   "execution_count": null,
   "metadata": {},
   "outputs": [],
   "source": [
    "temp_dict['2018-19_Abilene Christian']['Total']"
   ]
  },
  {
   "cell_type": "code",
   "execution_count": null,
   "metadata": {},
   "outputs": [],
   "source": [
    "roster_dict = {}\n",
    "for key in list(temp_dict.keys()):\n",
    "    roster_dict[key] = list(temp_dict[key].keys())[1:]\n",
    "\n",
    "print(roster_dict['2018-19_Abilene Christian'])\n",
    "print(roster_dict['2019-20_Abilene Christian'])"
   ]
  },
  {
   "cell_type": "code",
   "execution_count": null,
   "metadata": {},
   "outputs": [],
   "source": [
    "temp_dict['2018-19_Abilene Christian']['Total']"
   ]
  },
  {
   "cell_type": "code",
   "execution_count": null,
   "metadata": {},
   "outputs": [],
   "source": [
    "lst = list(roster_dict.keys())\n",
    "new_lst = {}\n",
    "for a in lst:\n",
    "    #print(key)\n",
    "    b = a.split('_')[1]\n",
    "    c = int(a[:4])+1\n",
    "    d= int(a[5:7])+1\n",
    "    e = str(c)+\"-\"+str(d)+\"_\"+b\n",
    "    if e in roster_dict.keys():\n",
    "        new_lst[a]=e\n",
    "\n",
    "print(new_lst)\n",
    "\n",
    "\n"
   ]
  },
  {
   "cell_type": "code",
   "execution_count": null,
   "metadata": {},
   "outputs": [],
   "source": [
    "temp_dict['2018-19_Abilene Christian']['Total']"
   ]
  },
  {
   "cell_type": "code",
   "execution_count": null,
   "metadata": {},
   "outputs": [],
   "source": [
    "# Gives the players leaving from this season\n",
    "rem = {}\n",
    "test = list(temp_dict.keys())\n",
    "#test = test[0:3]\n",
    "for team_season in test:\n",
    "    players_lost = []\n",
    "    if team_season in new_lst.keys():\n",
    "        prev = team_season\n",
    "        curr = new_lst[prev]\n",
    "        for prev_player in roster_dict[prev]:\n",
    "            if prev_player not in roster_dict[curr]:\n",
    "                players_lost.append(prev_player)\n",
    "                \n",
    "    rem[prev] = players_lost\n",
    "rem"
   ]
  },
  {
   "cell_type": "code",
   "execution_count": null,
   "metadata": {},
   "outputs": [],
   "source": [
    "temp_dict['2018-19_Abilene Christian']['Total']"
   ]
  },
  {
   "cell_type": "code",
   "execution_count": null,
   "metadata": {},
   "outputs": [],
   "source": [
    "tt_dict = copy.deepcopy(temp_dict)\n",
    "return_stats = {}\n",
    "z = list(new_lst.keys())\n",
    "#print(z)\n",
    "i = 0\n",
    "for key in z:\n",
    "    #print(key)\n",
    "    #print(temp_dict[key]['Total'])\n",
    "    m = tt_dict[key]['Total']\n",
    "    return_stats[key] = m\n",
    "    #print(temp_dict['2018-19_Abilene Christian']['Total'])\n",
    "    #print(return_stats)\n",
    "    #i+=1\n",
    "    for player in rem[key]:\n",
    "        #print((temp_dict[key][player]))\n",
    "        #print()\n",
    "        r = tt_dict[key][player]\n",
    "        #print(temp_dict['2018-19_Abilene Christian']['Total'])\n",
    "        #print(len(temp_dict['2018-19_Abilene Christian']['Total']))\n",
    "        # where = [False, False, False, False, False, False, False,\n",
    "        #          True, True, True, True, True, True, True,\n",
    "        #          True, True, True, True, True, True, True,\n",
    "        #          True, True, True, True, True, True, True, True,\n",
    "        #          False, False]\n",
    "        #a = temp_dict.get(key, {}).get(player, {})\n",
    "        # print(return_stats[key])\n",
    "        # print(a)\n",
    "        # print(type(a))\n",
    "        #return_stats[key] = np.subtract(return_stats[key], a, where=where)\n",
    "        for j in range(len(r)):\n",
    "            \n",
    "            if j > 0:\n",
    "                try:\n",
    "                    print(\"TRY\")\n",
    "                    n = tt_dict.get(key, {}).get(player, {})[j]\n",
    "                    #print(n)\n",
    "                    print(temp_dict['2018-19_Abilene Christian']['Total'])\n",
    "                    return_stats[key][j]-=n\n",
    "                    print(temp_dict['2018-19_Abilene Christian']['Total'])\n",
    "                except:\n",
    "                    continue\n",
    "#print(return_stats[key])\n",
    "\n"
   ]
  },
  {
   "cell_type": "code",
   "execution_count": null,
   "metadata": {},
   "outputs": [],
   "source": [
    "temp_dict['2018-19_Abilene Christian']['Total']"
   ]
  },
  {
   "cell_type": "code",
   "execution_count": null,
   "metadata": {},
   "outputs": [],
   "source": [
    "print(return_stats['2018-19_Abilene Christian'])"
   ]
  },
  {
   "cell_type": "code",
   "execution_count": null,
   "metadata": {},
   "outputs": [],
   "source": [
    "return_stats"
   ]
  },
  {
   "cell_type": "code",
   "execution_count": null,
   "metadata": {},
   "outputs": [],
   "source": [
    "a = [2, 3, 4]\n",
    "b = [1, 1, 1]\n",
    "c = np.subtract(a, b)\n",
    "c"
   ]
  },
  {
   "cell_type": "code",
   "execution_count": null,
   "metadata": {},
   "outputs": [],
   "source": [
    "per_dict = {}\n",
    "temp_per_dict = copy.deepcopy(temp_dict)\n",
    "ret_temp = copy.deepcopy(return_stats)\n",
    "for item in list(return_stats.keys()):\n",
    "    per_dict[item] = []\n",
    "    for h in range(len(ret_temp[item])):\n",
    "        #print(\"2\", return_stats[item][h], \"3\", temp_per_dict[item]['Total'][h])\n",
    "        try:\n",
    "            \n",
    "            per_dict[item].append(ret_temp[item][h]/temp_per_dict[item]['Total'][h])\n",
    "            #print(\"works\")\n",
    "            #print(per_dict[item])\n",
    "        except:\n",
    "            per_dict[item].append(temp_per_dict[item]['Total'][h])\n",
    "\n",
    "per_dict\n"
   ]
  },
  {
   "cell_type": "code",
   "execution_count": null,
   "metadata": {},
   "outputs": [],
   "source": [
    "temp_lst = []\n",
    "temp_lst_dict = copy.deepcopy(per_dict)\n",
    "for row in list(temp_lst_dict.keys()):\n",
    "    temp_lst.append(temp_lst_dict[row])\n"
   ]
  },
  {
   "cell_type": "code",
   "execution_count": null,
   "metadata": {},
   "outputs": [],
   "source": [
    "continuity_df = pd.DataFrame(temp_lst, columns=['Blank 1', 'Blank 2', 'Blank 3', 'Season_PCT', 'Blank 5', 'Team_PCT', 'Blank 6',\n",
    "                                         'G_PCT', 'MP_PCT', 'FG_PCT', 'FGA_PCT', 'FG%_PCT', '2P_PCT', '2PA_PCT',\n",
    "                                        '3P_PCT', '3PA_PCT', '3P%_PCT', 'FT_PCT', 'FTA_PCT', 'FT%_PCT', 'ORB_PCT', 'DRB_PCT', 'TRB_PCT', 'AST_PCT',\n",
    "                                        'STL_PCT', 'BLK_PCT', 'TOV_PCT', 'PF_PCT', 'PTS_PCT', 'Blank 7', 'Blank 8'])\n",
    "continuity_df['Correct_Season'] = (continuity_df['Season_PCT'].str[0:4].astype(int)+1).astype(str)+\"-\"+(continuity_df['Season_PCT'].str[5:7].astype(int)+1).astype(str)+'_'+continuity_df['Team_PCT']\n",
    "#continuity_df['Correct_Year'] = (continuity_df['Season_PCT'].str[0:4].astype(int)+1).astype(str)\n",
    "continuity_df_player = pd.merge(continuity_df, df, left_on='Correct_Season', right_on='School Season', how='left')"
   ]
  },
  {
   "cell_type": "code",
   "execution_count": null,
   "metadata": {},
   "outputs": [],
   "source": [
    "continuity_df"
   ]
  },
  {
   "cell_type": "code",
   "execution_count": null,
   "metadata": {},
   "outputs": [],
   "source": [
    "continuity_df_player"
   ]
  },
  {
   "cell_type": "code",
   "execution_count": null,
   "metadata": {},
   "outputs": [],
   "source": [
    "temp_lst_team = []\n",
    "temp_lst_dict_team = copy.deepcopy(temp_dict)\n",
    "for row in list(temp_lst_dict_team.keys()):\n",
    "    temp_lst_team.append(temp_lst_dict_team[row]['Total'])"
   ]
  },
  {
   "cell_type": "code",
   "execution_count": null,
   "metadata": {},
   "outputs": [],
   "source": [
    "continuity_df_team = pd.DataFrame(temp_lst_team, columns=['Blank 1', 'Blank 2', 'Blank 3', 'Season', 'Blank 5', 'Team', 'Blank 6',\n",
    "                                         'G_REM', 'MP_REM', 'FG_REM', 'FGA_REM', 'FG%_REM', '2P_REM', '2PA_REM',\n",
    "                                        '3P_REM', '3PA_REM', '3P%_REM', 'FT_REM', 'FTA_REM', 'FT%_REM', 'ORB_REM', 'DRB_REM', 'TRB_REM', 'AST_REM',\n",
    "                                        'STL_REM', 'BLK_REM', 'TOV_REM', 'PF_REM', 'PTS_REM', 'Blank 7', 'Blank 8'])\n",
    "continuity_df_team['Correct_Season'] = (continuity_df_team['Season'].str[0:4].astype(int)+1).astype(str)+\"-\"+(continuity_df_team['Season'].str[5:7].astype(int)+1).astype(str)+'_'+continuity_df_team['Team']\n",
    "#continuity_df['Correct_Year'] = (continuity_df['Season_PCT'].str[0:4].astype(int)+1).astype(str)\n",
    "continuity_df_team = pd.merge(continuity_df_team, continuity_df, left_on='Correct_Season', right_on='Correct_Season', how='inner')"
   ]
  },
  {
   "cell_type": "code",
   "execution_count": null,
   "metadata": {},
   "outputs": [],
   "source": [
    "continuity_df_team"
   ]
  },
  {
   "cell_type": "code",
   "execution_count": null,
   "metadata": {},
   "outputs": [],
   "source": [
    "continuity_df_team.columns"
   ]
  },
  {
   "cell_type": "code",
   "execution_count": null,
   "metadata": {},
   "outputs": [],
   "source": [
    "print(total.columns)"
   ]
  },
  {
   "cell_type": "code",
   "execution_count": null,
   "metadata": {},
   "outputs": [],
   "source": []
  }
 ],
 "metadata": {
  "kernelspec": {
   "display_name": "base",
   "language": "python",
   "name": "python3"
  },
  "language_info": {
   "codemirror_mode": {
    "name": "ipython",
    "version": 3
   },
   "file_extension": ".py",
   "mimetype": "text/x-python",
   "name": "python",
   "nbconvert_exporter": "python",
   "pygments_lexer": "ipython3",
   "version": "3.11.7"
  }
 },
 "nbformat": 4,
 "nbformat_minor": 2
}
