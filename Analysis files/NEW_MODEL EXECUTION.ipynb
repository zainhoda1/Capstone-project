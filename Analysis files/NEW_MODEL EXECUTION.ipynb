{
 "cells": [
  {
   "cell_type": "code",
   "execution_count": 330,
   "metadata": {},
   "outputs": [],
   "source": [
    "import pandas as pd\n",
    "from xgboost import XGBClassifier\n",
    "from sklearn.model_selection import train_test_split\n",
    "from sklearn.metrics import accuracy_score\n",
    "import numpy as np\n",
    "import matplotlib.pyplot as plt\n",
    "import seaborn as sns\n",
    "from fitter import Fitter, get_common_distributions, get_distributions\n",
    "#pd.options.display.max_rows"
   ]
  },
  {
   "cell_type": "code",
   "execution_count": 331,
   "metadata": {},
   "outputs": [
    {
     "data": {
      "text/html": [
       "<div>\n",
       "<style scoped>\n",
       "    .dataframe tbody tr th:only-of-type {\n",
       "        vertical-align: middle;\n",
       "    }\n",
       "\n",
       "    .dataframe tbody tr th {\n",
       "        vertical-align: top;\n",
       "    }\n",
       "\n",
       "    .dataframe thead th {\n",
       "        text-align: right;\n",
       "    }\n",
       "</style>\n",
       "<table border=\"1\" class=\"dataframe\">\n",
       "  <thead>\n",
       "    <tr style=\"text-align: right;\">\n",
       "      <th></th>\n",
       "      <th>Season</th>\n",
       "      <th>TeamName</th>\n",
       "      <th>TeamName 2</th>\n",
       "      <th>Tempo</th>\n",
       "      <th>RankTempo</th>\n",
       "      <th>AdjTempo</th>\n",
       "      <th>RankAdjTempo</th>\n",
       "      <th>OE</th>\n",
       "      <th>RankOE</th>\n",
       "      <th>AdjOE</th>\n",
       "      <th>RankAdjOE</th>\n",
       "      <th>DE</th>\n",
       "      <th>RankDE</th>\n",
       "      <th>AdjDE</th>\n",
       "      <th>RankAdjDE</th>\n",
       "      <th>AdjEM</th>\n",
       "      <th>RankAdjEM</th>\n",
       "      <th>seed</th>\n",
       "    </tr>\n",
       "  </thead>\n",
       "  <tbody>\n",
       "    <tr>\n",
       "      <th>0</th>\n",
       "      <td>2019</td>\n",
       "      <td>ABILENE CHRISTIAN</td>\n",
       "      <td>Abilene Christian</td>\n",
       "      <td>66.5681</td>\n",
       "      <td>293</td>\n",
       "      <td>66.0042</td>\n",
       "      <td>254</td>\n",
       "      <td>107.1020</td>\n",
       "      <td>87</td>\n",
       "      <td>103.6250</td>\n",
       "      <td>186</td>\n",
       "      <td>96.7466</td>\n",
       "      <td>43</td>\n",
       "      <td>101.5390</td>\n",
       "      <td>119</td>\n",
       "      <td>2.08626</td>\n",
       "      <td>145</td>\n",
       "      <td>15.0</td>\n",
       "    </tr>\n",
       "    <tr>\n",
       "      <th>1</th>\n",
       "      <td>2019</td>\n",
       "      <td>AIR FORCE</td>\n",
       "      <td>Air Force</td>\n",
       "      <td>67.2794</td>\n",
       "      <td>269</td>\n",
       "      <td>66.4070</td>\n",
       "      <td>234</td>\n",
       "      <td>98.7687</td>\n",
       "      <td>274</td>\n",
       "      <td>100.4310</td>\n",
       "      <td>250</td>\n",
       "      <td>105.6820</td>\n",
       "      <td>242</td>\n",
       "      <td>107.2750</td>\n",
       "      <td>238</td>\n",
       "      <td>-6.84432</td>\n",
       "      <td>241</td>\n",
       "      <td>NaN</td>\n",
       "    </tr>\n",
       "    <tr>\n",
       "      <th>2</th>\n",
       "      <td>2019</td>\n",
       "      <td>AKRON</td>\n",
       "      <td>Akron</td>\n",
       "      <td>68.4518</td>\n",
       "      <td>207</td>\n",
       "      <td>66.0150</td>\n",
       "      <td>253</td>\n",
       "      <td>99.4248</td>\n",
       "      <td>264</td>\n",
       "      <td>99.7930</td>\n",
       "      <td>257</td>\n",
       "      <td>94.0099</td>\n",
       "      <td>11</td>\n",
       "      <td>93.7022</td>\n",
       "      <td>21</td>\n",
       "      <td>6.09084</td>\n",
       "      <td>107</td>\n",
       "      <td>NaN</td>\n",
       "    </tr>\n",
       "    <tr>\n",
       "      <th>3</th>\n",
       "      <td>2019</td>\n",
       "      <td>ALABAMA</td>\n",
       "      <td>Alabama</td>\n",
       "      <td>69.8652</td>\n",
       "      <td>124</td>\n",
       "      <td>68.6333</td>\n",
       "      <td>115</td>\n",
       "      <td>102.4780</td>\n",
       "      <td>185</td>\n",
       "      <td>108.1130</td>\n",
       "      <td>100</td>\n",
       "      <td>102.2220</td>\n",
       "      <td>155</td>\n",
       "      <td>96.6354</td>\n",
       "      <td>50</td>\n",
       "      <td>11.47740</td>\n",
       "      <td>59</td>\n",
       "      <td>NaN</td>\n",
       "    </tr>\n",
       "    <tr>\n",
       "      <th>4</th>\n",
       "      <td>2019</td>\n",
       "      <td>ALABAMA A&amp;M</td>\n",
       "      <td>Alabama A&amp;M</td>\n",
       "      <td>67.5600</td>\n",
       "      <td>252</td>\n",
       "      <td>65.4905</td>\n",
       "      <td>282</td>\n",
       "      <td>88.7657</td>\n",
       "      <td>347</td>\n",
       "      <td>86.4818</td>\n",
       "      <td>350</td>\n",
       "      <td>104.8620</td>\n",
       "      <td>219</td>\n",
       "      <td>109.1420</td>\n",
       "      <td>265</td>\n",
       "      <td>-22.66000</td>\n",
       "      <td>344</td>\n",
       "      <td>NaN</td>\n",
       "    </tr>\n",
       "    <tr>\n",
       "      <th>5</th>\n",
       "      <td>2019</td>\n",
       "      <td>ALABAMA STATE</td>\n",
       "      <td>Alabama State</td>\n",
       "      <td>68.4214</td>\n",
       "      <td>210</td>\n",
       "      <td>67.0597</td>\n",
       "      <td>198</td>\n",
       "      <td>95.3075</td>\n",
       "      <td>322</td>\n",
       "      <td>94.5978</td>\n",
       "      <td>326</td>\n",
       "      <td>106.1970</td>\n",
       "      <td>250</td>\n",
       "      <td>110.9610</td>\n",
       "      <td>304</td>\n",
       "      <td>-16.36330</td>\n",
       "      <td>329</td>\n",
       "      <td>NaN</td>\n",
       "    </tr>\n",
       "    <tr>\n",
       "      <th>6</th>\n",
       "      <td>2019</td>\n",
       "      <td>ALBANY (NY)</td>\n",
       "      <td>Albany (NY)</td>\n",
       "      <td>66.3119</td>\n",
       "      <td>301</td>\n",
       "      <td>65.7351</td>\n",
       "      <td>268</td>\n",
       "      <td>99.2601</td>\n",
       "      <td>267</td>\n",
       "      <td>98.1540</td>\n",
       "      <td>283</td>\n",
       "      <td>103.2160</td>\n",
       "      <td>176</td>\n",
       "      <td>108.0060</td>\n",
       "      <td>250</td>\n",
       "      <td>-9.85221</td>\n",
       "      <td>277</td>\n",
       "      <td>NaN</td>\n",
       "    </tr>\n",
       "    <tr>\n",
       "      <th>7</th>\n",
       "      <td>2019</td>\n",
       "      <td>ALCORN STATE</td>\n",
       "      <td>Alcorn State</td>\n",
       "      <td>67.4020</td>\n",
       "      <td>260</td>\n",
       "      <td>65.6105</td>\n",
       "      <td>277</td>\n",
       "      <td>89.3041</td>\n",
       "      <td>346</td>\n",
       "      <td>88.7838</td>\n",
       "      <td>348</td>\n",
       "      <td>108.2200</td>\n",
       "      <td>288</td>\n",
       "      <td>113.4270</td>\n",
       "      <td>332</td>\n",
       "      <td>-24.64300</td>\n",
       "      <td>349</td>\n",
       "      <td>NaN</td>\n",
       "    </tr>\n",
       "    <tr>\n",
       "      <th>8</th>\n",
       "      <td>2019</td>\n",
       "      <td>AMERICAN</td>\n",
       "      <td>American</td>\n",
       "      <td>67.6929</td>\n",
       "      <td>247</td>\n",
       "      <td>66.4126</td>\n",
       "      <td>233</td>\n",
       "      <td>104.5920</td>\n",
       "      <td>141</td>\n",
       "      <td>101.7880</td>\n",
       "      <td>221</td>\n",
       "      <td>100.1360</td>\n",
       "      <td>104</td>\n",
       "      <td>104.9190</td>\n",
       "      <td>186</td>\n",
       "      <td>-3.13075</td>\n",
       "      <td>198</td>\n",
       "      <td>NaN</td>\n",
       "    </tr>\n",
       "    <tr>\n",
       "      <th>9</th>\n",
       "      <td>2019</td>\n",
       "      <td>APPALACHIAN STATE</td>\n",
       "      <td>Appalachian State</td>\n",
       "      <td>73.1875</td>\n",
       "      <td>27</td>\n",
       "      <td>71.4297</td>\n",
       "      <td>27</td>\n",
       "      <td>104.6920</td>\n",
       "      <td>138</td>\n",
       "      <td>105.9350</td>\n",
       "      <td>141</td>\n",
       "      <td>110.2310</td>\n",
       "      <td>315</td>\n",
       "      <td>109.5440</td>\n",
       "      <td>274</td>\n",
       "      <td>-3.60901</td>\n",
       "      <td>205</td>\n",
       "      <td>NaN</td>\n",
       "    </tr>\n",
       "  </tbody>\n",
       "</table>\n",
       "</div>"
      ],
      "text/plain": [
       "   Season           TeamName         TeamName 2    Tempo  RankTempo  AdjTempo  \\\n",
       "0    2019  ABILENE CHRISTIAN  Abilene Christian  66.5681        293   66.0042   \n",
       "1    2019          AIR FORCE          Air Force  67.2794        269   66.4070   \n",
       "2    2019              AKRON              Akron  68.4518        207   66.0150   \n",
       "3    2019            ALABAMA            Alabama  69.8652        124   68.6333   \n",
       "4    2019        ALABAMA A&M        Alabama A&M  67.5600        252   65.4905   \n",
       "5    2019      ALABAMA STATE      Alabama State  68.4214        210   67.0597   \n",
       "6    2019        ALBANY (NY)        Albany (NY)  66.3119        301   65.7351   \n",
       "7    2019       ALCORN STATE       Alcorn State  67.4020        260   65.6105   \n",
       "8    2019           AMERICAN           American  67.6929        247   66.4126   \n",
       "9    2019  APPALACHIAN STATE  Appalachian State  73.1875         27   71.4297   \n",
       "\n",
       "   RankAdjTempo        OE  RankOE     AdjOE  RankAdjOE        DE  RankDE  \\\n",
       "0           254  107.1020      87  103.6250        186   96.7466      43   \n",
       "1           234   98.7687     274  100.4310        250  105.6820     242   \n",
       "2           253   99.4248     264   99.7930        257   94.0099      11   \n",
       "3           115  102.4780     185  108.1130        100  102.2220     155   \n",
       "4           282   88.7657     347   86.4818        350  104.8620     219   \n",
       "5           198   95.3075     322   94.5978        326  106.1970     250   \n",
       "6           268   99.2601     267   98.1540        283  103.2160     176   \n",
       "7           277   89.3041     346   88.7838        348  108.2200     288   \n",
       "8           233  104.5920     141  101.7880        221  100.1360     104   \n",
       "9            27  104.6920     138  105.9350        141  110.2310     315   \n",
       "\n",
       "      AdjDE  RankAdjDE     AdjEM  RankAdjEM  seed  \n",
       "0  101.5390        119   2.08626        145  15.0  \n",
       "1  107.2750        238  -6.84432        241   NaN  \n",
       "2   93.7022         21   6.09084        107   NaN  \n",
       "3   96.6354         50  11.47740         59   NaN  \n",
       "4  109.1420        265 -22.66000        344   NaN  \n",
       "5  110.9610        304 -16.36330        329   NaN  \n",
       "6  108.0060        250  -9.85221        277   NaN  \n",
       "7  113.4270        332 -24.64300        349   NaN  \n",
       "8  104.9190        186  -3.13075        198   NaN  \n",
       "9  109.5440        274  -3.60901        205   NaN  "
      ]
     },
     "execution_count": 331,
     "metadata": {},
     "output_type": "execute_result"
    }
   ],
   "source": [
    "kp = pd.read_csv('/Users/caldavis/Documents/GitHub/Capstone-project/Data folder/KenPom Team Metrics.csv')\n",
    "#kp.head(10)\n",
    "kp_conf_rat = pd.read_csv('/Users/caldavis/Documents/GitHub/Capstone-project/Data folder/KP_Conf_Ratings.csv')\n",
    "kp_conf_rat = kp_conf_rat[['Year_Conf', 'Conf_Abb', 'Conf_Rk', 'Conf_Full', 'Conf_Rating']]\n",
    "kp_conf_rat.head(10)\n",
    "kp.head(10)"
   ]
  },
  {
   "cell_type": "code",
   "execution_count": 332,
   "metadata": {},
   "outputs": [
    {
     "name": "stderr",
     "output_type": "stream",
     "text": [
      "/var/folders/cq/16hkxgp926d466c0g9jzx2900000gq/T/ipykernel_13383/3649207590.py:4: DtypeWarning: Columns (13,16,38,144,147,169) have mixed types. Specify dtype option on import or set low_memory=False.\n",
      "  d = pd.read_csv('/Users/caldavis/Documents/GitHub/Capstone-project/Data folder/final_data_by_player_type.csv')\n",
      "/var/folders/cq/16hkxgp926d466c0g9jzx2900000gq/T/ipykernel_13383/3649207590.py:28: PerformanceWarning: DataFrame is highly fragmented.  This is usually the result of calling `frame.insert` many times, which has poor performance.  Consider joining all columns at once using pd.concat(axis=1) instead. To get a de-fragmented frame, use `newframe = frame.copy()`\n",
      "  df['Contribution_n1'] = np.select(conditions, values)\n",
      "/var/folders/cq/16hkxgp926d466c0g9jzx2900000gq/T/ipykernel_13383/3649207590.py:34: PerformanceWarning: DataFrame is highly fragmented.  This is usually the result of calling `frame.insert` many times, which has poor performance.  Consider joining all columns at once using pd.concat(axis=1) instead. To get a de-fragmented frame, use `newframe = frame.copy()`\n",
      "  df['Class'] = np.select(year_cond, year_val)\n",
      "/var/folders/cq/16hkxgp926d466c0g9jzx2900000gq/T/ipykernel_13383/3649207590.py:41: PerformanceWarning: DataFrame is highly fragmented.  This is usually the result of calling `frame.insert` many times, which has poor performance.  Consider joining all columns at once using pd.concat(axis=1) instead. To get a de-fragmented frame, use `newframe = frame.copy()`\n",
      "  df['Pos_Ht'] = np.select(ht_cond, ht_val)\n"
     ]
    }
   ],
   "source": [
    "# All In One Go,\n",
    "\n",
    "# Prep initial df,\n",
    "d = pd.read_csv('/Users/caldavis/Documents/GitHub/Capstone-project/Data folder/final_data_by_player_type.csv')\n",
    "d = pd.merge(d, kp, left_on=['Team', 'year'], right_on=['TeamName', 'Season'], how='left')\n",
    "d = pd.merge(d, kp, left_on=['Team_n1', 'year'], right_on=['TeamName', 'Season'], how='left')\n",
    "df = pd.merge(d, kp, left_on=['Team_n1', 'year_n1'], right_on=['TeamName', 'Season'], how='left')\n",
    "df = pd.merge(df, kp_conf_rat, left_on=['conf_abbr', 'year'], right_on=['Conf_Abb', 'Year_Conf'], how='left')\n",
    "df = pd.merge(df, kp_conf_rat, left_on=['conf_abbr_n1', 'year'], right_on=['Conf_Abb', 'Year_Conf'], how='left')\n",
    "df = pd.merge(df, kp_conf_rat, left_on=['conf_abbr_n1', 'year_n1'], right_on=['Conf_Abb', 'Year_Conf'], how='left')\n",
    "df = df.replace(to_replace='NO IDEA', value=0)\n",
    "df = df.replace(to_replace='---', value=0)\n",
    "df = df.fillna(0)\n",
    "\n",
    "# Convert to Numeric,\n",
    "df[['games', 'games_started', 'mp_per_g', 'fg_per_g', 'fga_per_g', 'fg_pct', 'fg2_per_g', 'fg2a_per_g', 'fg2_pct', 'fg3_per_g', 'fg3a_per_g', 'fg3_pct', 'ft_per_g', 'fta_per_g', 'ft_pct', 'orb_per_g', 'drb_per_g', 'trb_per_g', 'ast_per_g', 'stl_per_g', 'blk_per_g', 'tov_per_g', 'pf_per_g', 'pts_per_g', 'sos', 'mp', 'fg', 'fga', 'fg2', 'fg2a', 'fg2_pct.1', 'fg3', 'fg3a', 'ft', 'fta', 'orb', 'drb', 'trb', 'ast', 'stl', 'blk', 'tov', 'pf', 'pts', \n",
    "    'fg_per_min', 'fga_per_min', 'fg2_per_min', 'fg2a_per_min', 'fg3_per_min', 'fg3a_per_min', 'ft_per_min', 'fta_per_min', 'trb_per_min', 'ast_per_min', 'stl_per_min', 'blk_per_min', 'tov_per_min', 'pf_per_min', 'pts_per_min', \n",
    "    'fg_per_poss', 'fga_per_poss', 'fg2_per_poss', 'fg2a_per_poss', 'fg3_per_poss', 'fg3a_per_poss', 'ft_per_poss', 'fta_per_poss', 'trb_per_poss', 'ast_per_poss', 'stl_per_poss', 'blk_per_poss', 'tov_per_poss', 'pf_per_poss', 'pts_per_poss', 'off_rtg', 'def_rtg', 'per', 'ts_pct', 'efg_pct', 'fg3a_per_fga_pct', 'fta_per_fga_pct', 'pprod', 'orb_pct', 'drb_pct', 'trb_pct', 'ast_pct', 'stl_pct', 'blk_pct', 'tov_pct', 'usg_pct', 'ows', 'dws', 'ws', 'ws_per_40', 'obpm', 'dbpm', 'bpm', 'year', 'Ht', 'Wt', 'G', 'S', 'X.Min', 'ORtg', 'X.Poss', 'X.Shots', 'games_n1', 'games_started_n1', 'mp_per_g_n1', 'fg_per_g_n1', 'fga_per_g_n1', 'fg_pct_n1', 'fg2_per_g_n1', 'fg2a_per_g_n1', 'fg2_pct_n1', 'fg3_per_g_n1', 'fg3a_per_g_n1', 'fg3_pct_n1', 'ft_per_g_n1', 'fta_per_g_n1', 'ft_pct_n1', 'orb_per_g_n1', 'drb_per_g_n1', 'trb_per_g_n1', 'ast_per_g_n1', 'stl_per_g_n1', 'blk_per_g_n1', 'tov_per_g_n1', 'pf_per_g_n1', 'pts_per_g_n1', 'sos_n1', 'mp_n1', 'fg_n1', 'fga_n1', 'fg2_n1', 'fg2a_n1', 'fg2_pct.1_n1', 'fg3_n1', 'fg3a_n1', 'ft_n1', 'fta_n1', 'orb_n1', 'drb_n1', 'trb_n1', 'ast_n1', 'stl_n1', 'blk_n1', 'tov_n1', 'pf_n1', 'pts_n1', 'fg_per_min_n1', 'fga_per_min_n1', 'fg2_per_min_n1', 'fg2a_per_min_n1', 'fg3_per_min_n1', 'fg3a_per_min_n1', 'ft_per_min_n1', 'fta_per_min_n1', 'trb_per_min_n1', 'ast_per_min_n1', 'stl_per_min_n1', 'blk_per_min_n1', 'tov_per_min_n1', 'pf_per_min_n1', 'pts_per_min_n1', 'fg_per_poss_n1', 'fga_per_poss_n1', 'fg2_per_poss_n1', 'fg2a_per_poss_n1', 'fg3_per_poss_n1', 'fg3a_per_poss_n1', 'ft_per_poss_n1', 'fta_per_poss_n1', 'trb_per_poss_n1', 'ast_per_poss_n1', 'stl_per_poss_n1', 'blk_per_poss_n1', 'tov_per_poss_n1', 'pf_per_poss_n1', 'pts_per_poss_n1', 'off_rtg_n1', 'def_rtg_n1', 'per_n1', 'ts_pct_n1', 'efg_pct_n1', 'fg3a_per_fga_pct_n1', 'fta_per_fga_pct_n1', 'pprod_n1', 'orb_pct_n1', 'drb_pct_n1', \n",
    "    'trb_pct_n1', 'ast_pct_n1', 'stl_pct_n1', 'blk_pct_n1', 'tov_pct_n1', 'usg_pct_n1', 'ows_n1', 'dws_n1', 'ws_n1', 'ws_per_40_n1', 'obpm_n1', 'dbpm_n1', 'bpm_n1', 'year_n1', 'Ht_n1', 'Wt_n1', 'G_n1', 'S_n1', 'X.Min_n1', 'ORtg_n1', 'X.Poss_n1', 'X.Shots_n1']] = df[['games', 'games_started', 'mp_per_g', 'fg_per_g', 'fga_per_g', 'fg_pct', 'fg2_per_g', 'fg2a_per_g', 'fg2_pct', 'fg3_per_g', 'fg3a_per_g', 'fg3_pct', 'ft_per_g', 'fta_per_g', 'ft_pct', 'orb_per_g', 'drb_per_g', 'trb_per_g', 'ast_per_g', 'stl_per_g', 'blk_per_g', 'tov_per_g', 'pf_per_g', 'pts_per_g', 'sos', 'mp', 'fg', 'fga', 'fg2', 'fg2a', 'fg2_pct.1', 'fg3', 'fg3a', 'ft', 'fta', 'orb', 'drb', 'trb', 'ast', 'stl', 'blk', 'tov', 'pf', 'pts', 'fg_per_min', 'fga_per_min', 'fg2_per_min', 'fg2a_per_min', 'fg3_per_min', 'fg3a_per_min', 'ft_per_min', 'fta_per_min', 'trb_per_min', 'ast_per_min', 'stl_per_min', 'blk_per_min', 'tov_per_min', 'pf_per_min', 'pts_per_min', 'fg_per_poss', 'fga_per_poss', 'fg2_per_poss', 'fg2a_per_poss', 'fg3_per_poss', 'fg3a_per_poss', 'ft_per_poss', 'fta_per_poss', 'trb_per_poss', 'ast_per_poss', 'stl_per_poss', 'blk_per_poss', 'tov_per_poss', 'pf_per_poss', 'pts_per_poss', 'off_rtg', 'def_rtg', 'per', 'ts_pct', 'efg_pct', 'fg3a_per_fga_pct', 'fta_per_fga_pct', 'pprod', 'orb_pct', 'drb_pct', 'trb_pct', 'ast_pct', 'stl_pct', 'blk_pct', 'tov_pct', 'usg_pct', 'ows', 'dws', 'ws', 'ws_per_40', 'obpm', 'dbpm', 'bpm', 'year', 'Ht', 'Wt', 'G', 'S', 'X.Min', 'ORtg', 'X.Poss', 'X.Shots', 'games_n1', 'games_started_n1', 'mp_per_g_n1', 'fg_per_g_n1', 'fga_per_g_n1', 'fg_pct_n1', 'fg2_per_g_n1', 'fg2a_per_g_n1', 'fg2_pct_n1', 'fg3_per_g_n1', 'fg3a_per_g_n1', 'fg3_pct_n1', 'ft_per_g_n1', 'fta_per_g_n1', 'ft_pct_n1', 'orb_per_g_n1', 'drb_per_g_n1', 'trb_per_g_n1', 'ast_per_g_n1', 'stl_per_g_n1', 'blk_per_g_n1', 'tov_per_g_n1', 'pf_per_g_n1', 'pts_per_g_n1', 'sos_n1', 'mp_n1', 'fg_n1', 'fga_n1', 'fg2_n1', 'fg2a_n1', 'fg2_pct.1_n1', 'fg3_n1', 'fg3a_n1', 'ft_n1', 'fta_n1', 'orb_n1', 'drb_n1', 'trb_n1', 'ast_n1', 'stl_n1', 'blk_n1', 'tov_n1', 'pf_n1', 'pts_n1', 'fg_per_min_n1', 'fga_per_min_n1', 'fg2_per_min_n1', 'fg2a_per_min_n1', 'fg3_per_min_n1', 'fg3a_per_min_n1', 'ft_per_min_n1', 'fta_per_min_n1', 'trb_per_min_n1', 'ast_per_min_n1', 'stl_per_min_n1', 'blk_per_min_n1', 'tov_per_min_n1', 'pf_per_min_n1', 'pts_per_min_n1', 'fg_per_poss_n1', 'fga_per_poss_n1', 'fg2_per_poss_n1', 'fg2a_per_poss_n1', 'fg3_per_poss_n1', 'fg3a_per_poss_n1', 'ft_per_poss_n1', 'fta_per_poss_n1', 'trb_per_poss_n1', 'ast_per_poss_n1', 'stl_per_poss_n1', 'blk_per_poss_n1', 'tov_per_poss_n1', 'pf_per_poss_n1', 'pts_per_poss_n1', 'off_rtg_n1', 'def_rtg_n1', 'per_n1', 'ts_pct_n1', 'efg_pct_n1', 'fg3a_per_fga_pct_n1', 'fta_per_fga_pct_n1', 'pprod_n1', 'orb_pct_n1', 'drb_pct_n1', 'trb_pct_n1', 'ast_pct_n1', 'stl_pct_n1', 'blk_pct_n1', 'tov_pct_n1', 'usg_pct_n1', 'ows_n1', 'dws_n1', 'ws_n1', 'ws_per_40_n1', 'obpm_n1', 'dbpm_n1', 'bpm_n1', 'year_n1', 'Ht_n1', 'Wt_n1', 'G_n1', 'S_n1', 'X.Min_n1', 'ORtg_n1', 'X.Poss_n1', 'X.Shots_n1']].apply(pd.to_numeric, errors='ignore')\n",
    "\n",
    "# Add Contributions,\n",
    "conditions = [(df['X.Poss_n1']>=28.0), (df['X.Poss_n1']>=24.0), (df['X.Poss_n1']>=20.0), (df['X.Poss_n1']>=16),\n",
    "            (df['X.Poss_n1']>=12.0), (df['X.Poss_n1']<12)]\n",
    "                                       #& (df['X.Min_n1']>=10.0))],\n",
    "#(df['X.Min_n1']<10),,\n",
    "#values = ['Go-To Guy', 'Major Contributor', 'Significant Contributor', 'Role Players', 'Limited Role', 'Nearly Invisible', 'Bench Warmer'],\n",
    "values = [0, 1, 2, 3, 4, 5]\n",
    "df['Contribution_n1'] = np.select(conditions, values)\n",
    "\n",
    "# Add Year in School KP,\n",
    "year_cond = [(df['Yr_n1']=='Fr'), (df['Yr_n1']=='So'),\n",
    "            (df['Yr_n1']=='Jr'), (df['Yr_n1']=='Sr')]\n",
    "year_val = [1, 2, 3, 4]\n",
    "df['Class'] = np.select(year_cond, year_val)\n",
    "\n",
    "# Add Ht. Categories,\n",
    "ht_cond = [(df['Ht']<=74), (df['Ht']>74) & (df['Ht']<=76), (df['Ht']>76) & (df['Ht']<=78),\n",
    "   (df['Ht']>78) & (df['Ht']<=80), (df['Ht']>80)]\n",
    "\n",
    "ht_val = [0, 1, 2, 3, 4]\n",
    "df['Pos_Ht'] = np.select(ht_cond, ht_val)\n",
    "#df[‘column’] =( df[‘column’] – df[‘column’].mean() ) / df[‘column’].std(),\n",
    "\n",
    "    \n",
    "# Additional Features + Model Prep,\n",
    "df = df.drop(df[(df['games']<=20) & (df['games_started']/df['games']>0.7)].index)\n",
    "df = df.drop(df[(df['games_n1']<=20) & (df['games_started_n1']/df['games_n1']>0.7)].index)\n",
    "\n",
    "df = df.drop(df.loc[((df['games']>39) & (df['year']==2023)) | ((df['games_n1']>39) & (df['year_n1']==2023)) | \n",
    "   ((df['games']>40) & (df['year']==2022)) | ((df['games_n1']>40) & (df['year_n1']==2022)) | \n",
    "   ((df['games']>33) & (df['year']==2021)) | ((df['games_n1']>33) & (df['year_n1']==2021)) | \n",
    "   ((df['games']>35) & (df['year']==2020)) | ((df['games_n1']>35) & (df['year_n1']==2020)) | \n",
    "   ((df['games']>40) & (df['year']==2019)) | ((df['games_n1']>40) & (df['year_n1']==2019)) |\n",
    "   (df['year']==0)]['Player.Name'].index)\n",
    "idx = df.groupby(['Team', 'year'])['games'].max()\n",
    "a = pd.DataFrame(idx)\n",
    "ab = a.reset_index()\n",
    "ab.columns = ['Team_max', 'year_max', 'games_max']\n",
    "df = pd.merge(df, ab, left_on=['Team', 'year'], right_on=['Team_max', 'year_max'], how='left')\n",
    "idx2 = df.groupby(['Team_n1', 'year_n1'])['games_n1'].max()\n",
    "a2 = pd.DataFrame(idx2)\n",
    "ab2 = a2.reset_index()\n",
    "ab2.columns = ['Team_max', 'year_max', 'games_max']\n",
    "df = pd.merge(df, ab2, left_on=['Team_n1', 'year_n1'], right_on=['Team_max', 'year_max'], how='left')\n",
    "df.columns\n",
    "tt = df[['Player.Name', 'Team', 'year', 'games_max_x', 'Team_n1', 'year_n1', 'games_max_y', 'games_n1']]\n",
    "tt[tt['Player.Name']=='tevin-mack-1']\n",
    "df = df.drop(df[(df['games']<=0.3*df['games_max_x'])].index)\n",
    "df = df.drop(df[(df['games_n1']<=0.3*df['games_max_y'])].index)\n",
    "df = df.drop(df.loc[(df['games_max_x']<24)].index)\n",
    "df = df.drop(df.loc[(df['games_max_y']<24)].index)\n",
    "\n",
    "#df = df.drop(df.loc[(df['year']==2020) | (df['year_n1']==2020)].index)\n",
    "#df = df.drop(df[(df['X.Min_n1']<=10)].index)\n",
    "#df = df.drop(df[(df['X.Min']<=10)].index)\n",
    "df['Year_dif'] = df['year_n1']-df['year']\n",
    "df['Team_AdjEM_dif'] = df['AdjEM_y']-df['AdjEM_x']\n",
    "df['KP_Rk_Dif'] = df['RankAdjEM_y']-df['RankAdjEM_x']\n",
    "df['KP_Conf_Dif'] = df['Conf_Rating_y']-df['Conf_Rating_x']\n",
    "df['Calc A'] = df['X.Min']*df['ws']\n",
    "df['Calc A2'] = df['X.Min']*df['bpm']\n",
    "df['Calc A2_n1'] = df['X.Min_n1']*df['bpm_n1']\n",
    "df['Calc A_n1'] =df['X.Min_n1']*df['ws_n1']\n",
    "df['Calc B'] = (df['stl_per_poss']+df['blk_per_poss']+df['DR.'])*df['X.Min']\n",
    "df['Calc B_n1'] = (df['stl_per_poss_n1']+df['blk_per_poss_n1']+df['DR._n1'])*df['X.Min_n1']\n",
    "df['Calc C']=(df['off_rtg']-df['def_rtg'])*df['X.Min']\n",
    "df['Calc C_n1']=(df['off_rtg_n1']-df['def_rtg_n1'])*df['X.Min_n1']\n",
    "df['Calc Overall'] = df['Calc A'] + df['Calc B']\n",
    "df['Calc Overall_n1'] = df['Calc A_n1'] + df['Calc B_n1']\n",
    "    \n",
    "    \n",
    "# Calc_A_n1_cond = [(df['Calc A_n1']<=340), (df['Calc A_n1']>340) & (df['Calc A_n1']<=664), (df['Calc A_n1']>664) & (df['Calc A_n1']<=1010),,\n",
    "#            (df['Calc A_n1']>1010) & (df['Calc A_n1']<=1415), (df['Calc A_n1']>1415)],\n",
    "\n",
    "# Calc_A_n1_val = [0, 1, 2, 3, 4],\n",
    "# df['Calc_A_Contr'] = np.select(Calc_A_n1_cond, Calc_A_n1_val),\n",
    "column_to_test = 'Calc A2_n1'\n",
    "# Calc_overall_n1_cond = [(df[column_to_test]<=(df[column_to_test].max()-df[column_to_test].min())/10+df[column_to_test].min()), ,\n",
    "#                         (df[column_to_test]>(df[column_to_test].max()-df[column_to_test].min())/10+df[column_to_test].min()) & (df[column_to_test]<=(df[column_to_test].max()-df[column_to_test].min())/2+df[column_to_test].min()), ,\n",
    "#                         (df[column_to_test]>(df[column_to_test].max()-df[column_to_test].min())/2+df[column_to_test].min()) & (df[column_to_test]<=8*(df[column_to_test].max()-df[column_to_test].min())/10+df[column_to_test].min()),,\n",
    "#                         (df[column_to_test]>8*(df[column_to_test].max()-df[column_to_test].min())/10+df[column_to_test].min())],\n",
    "\n",
    "                        # & (df[column_to_test]<=4*(df[column_to_test].max()-df[column_to_test].min())/6+df[column_to_test].min()), ,\n",
    "                        #(df[column_to_test]>4*(df[column_to_test].max()-df[column_to_test].min())/6+df[column_to_test].min())],\n",
    "# Calc_overall_n1_cond = [(df[column_to_test]<=df[column_to_test].quantile(0.12)),\n",
    "#                         (df[column_to_test]>df[column_to_test].quantile(0.12)) & (df[column_to_test]<=df[column_to_test].quantile(0.27)),\n",
    "#                         (df[column_to_test]>df[column_to_test].quantile(0.27)) & (df[column_to_test]<=df[column_to_test].quantile(0.68)),\n",
    "#                         (df[column_to_test]>df[column_to_test].quantile(0.68))]\n",
    "Calc_overall_n1_cond = [(df[column_to_test]<=df[column_to_test].quantile(0.3)),\n",
    "                        (df[column_to_test]>df[column_to_test].quantile(0.3)) & (df[column_to_test]<=df[column_to_test].quantile(0.92)),\n",
    "                        (df[column_to_test]>df[column_to_test].quantile(0.92))]\n",
    "Calc_A_n1_val = [2, 1, 0]\n",
    "#Calc_A_n1_val = [3, 2, 1, 0]\n",
    "df['Calc_Overall_n1_Contr'] = np.select(Calc_overall_n1_cond, Calc_A_n1_val)"
   ]
  },
  {
   "cell_type": "code",
   "execution_count": 333,
   "metadata": {},
   "outputs": [],
   "source": [
    "#df[['Team', 'year', 'games_max']].sort_values('games_max')\n"
   ]
  },
  {
   "cell_type": "code",
   "execution_count": 334,
   "metadata": {},
   "outputs": [
    {
     "data": {
      "text/html": [
       "<div>\n",
       "<style scoped>\n",
       "    .dataframe tbody tr th:only-of-type {\n",
       "        vertical-align: middle;\n",
       "    }\n",
       "\n",
       "    .dataframe tbody tr th {\n",
       "        vertical-align: top;\n",
       "    }\n",
       "\n",
       "    .dataframe thead th {\n",
       "        text-align: right;\n",
       "    }\n",
       "</style>\n",
       "<table border=\"1\" class=\"dataframe\">\n",
       "  <thead>\n",
       "    <tr style=\"text-align: right;\">\n",
       "      <th></th>\n",
       "      <th>0</th>\n",
       "      <th>1</th>\n",
       "      <th>2</th>\n",
       "      <th>3</th>\n",
       "      <th>4</th>\n",
       "      <th>5</th>\n",
       "      <th>6</th>\n",
       "      <th>7</th>\n",
       "      <th>8</th>\n",
       "      <th>9</th>\n",
       "      <th>10</th>\n",
       "      <th>11</th>\n",
       "      <th>12</th>\n",
       "      <th>13</th>\n",
       "      <th>14</th>\n",
       "      <th>15</th>\n",
       "    </tr>\n",
       "  </thead>\n",
       "  <tbody>\n",
       "    <tr>\n",
       "      <th>0</th>\n",
       "      <td>-0.139344</td>\n",
       "      <td>-1.594677</td>\n",
       "      <td>-1.159281</td>\n",
       "      <td>-0.722555</td>\n",
       "      <td>-0.584630</td>\n",
       "      <td>-0.571607</td>\n",
       "      <td>0.395848</td>\n",
       "      <td>-0.653172</td>\n",
       "      <td>-0.678876</td>\n",
       "      <td>0.237383</td>\n",
       "      <td>0.586733</td>\n",
       "      <td>-0.399918</td>\n",
       "      <td>0.191601</td>\n",
       "      <td>0.446157</td>\n",
       "      <td>-0.555109</td>\n",
       "      <td>-0.569059</td>\n",
       "    </tr>\n",
       "    <tr>\n",
       "      <th>1</th>\n",
       "      <td>0.560568</td>\n",
       "      <td>-0.066569</td>\n",
       "      <td>-1.867652</td>\n",
       "      <td>0.543234</td>\n",
       "      <td>-0.475312</td>\n",
       "      <td>-0.331987</td>\n",
       "      <td>0.278946</td>\n",
       "      <td>1.223901</td>\n",
       "      <td>-0.750921</td>\n",
       "      <td>-0.294271</td>\n",
       "      <td>0.247885</td>\n",
       "      <td>-0.150188</td>\n",
       "      <td>0.477443</td>\n",
       "      <td>-1.546927</td>\n",
       "      <td>0.363597</td>\n",
       "      <td>0.296478</td>\n",
       "    </tr>\n",
       "    <tr>\n",
       "      <th>2</th>\n",
       "      <td>1.815129</td>\n",
       "      <td>0.483056</td>\n",
       "      <td>-0.833002</td>\n",
       "      <td>-0.176320</td>\n",
       "      <td>0.215165</td>\n",
       "      <td>0.114189</td>\n",
       "      <td>0.182246</td>\n",
       "      <td>0.641363</td>\n",
       "      <td>0.182284</td>\n",
       "      <td>-0.270355</td>\n",
       "      <td>0.092545</td>\n",
       "      <td>1.318626</td>\n",
       "      <td>-0.977299</td>\n",
       "      <td>-0.622536</td>\n",
       "      <td>0.386216</td>\n",
       "      <td>0.717502</td>\n",
       "    </tr>\n",
       "    <tr>\n",
       "      <th>3</th>\n",
       "      <td>-0.606912</td>\n",
       "      <td>-1.047418</td>\n",
       "      <td>0.162988</td>\n",
       "      <td>1.531122</td>\n",
       "      <td>-0.100717</td>\n",
       "      <td>0.105757</td>\n",
       "      <td>-1.409645</td>\n",
       "      <td>0.592381</td>\n",
       "      <td>-0.238066</td>\n",
       "      <td>1.081616</td>\n",
       "      <td>0.117378</td>\n",
       "      <td>-0.356195</td>\n",
       "      <td>-0.672354</td>\n",
       "      <td>1.431712</td>\n",
       "      <td>-0.355207</td>\n",
       "      <td>-0.182495</td>\n",
       "    </tr>\n",
       "    <tr>\n",
       "      <th>4</th>\n",
       "      <td>-0.093038</td>\n",
       "      <td>-1.228533</td>\n",
       "      <td>-1.116430</td>\n",
       "      <td>1.413755</td>\n",
       "      <td>-0.203587</td>\n",
       "      <td>0.086688</td>\n",
       "      <td>-0.859304</td>\n",
       "      <td>-0.766759</td>\n",
       "      <td>0.342070</td>\n",
       "      <td>-0.414707</td>\n",
       "      <td>-0.461044</td>\n",
       "      <td>0.389586</td>\n",
       "      <td>1.160060</td>\n",
       "      <td>0.080980</td>\n",
       "      <td>-0.584142</td>\n",
       "      <td>-1.051455</td>\n",
       "    </tr>\n",
       "    <tr>\n",
       "      <th>5</th>\n",
       "      <td>-0.354215</td>\n",
       "      <td>0.874186</td>\n",
       "      <td>-2.592765</td>\n",
       "      <td>-1.094081</td>\n",
       "      <td>0.267856</td>\n",
       "      <td>-0.944375</td>\n",
       "      <td>1.384265</td>\n",
       "      <td>0.842255</td>\n",
       "      <td>0.878798</td>\n",
       "      <td>0.959955</td>\n",
       "      <td>-1.097369</td>\n",
       "      <td>0.783963</td>\n",
       "      <td>-0.653493</td>\n",
       "      <td>-1.241070</td>\n",
       "      <td>-1.133638</td>\n",
       "      <td>-0.472463</td>\n",
       "    </tr>\n",
       "    <tr>\n",
       "      <th>6</th>\n",
       "      <td>-0.591539</td>\n",
       "      <td>1.226018</td>\n",
       "      <td>-1.836174</td>\n",
       "      <td>0.468875</td>\n",
       "      <td>0.721225</td>\n",
       "      <td>-0.152692</td>\n",
       "      <td>-1.444834</td>\n",
       "      <td>0.469339</td>\n",
       "      <td>0.791760</td>\n",
       "      <td>1.036216</td>\n",
       "      <td>0.676901</td>\n",
       "      <td>-0.157368</td>\n",
       "      <td>0.577398</td>\n",
       "      <td>-0.943535</td>\n",
       "      <td>-0.143875</td>\n",
       "      <td>-1.041135</td>\n",
       "    </tr>\n",
       "    <tr>\n",
       "      <th>7</th>\n",
       "      <td>-0.206710</td>\n",
       "      <td>-0.802634</td>\n",
       "      <td>1.052340</td>\n",
       "      <td>0.465610</td>\n",
       "      <td>-0.086276</td>\n",
       "      <td>-0.661945</td>\n",
       "      <td>0.449439</td>\n",
       "      <td>-1.983570</td>\n",
       "      <td>-0.732539</td>\n",
       "      <td>0.010309</td>\n",
       "      <td>0.265514</td>\n",
       "      <td>-0.905306</td>\n",
       "      <td>0.362374</td>\n",
       "      <td>-0.352714</td>\n",
       "      <td>-1.538968</td>\n",
       "      <td>-2.175958</td>\n",
       "    </tr>\n",
       "    <tr>\n",
       "      <th>8</th>\n",
       "      <td>-0.213673</td>\n",
       "      <td>-0.526545</td>\n",
       "      <td>0.042417</td>\n",
       "      <td>-0.924930</td>\n",
       "      <td>1.373211</td>\n",
       "      <td>1.045416</td>\n",
       "      <td>-2.183364</td>\n",
       "      <td>0.303595</td>\n",
       "      <td>-0.282205</td>\n",
       "      <td>-0.510510</td>\n",
       "      <td>0.389307</td>\n",
       "      <td>0.800247</td>\n",
       "      <td>0.277724</td>\n",
       "      <td>-0.724097</td>\n",
       "      <td>-0.757253</td>\n",
       "      <td>1.154520</td>\n",
       "    </tr>\n",
       "    <tr>\n",
       "      <th>9</th>\n",
       "      <td>-0.985320</td>\n",
       "      <td>0.638344</td>\n",
       "      <td>0.761854</td>\n",
       "      <td>0.264735</td>\n",
       "      <td>-0.494469</td>\n",
       "      <td>0.256931</td>\n",
       "      <td>-0.584103</td>\n",
       "      <td>-0.165545</td>\n",
       "      <td>-0.811848</td>\n",
       "      <td>-0.128960</td>\n",
       "      <td>-1.051165</td>\n",
       "      <td>-0.663586</td>\n",
       "      <td>-0.722375</td>\n",
       "      <td>0.133753</td>\n",
       "      <td>0.254479</td>\n",
       "      <td>-0.754465</td>\n",
       "    </tr>\n",
       "  </tbody>\n",
       "</table>\n",
       "</div>"
      ],
      "text/plain": [
       "         0         1         2         3         4         5         6   \\\n",
       "0 -0.139344 -1.594677 -1.159281 -0.722555 -0.584630 -0.571607  0.395848   \n",
       "1  0.560568 -0.066569 -1.867652  0.543234 -0.475312 -0.331987  0.278946   \n",
       "2  1.815129  0.483056 -0.833002 -0.176320  0.215165  0.114189  0.182246   \n",
       "3 -0.606912 -1.047418  0.162988  1.531122 -0.100717  0.105757 -1.409645   \n",
       "4 -0.093038 -1.228533 -1.116430  1.413755 -0.203587  0.086688 -0.859304   \n",
       "5 -0.354215  0.874186 -2.592765 -1.094081  0.267856 -0.944375  1.384265   \n",
       "6 -0.591539  1.226018 -1.836174  0.468875  0.721225 -0.152692 -1.444834   \n",
       "7 -0.206710 -0.802634  1.052340  0.465610 -0.086276 -0.661945  0.449439   \n",
       "8 -0.213673 -0.526545  0.042417 -0.924930  1.373211  1.045416 -2.183364   \n",
       "9 -0.985320  0.638344  0.761854  0.264735 -0.494469  0.256931 -0.584103   \n",
       "\n",
       "         7         8         9         10        11        12        13  \\\n",
       "0 -0.653172 -0.678876  0.237383  0.586733 -0.399918  0.191601  0.446157   \n",
       "1  1.223901 -0.750921 -0.294271  0.247885 -0.150188  0.477443 -1.546927   \n",
       "2  0.641363  0.182284 -0.270355  0.092545  1.318626 -0.977299 -0.622536   \n",
       "3  0.592381 -0.238066  1.081616  0.117378 -0.356195 -0.672354  1.431712   \n",
       "4 -0.766759  0.342070 -0.414707 -0.461044  0.389586  1.160060  0.080980   \n",
       "5  0.842255  0.878798  0.959955 -1.097369  0.783963 -0.653493 -1.241070   \n",
       "6  0.469339  0.791760  1.036216  0.676901 -0.157368  0.577398 -0.943535   \n",
       "7 -1.983570 -0.732539  0.010309  0.265514 -0.905306  0.362374 -0.352714   \n",
       "8  0.303595 -0.282205 -0.510510  0.389307  0.800247  0.277724 -0.724097   \n",
       "9 -0.165545 -0.811848 -0.128960 -1.051165 -0.663586 -0.722375  0.133753   \n",
       "\n",
       "         14        15  \n",
       "0 -0.555109 -0.569059  \n",
       "1  0.363597  0.296478  \n",
       "2  0.386216  0.717502  \n",
       "3 -0.355207 -0.182495  \n",
       "4 -0.584142 -1.051455  \n",
       "5 -1.133638 -0.472463  \n",
       "6 -0.143875 -1.041135  \n",
       "7 -1.538968 -2.175958  \n",
       "8 -0.757253  1.154520  \n",
       "9  0.254479 -0.754465  "
      ]
     },
     "execution_count": 334,
     "metadata": {},
     "output_type": "execute_result"
    }
   ],
   "source": [
    "from sklearn.preprocessing import StandardScaler\n",
    "# feature1 = ['bpm', 'Calc A2', 'ws', 'dws', 'ows', 'Calc Overall', 'KP_Conf_Dif', 'X.Poss', \n",
    "#                    'Year_dif',  'Calc A', 'Calc B', \n",
    "#                  'DR.',  'Team_AdjEM_dif', 'player_type',\n",
    "#                  'Class', 'player_type', 'Pos_Ht', 'Calc C', 'off_rtg', 'def_rtg', 'ORtg']\n",
    "feature1 = ['games', 'games_started', 'mp_per_g', 'fg_per_g', 'fga_per_g', 'fg_pct', 'fg2_per_g', 'fg2a_per_g', 'fg2_pct', 'fg3_per_g', 'fg3a_per_g', 'fg3_pct', 'ft_per_g', 'fta_per_g', 'ft_pct', 'orb_per_g', 'drb_per_g', 'trb_per_g', 'ast_per_g', 'stl_per_g', 'blk_per_g', 'tov_per_g', 'pf_per_g', 'pts_per_g', 'sos', 'mp', 'fg', 'fga', 'fg2', 'fg2a', 'fg2_pct.1', 'fg3', 'fg3a', 'ft', 'fta', 'orb', 'drb', 'trb', 'ast', 'stl', 'blk', 'tov', 'pf', 'pts', \n",
    "    'fg_per_min', 'fga_per_min', 'fg2_per_min', 'fg2a_per_min', 'fg3_per_min', 'fg3a_per_min', 'ft_per_min', 'fta_per_min', 'trb_per_min', 'ast_per_min', 'stl_per_min', 'blk_per_min', 'tov_per_min', 'pf_per_min', 'pts_per_min', \n",
    "    'fg_per_poss', 'fga_per_poss', 'fg2_per_poss', 'fg2a_per_poss', 'fg3_per_poss', 'fg3a_per_poss', 'ft_per_poss', 'fta_per_poss', 'trb_per_poss', 'ast_per_poss', 'stl_per_poss', 'blk_per_poss', 'tov_per_poss', 'pf_per_poss', 'pts_per_poss', 'off_rtg', 'def_rtg', 'per', 'ts_pct', 'efg_pct', 'fg3a_per_fga_pct', 'fta_per_fga_pct', 'pprod', 'orb_pct', 'drb_pct', 'trb_pct', 'ast_pct', 'stl_pct', 'blk_pct', 'tov_pct', 'usg_pct', 'ows', 'dws', 'ws', 'ws_per_40', 'obpm', 'dbpm', 'bpm', 'year', 'Ht', 'Wt', 'G', 'S', 'X.Min', 'ORtg', 'X.Poss', 'X.Shots']\n",
    "# , 'X.Min', 'obpm', 'dbpm\n",
    "# , 'Calc_Overall_n1_Contr'\n",
    "y_try = df[['Calc_Overall_n1_Contr']]\n",
    "#y_try = df[['Contribution_n1']]\n",
    "df_temp = df\n",
    "#print(df_temp.columns)\n",
    "df_temp = df_temp.drop(['Calc_Overall_n1_Contr'], axis=1)\n",
    "#df_temp = df_temp.drop(['Contribution_n1'], axis=1)\n",
    "x_try = df_temp.loc[:, feature1].values\n",
    "#y_try = df.loc[:,['target']].values\n",
    "\n",
    "x_try = StandardScaler().fit_transform(x_try)\n",
    "\n",
    "from sklearn.decomposition import PCA\n",
    "\n",
    "pca = PCA(n_components=0.9, whiten=True)\n",
    "\n",
    "principalComponents = pca.fit_transform(x_try)\n",
    "\n",
    "principalDf = pd.DataFrame(data = principalComponents)\n",
    "#principalDf = pd.concat([principalDf, df_temp['player_type']], axis=1)\n",
    "principalDf.head(10)"
   ]
  },
  {
   "cell_type": "code",
   "execution_count": 335,
   "metadata": {},
   "outputs": [],
   "source": [
    "# loadings = pd.DataFrame(pca.components_.T, columns=['PC1', 'PC2', 'PC3', 'PC4', 'PC5', 'PC6', 'PC7', 'PC8', 'PC9', 'PCA10'], index=feature1)\n",
    "# pd.set_option('display.max_rows', None)\n",
    "# loadings"
   ]
  },
  {
   "cell_type": "code",
   "execution_count": 336,
   "metadata": {},
   "outputs": [
    {
     "data": {
      "text/plain": [
       "370.34999999999997"
      ]
     },
     "execution_count": 336,
     "metadata": {},
     "output_type": "execute_result"
    }
   ],
   "source": [
    "df['Calc A2_n1'].quantile(0.9)"
   ]
  },
  {
   "cell_type": "code",
   "execution_count": 337,
   "metadata": {},
   "outputs": [
    {
     "data": {
      "text/plain": [
       "array([[<Axes: title={'center': 'Calc A2_n1'}>]], dtype=object)"
      ]
     },
     "execution_count": 337,
     "metadata": {},
     "output_type": "execute_result"
    },
    {
     "data": {
      "image/png": "[encoded data removed]",
      "text/plain": [
       "<Figure size 640x480 with 1 Axes>"
      ]
     },
     "metadata": {},
     "output_type": "display_data"
    }
   ],
   "source": [
    "df.hist('Calc A2_n1', bins=30)"
   ]
  },
  {
   "cell_type": "code",
   "execution_count": 338,
   "metadata": {},
   "outputs": [
    {
     "name": "stderr",
     "output_type": "stream",
     "text": [
      "/opt/anaconda3/lib/python3.11/site-packages/sklearn/ensemble/_gb.py:437: DataConversionWarning: A column-vector y was passed when a 1d array was expected. Please change the shape of y to (n_samples, ), for example using ravel().\n",
      "  y = column_or_1d(y, warn=True)\n"
     ]
    },
    {
     "name": "stdout",
     "output_type": "stream",
     "text": [
      "['player_type', 'bpm']\n",
      "Accuracy:  66.39511201629328\n"
     ]
    },
    {
     "name": "stderr",
     "output_type": "stream",
     "text": [
      "/opt/anaconda3/lib/python3.11/site-packages/sklearn/ensemble/_gb.py:437: DataConversionWarning: A column-vector y was passed when a 1d array was expected. Please change the shape of y to (n_samples, ), for example using ravel().\n",
      "  y = column_or_1d(y, warn=True)\n"
     ]
    },
    {
     "name": "stdout",
     "output_type": "stream",
     "text": [
      "['player_type', 'Calc A2']\n",
      "Accuracy:  69.34826883910387\n"
     ]
    },
    {
     "name": "stderr",
     "output_type": "stream",
     "text": [
      "/opt/anaconda3/lib/python3.11/site-packages/sklearn/ensemble/_gb.py:437: DataConversionWarning: A column-vector y was passed when a 1d array was expected. Please change the shape of y to (n_samples, ), for example using ravel().\n",
      "  y = column_or_1d(y, warn=True)\n"
     ]
    },
    {
     "name": "stdout",
     "output_type": "stream",
     "text": [
      "['player_type', 'ws']\n",
      "Accuracy:  61.608961303462316\n"
     ]
    },
    {
     "name": "stderr",
     "output_type": "stream",
     "text": [
      "/opt/anaconda3/lib/python3.11/site-packages/sklearn/ensemble/_gb.py:437: DataConversionWarning: A column-vector y was passed when a 1d array was expected. Please change the shape of y to (n_samples, ), for example using ravel().\n",
      "  y = column_or_1d(y, warn=True)\n"
     ]
    },
    {
     "name": "stdout",
     "output_type": "stream",
     "text": [
      "['player_type', 'dws']\n",
      "Accuracy:  60.38696537678207\n"
     ]
    },
    {
     "name": "stderr",
     "output_type": "stream",
     "text": [
      "/opt/anaconda3/lib/python3.11/site-packages/sklearn/ensemble/_gb.py:437: DataConversionWarning: A column-vector y was passed when a 1d array was expected. Please change the shape of y to (n_samples, ), for example using ravel().\n",
      "  y = column_or_1d(y, warn=True)\n"
     ]
    },
    {
     "name": "stdout",
     "output_type": "stream",
     "text": [
      "['player_type', 'ows']\n",
      "Accuracy:  60.79429735234216\n"
     ]
    },
    {
     "name": "stderr",
     "output_type": "stream",
     "text": [
      "/opt/anaconda3/lib/python3.11/site-packages/sklearn/ensemble/_gb.py:437: DataConversionWarning: A column-vector y was passed when a 1d array was expected. Please change the shape of y to (n_samples, ), for example using ravel().\n",
      "  y = column_or_1d(y, warn=True)\n"
     ]
    },
    {
     "name": "stdout",
     "output_type": "stream",
     "text": [
      "['player_type', 'Calc Overall']\n",
      "Accuracy:  58.85947046843177\n"
     ]
    },
    {
     "name": "stderr",
     "output_type": "stream",
     "text": [
      "/opt/anaconda3/lib/python3.11/site-packages/sklearn/ensemble/_gb.py:437: DataConversionWarning: A column-vector y was passed when a 1d array was expected. Please change the shape of y to (n_samples, ), for example using ravel().\n",
      "  y = column_or_1d(y, warn=True)\n"
     ]
    },
    {
     "name": "stdout",
     "output_type": "stream",
     "text": [
      "['player_type', 'KP_Conf_Dif']\n",
      "Accuracy:  61.20162932790224\n"
     ]
    },
    {
     "name": "stderr",
     "output_type": "stream",
     "text": [
      "/opt/anaconda3/lib/python3.11/site-packages/sklearn/ensemble/_gb.py:437: DataConversionWarning: A column-vector y was passed when a 1d array was expected. Please change the shape of y to (n_samples, ), for example using ravel().\n",
      "  y = column_or_1d(y, warn=True)\n"
     ]
    },
    {
     "name": "stdout",
     "output_type": "stream",
     "text": [
      "['player_type', 'X.Poss']\n",
      "Accuracy:  60.59063136456212\n"
     ]
    },
    {
     "name": "stderr",
     "output_type": "stream",
     "text": [
      "/opt/anaconda3/lib/python3.11/site-packages/sklearn/ensemble/_gb.py:437: DataConversionWarning: A column-vector y was passed when a 1d array was expected. Please change the shape of y to (n_samples, ), for example using ravel().\n",
      "  y = column_or_1d(y, warn=True)\n"
     ]
    },
    {
     "name": "stdout",
     "output_type": "stream",
     "text": [
      "['player_type', 'Year_dif']\n",
      "Accuracy:  60.896130346232184\n"
     ]
    },
    {
     "name": "stderr",
     "output_type": "stream",
     "text": [
      "/opt/anaconda3/lib/python3.11/site-packages/sklearn/ensemble/_gb.py:437: DataConversionWarning: A column-vector y was passed when a 1d array was expected. Please change the shape of y to (n_samples, ), for example using ravel().\n",
      "  y = column_or_1d(y, warn=True)\n"
     ]
    },
    {
     "name": "stdout",
     "output_type": "stream",
     "text": [
      "['player_type', 'Calc A']\n",
      "Accuracy:  61.5071283095723\n"
     ]
    },
    {
     "name": "stderr",
     "output_type": "stream",
     "text": [
      "/opt/anaconda3/lib/python3.11/site-packages/sklearn/ensemble/_gb.py:437: DataConversionWarning: A column-vector y was passed when a 1d array was expected. Please change the shape of y to (n_samples, ), for example using ravel().\n",
      "  y = column_or_1d(y, warn=True)\n"
     ]
    },
    {
     "name": "stdout",
     "output_type": "stream",
     "text": [
      "['player_type', 'Calc B']\n",
      "Accuracy:  59.47046843177189\n"
     ]
    },
    {
     "name": "stderr",
     "output_type": "stream",
     "text": [
      "/opt/anaconda3/lib/python3.11/site-packages/sklearn/ensemble/_gb.py:437: DataConversionWarning: A column-vector y was passed when a 1d array was expected. Please change the shape of y to (n_samples, ), for example using ravel().\n",
      "  y = column_or_1d(y, warn=True)\n"
     ]
    },
    {
     "name": "stdout",
     "output_type": "stream",
     "text": [
      "['player_type', 'DR.']\n",
      "Accuracy:  60.59063136456212\n"
     ]
    },
    {
     "name": "stderr",
     "output_type": "stream",
     "text": [
      "/opt/anaconda3/lib/python3.11/site-packages/sklearn/ensemble/_gb.py:437: DataConversionWarning: A column-vector y was passed when a 1d array was expected. Please change the shape of y to (n_samples, ), for example using ravel().\n",
      "  y = column_or_1d(y, warn=True)\n"
     ]
    },
    {
     "name": "stdout",
     "output_type": "stream",
     "text": [
      "['player_type', 'Team_AdjEM_dif']\n",
      "Accuracy:  61.099796334012225\n"
     ]
    },
    {
     "name": "stderr",
     "output_type": "stream",
     "text": [
      "/opt/anaconda3/lib/python3.11/site-packages/sklearn/ensemble/_gb.py:437: DataConversionWarning: A column-vector y was passed when a 1d array was expected. Please change the shape of y to (n_samples, ), for example using ravel().\n",
      "  y = column_or_1d(y, warn=True)\n"
     ]
    },
    {
     "name": "stdout",
     "output_type": "stream",
     "text": [
      "['player_type', 'Class']\n",
      "Accuracy:  60.79429735234216\n"
     ]
    },
    {
     "name": "stderr",
     "output_type": "stream",
     "text": [
      "/opt/anaconda3/lib/python3.11/site-packages/sklearn/ensemble/_gb.py:437: DataConversionWarning: A column-vector y was passed when a 1d array was expected. Please change the shape of y to (n_samples, ), for example using ravel().\n",
      "  y = column_or_1d(y, warn=True)\n"
     ]
    },
    {
     "name": "stdout",
     "output_type": "stream",
     "text": [
      "['player_type', 'Pos_Ht']\n",
      "Accuracy:  60.79429735234216\n"
     ]
    },
    {
     "name": "stderr",
     "output_type": "stream",
     "text": [
      "/opt/anaconda3/lib/python3.11/site-packages/sklearn/ensemble/_gb.py:437: DataConversionWarning: A column-vector y was passed when a 1d array was expected. Please change the shape of y to (n_samples, ), for example using ravel().\n",
      "  y = column_or_1d(y, warn=True)\n"
     ]
    },
    {
     "name": "stdout",
     "output_type": "stream",
     "text": [
      "['player_type', 'Calc C']\n",
      "Accuracy:  62.52545824847251\n"
     ]
    },
    {
     "name": "stderr",
     "output_type": "stream",
     "text": [
      "/opt/anaconda3/lib/python3.11/site-packages/sklearn/ensemble/_gb.py:437: DataConversionWarning: A column-vector y was passed when a 1d array was expected. Please change the shape of y to (n_samples, ), for example using ravel().\n",
      "  y = column_or_1d(y, warn=True)\n"
     ]
    },
    {
     "name": "stdout",
     "output_type": "stream",
     "text": [
      "['player_type', 'off_rtg']\n",
      "Accuracy:  60.28513238289206\n"
     ]
    },
    {
     "name": "stderr",
     "output_type": "stream",
     "text": [
      "/opt/anaconda3/lib/python3.11/site-packages/sklearn/ensemble/_gb.py:437: DataConversionWarning: A column-vector y was passed when a 1d array was expected. Please change the shape of y to (n_samples, ), for example using ravel().\n",
      "  y = column_or_1d(y, warn=True)\n"
     ]
    },
    {
     "name": "stdout",
     "output_type": "stream",
     "text": [
      "['player_type', 'def_rtg']\n",
      "Accuracy:  61.91446028513238\n"
     ]
    },
    {
     "name": "stderr",
     "output_type": "stream",
     "text": [
      "/opt/anaconda3/lib/python3.11/site-packages/sklearn/ensemble/_gb.py:437: DataConversionWarning: A column-vector y was passed when a 1d array was expected. Please change the shape of y to (n_samples, ), for example using ravel().\n",
      "  y = column_or_1d(y, warn=True)\n"
     ]
    },
    {
     "name": "stdout",
     "output_type": "stream",
     "text": [
      "['player_type', 'ORtg']\n",
      "Accuracy:  60.4887983706721\n"
     ]
    },
    {
     "name": "stderr",
     "output_type": "stream",
     "text": [
      "/opt/anaconda3/lib/python3.11/site-packages/sklearn/ensemble/_gb.py:437: DataConversionWarning: A column-vector y was passed when a 1d array was expected. Please change the shape of y to (n_samples, ), for example using ravel().\n",
      "  y = column_or_1d(y, warn=True)\n"
     ]
    },
    {
     "name": "stdout",
     "output_type": "stream",
     "text": [
      "['player_type', 'X.Min']\n",
      "Accuracy:  60.4887983706721\n"
     ]
    },
    {
     "name": "stderr",
     "output_type": "stream",
     "text": [
      "/opt/anaconda3/lib/python3.11/site-packages/sklearn/ensemble/_gb.py:437: DataConversionWarning: A column-vector y was passed when a 1d array was expected. Please change the shape of y to (n_samples, ), for example using ravel().\n",
      "  y = column_or_1d(y, warn=True)\n"
     ]
    },
    {
     "name": "stdout",
     "output_type": "stream",
     "text": [
      "['player_type', 'obpm']\n",
      "Accuracy:  62.83095723014257\n"
     ]
    },
    {
     "name": "stderr",
     "output_type": "stream",
     "text": [
      "/opt/anaconda3/lib/python3.11/site-packages/sklearn/ensemble/_gb.py:437: DataConversionWarning: A column-vector y was passed when a 1d array was expected. Please change the shape of y to (n_samples, ), for example using ravel().\n",
      "  y = column_or_1d(y, warn=True)\n"
     ]
    },
    {
     "name": "stdout",
     "output_type": "stream",
     "text": [
      "['player_type', 'dbpm']\n",
      "Accuracy:  64.66395112016293\n",
      "Adding:  Calc A2\n",
      "Rem Columns:  ['bpm', 'Calc A2', 'ws', 'dws', 'ows', 'Calc Overall', 'KP_Conf_Dif', 'X.Poss', 'Year_dif', 'Calc A', 'Calc B', 'DR.', 'Team_AdjEM_dif', 'Class', 'Pos_Ht', 'Calc C', 'off_rtg', 'def_rtg', 'ORtg', 'X.Min', 'obpm', 'dbpm']\n",
      "Accuracy:  69.34826883910387\n",
      "['player_type', 'Calc A2']\n"
     ]
    },
    {
     "name": "stderr",
     "output_type": "stream",
     "text": [
      "/opt/anaconda3/lib/python3.11/site-packages/sklearn/ensemble/_gb.py:437: DataConversionWarning: A column-vector y was passed when a 1d array was expected. Please change the shape of y to (n_samples, ), for example using ravel().\n",
      "  y = column_or_1d(y, warn=True)\n"
     ]
    },
    {
     "name": "stdout",
     "output_type": "stream",
     "text": [
      "['player_type', 'Calc A2', 'bpm']\n",
      "Accuracy:  68.12627291242363\n"
     ]
    },
    {
     "name": "stderr",
     "output_type": "stream",
     "text": [
      "/opt/anaconda3/lib/python3.11/site-packages/sklearn/ensemble/_gb.py:437: DataConversionWarning: A column-vector y was passed when a 1d array was expected. Please change the shape of y to (n_samples, ), for example using ravel().\n",
      "  y = column_or_1d(y, warn=True)\n"
     ]
    },
    {
     "name": "stdout",
     "output_type": "stream",
     "text": [
      "['player_type', 'Calc A2', 'ws']\n",
      "Accuracy:  69.14460285132384\n"
     ]
    },
    {
     "name": "stderr",
     "output_type": "stream",
     "text": [
      "/opt/anaconda3/lib/python3.11/site-packages/sklearn/ensemble/_gb.py:437: DataConversionWarning: A column-vector y was passed when a 1d array was expected. Please change the shape of y to (n_samples, ), for example using ravel().\n",
      "  y = column_or_1d(y, warn=True)\n"
     ]
    },
    {
     "name": "stdout",
     "output_type": "stream",
     "text": [
      "['player_type', 'Calc A2', 'dws']\n",
      "Accuracy:  70.46843177189409\n"
     ]
    },
    {
     "name": "stderr",
     "output_type": "stream",
     "text": [
      "/opt/anaconda3/lib/python3.11/site-packages/sklearn/ensemble/_gb.py:437: DataConversionWarning: A column-vector y was passed when a 1d array was expected. Please change the shape of y to (n_samples, ), for example using ravel().\n",
      "  y = column_or_1d(y, warn=True)\n"
     ]
    },
    {
     "name": "stdout",
     "output_type": "stream",
     "text": [
      "['player_type', 'Calc A2', 'ows']\n",
      "Accuracy:  68.83910386965377\n"
     ]
    },
    {
     "name": "stderr",
     "output_type": "stream",
     "text": [
      "/opt/anaconda3/lib/python3.11/site-packages/sklearn/ensemble/_gb.py:437: DataConversionWarning: A column-vector y was passed when a 1d array was expected. Please change the shape of y to (n_samples, ), for example using ravel().\n",
      "  y = column_or_1d(y, warn=True)\n"
     ]
    },
    {
     "name": "stdout",
     "output_type": "stream",
     "text": [
      "['player_type', 'Calc A2', 'Calc Overall']\n",
      "Accuracy:  70.46843177189409\n"
     ]
    },
    {
     "name": "stderr",
     "output_type": "stream",
     "text": [
      "/opt/anaconda3/lib/python3.11/site-packages/sklearn/ensemble/_gb.py:437: DataConversionWarning: A column-vector y was passed when a 1d array was expected. Please change the shape of y to (n_samples, ), for example using ravel().\n",
      "  y = column_or_1d(y, warn=True)\n"
     ]
    },
    {
     "name": "stdout",
     "output_type": "stream",
     "text": [
      "['player_type', 'Calc A2', 'KP_Conf_Dif']\n",
      "Accuracy:  69.95926680244399\n"
     ]
    },
    {
     "name": "stderr",
     "output_type": "stream",
     "text": [
      "/opt/anaconda3/lib/python3.11/site-packages/sklearn/ensemble/_gb.py:437: DataConversionWarning: A column-vector y was passed when a 1d array was expected. Please change the shape of y to (n_samples, ), for example using ravel().\n",
      "  y = column_or_1d(y, warn=True)\n"
     ]
    },
    {
     "name": "stdout",
     "output_type": "stream",
     "text": [
      "['player_type', 'Calc A2', 'X.Poss']\n",
      "Accuracy:  68.22810590631364\n"
     ]
    },
    {
     "name": "stderr",
     "output_type": "stream",
     "text": [
      "/opt/anaconda3/lib/python3.11/site-packages/sklearn/ensemble/_gb.py:437: DataConversionWarning: A column-vector y was passed when a 1d array was expected. Please change the shape of y to (n_samples, ), for example using ravel().\n",
      "  y = column_or_1d(y, warn=True)\n"
     ]
    },
    {
     "name": "stdout",
     "output_type": "stream",
     "text": [
      "['player_type', 'Calc A2', 'Year_dif']\n",
      "Accuracy:  69.14460285132384\n"
     ]
    },
    {
     "name": "stderr",
     "output_type": "stream",
     "text": [
      "/opt/anaconda3/lib/python3.11/site-packages/sklearn/ensemble/_gb.py:437: DataConversionWarning: A column-vector y was passed when a 1d array was expected. Please change the shape of y to (n_samples, ), for example using ravel().\n",
      "  y = column_or_1d(y, warn=True)\n"
     ]
    },
    {
     "name": "stdout",
     "output_type": "stream",
     "text": [
      "['player_type', 'Calc A2', 'Calc A']\n",
      "Accuracy:  70.67209775967413\n"
     ]
    },
    {
     "name": "stderr",
     "output_type": "stream",
     "text": [
      "/opt/anaconda3/lib/python3.11/site-packages/sklearn/ensemble/_gb.py:437: DataConversionWarning: A column-vector y was passed when a 1d array was expected. Please change the shape of y to (n_samples, ), for example using ravel().\n",
      "  y = column_or_1d(y, warn=True)\n"
     ]
    },
    {
     "name": "stdout",
     "output_type": "stream",
     "text": [
      "['player_type', 'Calc A2', 'Calc B']\n",
      "Accuracy:  70.46843177189409\n"
     ]
    },
    {
     "name": "stderr",
     "output_type": "stream",
     "text": [
      "/opt/anaconda3/lib/python3.11/site-packages/sklearn/ensemble/_gb.py:437: DataConversionWarning: A column-vector y was passed when a 1d array was expected. Please change the shape of y to (n_samples, ), for example using ravel().\n",
      "  y = column_or_1d(y, warn=True)\n"
     ]
    },
    {
     "name": "stdout",
     "output_type": "stream",
     "text": [
      "['player_type', 'Calc A2', 'DR.']\n",
      "Accuracy:  69.04276985743381\n"
     ]
    },
    {
     "name": "stderr",
     "output_type": "stream",
     "text": [
      "/opt/anaconda3/lib/python3.11/site-packages/sklearn/ensemble/_gb.py:437: DataConversionWarning: A column-vector y was passed when a 1d array was expected. Please change the shape of y to (n_samples, ), for example using ravel().\n",
      "  y = column_or_1d(y, warn=True)\n"
     ]
    },
    {
     "name": "stdout",
     "output_type": "stream",
     "text": [
      "['player_type', 'Calc A2', 'Team_AdjEM_dif']\n",
      "Accuracy:  70.46843177189409\n"
     ]
    },
    {
     "name": "stderr",
     "output_type": "stream",
     "text": [
      "/opt/anaconda3/lib/python3.11/site-packages/sklearn/ensemble/_gb.py:437: DataConversionWarning: A column-vector y was passed when a 1d array was expected. Please change the shape of y to (n_samples, ), for example using ravel().\n",
      "  y = column_or_1d(y, warn=True)\n"
     ]
    },
    {
     "name": "stdout",
     "output_type": "stream",
     "text": [
      "['player_type', 'Calc A2', 'Class']\n",
      "Accuracy:  69.04276985743381\n"
     ]
    },
    {
     "name": "stderr",
     "output_type": "stream",
     "text": [
      "/opt/anaconda3/lib/python3.11/site-packages/sklearn/ensemble/_gb.py:437: DataConversionWarning: A column-vector y was passed when a 1d array was expected. Please change the shape of y to (n_samples, ), for example using ravel().\n",
      "  y = column_or_1d(y, warn=True)\n"
     ]
    },
    {
     "name": "stdout",
     "output_type": "stream",
     "text": [
      "['player_type', 'Calc A2', 'Pos_Ht']\n",
      "Accuracy:  69.34826883910387\n"
     ]
    },
    {
     "name": "stderr",
     "output_type": "stream",
     "text": [
      "/opt/anaconda3/lib/python3.11/site-packages/sklearn/ensemble/_gb.py:437: DataConversionWarning: A column-vector y was passed when a 1d array was expected. Please change the shape of y to (n_samples, ), for example using ravel().\n",
      "  y = column_or_1d(y, warn=True)\n"
     ]
    },
    {
     "name": "stdout",
     "output_type": "stream",
     "text": [
      "['player_type', 'Calc A2', 'Calc C']\n",
      "Accuracy:  69.14460285132384\n"
     ]
    },
    {
     "name": "stderr",
     "output_type": "stream",
     "text": [
      "/opt/anaconda3/lib/python3.11/site-packages/sklearn/ensemble/_gb.py:437: DataConversionWarning: A column-vector y was passed when a 1d array was expected. Please change the shape of y to (n_samples, ), for example using ravel().\n",
      "  y = column_or_1d(y, warn=True)\n"
     ]
    },
    {
     "name": "stdout",
     "output_type": "stream",
     "text": [
      "['player_type', 'Calc A2', 'off_rtg']\n",
      "Accuracy:  69.85743380855396\n"
     ]
    },
    {
     "name": "stderr",
     "output_type": "stream",
     "text": [
      "/opt/anaconda3/lib/python3.11/site-packages/sklearn/ensemble/_gb.py:437: DataConversionWarning: A column-vector y was passed when a 1d array was expected. Please change the shape of y to (n_samples, ), for example using ravel().\n",
      "  y = column_or_1d(y, warn=True)\n"
     ]
    },
    {
     "name": "stdout",
     "output_type": "stream",
     "text": [
      "['player_type', 'Calc A2', 'def_rtg']\n",
      "Accuracy:  69.4501018329939\n"
     ]
    },
    {
     "name": "stderr",
     "output_type": "stream",
     "text": [
      "/opt/anaconda3/lib/python3.11/site-packages/sklearn/ensemble/_gb.py:437: DataConversionWarning: A column-vector y was passed when a 1d array was expected. Please change the shape of y to (n_samples, ), for example using ravel().\n",
      "  y = column_or_1d(y, warn=True)\n"
     ]
    },
    {
     "name": "stdout",
     "output_type": "stream",
     "text": [
      "['player_type', 'Calc A2', 'ORtg']\n",
      "Accuracy:  69.85743380855396\n"
     ]
    },
    {
     "name": "stderr",
     "output_type": "stream",
     "text": [
      "/opt/anaconda3/lib/python3.11/site-packages/sklearn/ensemble/_gb.py:437: DataConversionWarning: A column-vector y was passed when a 1d array was expected. Please change the shape of y to (n_samples, ), for example using ravel().\n",
      "  y = column_or_1d(y, warn=True)\n"
     ]
    },
    {
     "name": "stdout",
     "output_type": "stream",
     "text": [
      "['player_type', 'Calc A2', 'X.Min']\n",
      "Accuracy:  69.24643584521385\n"
     ]
    },
    {
     "name": "stderr",
     "output_type": "stream",
     "text": [
      "/opt/anaconda3/lib/python3.11/site-packages/sklearn/ensemble/_gb.py:437: DataConversionWarning: A column-vector y was passed when a 1d array was expected. Please change the shape of y to (n_samples, ), for example using ravel().\n",
      "  y = column_or_1d(y, warn=True)\n"
     ]
    },
    {
     "name": "stdout",
     "output_type": "stream",
     "text": [
      "['player_type', 'Calc A2', 'obpm']\n",
      "Accuracy:  68.73727087576374\n"
     ]
    },
    {
     "name": "stderr",
     "output_type": "stream",
     "text": [
      "/opt/anaconda3/lib/python3.11/site-packages/sklearn/ensemble/_gb.py:437: DataConversionWarning: A column-vector y was passed when a 1d array was expected. Please change the shape of y to (n_samples, ), for example using ravel().\n",
      "  y = column_or_1d(y, warn=True)\n"
     ]
    },
    {
     "name": "stdout",
     "output_type": "stream",
     "text": [
      "['player_type', 'Calc A2', 'dbpm']\n",
      "Accuracy:  69.95926680244399\n",
      "Adding:  Calc A\n",
      "Rem Columns:  ['bpm', 'ws', 'dws', 'ows', 'Calc Overall', 'KP_Conf_Dif', 'X.Poss', 'Year_dif', 'Calc A', 'Calc B', 'DR.', 'Team_AdjEM_dif', 'Class', 'Pos_Ht', 'Calc C', 'off_rtg', 'def_rtg', 'ORtg', 'X.Min', 'obpm', 'dbpm']\n",
      "Accuracy:  70.67209775967413\n",
      "['player_type', 'Calc A2', 'Calc A']\n"
     ]
    },
    {
     "name": "stderr",
     "output_type": "stream",
     "text": [
      "/opt/anaconda3/lib/python3.11/site-packages/sklearn/ensemble/_gb.py:437: DataConversionWarning: A column-vector y was passed when a 1d array was expected. Please change the shape of y to (n_samples, ), for example using ravel().\n",
      "  y = column_or_1d(y, warn=True)\n"
     ]
    },
    {
     "name": "stdout",
     "output_type": "stream",
     "text": [
      "['player_type', 'Calc A2', 'Calc A', 'bpm']\n",
      "Accuracy:  69.24643584521385\n"
     ]
    },
    {
     "name": "stderr",
     "output_type": "stream",
     "text": [
      "/opt/anaconda3/lib/python3.11/site-packages/sklearn/ensemble/_gb.py:437: DataConversionWarning: A column-vector y was passed when a 1d array was expected. Please change the shape of y to (n_samples, ), for example using ravel().\n",
      "  y = column_or_1d(y, warn=True)\n"
     ]
    },
    {
     "name": "stdout",
     "output_type": "stream",
     "text": [
      "['player_type', 'Calc A2', 'Calc A', 'ws']\n",
      "Accuracy:  69.75560081466395\n"
     ]
    },
    {
     "name": "stderr",
     "output_type": "stream",
     "text": [
      "/opt/anaconda3/lib/python3.11/site-packages/sklearn/ensemble/_gb.py:437: DataConversionWarning: A column-vector y was passed when a 1d array was expected. Please change the shape of y to (n_samples, ), for example using ravel().\n",
      "  y = column_or_1d(y, warn=True)\n"
     ]
    },
    {
     "name": "stdout",
     "output_type": "stream",
     "text": [
      "['player_type', 'Calc A2', 'Calc A', 'dws']\n",
      "Accuracy:  71.18126272912424\n"
     ]
    },
    {
     "name": "stderr",
     "output_type": "stream",
     "text": [
      "/opt/anaconda3/lib/python3.11/site-packages/sklearn/ensemble/_gb.py:437: DataConversionWarning: A column-vector y was passed when a 1d array was expected. Please change the shape of y to (n_samples, ), for example using ravel().\n",
      "  y = column_or_1d(y, warn=True)\n"
     ]
    },
    {
     "name": "stdout",
     "output_type": "stream",
     "text": [
      "['player_type', 'Calc A2', 'Calc A', 'ows']\n",
      "Accuracy:  69.95926680244399\n"
     ]
    },
    {
     "name": "stderr",
     "output_type": "stream",
     "text": [
      "/opt/anaconda3/lib/python3.11/site-packages/sklearn/ensemble/_gb.py:437: DataConversionWarning: A column-vector y was passed when a 1d array was expected. Please change the shape of y to (n_samples, ), for example using ravel().\n",
      "  y = column_or_1d(y, warn=True)\n"
     ]
    },
    {
     "name": "stdout",
     "output_type": "stream",
     "text": [
      "['player_type', 'Calc A2', 'Calc A', 'Calc Overall']\n",
      "Accuracy:  69.14460285132384\n"
     ]
    },
    {
     "name": "stderr",
     "output_type": "stream",
     "text": [
      "/opt/anaconda3/lib/python3.11/site-packages/sklearn/ensemble/_gb.py:437: DataConversionWarning: A column-vector y was passed when a 1d array was expected. Please change the shape of y to (n_samples, ), for example using ravel().\n",
      "  y = column_or_1d(y, warn=True)\n"
     ]
    },
    {
     "name": "stdout",
     "output_type": "stream",
     "text": [
      "['player_type', 'Calc A2', 'Calc A', 'KP_Conf_Dif']\n",
      "Accuracy:  70.26476578411406\n"
     ]
    },
    {
     "name": "stderr",
     "output_type": "stream",
     "text": [
      "/opt/anaconda3/lib/python3.11/site-packages/sklearn/ensemble/_gb.py:437: DataConversionWarning: A column-vector y was passed when a 1d array was expected. Please change the shape of y to (n_samples, ), for example using ravel().\n",
      "  y = column_or_1d(y, warn=True)\n"
     ]
    },
    {
     "name": "stdout",
     "output_type": "stream",
     "text": [
      "['player_type', 'Calc A2', 'Calc A', 'X.Poss']\n",
      "Accuracy:  69.95926680244399\n"
     ]
    },
    {
     "name": "stderr",
     "output_type": "stream",
     "text": [
      "/opt/anaconda3/lib/python3.11/site-packages/sklearn/ensemble/_gb.py:437: DataConversionWarning: A column-vector y was passed when a 1d array was expected. Please change the shape of y to (n_samples, ), for example using ravel().\n",
      "  y = column_or_1d(y, warn=True)\n"
     ]
    },
    {
     "name": "stdout",
     "output_type": "stream",
     "text": [
      "['player_type', 'Calc A2', 'Calc A', 'Year_dif']\n",
      "Accuracy:  70.36659877800408\n"
     ]
    },
    {
     "name": "stderr",
     "output_type": "stream",
     "text": [
      "/opt/anaconda3/lib/python3.11/site-packages/sklearn/ensemble/_gb.py:437: DataConversionWarning: A column-vector y was passed when a 1d array was expected. Please change the shape of y to (n_samples, ), for example using ravel().\n",
      "  y = column_or_1d(y, warn=True)\n"
     ]
    },
    {
     "name": "stdout",
     "output_type": "stream",
     "text": [
      "['player_type', 'Calc A2', 'Calc A', 'Calc B']\n",
      "Accuracy:  70.36659877800408\n"
     ]
    },
    {
     "name": "stderr",
     "output_type": "stream",
     "text": [
      "/opt/anaconda3/lib/python3.11/site-packages/sklearn/ensemble/_gb.py:437: DataConversionWarning: A column-vector y was passed when a 1d array was expected. Please change the shape of y to (n_samples, ), for example using ravel().\n",
      "  y = column_or_1d(y, warn=True)\n"
     ]
    },
    {
     "name": "stdout",
     "output_type": "stream",
     "text": [
      "['player_type', 'Calc A2', 'Calc A', 'DR.']\n",
      "Accuracy:  69.65376782077392\n"
     ]
    },
    {
     "name": "stderr",
     "output_type": "stream",
     "text": [
      "/opt/anaconda3/lib/python3.11/site-packages/sklearn/ensemble/_gb.py:437: DataConversionWarning: A column-vector y was passed when a 1d array was expected. Please change the shape of y to (n_samples, ), for example using ravel().\n",
      "  y = column_or_1d(y, warn=True)\n"
     ]
    },
    {
     "name": "stdout",
     "output_type": "stream",
     "text": [
      "['player_type', 'Calc A2', 'Calc A', 'Team_AdjEM_dif']\n",
      "Accuracy:  69.95926680244399\n"
     ]
    },
    {
     "name": "stderr",
     "output_type": "stream",
     "text": [
      "/opt/anaconda3/lib/python3.11/site-packages/sklearn/ensemble/_gb.py:437: DataConversionWarning: A column-vector y was passed when a 1d array was expected. Please change the shape of y to (n_samples, ), for example using ravel().\n",
      "  y = column_or_1d(y, warn=True)\n"
     ]
    },
    {
     "name": "stdout",
     "output_type": "stream",
     "text": [
      "['player_type', 'Calc A2', 'Calc A', 'Class']\n",
      "Accuracy:  69.4501018329939\n"
     ]
    },
    {
     "name": "stderr",
     "output_type": "stream",
     "text": [
      "/opt/anaconda3/lib/python3.11/site-packages/sklearn/ensemble/_gb.py:437: DataConversionWarning: A column-vector y was passed when a 1d array was expected. Please change the shape of y to (n_samples, ), for example using ravel().\n",
      "  y = column_or_1d(y, warn=True)\n"
     ]
    },
    {
     "name": "stdout",
     "output_type": "stream",
     "text": [
      "['player_type', 'Calc A2', 'Calc A', 'Pos_Ht']\n",
      "Accuracy:  69.65376782077392\n"
     ]
    },
    {
     "name": "stderr",
     "output_type": "stream",
     "text": [
      "/opt/anaconda3/lib/python3.11/site-packages/sklearn/ensemble/_gb.py:437: DataConversionWarning: A column-vector y was passed when a 1d array was expected. Please change the shape of y to (n_samples, ), for example using ravel().\n",
      "  y = column_or_1d(y, warn=True)\n"
     ]
    },
    {
     "name": "stdout",
     "output_type": "stream",
     "text": [
      "['player_type', 'Calc A2', 'Calc A', 'Calc C']\n",
      "Accuracy:  69.34826883910387\n"
     ]
    },
    {
     "name": "stderr",
     "output_type": "stream",
     "text": [
      "/opt/anaconda3/lib/python3.11/site-packages/sklearn/ensemble/_gb.py:437: DataConversionWarning: A column-vector y was passed when a 1d array was expected. Please change the shape of y to (n_samples, ), for example using ravel().\n",
      "  y = column_or_1d(y, warn=True)\n"
     ]
    },
    {
     "name": "stdout",
     "output_type": "stream",
     "text": [
      "['player_type', 'Calc A2', 'Calc A', 'off_rtg']\n",
      "Accuracy:  69.04276985743381\n"
     ]
    },
    {
     "name": "stderr",
     "output_type": "stream",
     "text": [
      "/opt/anaconda3/lib/python3.11/site-packages/sklearn/ensemble/_gb.py:437: DataConversionWarning: A column-vector y was passed when a 1d array was expected. Please change the shape of y to (n_samples, ), for example using ravel().\n",
      "  y = column_or_1d(y, warn=True)\n"
     ]
    },
    {
     "name": "stdout",
     "output_type": "stream",
     "text": [
      "['player_type', 'Calc A2', 'Calc A', 'def_rtg']\n",
      "Accuracy:  70.36659877800408\n"
     ]
    },
    {
     "name": "stderr",
     "output_type": "stream",
     "text": [
      "/opt/anaconda3/lib/python3.11/site-packages/sklearn/ensemble/_gb.py:437: DataConversionWarning: A column-vector y was passed when a 1d array was expected. Please change the shape of y to (n_samples, ), for example using ravel().\n",
      "  y = column_or_1d(y, warn=True)\n"
     ]
    },
    {
     "name": "stdout",
     "output_type": "stream",
     "text": [
      "['player_type', 'Calc A2', 'Calc A', 'ORtg']\n",
      "Accuracy:  69.85743380855396\n"
     ]
    },
    {
     "name": "stderr",
     "output_type": "stream",
     "text": [
      "/opt/anaconda3/lib/python3.11/site-packages/sklearn/ensemble/_gb.py:437: DataConversionWarning: A column-vector y was passed when a 1d array was expected. Please change the shape of y to (n_samples, ), for example using ravel().\n",
      "  y = column_or_1d(y, warn=True)\n"
     ]
    },
    {
     "name": "stdout",
     "output_type": "stream",
     "text": [
      "['player_type', 'Calc A2', 'Calc A', 'X.Min']\n",
      "Accuracy:  70.57026476578412\n"
     ]
    },
    {
     "name": "stderr",
     "output_type": "stream",
     "text": [
      "/opt/anaconda3/lib/python3.11/site-packages/sklearn/ensemble/_gb.py:437: DataConversionWarning: A column-vector y was passed when a 1d array was expected. Please change the shape of y to (n_samples, ), for example using ravel().\n",
      "  y = column_or_1d(y, warn=True)\n"
     ]
    },
    {
     "name": "stdout",
     "output_type": "stream",
     "text": [
      "['player_type', 'Calc A2', 'Calc A', 'obpm']\n",
      "Accuracy:  68.83910386965377\n"
     ]
    },
    {
     "name": "stderr",
     "output_type": "stream",
     "text": [
      "/opt/anaconda3/lib/python3.11/site-packages/sklearn/ensemble/_gb.py:437: DataConversionWarning: A column-vector y was passed when a 1d array was expected. Please change the shape of y to (n_samples, ), for example using ravel().\n",
      "  y = column_or_1d(y, warn=True)\n"
     ]
    },
    {
     "name": "stdout",
     "output_type": "stream",
     "text": [
      "['player_type', 'Calc A2', 'Calc A', 'dbpm']\n",
      "Accuracy:  69.85743380855396\n",
      "Adding:  dws\n",
      "Rem Columns:  ['bpm', 'ws', 'dws', 'ows', 'Calc Overall', 'KP_Conf_Dif', 'X.Poss', 'Year_dif', 'Calc B', 'DR.', 'Team_AdjEM_dif', 'Class', 'Pos_Ht', 'Calc C', 'off_rtg', 'def_rtg', 'ORtg', 'X.Min', 'obpm', 'dbpm']\n",
      "Accuracy:  71.18126272912424\n",
      "['player_type', 'Calc A2', 'Calc A', 'dws']\n"
     ]
    },
    {
     "name": "stderr",
     "output_type": "stream",
     "text": [
      "/opt/anaconda3/lib/python3.11/site-packages/sklearn/ensemble/_gb.py:437: DataConversionWarning: A column-vector y was passed when a 1d array was expected. Please change the shape of y to (n_samples, ), for example using ravel().\n",
      "  y = column_or_1d(y, warn=True)\n"
     ]
    },
    {
     "name": "stdout",
     "output_type": "stream",
     "text": [
      "['player_type', 'Calc A2', 'Calc A', 'dws', 'bpm']\n",
      "Accuracy:  70.87576374745417\n"
     ]
    },
    {
     "name": "stderr",
     "output_type": "stream",
     "text": [
      "/opt/anaconda3/lib/python3.11/site-packages/sklearn/ensemble/_gb.py:437: DataConversionWarning: A column-vector y was passed when a 1d array was expected. Please change the shape of y to (n_samples, ), for example using ravel().\n",
      "  y = column_or_1d(y, warn=True)\n"
     ]
    },
    {
     "name": "stdout",
     "output_type": "stream",
     "text": [
      "['player_type', 'Calc A2', 'Calc A', 'dws', 'ws']\n",
      "Accuracy:  71.79226069246437\n"
     ]
    },
    {
     "name": "stderr",
     "output_type": "stream",
     "text": [
      "/opt/anaconda3/lib/python3.11/site-packages/sklearn/ensemble/_gb.py:437: DataConversionWarning: A column-vector y was passed when a 1d array was expected. Please change the shape of y to (n_samples, ), for example using ravel().\n",
      "  y = column_or_1d(y, warn=True)\n"
     ]
    },
    {
     "name": "stdout",
     "output_type": "stream",
     "text": [
      "['player_type', 'Calc A2', 'Calc A', 'dws', 'ows']\n",
      "Accuracy:  71.38492871690427\n"
     ]
    },
    {
     "name": "stderr",
     "output_type": "stream",
     "text": [
      "/opt/anaconda3/lib/python3.11/site-packages/sklearn/ensemble/_gb.py:437: DataConversionWarning: A column-vector y was passed when a 1d array was expected. Please change the shape of y to (n_samples, ), for example using ravel().\n",
      "  y = column_or_1d(y, warn=True)\n"
     ]
    },
    {
     "name": "stdout",
     "output_type": "stream",
     "text": [
      "['player_type', 'Calc A2', 'Calc A', 'dws', 'Calc Overall']\n",
      "Accuracy:  70.57026476578412\n"
     ]
    },
    {
     "name": "stderr",
     "output_type": "stream",
     "text": [
      "/opt/anaconda3/lib/python3.11/site-packages/sklearn/ensemble/_gb.py:437: DataConversionWarning: A column-vector y was passed when a 1d array was expected. Please change the shape of y to (n_samples, ), for example using ravel().\n",
      "  y = column_or_1d(y, warn=True)\n"
     ]
    },
    {
     "name": "stdout",
     "output_type": "stream",
     "text": [
      "['player_type', 'Calc A2', 'Calc A', 'dws', 'KP_Conf_Dif']\n",
      "Accuracy:  71.99592668024441\n"
     ]
    },
    {
     "name": "stderr",
     "output_type": "stream",
     "text": [
      "/opt/anaconda3/lib/python3.11/site-packages/sklearn/ensemble/_gb.py:437: DataConversionWarning: A column-vector y was passed when a 1d array was expected. Please change the shape of y to (n_samples, ), for example using ravel().\n",
      "  y = column_or_1d(y, warn=True)\n"
     ]
    },
    {
     "name": "stdout",
     "output_type": "stream",
     "text": [
      "['player_type', 'Calc A2', 'Calc A', 'dws', 'X.Poss']\n",
      "Accuracy:  70.57026476578412\n"
     ]
    },
    {
     "name": "stderr",
     "output_type": "stream",
     "text": [
      "/opt/anaconda3/lib/python3.11/site-packages/sklearn/ensemble/_gb.py:437: DataConversionWarning: A column-vector y was passed when a 1d array was expected. Please change the shape of y to (n_samples, ), for example using ravel().\n",
      "  y = column_or_1d(y, warn=True)\n"
     ]
    },
    {
     "name": "stdout",
     "output_type": "stream",
     "text": [
      "['player_type', 'Calc A2', 'Calc A', 'dws', 'Year_dif']\n",
      "Accuracy:  70.9775967413442\n"
     ]
    },
    {
     "name": "stderr",
     "output_type": "stream",
     "text": [
      "/opt/anaconda3/lib/python3.11/site-packages/sklearn/ensemble/_gb.py:437: DataConversionWarning: A column-vector y was passed when a 1d array was expected. Please change the shape of y to (n_samples, ), for example using ravel().\n",
      "  y = column_or_1d(y, warn=True)\n"
     ]
    },
    {
     "name": "stdout",
     "output_type": "stream",
     "text": [
      "['player_type', 'Calc A2', 'Calc A', 'dws', 'Calc B']\n",
      "Accuracy:  70.67209775967413\n"
     ]
    },
    {
     "name": "stderr",
     "output_type": "stream",
     "text": [
      "/opt/anaconda3/lib/python3.11/site-packages/sklearn/ensemble/_gb.py:437: DataConversionWarning: A column-vector y was passed when a 1d array was expected. Please change the shape of y to (n_samples, ), for example using ravel().\n",
      "  y = column_or_1d(y, warn=True)\n"
     ]
    },
    {
     "name": "stdout",
     "output_type": "stream",
     "text": [
      "['player_type', 'Calc A2', 'Calc A', 'dws', 'DR.']\n",
      "Accuracy:  70.26476578411406\n"
     ]
    },
    {
     "name": "stderr",
     "output_type": "stream",
     "text": [
      "/opt/anaconda3/lib/python3.11/site-packages/sklearn/ensemble/_gb.py:437: DataConversionWarning: A column-vector y was passed when a 1d array was expected. Please change the shape of y to (n_samples, ), for example using ravel().\n",
      "  y = column_or_1d(y, warn=True)\n"
     ]
    },
    {
     "name": "stdout",
     "output_type": "stream",
     "text": [
      "['player_type', 'Calc A2', 'Calc A', 'dws', 'Team_AdjEM_dif']\n",
      "Accuracy:  71.4867617107943\n"
     ]
    },
    {
     "name": "stderr",
     "output_type": "stream",
     "text": [
      "/opt/anaconda3/lib/python3.11/site-packages/sklearn/ensemble/_gb.py:437: DataConversionWarning: A column-vector y was passed when a 1d array was expected. Please change the shape of y to (n_samples, ), for example using ravel().\n",
      "  y = column_or_1d(y, warn=True)\n"
     ]
    },
    {
     "name": "stdout",
     "output_type": "stream",
     "text": [
      "['player_type', 'Calc A2', 'Calc A', 'dws', 'Class']\n",
      "Accuracy:  71.4867617107943\n"
     ]
    },
    {
     "name": "stderr",
     "output_type": "stream",
     "text": [
      "/opt/anaconda3/lib/python3.11/site-packages/sklearn/ensemble/_gb.py:437: DataConversionWarning: A column-vector y was passed when a 1d array was expected. Please change the shape of y to (n_samples, ), for example using ravel().\n",
      "  y = column_or_1d(y, warn=True)\n"
     ]
    },
    {
     "name": "stdout",
     "output_type": "stream",
     "text": [
      "['player_type', 'Calc A2', 'Calc A', 'dws', 'Pos_Ht']\n",
      "Accuracy:  71.38492871690427\n"
     ]
    },
    {
     "name": "stderr",
     "output_type": "stream",
     "text": [
      "/opt/anaconda3/lib/python3.11/site-packages/sklearn/ensemble/_gb.py:437: DataConversionWarning: A column-vector y was passed when a 1d array was expected. Please change the shape of y to (n_samples, ), for example using ravel().\n",
      "  y = column_or_1d(y, warn=True)\n"
     ]
    },
    {
     "name": "stdout",
     "output_type": "stream",
     "text": [
      "['player_type', 'Calc A2', 'Calc A', 'dws', 'Calc C']\n",
      "Accuracy:  71.4867617107943\n"
     ]
    },
    {
     "name": "stderr",
     "output_type": "stream",
     "text": [
      "/opt/anaconda3/lib/python3.11/site-packages/sklearn/ensemble/_gb.py:437: DataConversionWarning: A column-vector y was passed when a 1d array was expected. Please change the shape of y to (n_samples, ), for example using ravel().\n",
      "  y = column_or_1d(y, warn=True)\n"
     ]
    },
    {
     "name": "stdout",
     "output_type": "stream",
     "text": [
      "['player_type', 'Calc A2', 'Calc A', 'dws', 'off_rtg']\n",
      "Accuracy:  70.9775967413442\n"
     ]
    },
    {
     "name": "stderr",
     "output_type": "stream",
     "text": [
      "/opt/anaconda3/lib/python3.11/site-packages/sklearn/ensemble/_gb.py:437: DataConversionWarning: A column-vector y was passed when a 1d array was expected. Please change the shape of y to (n_samples, ), for example using ravel().\n",
      "  y = column_or_1d(y, warn=True)\n"
     ]
    },
    {
     "name": "stdout",
     "output_type": "stream",
     "text": [
      "['player_type', 'Calc A2', 'Calc A', 'dws', 'def_rtg']\n",
      "Accuracy:  69.14460285132384\n"
     ]
    },
    {
     "name": "stderr",
     "output_type": "stream",
     "text": [
      "/opt/anaconda3/lib/python3.11/site-packages/sklearn/ensemble/_gb.py:437: DataConversionWarning: A column-vector y was passed when a 1d array was expected. Please change the shape of y to (n_samples, ), for example using ravel().\n",
      "  y = column_or_1d(y, warn=True)\n"
     ]
    },
    {
     "name": "stdout",
     "output_type": "stream",
     "text": [
      "['player_type', 'Calc A2', 'Calc A', 'dws', 'ORtg']\n",
      "Accuracy:  70.67209775967413\n"
     ]
    },
    {
     "name": "stderr",
     "output_type": "stream",
     "text": [
      "/opt/anaconda3/lib/python3.11/site-packages/sklearn/ensemble/_gb.py:437: DataConversionWarning: A column-vector y was passed when a 1d array was expected. Please change the shape of y to (n_samples, ), for example using ravel().\n",
      "  y = column_or_1d(y, warn=True)\n"
     ]
    },
    {
     "name": "stdout",
     "output_type": "stream",
     "text": [
      "['player_type', 'Calc A2', 'Calc A', 'dws', 'X.Min']\n",
      "Accuracy:  70.87576374745417\n"
     ]
    },
    {
     "name": "stderr",
     "output_type": "stream",
     "text": [
      "/opt/anaconda3/lib/python3.11/site-packages/sklearn/ensemble/_gb.py:437: DataConversionWarning: A column-vector y was passed when a 1d array was expected. Please change the shape of y to (n_samples, ), for example using ravel().\n",
      "  y = column_or_1d(y, warn=True)\n"
     ]
    },
    {
     "name": "stdout",
     "output_type": "stream",
     "text": [
      "['player_type', 'Calc A2', 'Calc A', 'dws', 'obpm']\n",
      "Accuracy:  70.57026476578412\n"
     ]
    },
    {
     "name": "stderr",
     "output_type": "stream",
     "text": [
      "/opt/anaconda3/lib/python3.11/site-packages/sklearn/ensemble/_gb.py:437: DataConversionWarning: A column-vector y was passed when a 1d array was expected. Please change the shape of y to (n_samples, ), for example using ravel().\n",
      "  y = column_or_1d(y, warn=True)\n"
     ]
    },
    {
     "name": "stdout",
     "output_type": "stream",
     "text": [
      "['player_type', 'Calc A2', 'Calc A', 'dws', 'dbpm']\n",
      "Accuracy:  70.36659877800408\n",
      "Adding:  KP_Conf_Dif\n",
      "Rem Columns:  ['bpm', 'ws', 'ows', 'Calc Overall', 'KP_Conf_Dif', 'X.Poss', 'Year_dif', 'Calc B', 'DR.', 'Team_AdjEM_dif', 'Class', 'Pos_Ht', 'Calc C', 'off_rtg', 'def_rtg', 'ORtg', 'X.Min', 'obpm', 'dbpm']\n",
      "Accuracy:  71.99592668024441\n",
      "['player_type', 'Calc A2', 'Calc A', 'dws', 'KP_Conf_Dif']\n"
     ]
    },
    {
     "name": "stderr",
     "output_type": "stream",
     "text": [
      "/opt/anaconda3/lib/python3.11/site-packages/sklearn/ensemble/_gb.py:437: DataConversionWarning: A column-vector y was passed when a 1d array was expected. Please change the shape of y to (n_samples, ), for example using ravel().\n",
      "  y = column_or_1d(y, warn=True)\n"
     ]
    },
    {
     "name": "stdout",
     "output_type": "stream",
     "text": [
      "['player_type', 'Calc A2', 'Calc A', 'dws', 'KP_Conf_Dif', 'bpm']\n",
      "Accuracy:  71.99592668024441\n"
     ]
    },
    {
     "name": "stderr",
     "output_type": "stream",
     "text": [
      "/opt/anaconda3/lib/python3.11/site-packages/sklearn/ensemble/_gb.py:437: DataConversionWarning: A column-vector y was passed when a 1d array was expected. Please change the shape of y to (n_samples, ), for example using ravel().\n",
      "  y = column_or_1d(y, warn=True)\n"
     ]
    },
    {
     "name": "stdout",
     "output_type": "stream",
     "text": [
      "['player_type', 'Calc A2', 'Calc A', 'dws', 'KP_Conf_Dif', 'ws']\n",
      "Accuracy:  72.09775967413442\n"
     ]
    },
    {
     "name": "stderr",
     "output_type": "stream",
     "text": [
      "/opt/anaconda3/lib/python3.11/site-packages/sklearn/ensemble/_gb.py:437: DataConversionWarning: A column-vector y was passed when a 1d array was expected. Please change the shape of y to (n_samples, ), for example using ravel().\n",
      "  y = column_or_1d(y, warn=True)\n"
     ]
    },
    {
     "name": "stdout",
     "output_type": "stream",
     "text": [
      "['player_type', 'Calc A2', 'Calc A', 'dws', 'KP_Conf_Dif', 'ows']\n",
      "Accuracy:  72.09775967413442\n"
     ]
    },
    {
     "name": "stderr",
     "output_type": "stream",
     "text": [
      "/opt/anaconda3/lib/python3.11/site-packages/sklearn/ensemble/_gb.py:437: DataConversionWarning: A column-vector y was passed when a 1d array was expected. Please change the shape of y to (n_samples, ), for example using ravel().\n",
      "  y = column_or_1d(y, warn=True)\n"
     ]
    },
    {
     "name": "stdout",
     "output_type": "stream",
     "text": [
      "['player_type', 'Calc A2', 'Calc A', 'dws', 'KP_Conf_Dif', 'Calc Overall']\n",
      "Accuracy:  71.28309572301426\n"
     ]
    },
    {
     "name": "stderr",
     "output_type": "stream",
     "text": [
      "/opt/anaconda3/lib/python3.11/site-packages/sklearn/ensemble/_gb.py:437: DataConversionWarning: A column-vector y was passed when a 1d array was expected. Please change the shape of y to (n_samples, ), for example using ravel().\n",
      "  y = column_or_1d(y, warn=True)\n"
     ]
    },
    {
     "name": "stdout",
     "output_type": "stream",
     "text": [
      "['player_type', 'Calc A2', 'Calc A', 'dws', 'KP_Conf_Dif', 'X.Poss']\n",
      "Accuracy:  71.89409368635438\n"
     ]
    },
    {
     "name": "stderr",
     "output_type": "stream",
     "text": [
      "/opt/anaconda3/lib/python3.11/site-packages/sklearn/ensemble/_gb.py:437: DataConversionWarning: A column-vector y was passed when a 1d array was expected. Please change the shape of y to (n_samples, ), for example using ravel().\n",
      "  y = column_or_1d(y, warn=True)\n"
     ]
    },
    {
     "name": "stdout",
     "output_type": "stream",
     "text": [
      "['player_type', 'Calc A2', 'Calc A', 'dws', 'KP_Conf_Dif', 'Year_dif']\n",
      "Accuracy:  71.69042769857434\n"
     ]
    },
    {
     "name": "stderr",
     "output_type": "stream",
     "text": [
      "/opt/anaconda3/lib/python3.11/site-packages/sklearn/ensemble/_gb.py:437: DataConversionWarning: A column-vector y was passed when a 1d array was expected. Please change the shape of y to (n_samples, ), for example using ravel().\n",
      "  y = column_or_1d(y, warn=True)\n"
     ]
    },
    {
     "name": "stdout",
     "output_type": "stream",
     "text": [
      "['player_type', 'Calc A2', 'Calc A', 'dws', 'KP_Conf_Dif', 'Calc B']\n",
      "Accuracy:  71.28309572301426\n"
     ]
    },
    {
     "name": "stderr",
     "output_type": "stream",
     "text": [
      "/opt/anaconda3/lib/python3.11/site-packages/sklearn/ensemble/_gb.py:437: DataConversionWarning: A column-vector y was passed when a 1d array was expected. Please change the shape of y to (n_samples, ), for example using ravel().\n",
      "  y = column_or_1d(y, warn=True)\n"
     ]
    },
    {
     "name": "stdout",
     "output_type": "stream",
     "text": [
      "['player_type', 'Calc A2', 'Calc A', 'dws', 'KP_Conf_Dif', 'DR.']\n",
      "Accuracy:  71.28309572301426\n"
     ]
    },
    {
     "name": "stderr",
     "output_type": "stream",
     "text": [
      "/opt/anaconda3/lib/python3.11/site-packages/sklearn/ensemble/_gb.py:437: DataConversionWarning: A column-vector y was passed when a 1d array was expected. Please change the shape of y to (n_samples, ), for example using ravel().\n",
      "  y = column_or_1d(y, warn=True)\n"
     ]
    },
    {
     "name": "stdout",
     "output_type": "stream",
     "text": [
      "['player_type', 'Calc A2', 'Calc A', 'dws', 'KP_Conf_Dif', 'Team_AdjEM_dif']\n",
      "Accuracy:  71.28309572301426\n"
     ]
    },
    {
     "name": "stderr",
     "output_type": "stream",
     "text": [
      "/opt/anaconda3/lib/python3.11/site-packages/sklearn/ensemble/_gb.py:437: DataConversionWarning: A column-vector y was passed when a 1d array was expected. Please change the shape of y to (n_samples, ), for example using ravel().\n",
      "  y = column_or_1d(y, warn=True)\n"
     ]
    },
    {
     "name": "stdout",
     "output_type": "stream",
     "text": [
      "['player_type', 'Calc A2', 'Calc A', 'dws', 'KP_Conf_Dif', 'Class']\n",
      "Accuracy:  71.28309572301426\n"
     ]
    },
    {
     "name": "stderr",
     "output_type": "stream",
     "text": [
      "/opt/anaconda3/lib/python3.11/site-packages/sklearn/ensemble/_gb.py:437: DataConversionWarning: A column-vector y was passed when a 1d array was expected. Please change the shape of y to (n_samples, ), for example using ravel().\n",
      "  y = column_or_1d(y, warn=True)\n"
     ]
    },
    {
     "name": "stdout",
     "output_type": "stream",
     "text": [
      "['player_type', 'Calc A2', 'Calc A', 'dws', 'KP_Conf_Dif', 'Pos_Ht']\n",
      "Accuracy:  71.28309572301426\n"
     ]
    },
    {
     "name": "stderr",
     "output_type": "stream",
     "text": [
      "/opt/anaconda3/lib/python3.11/site-packages/sklearn/ensemble/_gb.py:437: DataConversionWarning: A column-vector y was passed when a 1d array was expected. Please change the shape of y to (n_samples, ), for example using ravel().\n",
      "  y = column_or_1d(y, warn=True)\n"
     ]
    },
    {
     "name": "stdout",
     "output_type": "stream",
     "text": [
      "['player_type', 'Calc A2', 'Calc A', 'dws', 'KP_Conf_Dif', 'Calc C']\n",
      "Accuracy:  72.50509164969449\n"
     ]
    },
    {
     "name": "stderr",
     "output_type": "stream",
     "text": [
      "/opt/anaconda3/lib/python3.11/site-packages/sklearn/ensemble/_gb.py:437: DataConversionWarning: A column-vector y was passed when a 1d array was expected. Please change the shape of y to (n_samples, ), for example using ravel().\n",
      "  y = column_or_1d(y, warn=True)\n"
     ]
    },
    {
     "name": "stdout",
     "output_type": "stream",
     "text": [
      "['player_type', 'Calc A2', 'Calc A', 'dws', 'KP_Conf_Dif', 'off_rtg']\n",
      "Accuracy:  71.58859470468431\n"
     ]
    },
    {
     "name": "stderr",
     "output_type": "stream",
     "text": [
      "/opt/anaconda3/lib/python3.11/site-packages/sklearn/ensemble/_gb.py:437: DataConversionWarning: A column-vector y was passed when a 1d array was expected. Please change the shape of y to (n_samples, ), for example using ravel().\n",
      "  y = column_or_1d(y, warn=True)\n"
     ]
    },
    {
     "name": "stdout",
     "output_type": "stream",
     "text": [
      "['player_type', 'Calc A2', 'Calc A', 'dws', 'KP_Conf_Dif', 'def_rtg']\n",
      "Accuracy:  70.67209775967413\n"
     ]
    },
    {
     "name": "stderr",
     "output_type": "stream",
     "text": [
      "/opt/anaconda3/lib/python3.11/site-packages/sklearn/ensemble/_gb.py:437: DataConversionWarning: A column-vector y was passed when a 1d array was expected. Please change the shape of y to (n_samples, ), for example using ravel().\n",
      "  y = column_or_1d(y, warn=True)\n"
     ]
    },
    {
     "name": "stdout",
     "output_type": "stream",
     "text": [
      "['player_type', 'Calc A2', 'Calc A', 'dws', 'KP_Conf_Dif', 'ORtg']\n",
      "Accuracy:  70.77393075356414\n"
     ]
    },
    {
     "name": "stderr",
     "output_type": "stream",
     "text": [
      "/opt/anaconda3/lib/python3.11/site-packages/sklearn/ensemble/_gb.py:437: DataConversionWarning: A column-vector y was passed when a 1d array was expected. Please change the shape of y to (n_samples, ), for example using ravel().\n",
      "  y = column_or_1d(y, warn=True)\n"
     ]
    },
    {
     "name": "stdout",
     "output_type": "stream",
     "text": [
      "['player_type', 'Calc A2', 'Calc A', 'dws', 'KP_Conf_Dif', 'X.Min']\n",
      "Accuracy:  71.18126272912424\n"
     ]
    },
    {
     "name": "stderr",
     "output_type": "stream",
     "text": [
      "/opt/anaconda3/lib/python3.11/site-packages/sklearn/ensemble/_gb.py:437: DataConversionWarning: A column-vector y was passed when a 1d array was expected. Please change the shape of y to (n_samples, ), for example using ravel().\n",
      "  y = column_or_1d(y, warn=True)\n"
     ]
    },
    {
     "name": "stdout",
     "output_type": "stream",
     "text": [
      "['player_type', 'Calc A2', 'Calc A', 'dws', 'KP_Conf_Dif', 'obpm']\n",
      "Accuracy:  71.58859470468431\n"
     ]
    },
    {
     "name": "stderr",
     "output_type": "stream",
     "text": [
      "/opt/anaconda3/lib/python3.11/site-packages/sklearn/ensemble/_gb.py:437: DataConversionWarning: A column-vector y was passed when a 1d array was expected. Please change the shape of y to (n_samples, ), for example using ravel().\n",
      "  y = column_or_1d(y, warn=True)\n"
     ]
    },
    {
     "name": "stdout",
     "output_type": "stream",
     "text": [
      "['player_type', 'Calc A2', 'Calc A', 'dws', 'KP_Conf_Dif', 'dbpm']\n",
      "Accuracy:  70.57026476578412\n",
      "Adding:  Calc C\n",
      "Rem Columns:  ['bpm', 'ws', 'ows', 'Calc Overall', 'X.Poss', 'Year_dif', 'Calc B', 'DR.', 'Team_AdjEM_dif', 'Class', 'Pos_Ht', 'Calc C', 'off_rtg', 'def_rtg', 'ORtg', 'X.Min', 'obpm', 'dbpm']\n",
      "Accuracy:  72.50509164969449\n",
      "['player_type', 'Calc A2', 'Calc A', 'dws', 'KP_Conf_Dif', 'Calc C']\n"
     ]
    },
    {
     "name": "stderr",
     "output_type": "stream",
     "text": [
      "/opt/anaconda3/lib/python3.11/site-packages/sklearn/ensemble/_gb.py:437: DataConversionWarning: A column-vector y was passed when a 1d array was expected. Please change the shape of y to (n_samples, ), for example using ravel().\n",
      "  y = column_or_1d(y, warn=True)\n"
     ]
    },
    {
     "name": "stdout",
     "output_type": "stream",
     "text": [
      "['player_type', 'Calc A2', 'Calc A', 'dws', 'KP_Conf_Dif', 'Calc C', 'bpm']\n",
      "Accuracy:  72.30142566191446\n"
     ]
    },
    {
     "name": "stderr",
     "output_type": "stream",
     "text": [
      "/opt/anaconda3/lib/python3.11/site-packages/sklearn/ensemble/_gb.py:437: DataConversionWarning: A column-vector y was passed when a 1d array was expected. Please change the shape of y to (n_samples, ), for example using ravel().\n",
      "  y = column_or_1d(y, warn=True)\n"
     ]
    },
    {
     "name": "stdout",
     "output_type": "stream",
     "text": [
      "['player_type', 'Calc A2', 'Calc A', 'dws', 'KP_Conf_Dif', 'Calc C', 'ws']\n",
      "Accuracy:  72.19959266802444\n"
     ]
    },
    {
     "name": "stderr",
     "output_type": "stream",
     "text": [
      "/opt/anaconda3/lib/python3.11/site-packages/sklearn/ensemble/_gb.py:437: DataConversionWarning: A column-vector y was passed when a 1d array was expected. Please change the shape of y to (n_samples, ), for example using ravel().\n",
      "  y = column_or_1d(y, warn=True)\n"
     ]
    },
    {
     "name": "stdout",
     "output_type": "stream",
     "text": [
      "['player_type', 'Calc A2', 'Calc A', 'dws', 'KP_Conf_Dif', 'Calc C', 'ows']\n",
      "Accuracy:  71.79226069246437\n"
     ]
    },
    {
     "name": "stderr",
     "output_type": "stream",
     "text": [
      "/opt/anaconda3/lib/python3.11/site-packages/sklearn/ensemble/_gb.py:437: DataConversionWarning: A column-vector y was passed when a 1d array was expected. Please change the shape of y to (n_samples, ), for example using ravel().\n",
      "  y = column_or_1d(y, warn=True)\n"
     ]
    },
    {
     "name": "stdout",
     "output_type": "stream",
     "text": [
      "['player_type', 'Calc A2', 'Calc A', 'dws', 'KP_Conf_Dif', 'Calc C', 'Calc Overall']\n",
      "Accuracy:  72.19959266802444\n"
     ]
    },
    {
     "name": "stderr",
     "output_type": "stream",
     "text": [
      "/opt/anaconda3/lib/python3.11/site-packages/sklearn/ensemble/_gb.py:437: DataConversionWarning: A column-vector y was passed when a 1d array was expected. Please change the shape of y to (n_samples, ), for example using ravel().\n",
      "  y = column_or_1d(y, warn=True)\n"
     ]
    },
    {
     "name": "stdout",
     "output_type": "stream",
     "text": [
      "['player_type', 'Calc A2', 'Calc A', 'dws', 'KP_Conf_Dif', 'Calc C', 'X.Poss']\n",
      "Accuracy:  71.89409368635438\n"
     ]
    },
    {
     "name": "stderr",
     "output_type": "stream",
     "text": [
      "/opt/anaconda3/lib/python3.11/site-packages/sklearn/ensemble/_gb.py:437: DataConversionWarning: A column-vector y was passed when a 1d array was expected. Please change the shape of y to (n_samples, ), for example using ravel().\n",
      "  y = column_or_1d(y, warn=True)\n"
     ]
    },
    {
     "name": "stdout",
     "output_type": "stream",
     "text": [
      "['player_type', 'Calc A2', 'Calc A', 'dws', 'KP_Conf_Dif', 'Calc C', 'Year_dif']\n",
      "Accuracy:  72.40325865580448\n"
     ]
    },
    {
     "name": "stderr",
     "output_type": "stream",
     "text": [
      "/opt/anaconda3/lib/python3.11/site-packages/sklearn/ensemble/_gb.py:437: DataConversionWarning: A column-vector y was passed when a 1d array was expected. Please change the shape of y to (n_samples, ), for example using ravel().\n",
      "  y = column_or_1d(y, warn=True)\n"
     ]
    },
    {
     "name": "stdout",
     "output_type": "stream",
     "text": [
      "['player_type', 'Calc A2', 'Calc A', 'dws', 'KP_Conf_Dif', 'Calc C', 'Calc B']\n",
      "Accuracy:  72.19959266802444\n"
     ]
    },
    {
     "name": "stderr",
     "output_type": "stream",
     "text": [
      "/opt/anaconda3/lib/python3.11/site-packages/sklearn/ensemble/_gb.py:437: DataConversionWarning: A column-vector y was passed when a 1d array was expected. Please change the shape of y to (n_samples, ), for example using ravel().\n",
      "  y = column_or_1d(y, warn=True)\n"
     ]
    },
    {
     "name": "stdout",
     "output_type": "stream",
     "text": [
      "['player_type', 'Calc A2', 'Calc A', 'dws', 'KP_Conf_Dif', 'Calc C', 'DR.']\n",
      "Accuracy:  71.38492871690427\n"
     ]
    },
    {
     "name": "stderr",
     "output_type": "stream",
     "text": [
      "/opt/anaconda3/lib/python3.11/site-packages/sklearn/ensemble/_gb.py:437: DataConversionWarning: A column-vector y was passed when a 1d array was expected. Please change the shape of y to (n_samples, ), for example using ravel().\n",
      "  y = column_or_1d(y, warn=True)\n"
     ]
    },
    {
     "name": "stdout",
     "output_type": "stream",
     "text": [
      "['player_type', 'Calc A2', 'Calc A', 'dws', 'KP_Conf_Dif', 'Calc C', 'Team_AdjEM_dif']\n",
      "Accuracy:  73.11608961303462\n"
     ]
    },
    {
     "name": "stderr",
     "output_type": "stream",
     "text": [
      "/opt/anaconda3/lib/python3.11/site-packages/sklearn/ensemble/_gb.py:437: DataConversionWarning: A column-vector y was passed when a 1d array was expected. Please change the shape of y to (n_samples, ), for example using ravel().\n",
      "  y = column_or_1d(y, warn=True)\n"
     ]
    },
    {
     "name": "stdout",
     "output_type": "stream",
     "text": [
      "['player_type', 'Calc A2', 'Calc A', 'dws', 'KP_Conf_Dif', 'Calc C', 'Class']\n",
      "Accuracy:  72.40325865580448\n"
     ]
    },
    {
     "name": "stderr",
     "output_type": "stream",
     "text": [
      "/opt/anaconda3/lib/python3.11/site-packages/sklearn/ensemble/_gb.py:437: DataConversionWarning: A column-vector y was passed when a 1d array was expected. Please change the shape of y to (n_samples, ), for example using ravel().\n",
      "  y = column_or_1d(y, warn=True)\n"
     ]
    },
    {
     "name": "stdout",
     "output_type": "stream",
     "text": [
      "['player_type', 'Calc A2', 'Calc A', 'dws', 'KP_Conf_Dif', 'Calc C', 'Pos_Ht']\n",
      "Accuracy:  71.18126272912424\n"
     ]
    },
    {
     "name": "stderr",
     "output_type": "stream",
     "text": [
      "/opt/anaconda3/lib/python3.11/site-packages/sklearn/ensemble/_gb.py:437: DataConversionWarning: A column-vector y was passed when a 1d array was expected. Please change the shape of y to (n_samples, ), for example using ravel().\n",
      "  y = column_or_1d(y, warn=True)\n"
     ]
    },
    {
     "name": "stdout",
     "output_type": "stream",
     "text": [
      "['player_type', 'Calc A2', 'Calc A', 'dws', 'KP_Conf_Dif', 'Calc C', 'off_rtg']\n",
      "Accuracy:  72.19959266802444\n"
     ]
    },
    {
     "name": "stderr",
     "output_type": "stream",
     "text": [
      "/opt/anaconda3/lib/python3.11/site-packages/sklearn/ensemble/_gb.py:437: DataConversionWarning: A column-vector y was passed when a 1d array was expected. Please change the shape of y to (n_samples, ), for example using ravel().\n",
      "  y = column_or_1d(y, warn=True)\n"
     ]
    },
    {
     "name": "stdout",
     "output_type": "stream",
     "text": [
      "['player_type', 'Calc A2', 'Calc A', 'dws', 'KP_Conf_Dif', 'Calc C', 'def_rtg']\n",
      "Accuracy:  70.87576374745417\n"
     ]
    },
    {
     "name": "stderr",
     "output_type": "stream",
     "text": [
      "/opt/anaconda3/lib/python3.11/site-packages/sklearn/ensemble/_gb.py:437: DataConversionWarning: A column-vector y was passed when a 1d array was expected. Please change the shape of y to (n_samples, ), for example using ravel().\n",
      "  y = column_or_1d(y, warn=True)\n"
     ]
    },
    {
     "name": "stdout",
     "output_type": "stream",
     "text": [
      "['player_type', 'Calc A2', 'Calc A', 'dws', 'KP_Conf_Dif', 'Calc C', 'ORtg']\n",
      "Accuracy:  71.79226069246437\n"
     ]
    },
    {
     "name": "stderr",
     "output_type": "stream",
     "text": [
      "/opt/anaconda3/lib/python3.11/site-packages/sklearn/ensemble/_gb.py:437: DataConversionWarning: A column-vector y was passed when a 1d array was expected. Please change the shape of y to (n_samples, ), for example using ravel().\n",
      "  y = column_or_1d(y, warn=True)\n"
     ]
    },
    {
     "name": "stdout",
     "output_type": "stream",
     "text": [
      "['player_type', 'Calc A2', 'Calc A', 'dws', 'KP_Conf_Dif', 'Calc C', 'X.Min']\n",
      "Accuracy:  72.09775967413442\n"
     ]
    },
    {
     "name": "stderr",
     "output_type": "stream",
     "text": [
      "/opt/anaconda3/lib/python3.11/site-packages/sklearn/ensemble/_gb.py:437: DataConversionWarning: A column-vector y was passed when a 1d array was expected. Please change the shape of y to (n_samples, ), for example using ravel().\n",
      "  y = column_or_1d(y, warn=True)\n"
     ]
    },
    {
     "name": "stdout",
     "output_type": "stream",
     "text": [
      "['player_type', 'Calc A2', 'Calc A', 'dws', 'KP_Conf_Dif', 'Calc C', 'obpm']\n",
      "Accuracy:  72.30142566191446\n"
     ]
    },
    {
     "name": "stderr",
     "output_type": "stream",
     "text": [
      "/opt/anaconda3/lib/python3.11/site-packages/sklearn/ensemble/_gb.py:437: DataConversionWarning: A column-vector y was passed when a 1d array was expected. Please change the shape of y to (n_samples, ), for example using ravel().\n",
      "  y = column_or_1d(y, warn=True)\n"
     ]
    },
    {
     "name": "stdout",
     "output_type": "stream",
     "text": [
      "['player_type', 'Calc A2', 'Calc A', 'dws', 'KP_Conf_Dif', 'Calc C', 'dbpm']\n",
      "Accuracy:  71.38492871690427\n",
      "Adding:  Team_AdjEM_dif\n",
      "Rem Columns:  ['bpm', 'ws', 'ows', 'Calc Overall', 'X.Poss', 'Year_dif', 'Calc B', 'DR.', 'Team_AdjEM_dif', 'Class', 'Pos_Ht', 'off_rtg', 'def_rtg', 'ORtg', 'X.Min', 'obpm', 'dbpm']\n",
      "Accuracy:  73.11608961303462\n",
      "['player_type', 'Calc A2', 'Calc A', 'dws', 'KP_Conf_Dif', 'Calc C', 'Team_AdjEM_dif']\n"
     ]
    },
    {
     "name": "stderr",
     "output_type": "stream",
     "text": [
      "/opt/anaconda3/lib/python3.11/site-packages/sklearn/ensemble/_gb.py:437: DataConversionWarning: A column-vector y was passed when a 1d array was expected. Please change the shape of y to (n_samples, ), for example using ravel().\n",
      "  y = column_or_1d(y, warn=True)\n"
     ]
    },
    {
     "name": "stdout",
     "output_type": "stream",
     "text": [
      "['player_type', 'Calc A2', 'Calc A', 'dws', 'KP_Conf_Dif', 'Calc C', 'Team_AdjEM_dif', 'bpm']\n",
      "Accuracy:  72.91242362525459\n"
     ]
    },
    {
     "name": "stderr",
     "output_type": "stream",
     "text": [
      "/opt/anaconda3/lib/python3.11/site-packages/sklearn/ensemble/_gb.py:437: DataConversionWarning: A column-vector y was passed when a 1d array was expected. Please change the shape of y to (n_samples, ), for example using ravel().\n",
      "  y = column_or_1d(y, warn=True)\n"
     ]
    },
    {
     "name": "stdout",
     "output_type": "stream",
     "text": [
      "['player_type', 'Calc A2', 'Calc A', 'dws', 'KP_Conf_Dif', 'Calc C', 'Team_AdjEM_dif', 'ws']\n",
      "Accuracy:  72.50509164969449\n"
     ]
    },
    {
     "name": "stderr",
     "output_type": "stream",
     "text": [
      "/opt/anaconda3/lib/python3.11/site-packages/sklearn/ensemble/_gb.py:437: DataConversionWarning: A column-vector y was passed when a 1d array was expected. Please change the shape of y to (n_samples, ), for example using ravel().\n",
      "  y = column_or_1d(y, warn=True)\n"
     ]
    },
    {
     "name": "stdout",
     "output_type": "stream",
     "text": [
      "['player_type', 'Calc A2', 'Calc A', 'dws', 'KP_Conf_Dif', 'Calc C', 'Team_AdjEM_dif', 'ows']\n",
      "Accuracy:  72.91242362525459\n"
     ]
    },
    {
     "name": "stderr",
     "output_type": "stream",
     "text": [
      "/opt/anaconda3/lib/python3.11/site-packages/sklearn/ensemble/_gb.py:437: DataConversionWarning: A column-vector y was passed when a 1d array was expected. Please change the shape of y to (n_samples, ), for example using ravel().\n",
      "  y = column_or_1d(y, warn=True)\n"
     ]
    },
    {
     "name": "stdout",
     "output_type": "stream",
     "text": [
      "['player_type', 'Calc A2', 'Calc A', 'dws', 'KP_Conf_Dif', 'Calc C', 'Team_AdjEM_dif', 'Calc Overall']\n",
      "Accuracy:  72.60692464358452\n"
     ]
    },
    {
     "name": "stderr",
     "output_type": "stream",
     "text": [
      "/opt/anaconda3/lib/python3.11/site-packages/sklearn/ensemble/_gb.py:437: DataConversionWarning: A column-vector y was passed when a 1d array was expected. Please change the shape of y to (n_samples, ), for example using ravel().\n",
      "  y = column_or_1d(y, warn=True)\n"
     ]
    },
    {
     "name": "stdout",
     "output_type": "stream",
     "text": [
      "['player_type', 'Calc A2', 'Calc A', 'dws', 'KP_Conf_Dif', 'Calc C', 'Team_AdjEM_dif', 'X.Poss']\n",
      "Accuracy:  73.21792260692465\n"
     ]
    },
    {
     "name": "stderr",
     "output_type": "stream",
     "text": [
      "/opt/anaconda3/lib/python3.11/site-packages/sklearn/ensemble/_gb.py:437: DataConversionWarning: A column-vector y was passed when a 1d array was expected. Please change the shape of y to (n_samples, ), for example using ravel().\n",
      "  y = column_or_1d(y, warn=True)\n"
     ]
    },
    {
     "name": "stdout",
     "output_type": "stream",
     "text": [
      "['player_type', 'Calc A2', 'Calc A', 'dws', 'KP_Conf_Dif', 'Calc C', 'Team_AdjEM_dif', 'Year_dif']\n",
      "Accuracy:  73.31975560081466\n"
     ]
    },
    {
     "name": "stderr",
     "output_type": "stream",
     "text": [
      "/opt/anaconda3/lib/python3.11/site-packages/sklearn/ensemble/_gb.py:437: DataConversionWarning: A column-vector y was passed when a 1d array was expected. Please change the shape of y to (n_samples, ), for example using ravel().\n",
      "  y = column_or_1d(y, warn=True)\n"
     ]
    },
    {
     "name": "stdout",
     "output_type": "stream",
     "text": [
      "['player_type', 'Calc A2', 'Calc A', 'dws', 'KP_Conf_Dif', 'Calc C', 'Team_AdjEM_dif', 'Calc B']\n",
      "Accuracy:  72.81059063136456\n"
     ]
    },
    {
     "name": "stderr",
     "output_type": "stream",
     "text": [
      "/opt/anaconda3/lib/python3.11/site-packages/sklearn/ensemble/_gb.py:437: DataConversionWarning: A column-vector y was passed when a 1d array was expected. Please change the shape of y to (n_samples, ), for example using ravel().\n",
      "  y = column_or_1d(y, warn=True)\n"
     ]
    },
    {
     "name": "stdout",
     "output_type": "stream",
     "text": [
      "['player_type', 'Calc A2', 'Calc A', 'dws', 'KP_Conf_Dif', 'Calc C', 'Team_AdjEM_dif', 'DR.']\n",
      "Accuracy:  71.38492871690427\n"
     ]
    },
    {
     "name": "stderr",
     "output_type": "stream",
     "text": [
      "/opt/anaconda3/lib/python3.11/site-packages/sklearn/ensemble/_gb.py:437: DataConversionWarning: A column-vector y was passed when a 1d array was expected. Please change the shape of y to (n_samples, ), for example using ravel().\n",
      "  y = column_or_1d(y, warn=True)\n"
     ]
    },
    {
     "name": "stdout",
     "output_type": "stream",
     "text": [
      "['player_type', 'Calc A2', 'Calc A', 'dws', 'KP_Conf_Dif', 'Calc C', 'Team_AdjEM_dif', 'Class']\n",
      "Accuracy:  73.21792260692465\n"
     ]
    },
    {
     "name": "stderr",
     "output_type": "stream",
     "text": [
      "/opt/anaconda3/lib/python3.11/site-packages/sklearn/ensemble/_gb.py:437: DataConversionWarning: A column-vector y was passed when a 1d array was expected. Please change the shape of y to (n_samples, ), for example using ravel().\n",
      "  y = column_or_1d(y, warn=True)\n"
     ]
    },
    {
     "name": "stdout",
     "output_type": "stream",
     "text": [
      "['player_type', 'Calc A2', 'Calc A', 'dws', 'KP_Conf_Dif', 'Calc C', 'Team_AdjEM_dif', 'Pos_Ht']\n",
      "Accuracy:  71.89409368635438\n"
     ]
    },
    {
     "name": "stderr",
     "output_type": "stream",
     "text": [
      "/opt/anaconda3/lib/python3.11/site-packages/sklearn/ensemble/_gb.py:437: DataConversionWarning: A column-vector y was passed when a 1d array was expected. Please change the shape of y to (n_samples, ), for example using ravel().\n",
      "  y = column_or_1d(y, warn=True)\n"
     ]
    },
    {
     "name": "stdout",
     "output_type": "stream",
     "text": [
      "['player_type', 'Calc A2', 'Calc A', 'dws', 'KP_Conf_Dif', 'Calc C', 'Team_AdjEM_dif', 'off_rtg']\n",
      "Accuracy:  71.99592668024441\n"
     ]
    },
    {
     "name": "stderr",
     "output_type": "stream",
     "text": [
      "/opt/anaconda3/lib/python3.11/site-packages/sklearn/ensemble/_gb.py:437: DataConversionWarning: A column-vector y was passed when a 1d array was expected. Please change the shape of y to (n_samples, ), for example using ravel().\n",
      "  y = column_or_1d(y, warn=True)\n"
     ]
    },
    {
     "name": "stdout",
     "output_type": "stream",
     "text": [
      "['player_type', 'Calc A2', 'Calc A', 'dws', 'KP_Conf_Dif', 'Calc C', 'Team_AdjEM_dif', 'def_rtg']\n",
      "Accuracy:  72.09775967413442\n"
     ]
    },
    {
     "name": "stderr",
     "output_type": "stream",
     "text": [
      "/opt/anaconda3/lib/python3.11/site-packages/sklearn/ensemble/_gb.py:437: DataConversionWarning: A column-vector y was passed when a 1d array was expected. Please change the shape of y to (n_samples, ), for example using ravel().\n",
      "  y = column_or_1d(y, warn=True)\n"
     ]
    },
    {
     "name": "stdout",
     "output_type": "stream",
     "text": [
      "['player_type', 'Calc A2', 'Calc A', 'dws', 'KP_Conf_Dif', 'Calc C', 'Team_AdjEM_dif', 'ORtg']\n",
      "Accuracy:  72.09775967413442\n"
     ]
    },
    {
     "name": "stderr",
     "output_type": "stream",
     "text": [
      "/opt/anaconda3/lib/python3.11/site-packages/sklearn/ensemble/_gb.py:437: DataConversionWarning: A column-vector y was passed when a 1d array was expected. Please change the shape of y to (n_samples, ), for example using ravel().\n",
      "  y = column_or_1d(y, warn=True)\n"
     ]
    },
    {
     "name": "stdout",
     "output_type": "stream",
     "text": [
      "['player_type', 'Calc A2', 'Calc A', 'dws', 'KP_Conf_Dif', 'Calc C', 'Team_AdjEM_dif', 'X.Min']\n",
      "Accuracy:  71.99592668024441\n"
     ]
    },
    {
     "name": "stderr",
     "output_type": "stream",
     "text": [
      "/opt/anaconda3/lib/python3.11/site-packages/sklearn/ensemble/_gb.py:437: DataConversionWarning: A column-vector y was passed when a 1d array was expected. Please change the shape of y to (n_samples, ), for example using ravel().\n",
      "  y = column_or_1d(y, warn=True)\n"
     ]
    },
    {
     "name": "stdout",
     "output_type": "stream",
     "text": [
      "['player_type', 'Calc A2', 'Calc A', 'dws', 'KP_Conf_Dif', 'Calc C', 'Team_AdjEM_dif', 'obpm']\n",
      "Accuracy:  72.81059063136456\n"
     ]
    },
    {
     "name": "stderr",
     "output_type": "stream",
     "text": [
      "/opt/anaconda3/lib/python3.11/site-packages/sklearn/ensemble/_gb.py:437: DataConversionWarning: A column-vector y was passed when a 1d array was expected. Please change the shape of y to (n_samples, ), for example using ravel().\n",
      "  y = column_or_1d(y, warn=True)\n"
     ]
    },
    {
     "name": "stdout",
     "output_type": "stream",
     "text": [
      "['player_type', 'Calc A2', 'Calc A', 'dws', 'KP_Conf_Dif', 'Calc C', 'Team_AdjEM_dif', 'dbpm']\n",
      "Accuracy:  72.09775967413442\n",
      "Adding:  Year_dif\n",
      "Rem Columns:  ['bpm', 'ws', 'ows', 'Calc Overall', 'X.Poss', 'Year_dif', 'Calc B', 'DR.', 'Class', 'Pos_Ht', 'off_rtg', 'def_rtg', 'ORtg', 'X.Min', 'obpm', 'dbpm']\n",
      "Accuracy:  73.31975560081466\n",
      "['player_type', 'Calc A2', 'Calc A', 'dws', 'KP_Conf_Dif', 'Calc C', 'Team_AdjEM_dif', 'Year_dif']\n"
     ]
    },
    {
     "name": "stderr",
     "output_type": "stream",
     "text": [
      "/opt/anaconda3/lib/python3.11/site-packages/sklearn/ensemble/_gb.py:437: DataConversionWarning: A column-vector y was passed when a 1d array was expected. Please change the shape of y to (n_samples, ), for example using ravel().\n",
      "  y = column_or_1d(y, warn=True)\n"
     ]
    },
    {
     "name": "stdout",
     "output_type": "stream",
     "text": [
      "['player_type', 'Calc A2', 'Calc A', 'dws', 'KP_Conf_Dif', 'Calc C', 'Team_AdjEM_dif', 'Year_dif', 'bpm']\n",
      "Accuracy:  73.42158859470469\n"
     ]
    },
    {
     "name": "stderr",
     "output_type": "stream",
     "text": [
      "/opt/anaconda3/lib/python3.11/site-packages/sklearn/ensemble/_gb.py:437: DataConversionWarning: A column-vector y was passed when a 1d array was expected. Please change the shape of y to (n_samples, ), for example using ravel().\n",
      "  y = column_or_1d(y, warn=True)\n"
     ]
    },
    {
     "name": "stdout",
     "output_type": "stream",
     "text": [
      "['player_type', 'Calc A2', 'Calc A', 'dws', 'KP_Conf_Dif', 'Calc C', 'Team_AdjEM_dif', 'Year_dif', 'ws']\n",
      "Accuracy:  72.60692464358452\n"
     ]
    },
    {
     "name": "stderr",
     "output_type": "stream",
     "text": [
      "/opt/anaconda3/lib/python3.11/site-packages/sklearn/ensemble/_gb.py:437: DataConversionWarning: A column-vector y was passed when a 1d array was expected. Please change the shape of y to (n_samples, ), for example using ravel().\n",
      "  y = column_or_1d(y, warn=True)\n"
     ]
    },
    {
     "name": "stdout",
     "output_type": "stream",
     "text": [
      "['player_type', 'Calc A2', 'Calc A', 'dws', 'KP_Conf_Dif', 'Calc C', 'Team_AdjEM_dif', 'Year_dif', 'ows']\n",
      "Accuracy:  73.0142566191446\n"
     ]
    },
    {
     "name": "stderr",
     "output_type": "stream",
     "text": [
      "/opt/anaconda3/lib/python3.11/site-packages/sklearn/ensemble/_gb.py:437: DataConversionWarning: A column-vector y was passed when a 1d array was expected. Please change the shape of y to (n_samples, ), for example using ravel().\n",
      "  y = column_or_1d(y, warn=True)\n"
     ]
    },
    {
     "name": "stdout",
     "output_type": "stream",
     "text": [
      "['player_type', 'Calc A2', 'Calc A', 'dws', 'KP_Conf_Dif', 'Calc C', 'Team_AdjEM_dif', 'Year_dif', 'Calc Overall']\n",
      "Accuracy:  72.40325865580448\n"
     ]
    },
    {
     "name": "stderr",
     "output_type": "stream",
     "text": [
      "/opt/anaconda3/lib/python3.11/site-packages/sklearn/ensemble/_gb.py:437: DataConversionWarning: A column-vector y was passed when a 1d array was expected. Please change the shape of y to (n_samples, ), for example using ravel().\n",
      "  y = column_or_1d(y, warn=True)\n"
     ]
    },
    {
     "name": "stdout",
     "output_type": "stream",
     "text": [
      "['player_type', 'Calc A2', 'Calc A', 'dws', 'KP_Conf_Dif', 'Calc C', 'Team_AdjEM_dif', 'Year_dif', 'X.Poss']\n",
      "Accuracy:  73.31975560081466\n"
     ]
    },
    {
     "name": "stderr",
     "output_type": "stream",
     "text": [
      "/opt/anaconda3/lib/python3.11/site-packages/sklearn/ensemble/_gb.py:437: DataConversionWarning: A column-vector y was passed when a 1d array was expected. Please change the shape of y to (n_samples, ), for example using ravel().\n",
      "  y = column_or_1d(y, warn=True)\n"
     ]
    },
    {
     "name": "stdout",
     "output_type": "stream",
     "text": [
      "['player_type', 'Calc A2', 'Calc A', 'dws', 'KP_Conf_Dif', 'Calc C', 'Team_AdjEM_dif', 'Year_dif', 'Calc B']\n",
      "Accuracy:  72.91242362525459\n"
     ]
    },
    {
     "name": "stderr",
     "output_type": "stream",
     "text": [
      "/opt/anaconda3/lib/python3.11/site-packages/sklearn/ensemble/_gb.py:437: DataConversionWarning: A column-vector y was passed when a 1d array was expected. Please change the shape of y to (n_samples, ), for example using ravel().\n",
      "  y = column_or_1d(y, warn=True)\n"
     ]
    },
    {
     "name": "stdout",
     "output_type": "stream",
     "text": [
      "['player_type', 'Calc A2', 'Calc A', 'dws', 'KP_Conf_Dif', 'Calc C', 'Team_AdjEM_dif', 'Year_dif', 'DR.']\n",
      "Accuracy:  71.99592668024441\n"
     ]
    },
    {
     "name": "stderr",
     "output_type": "stream",
     "text": [
      "/opt/anaconda3/lib/python3.11/site-packages/sklearn/ensemble/_gb.py:437: DataConversionWarning: A column-vector y was passed when a 1d array was expected. Please change the shape of y to (n_samples, ), for example using ravel().\n",
      "  y = column_or_1d(y, warn=True)\n"
     ]
    },
    {
     "name": "stdout",
     "output_type": "stream",
     "text": [
      "['player_type', 'Calc A2', 'Calc A', 'dws', 'KP_Conf_Dif', 'Calc C', 'Team_AdjEM_dif', 'Year_dif', 'Class']\n",
      "Accuracy:  73.21792260692465\n"
     ]
    },
    {
     "name": "stderr",
     "output_type": "stream",
     "text": [
      "/opt/anaconda3/lib/python3.11/site-packages/sklearn/ensemble/_gb.py:437: DataConversionWarning: A column-vector y was passed when a 1d array was expected. Please change the shape of y to (n_samples, ), for example using ravel().\n",
      "  y = column_or_1d(y, warn=True)\n"
     ]
    },
    {
     "name": "stdout",
     "output_type": "stream",
     "text": [
      "['player_type', 'Calc A2', 'Calc A', 'dws', 'KP_Conf_Dif', 'Calc C', 'Team_AdjEM_dif', 'Year_dif', 'Pos_Ht']\n",
      "Accuracy:  72.19959266802444\n"
     ]
    },
    {
     "name": "stderr",
     "output_type": "stream",
     "text": [
      "/opt/anaconda3/lib/python3.11/site-packages/sklearn/ensemble/_gb.py:437: DataConversionWarning: A column-vector y was passed when a 1d array was expected. Please change the shape of y to (n_samples, ), for example using ravel().\n",
      "  y = column_or_1d(y, warn=True)\n"
     ]
    },
    {
     "name": "stdout",
     "output_type": "stream",
     "text": [
      "['player_type', 'Calc A2', 'Calc A', 'dws', 'KP_Conf_Dif', 'Calc C', 'Team_AdjEM_dif', 'Year_dif', 'off_rtg']\n",
      "Accuracy:  71.99592668024441\n"
     ]
    },
    {
     "name": "stderr",
     "output_type": "stream",
     "text": [
      "/opt/anaconda3/lib/python3.11/site-packages/sklearn/ensemble/_gb.py:437: DataConversionWarning: A column-vector y was passed when a 1d array was expected. Please change the shape of y to (n_samples, ), for example using ravel().\n",
      "  y = column_or_1d(y, warn=True)\n"
     ]
    },
    {
     "name": "stdout",
     "output_type": "stream",
     "text": [
      "['player_type', 'Calc A2', 'Calc A', 'dws', 'KP_Conf_Dif', 'Calc C', 'Team_AdjEM_dif', 'Year_dif', 'def_rtg']\n",
      "Accuracy:  72.19959266802444\n"
     ]
    },
    {
     "name": "stderr",
     "output_type": "stream",
     "text": [
      "/opt/anaconda3/lib/python3.11/site-packages/sklearn/ensemble/_gb.py:437: DataConversionWarning: A column-vector y was passed when a 1d array was expected. Please change the shape of y to (n_samples, ), for example using ravel().\n",
      "  y = column_or_1d(y, warn=True)\n"
     ]
    },
    {
     "name": "stdout",
     "output_type": "stream",
     "text": [
      "['player_type', 'Calc A2', 'Calc A', 'dws', 'KP_Conf_Dif', 'Calc C', 'Team_AdjEM_dif', 'Year_dif', 'ORtg']\n",
      "Accuracy:  72.19959266802444\n"
     ]
    },
    {
     "name": "stderr",
     "output_type": "stream",
     "text": [
      "/opt/anaconda3/lib/python3.11/site-packages/sklearn/ensemble/_gb.py:437: DataConversionWarning: A column-vector y was passed when a 1d array was expected. Please change the shape of y to (n_samples, ), for example using ravel().\n",
      "  y = column_or_1d(y, warn=True)\n"
     ]
    },
    {
     "name": "stdout",
     "output_type": "stream",
     "text": [
      "['player_type', 'Calc A2', 'Calc A', 'dws', 'KP_Conf_Dif', 'Calc C', 'Team_AdjEM_dif', 'Year_dif', 'X.Min']\n",
      "Accuracy:  72.30142566191446\n"
     ]
    },
    {
     "name": "stderr",
     "output_type": "stream",
     "text": [
      "/opt/anaconda3/lib/python3.11/site-packages/sklearn/ensemble/_gb.py:437: DataConversionWarning: A column-vector y was passed when a 1d array was expected. Please change the shape of y to (n_samples, ), for example using ravel().\n",
      "  y = column_or_1d(y, warn=True)\n"
     ]
    },
    {
     "name": "stdout",
     "output_type": "stream",
     "text": [
      "['player_type', 'Calc A2', 'Calc A', 'dws', 'KP_Conf_Dif', 'Calc C', 'Team_AdjEM_dif', 'Year_dif', 'obpm']\n",
      "Accuracy:  72.70875763747455\n"
     ]
    },
    {
     "name": "stderr",
     "output_type": "stream",
     "text": [
      "/opt/anaconda3/lib/python3.11/site-packages/sklearn/ensemble/_gb.py:437: DataConversionWarning: A column-vector y was passed when a 1d array was expected. Please change the shape of y to (n_samples, ), for example using ravel().\n",
      "  y = column_or_1d(y, warn=True)\n"
     ]
    },
    {
     "name": "stdout",
     "output_type": "stream",
     "text": [
      "['player_type', 'Calc A2', 'Calc A', 'dws', 'KP_Conf_Dif', 'Calc C', 'Team_AdjEM_dif', 'Year_dif', 'dbpm']\n",
      "Accuracy:  71.89409368635438\n",
      "Adding:  bpm\n",
      "Rem Columns:  ['bpm', 'ws', 'ows', 'Calc Overall', 'X.Poss', 'Calc B', 'DR.', 'Class', 'Pos_Ht', 'off_rtg', 'def_rtg', 'ORtg', 'X.Min', 'obpm', 'dbpm']\n",
      "Accuracy:  73.42158859470469\n",
      "['player_type', 'Calc A2', 'Calc A', 'dws', 'KP_Conf_Dif', 'Calc C', 'Team_AdjEM_dif', 'Year_dif', 'bpm']\n"
     ]
    },
    {
     "name": "stderr",
     "output_type": "stream",
     "text": [
      "/opt/anaconda3/lib/python3.11/site-packages/sklearn/ensemble/_gb.py:437: DataConversionWarning: A column-vector y was passed when a 1d array was expected. Please change the shape of y to (n_samples, ), for example using ravel().\n",
      "  y = column_or_1d(y, warn=True)\n"
     ]
    },
    {
     "name": "stdout",
     "output_type": "stream",
     "text": [
      "['player_type', 'Calc A2', 'Calc A', 'dws', 'KP_Conf_Dif', 'Calc C', 'Team_AdjEM_dif', 'Year_dif', 'bpm', 'ws']\n",
      "Accuracy:  72.91242362525459\n"
     ]
    },
    {
     "name": "stderr",
     "output_type": "stream",
     "text": [
      "/opt/anaconda3/lib/python3.11/site-packages/sklearn/ensemble/_gb.py:437: DataConversionWarning: A column-vector y was passed when a 1d array was expected. Please change the shape of y to (n_samples, ), for example using ravel().\n",
      "  y = column_or_1d(y, warn=True)\n"
     ]
    },
    {
     "name": "stdout",
     "output_type": "stream",
     "text": [
      "['player_type', 'Calc A2', 'Calc A', 'dws', 'KP_Conf_Dif', 'Calc C', 'Team_AdjEM_dif', 'Year_dif', 'bpm', 'ows']\n",
      "Accuracy:  73.11608961303462\n"
     ]
    },
    {
     "name": "stderr",
     "output_type": "stream",
     "text": [
      "/opt/anaconda3/lib/python3.11/site-packages/sklearn/ensemble/_gb.py:437: DataConversionWarning: A column-vector y was passed when a 1d array was expected. Please change the shape of y to (n_samples, ), for example using ravel().\n",
      "  y = column_or_1d(y, warn=True)\n"
     ]
    },
    {
     "name": "stdout",
     "output_type": "stream",
     "text": [
      "['player_type', 'Calc A2', 'Calc A', 'dws', 'KP_Conf_Dif', 'Calc C', 'Team_AdjEM_dif', 'Year_dif', 'bpm', 'Calc Overall']\n",
      "Accuracy:  72.60692464358452\n"
     ]
    },
    {
     "name": "stderr",
     "output_type": "stream",
     "text": [
      "/opt/anaconda3/lib/python3.11/site-packages/sklearn/ensemble/_gb.py:437: DataConversionWarning: A column-vector y was passed when a 1d array was expected. Please change the shape of y to (n_samples, ), for example using ravel().\n",
      "  y = column_or_1d(y, warn=True)\n"
     ]
    },
    {
     "name": "stdout",
     "output_type": "stream",
     "text": [
      "['player_type', 'Calc A2', 'Calc A', 'dws', 'KP_Conf_Dif', 'Calc C', 'Team_AdjEM_dif', 'Year_dif', 'bpm', 'X.Poss']\n",
      "Accuracy:  72.09775967413442\n"
     ]
    },
    {
     "name": "stderr",
     "output_type": "stream",
     "text": [
      "/opt/anaconda3/lib/python3.11/site-packages/sklearn/ensemble/_gb.py:437: DataConversionWarning: A column-vector y was passed when a 1d array was expected. Please change the shape of y to (n_samples, ), for example using ravel().\n",
      "  y = column_or_1d(y, warn=True)\n"
     ]
    },
    {
     "name": "stdout",
     "output_type": "stream",
     "text": [
      "['player_type', 'Calc A2', 'Calc A', 'dws', 'KP_Conf_Dif', 'Calc C', 'Team_AdjEM_dif', 'Year_dif', 'bpm', 'Calc B']\n",
      "Accuracy:  72.09775967413442\n"
     ]
    },
    {
     "name": "stderr",
     "output_type": "stream",
     "text": [
      "/opt/anaconda3/lib/python3.11/site-packages/sklearn/ensemble/_gb.py:437: DataConversionWarning: A column-vector y was passed when a 1d array was expected. Please change the shape of y to (n_samples, ), for example using ravel().\n",
      "  y = column_or_1d(y, warn=True)\n"
     ]
    },
    {
     "name": "stdout",
     "output_type": "stream",
     "text": [
      "['player_type', 'Calc A2', 'Calc A', 'dws', 'KP_Conf_Dif', 'Calc C', 'Team_AdjEM_dif', 'Year_dif', 'bpm', 'DR.']\n",
      "Accuracy:  71.69042769857434\n"
     ]
    },
    {
     "name": "stderr",
     "output_type": "stream",
     "text": [
      "/opt/anaconda3/lib/python3.11/site-packages/sklearn/ensemble/_gb.py:437: DataConversionWarning: A column-vector y was passed when a 1d array was expected. Please change the shape of y to (n_samples, ), for example using ravel().\n",
      "  y = column_or_1d(y, warn=True)\n"
     ]
    },
    {
     "name": "stdout",
     "output_type": "stream",
     "text": [
      "['player_type', 'Calc A2', 'Calc A', 'dws', 'KP_Conf_Dif', 'Calc C', 'Team_AdjEM_dif', 'Year_dif', 'bpm', 'Class']\n",
      "Accuracy:  72.91242362525459\n"
     ]
    },
    {
     "name": "stderr",
     "output_type": "stream",
     "text": [
      "/opt/anaconda3/lib/python3.11/site-packages/sklearn/ensemble/_gb.py:437: DataConversionWarning: A column-vector y was passed when a 1d array was expected. Please change the shape of y to (n_samples, ), for example using ravel().\n",
      "  y = column_or_1d(y, warn=True)\n"
     ]
    },
    {
     "name": "stdout",
     "output_type": "stream",
     "text": [
      "['player_type', 'Calc A2', 'Calc A', 'dws', 'KP_Conf_Dif', 'Calc C', 'Team_AdjEM_dif', 'Year_dif', 'bpm', 'Pos_Ht']\n",
      "Accuracy:  71.69042769857434\n"
     ]
    },
    {
     "name": "stderr",
     "output_type": "stream",
     "text": [
      "/opt/anaconda3/lib/python3.11/site-packages/sklearn/ensemble/_gb.py:437: DataConversionWarning: A column-vector y was passed when a 1d array was expected. Please change the shape of y to (n_samples, ), for example using ravel().\n",
      "  y = column_or_1d(y, warn=True)\n"
     ]
    },
    {
     "name": "stdout",
     "output_type": "stream",
     "text": [
      "['player_type', 'Calc A2', 'Calc A', 'dws', 'KP_Conf_Dif', 'Calc C', 'Team_AdjEM_dif', 'Year_dif', 'bpm', 'off_rtg']\n",
      "Accuracy:  72.60692464358452\n"
     ]
    },
    {
     "name": "stderr",
     "output_type": "stream",
     "text": [
      "/opt/anaconda3/lib/python3.11/site-packages/sklearn/ensemble/_gb.py:437: DataConversionWarning: A column-vector y was passed when a 1d array was expected. Please change the shape of y to (n_samples, ), for example using ravel().\n",
      "  y = column_or_1d(y, warn=True)\n"
     ]
    },
    {
     "name": "stdout",
     "output_type": "stream",
     "text": [
      "['player_type', 'Calc A2', 'Calc A', 'dws', 'KP_Conf_Dif', 'Calc C', 'Team_AdjEM_dif', 'Year_dif', 'bpm', 'def_rtg']\n",
      "Accuracy:  71.28309572301426\n"
     ]
    },
    {
     "name": "stderr",
     "output_type": "stream",
     "text": [
      "/opt/anaconda3/lib/python3.11/site-packages/sklearn/ensemble/_gb.py:437: DataConversionWarning: A column-vector y was passed when a 1d array was expected. Please change the shape of y to (n_samples, ), for example using ravel().\n",
      "  y = column_or_1d(y, warn=True)\n"
     ]
    },
    {
     "name": "stdout",
     "output_type": "stream",
     "text": [
      "['player_type', 'Calc A2', 'Calc A', 'dws', 'KP_Conf_Dif', 'Calc C', 'Team_AdjEM_dif', 'Year_dif', 'bpm', 'ORtg']\n",
      "Accuracy:  72.40325865580448\n"
     ]
    },
    {
     "name": "stderr",
     "output_type": "stream",
     "text": [
      "/opt/anaconda3/lib/python3.11/site-packages/sklearn/ensemble/_gb.py:437: DataConversionWarning: A column-vector y was passed when a 1d array was expected. Please change the shape of y to (n_samples, ), for example using ravel().\n",
      "  y = column_or_1d(y, warn=True)\n"
     ]
    },
    {
     "name": "stdout",
     "output_type": "stream",
     "text": [
      "['player_type', 'Calc A2', 'Calc A', 'dws', 'KP_Conf_Dif', 'Calc C', 'Team_AdjEM_dif', 'Year_dif', 'bpm', 'X.Min']\n",
      "Accuracy:  73.82892057026477\n"
     ]
    },
    {
     "name": "stderr",
     "output_type": "stream",
     "text": [
      "/opt/anaconda3/lib/python3.11/site-packages/sklearn/ensemble/_gb.py:437: DataConversionWarning: A column-vector y was passed when a 1d array was expected. Please change the shape of y to (n_samples, ), for example using ravel().\n",
      "  y = column_or_1d(y, warn=True)\n"
     ]
    },
    {
     "name": "stdout",
     "output_type": "stream",
     "text": [
      "['player_type', 'Calc A2', 'Calc A', 'dws', 'KP_Conf_Dif', 'Calc C', 'Team_AdjEM_dif', 'Year_dif', 'bpm', 'obpm']\n",
      "Accuracy:  72.60692464358452\n"
     ]
    },
    {
     "name": "stderr",
     "output_type": "stream",
     "text": [
      "/opt/anaconda3/lib/python3.11/site-packages/sklearn/ensemble/_gb.py:437: DataConversionWarning: A column-vector y was passed when a 1d array was expected. Please change the shape of y to (n_samples, ), for example using ravel().\n",
      "  y = column_or_1d(y, warn=True)\n"
     ]
    },
    {
     "name": "stdout",
     "output_type": "stream",
     "text": [
      "['player_type', 'Calc A2', 'Calc A', 'dws', 'KP_Conf_Dif', 'Calc C', 'Team_AdjEM_dif', 'Year_dif', 'bpm', 'dbpm']\n",
      "Accuracy:  71.69042769857434\n",
      "Adding:  X.Min\n",
      "Rem Columns:  ['ws', 'ows', 'Calc Overall', 'X.Poss', 'Calc B', 'DR.', 'Class', 'Pos_Ht', 'off_rtg', 'def_rtg', 'ORtg', 'X.Min', 'obpm', 'dbpm']\n",
      "Accuracy:  73.82892057026477\n",
      "['player_type', 'Calc A2', 'Calc A', 'dws', 'KP_Conf_Dif', 'Calc C', 'Team_AdjEM_dif', 'Year_dif', 'bpm', 'X.Min']\n"
     ]
    },
    {
     "name": "stderr",
     "output_type": "stream",
     "text": [
      "/opt/anaconda3/lib/python3.11/site-packages/sklearn/ensemble/_gb.py:437: DataConversionWarning: A column-vector y was passed when a 1d array was expected. Please change the shape of y to (n_samples, ), for example using ravel().\n",
      "  y = column_or_1d(y, warn=True)\n"
     ]
    },
    {
     "name": "stdout",
     "output_type": "stream",
     "text": [
      "['player_type', 'Calc A2', 'Calc A', 'dws', 'KP_Conf_Dif', 'Calc C', 'Team_AdjEM_dif', 'Year_dif', 'bpm', 'X.Min', 'ws']\n",
      "Accuracy:  73.11608961303462\n"
     ]
    },
    {
     "name": "stderr",
     "output_type": "stream",
     "text": [
      "/opt/anaconda3/lib/python3.11/site-packages/sklearn/ensemble/_gb.py:437: DataConversionWarning: A column-vector y was passed when a 1d array was expected. Please change the shape of y to (n_samples, ), for example using ravel().\n",
      "  y = column_or_1d(y, warn=True)\n"
     ]
    },
    {
     "name": "stdout",
     "output_type": "stream",
     "text": [
      "['player_type', 'Calc A2', 'Calc A', 'dws', 'KP_Conf_Dif', 'Calc C', 'Team_AdjEM_dif', 'Year_dif', 'bpm', 'X.Min', 'ows']\n",
      "Accuracy:  73.42158859470469\n"
     ]
    },
    {
     "name": "stderr",
     "output_type": "stream",
     "text": [
      "/opt/anaconda3/lib/python3.11/site-packages/sklearn/ensemble/_gb.py:437: DataConversionWarning: A column-vector y was passed when a 1d array was expected. Please change the shape of y to (n_samples, ), for example using ravel().\n",
      "  y = column_or_1d(y, warn=True)\n"
     ]
    },
    {
     "name": "stdout",
     "output_type": "stream",
     "text": [
      "['player_type', 'Calc A2', 'Calc A', 'dws', 'KP_Conf_Dif', 'Calc C', 'Team_AdjEM_dif', 'Year_dif', 'bpm', 'X.Min', 'Calc Overall']\n",
      "Accuracy:  72.19959266802444\n"
     ]
    },
    {
     "name": "stderr",
     "output_type": "stream",
     "text": [
      "/opt/anaconda3/lib/python3.11/site-packages/sklearn/ensemble/_gb.py:437: DataConversionWarning: A column-vector y was passed when a 1d array was expected. Please change the shape of y to (n_samples, ), for example using ravel().\n",
      "  y = column_or_1d(y, warn=True)\n"
     ]
    },
    {
     "name": "stdout",
     "output_type": "stream",
     "text": [
      "['player_type', 'Calc A2', 'Calc A', 'dws', 'KP_Conf_Dif', 'Calc C', 'Team_AdjEM_dif', 'Year_dif', 'bpm', 'X.Min', 'X.Poss']\n",
      "Accuracy:  72.60692464358452\n"
     ]
    },
    {
     "name": "stderr",
     "output_type": "stream",
     "text": [
      "/opt/anaconda3/lib/python3.11/site-packages/sklearn/ensemble/_gb.py:437: DataConversionWarning: A column-vector y was passed when a 1d array was expected. Please change the shape of y to (n_samples, ), for example using ravel().\n",
      "  y = column_or_1d(y, warn=True)\n"
     ]
    },
    {
     "name": "stdout",
     "output_type": "stream",
     "text": [
      "['player_type', 'Calc A2', 'Calc A', 'dws', 'KP_Conf_Dif', 'Calc C', 'Team_AdjEM_dif', 'Year_dif', 'bpm', 'X.Min', 'Calc B']\n",
      "Accuracy:  72.60692464358452\n"
     ]
    },
    {
     "name": "stderr",
     "output_type": "stream",
     "text": [
      "/opt/anaconda3/lib/python3.11/site-packages/sklearn/ensemble/_gb.py:437: DataConversionWarning: A column-vector y was passed when a 1d array was expected. Please change the shape of y to (n_samples, ), for example using ravel().\n",
      "  y = column_or_1d(y, warn=True)\n"
     ]
    },
    {
     "name": "stdout",
     "output_type": "stream",
     "text": [
      "['player_type', 'Calc A2', 'Calc A', 'dws', 'KP_Conf_Dif', 'Calc C', 'Team_AdjEM_dif', 'Year_dif', 'bpm', 'X.Min', 'DR.']\n",
      "Accuracy:  71.38492871690427\n"
     ]
    },
    {
     "name": "stderr",
     "output_type": "stream",
     "text": [
      "/opt/anaconda3/lib/python3.11/site-packages/sklearn/ensemble/_gb.py:437: DataConversionWarning: A column-vector y was passed when a 1d array was expected. Please change the shape of y to (n_samples, ), for example using ravel().\n",
      "  y = column_or_1d(y, warn=True)\n"
     ]
    },
    {
     "name": "stdout",
     "output_type": "stream",
     "text": [
      "['player_type', 'Calc A2', 'Calc A', 'dws', 'KP_Conf_Dif', 'Calc C', 'Team_AdjEM_dif', 'Year_dif', 'bpm', 'X.Min', 'Class']\n",
      "Accuracy:  73.5234215885947\n"
     ]
    },
    {
     "name": "stderr",
     "output_type": "stream",
     "text": [
      "/opt/anaconda3/lib/python3.11/site-packages/sklearn/ensemble/_gb.py:437: DataConversionWarning: A column-vector y was passed when a 1d array was expected. Please change the shape of y to (n_samples, ), for example using ravel().\n",
      "  y = column_or_1d(y, warn=True)\n"
     ]
    },
    {
     "name": "stdout",
     "output_type": "stream",
     "text": [
      "['player_type', 'Calc A2', 'Calc A', 'dws', 'KP_Conf_Dif', 'Calc C', 'Team_AdjEM_dif', 'Year_dif', 'bpm', 'X.Min', 'Pos_Ht']\n",
      "Accuracy:  71.99592668024441\n"
     ]
    },
    {
     "name": "stderr",
     "output_type": "stream",
     "text": [
      "/opt/anaconda3/lib/python3.11/site-packages/sklearn/ensemble/_gb.py:437: DataConversionWarning: A column-vector y was passed when a 1d array was expected. Please change the shape of y to (n_samples, ), for example using ravel().\n",
      "  y = column_or_1d(y, warn=True)\n"
     ]
    },
    {
     "name": "stdout",
     "output_type": "stream",
     "text": [
      "['player_type', 'Calc A2', 'Calc A', 'dws', 'KP_Conf_Dif', 'Calc C', 'Team_AdjEM_dif', 'Year_dif', 'bpm', 'X.Min', 'off_rtg']\n",
      "Accuracy:  72.40325865580448\n"
     ]
    },
    {
     "name": "stderr",
     "output_type": "stream",
     "text": [
      "/opt/anaconda3/lib/python3.11/site-packages/sklearn/ensemble/_gb.py:437: DataConversionWarning: A column-vector y was passed when a 1d array was expected. Please change the shape of y to (n_samples, ), for example using ravel().\n",
      "  y = column_or_1d(y, warn=True)\n"
     ]
    },
    {
     "name": "stdout",
     "output_type": "stream",
     "text": [
      "['player_type', 'Calc A2', 'Calc A', 'dws', 'KP_Conf_Dif', 'Calc C', 'Team_AdjEM_dif', 'Year_dif', 'bpm', 'X.Min', 'def_rtg']\n",
      "Accuracy:  71.79226069246437\n"
     ]
    },
    {
     "name": "stderr",
     "output_type": "stream",
     "text": [
      "/opt/anaconda3/lib/python3.11/site-packages/sklearn/ensemble/_gb.py:437: DataConversionWarning: A column-vector y was passed when a 1d array was expected. Please change the shape of y to (n_samples, ), for example using ravel().\n",
      "  y = column_or_1d(y, warn=True)\n"
     ]
    },
    {
     "name": "stdout",
     "output_type": "stream",
     "text": [
      "['player_type', 'Calc A2', 'Calc A', 'dws', 'KP_Conf_Dif', 'Calc C', 'Team_AdjEM_dif', 'Year_dif', 'bpm', 'X.Min', 'ORtg']\n",
      "Accuracy:  72.40325865580448\n"
     ]
    },
    {
     "name": "stderr",
     "output_type": "stream",
     "text": [
      "/opt/anaconda3/lib/python3.11/site-packages/sklearn/ensemble/_gb.py:437: DataConversionWarning: A column-vector y was passed when a 1d array was expected. Please change the shape of y to (n_samples, ), for example using ravel().\n",
      "  y = column_or_1d(y, warn=True)\n"
     ]
    },
    {
     "name": "stdout",
     "output_type": "stream",
     "text": [
      "['player_type', 'Calc A2', 'Calc A', 'dws', 'KP_Conf_Dif', 'Calc C', 'Team_AdjEM_dif', 'Year_dif', 'bpm', 'X.Min', 'obpm']\n",
      "Accuracy:  72.81059063136456\n"
     ]
    },
    {
     "name": "stderr",
     "output_type": "stream",
     "text": [
      "/opt/anaconda3/lib/python3.11/site-packages/sklearn/ensemble/_gb.py:437: DataConversionWarning: A column-vector y was passed when a 1d array was expected. Please change the shape of y to (n_samples, ), for example using ravel().\n",
      "  y = column_or_1d(y, warn=True)\n"
     ]
    },
    {
     "name": "stdout",
     "output_type": "stream",
     "text": [
      "['player_type', 'Calc A2', 'Calc A', 'dws', 'KP_Conf_Dif', 'Calc C', 'Team_AdjEM_dif', 'Year_dif', 'bpm', 'X.Min', 'dbpm']\n",
      "Accuracy:  72.09775967413442\n",
      "Fails 0.7382892057026477 0.7352342158859471\n",
      "['player_type', 'Calc A2', 'Calc A', 'dws', 'KP_Conf_Dif', 'Calc C', 'Team_AdjEM_dif', 'Year_dif', 'bpm', 'X.Min']\n"
     ]
    }
   ],
   "source": [
    "from sklearn.ensemble import RandomForestClassifier\n",
    "from sklearn.naive_bayes import GaussianNB\n",
    "from sklearn import neighbors\n",
    "from sklearn import svm\n",
    "from sklearn.ensemble import GradientBoostingClassifier\n",
    "\n",
    "\n",
    "#df_test1 = principalDf - This one\n",
    "df_test1 = df[['bpm', 'Calc A2', 'ws', 'dws', 'ows', 'Calc Overall', 'KP_Conf_Dif', 'X.Poss', \n",
    "                   'Year_dif',  'Calc A', 'Calc B', \n",
    "                 'DR.',  'Team_AdjEM_dif', 'player_type',\n",
    "                 'Class', 'Pos_Ht', 'Calc C', 'off_rtg', 'def_rtg', 'ORtg', 'X.Min', 'obpm', 'dbpm', 'Contribution_n1', 'Calc_Overall_n1_Contr']]\n",
    "# 'games', 'games_started', 'Calc A', 'Calc B', 'ast_per_poss', 'pts_per_poss', 'Ht', 'Wt', 'stl_per_poss', 'blk_per_poss', , ,\n",
    "#df_test1 = df_test1[df_test1['player_type']==0],\n",
    "# 'Calc Overall', 'Calc_Overall_Contr',\n",
    "#'player_type', 'KP_Rk_Dif', 'ORtg', 'X.Min',,\n",
    "#'Team_AdjEM_dif', 'X.Min_n1', 'X.Poss_n1',,\n",
    "#df_test1 = df_test1[df_test1['player_type']==0],\n",
    "columns = list(df_test1.columns)\n",
    "columns.remove('Contribution_n1')\n",
    "\n",
    "#columns.remove('Calc_Overall_Contr'),\n",
    "columns.remove('Calc_Overall_n1_Contr')\n",
    "columns.remove('player_type')\n",
    "#columns.remove('Calc A2')\n",
    "#,\n",
    "keep_col = ['player_type'] #- This one\n",
    "#keep_col = []\n",
    "rem_columns = columns\n",
    "check = True\n",
    "accuracy_end = 0\n",
    "while len(rem_columns)>0 and check == True:\n",
    "    acc_check = 0\n",
    "\n",
    "    for col in rem_columns:\n",
    "        X = df_test1[keep_col + [col]]\n",
    "    # X = df_test1[['player_type', 'X.Poss', 'X.Min', 'X.Min_n1', 'ORtg', ,\n",
    "    #                       'Year_dif', 'stl_per_poss', 'blk_per_poss', ,\n",
    "    #                       'DR.', 'KP_Rk_Dif', 'Calc A']],\n",
    "        #y = df_test1[['Contribution_n1']],\n",
    "        y = df_test1[['Calc_Overall_n1_Contr']]\n",
    "        #y = y_try\n",
    "        #y = df_test1[['Contribution_n1']],\n",
    "        # Model,\n",
    "        seed = 7\n",
    "        test_size = 0.15\n",
    "        X_train, X_test, y_train, y_test = train_test_split(X, y, test_size=test_size, random_state=seed)\n",
    "        # Random Forrest\n",
    "        # model = RandomForestClassifier()\n",
    "        # model.fit(X_train, y_train)\n",
    "\n",
    "        # Naive-Bayes\n",
    "        # model = GaussianNB()\n",
    "        # model.fit(X_train, y_train)\n",
    "\n",
    "        # Nearest Neighbors\n",
    "        # model = neighbors.KNeighborsClassifier()\n",
    "        # model.fit(X_train, y_train)\n",
    "\n",
    "        # Support Vector Machine\n",
    "        # model = svm.SVC(kernel='linear')\n",
    "        # model.fit(X_train, y_train)\n",
    "        \n",
    "        # Gradient Boosting Classifier\n",
    "        model = GradientBoostingClassifier()\n",
    "        model.fit(X_train, y_train)\n",
    "    \n",
    "        # Find Accuracy,\n",
    "        accuracy = model.score(X_test, y_test)\n",
    "        # y_pred = model.predict(X_test),\n",
    "        # predictions = [round(value) for value in y_pred],\n",
    "        # accuracy = accuracy_score(y_test, predictions),\n",
    "        print(keep_col + [col])\n",
    "        print('Accuracy: ', accuracy * 100)\n",
    "        if accuracy > acc_check:\n",
    "            acc_check = accuracy\n",
    "            col_to_add = col\n",
    "            check = True\n",
    "    #print(\\Adding: \\, col_to_add),\n",
    "    \n",
    "    #print(\\Rem Columns: \\, rem_columns),\n",
    "    #keep_col = keep_col + [col_to_add],\n",
    "    if accuracy_end < acc_check:\n",
    "        print('Adding: ', col_to_add)\n",
    "        print('Rem Columns: ', rem_columns)\n",
    "        accuracy_end = acc_check\n",
    "        print('Accuracy: ', accuracy_end * 100)\n",
    "        rem_columns.remove(col_to_add)\n",
    "        keep_col = keep_col + [col_to_add]\n",
    "    else:\n",
    "        print('Fails', accuracy_end, acc_check)\n",
    "        check = False\n",
    "    print(keep_col)\n"
   ]
  },
  {
   "cell_type": "code",
   "execution_count": 339,
   "metadata": {},
   "outputs": [
    {
     "data": {
      "text/html": [
       "<div>\n",
       "<style scoped>\n",
       "    .dataframe tbody tr th:only-of-type {\n",
       "        vertical-align: middle;\n",
       "    }\n",
       "\n",
       "    .dataframe tbody tr th {\n",
       "        vertical-align: top;\n",
       "    }\n",
       "\n",
       "    .dataframe thead th {\n",
       "        text-align: right;\n",
       "    }\n",
       "</style>\n",
       "<table border=\"1\" class=\"dataframe\">\n",
       "  <thead>\n",
       "    <tr style=\"text-align: right;\">\n",
       "      <th></th>\n",
       "      <th></th>\n",
       "      <th>Better</th>\n",
       "    </tr>\n",
       "    <tr>\n",
       "      <th>Actual</th>\n",
       "      <th>Predictions</th>\n",
       "      <th></th>\n",
       "    </tr>\n",
       "  </thead>\n",
       "  <tbody>\n",
       "    <tr>\n",
       "      <th rowspan=\"2\" valign=\"top\">0</th>\n",
       "      <th>0</th>\n",
       "      <td>40</td>\n",
       "    </tr>\n",
       "    <tr>\n",
       "      <th>1</th>\n",
       "      <td>43</td>\n",
       "    </tr>\n",
       "    <tr>\n",
       "      <th rowspan=\"3\" valign=\"top\">1</th>\n",
       "      <th>0</th>\n",
       "      <td>20</td>\n",
       "    </tr>\n",
       "    <tr>\n",
       "      <th>1</th>\n",
       "      <td>503</td>\n",
       "    </tr>\n",
       "    <tr>\n",
       "      <th>2</th>\n",
       "      <td>74</td>\n",
       "    </tr>\n",
       "    <tr>\n",
       "      <th rowspan=\"2\" valign=\"top\">2</th>\n",
       "      <th>1</th>\n",
       "      <td>137</td>\n",
       "    </tr>\n",
       "    <tr>\n",
       "      <th>2</th>\n",
       "      <td>165</td>\n",
       "    </tr>\n",
       "  </tbody>\n",
       "</table>\n",
       "</div>"
      ],
      "text/plain": [
       "                    Better\n",
       "Actual Predictions        \n",
       "0      0                40\n",
       "       1                43\n",
       "1      0                20\n",
       "       1               503\n",
       "       2                74\n",
       "2      1               137\n",
       "       2               165"
      ]
     },
     "execution_count": 339,
     "metadata": {},
     "output_type": "execute_result"
    }
   ],
   "source": [
    "output = pd.DataFrame(y_test['Calc_Overall_n1_Contr'])\n",
    "output = output.rename(columns={'Calc_Overall_n1_Contr': 'Actual'})\n",
    "\n",
    "output['Predictions'] = model.predict(X_test)\n",
    "output3 = output.groupby('Predictions').count()\n",
    "output['Better'] = np.where(output['Predictions']==output['Actual'], 1, 0)\n",
    "output2 = output.groupby(['Actual', 'Predictions']).count()\n",
    "\n",
    "output2"
   ]
  },
  {
   "cell_type": "code",
   "execution_count": null,
   "metadata": {},
   "outputs": [],
   "source": []
  }
 ],
 "metadata": {
  "kernelspec": {
   "display_name": "base",
   "language": "python",
   "name": "python3"
  },
  "language_info": {
   "codemirror_mode": {
    "name": "ipython",
    "version": 3
   },
   "file_extension": ".py",
   "mimetype": "text/x-python",
   "name": "python",
   "nbconvert_exporter": "python",
   "pygments_lexer": "ipython3",
   "version": "3.11.7"
  }
 },
 "nbformat": 4,
 "nbformat_minor": 2
}
