{
 "cells": [
  {
   "cell_type": "code",
   "execution_count": 812,
   "metadata": {},
   "outputs": [],
   "source": [
    "import pandas as pd\n",
    "from xgboost import XGBClassifier\n",
    "from sklearn.model_selection import train_test_split\n",
    "from sklearn.metrics import accuracy_score\n",
    "import numpy as np\n",
    "import matplotlib.pyplot as plt\n",
    "import seaborn as sns\n",
    "from fitter import Fitter, get_common_distributions, get_distributions\n",
    "#pd.options.display.max_rows"
   ]
  },
  {
   "cell_type": "code",
   "execution_count": 813,
   "metadata": {},
   "outputs": [
    {
     "data": {
      "text/html": [
       "<div>\n",
       "<style scoped>\n",
       "    .dataframe tbody tr th:only-of-type {\n",
       "        vertical-align: middle;\n",
       "    }\n",
       "\n",
       "    .dataframe tbody tr th {\n",
       "        vertical-align: top;\n",
       "    }\n",
       "\n",
       "    .dataframe thead th {\n",
       "        text-align: right;\n",
       "    }\n",
       "</style>\n",
       "<table border=\"1\" class=\"dataframe\">\n",
       "  <thead>\n",
       "    <tr style=\"text-align: right;\">\n",
       "      <th></th>\n",
       "      <th>Season</th>\n",
       "      <th>TeamName</th>\n",
       "      <th>TeamName 2</th>\n",
       "      <th>Tempo</th>\n",
       "      <th>RankTempo</th>\n",
       "      <th>AdjTempo</th>\n",
       "      <th>RankAdjTempo</th>\n",
       "      <th>OE</th>\n",
       "      <th>RankOE</th>\n",
       "      <th>AdjOE</th>\n",
       "      <th>RankAdjOE</th>\n",
       "      <th>DE</th>\n",
       "      <th>RankDE</th>\n",
       "      <th>AdjDE</th>\n",
       "      <th>RankAdjDE</th>\n",
       "      <th>AdjEM</th>\n",
       "      <th>RankAdjEM</th>\n",
       "      <th>seed</th>\n",
       "    </tr>\n",
       "  </thead>\n",
       "  <tbody>\n",
       "    <tr>\n",
       "      <th>0</th>\n",
       "      <td>2019</td>\n",
       "      <td>ABILENE CHRISTIAN</td>\n",
       "      <td>Abilene Christian</td>\n",
       "      <td>66.5681</td>\n",
       "      <td>293</td>\n",
       "      <td>66.0042</td>\n",
       "      <td>254</td>\n",
       "      <td>107.1020</td>\n",
       "      <td>87</td>\n",
       "      <td>103.6250</td>\n",
       "      <td>186</td>\n",
       "      <td>96.7466</td>\n",
       "      <td>43</td>\n",
       "      <td>101.5390</td>\n",
       "      <td>119</td>\n",
       "      <td>2.08626</td>\n",
       "      <td>145</td>\n",
       "      <td>15.0</td>\n",
       "    </tr>\n",
       "    <tr>\n",
       "      <th>1</th>\n",
       "      <td>2019</td>\n",
       "      <td>AIR FORCE</td>\n",
       "      <td>Air Force</td>\n",
       "      <td>67.2794</td>\n",
       "      <td>269</td>\n",
       "      <td>66.4070</td>\n",
       "      <td>234</td>\n",
       "      <td>98.7687</td>\n",
       "      <td>274</td>\n",
       "      <td>100.4310</td>\n",
       "      <td>250</td>\n",
       "      <td>105.6820</td>\n",
       "      <td>242</td>\n",
       "      <td>107.2750</td>\n",
       "      <td>238</td>\n",
       "      <td>-6.84432</td>\n",
       "      <td>241</td>\n",
       "      <td>NaN</td>\n",
       "    </tr>\n",
       "    <tr>\n",
       "      <th>2</th>\n",
       "      <td>2019</td>\n",
       "      <td>AKRON</td>\n",
       "      <td>Akron</td>\n",
       "      <td>68.4518</td>\n",
       "      <td>207</td>\n",
       "      <td>66.0150</td>\n",
       "      <td>253</td>\n",
       "      <td>99.4248</td>\n",
       "      <td>264</td>\n",
       "      <td>99.7930</td>\n",
       "      <td>257</td>\n",
       "      <td>94.0099</td>\n",
       "      <td>11</td>\n",
       "      <td>93.7022</td>\n",
       "      <td>21</td>\n",
       "      <td>6.09084</td>\n",
       "      <td>107</td>\n",
       "      <td>NaN</td>\n",
       "    </tr>\n",
       "    <tr>\n",
       "      <th>3</th>\n",
       "      <td>2019</td>\n",
       "      <td>ALABAMA</td>\n",
       "      <td>Alabama</td>\n",
       "      <td>69.8652</td>\n",
       "      <td>124</td>\n",
       "      <td>68.6333</td>\n",
       "      <td>115</td>\n",
       "      <td>102.4780</td>\n",
       "      <td>185</td>\n",
       "      <td>108.1130</td>\n",
       "      <td>100</td>\n",
       "      <td>102.2220</td>\n",
       "      <td>155</td>\n",
       "      <td>96.6354</td>\n",
       "      <td>50</td>\n",
       "      <td>11.47740</td>\n",
       "      <td>59</td>\n",
       "      <td>NaN</td>\n",
       "    </tr>\n",
       "    <tr>\n",
       "      <th>4</th>\n",
       "      <td>2019</td>\n",
       "      <td>ALABAMA A&amp;M</td>\n",
       "      <td>Alabama A&amp;M</td>\n",
       "      <td>67.5600</td>\n",
       "      <td>252</td>\n",
       "      <td>65.4905</td>\n",
       "      <td>282</td>\n",
       "      <td>88.7657</td>\n",
       "      <td>347</td>\n",
       "      <td>86.4818</td>\n",
       "      <td>350</td>\n",
       "      <td>104.8620</td>\n",
       "      <td>219</td>\n",
       "      <td>109.1420</td>\n",
       "      <td>265</td>\n",
       "      <td>-22.66000</td>\n",
       "      <td>344</td>\n",
       "      <td>NaN</td>\n",
       "    </tr>\n",
       "    <tr>\n",
       "      <th>5</th>\n",
       "      <td>2019</td>\n",
       "      <td>ALABAMA STATE</td>\n",
       "      <td>Alabama State</td>\n",
       "      <td>68.4214</td>\n",
       "      <td>210</td>\n",
       "      <td>67.0597</td>\n",
       "      <td>198</td>\n",
       "      <td>95.3075</td>\n",
       "      <td>322</td>\n",
       "      <td>94.5978</td>\n",
       "      <td>326</td>\n",
       "      <td>106.1970</td>\n",
       "      <td>250</td>\n",
       "      <td>110.9610</td>\n",
       "      <td>304</td>\n",
       "      <td>-16.36330</td>\n",
       "      <td>329</td>\n",
       "      <td>NaN</td>\n",
       "    </tr>\n",
       "    <tr>\n",
       "      <th>6</th>\n",
       "      <td>2019</td>\n",
       "      <td>ALBANY (NY)</td>\n",
       "      <td>Albany (NY)</td>\n",
       "      <td>66.3119</td>\n",
       "      <td>301</td>\n",
       "      <td>65.7351</td>\n",
       "      <td>268</td>\n",
       "      <td>99.2601</td>\n",
       "      <td>267</td>\n",
       "      <td>98.1540</td>\n",
       "      <td>283</td>\n",
       "      <td>103.2160</td>\n",
       "      <td>176</td>\n",
       "      <td>108.0060</td>\n",
       "      <td>250</td>\n",
       "      <td>-9.85221</td>\n",
       "      <td>277</td>\n",
       "      <td>NaN</td>\n",
       "    </tr>\n",
       "    <tr>\n",
       "      <th>7</th>\n",
       "      <td>2019</td>\n",
       "      <td>ALCORN STATE</td>\n",
       "      <td>Alcorn State</td>\n",
       "      <td>67.4020</td>\n",
       "      <td>260</td>\n",
       "      <td>65.6105</td>\n",
       "      <td>277</td>\n",
       "      <td>89.3041</td>\n",
       "      <td>346</td>\n",
       "      <td>88.7838</td>\n",
       "      <td>348</td>\n",
       "      <td>108.2200</td>\n",
       "      <td>288</td>\n",
       "      <td>113.4270</td>\n",
       "      <td>332</td>\n",
       "      <td>-24.64300</td>\n",
       "      <td>349</td>\n",
       "      <td>NaN</td>\n",
       "    </tr>\n",
       "    <tr>\n",
       "      <th>8</th>\n",
       "      <td>2019</td>\n",
       "      <td>AMERICAN</td>\n",
       "      <td>American</td>\n",
       "      <td>67.6929</td>\n",
       "      <td>247</td>\n",
       "      <td>66.4126</td>\n",
       "      <td>233</td>\n",
       "      <td>104.5920</td>\n",
       "      <td>141</td>\n",
       "      <td>101.7880</td>\n",
       "      <td>221</td>\n",
       "      <td>100.1360</td>\n",
       "      <td>104</td>\n",
       "      <td>104.9190</td>\n",
       "      <td>186</td>\n",
       "      <td>-3.13075</td>\n",
       "      <td>198</td>\n",
       "      <td>NaN</td>\n",
       "    </tr>\n",
       "    <tr>\n",
       "      <th>9</th>\n",
       "      <td>2019</td>\n",
       "      <td>APPALACHIAN STATE</td>\n",
       "      <td>Appalachian State</td>\n",
       "      <td>73.1875</td>\n",
       "      <td>27</td>\n",
       "      <td>71.4297</td>\n",
       "      <td>27</td>\n",
       "      <td>104.6920</td>\n",
       "      <td>138</td>\n",
       "      <td>105.9350</td>\n",
       "      <td>141</td>\n",
       "      <td>110.2310</td>\n",
       "      <td>315</td>\n",
       "      <td>109.5440</td>\n",
       "      <td>274</td>\n",
       "      <td>-3.60901</td>\n",
       "      <td>205</td>\n",
       "      <td>NaN</td>\n",
       "    </tr>\n",
       "  </tbody>\n",
       "</table>\n",
       "</div>"
      ],
      "text/plain": [
       "   Season           TeamName         TeamName 2    Tempo  RankTempo  AdjTempo  \\\n",
       "0    2019  ABILENE CHRISTIAN  Abilene Christian  66.5681        293   66.0042   \n",
       "1    2019          AIR FORCE          Air Force  67.2794        269   66.4070   \n",
       "2    2019              AKRON              Akron  68.4518        207   66.0150   \n",
       "3    2019            ALABAMA            Alabama  69.8652        124   68.6333   \n",
       "4    2019        ALABAMA A&M        Alabama A&M  67.5600        252   65.4905   \n",
       "5    2019      ALABAMA STATE      Alabama State  68.4214        210   67.0597   \n",
       "6    2019        ALBANY (NY)        Albany (NY)  66.3119        301   65.7351   \n",
       "7    2019       ALCORN STATE       Alcorn State  67.4020        260   65.6105   \n",
       "8    2019           AMERICAN           American  67.6929        247   66.4126   \n",
       "9    2019  APPALACHIAN STATE  Appalachian State  73.1875         27   71.4297   \n",
       "\n",
       "   RankAdjTempo        OE  RankOE     AdjOE  RankAdjOE        DE  RankDE  \\\n",
       "0           254  107.1020      87  103.6250        186   96.7466      43   \n",
       "1           234   98.7687     274  100.4310        250  105.6820     242   \n",
       "2           253   99.4248     264   99.7930        257   94.0099      11   \n",
       "3           115  102.4780     185  108.1130        100  102.2220     155   \n",
       "4           282   88.7657     347   86.4818        350  104.8620     219   \n",
       "5           198   95.3075     322   94.5978        326  106.1970     250   \n",
       "6           268   99.2601     267   98.1540        283  103.2160     176   \n",
       "7           277   89.3041     346   88.7838        348  108.2200     288   \n",
       "8           233  104.5920     141  101.7880        221  100.1360     104   \n",
       "9            27  104.6920     138  105.9350        141  110.2310     315   \n",
       "\n",
       "      AdjDE  RankAdjDE     AdjEM  RankAdjEM  seed  \n",
       "0  101.5390        119   2.08626        145  15.0  \n",
       "1  107.2750        238  -6.84432        241   NaN  \n",
       "2   93.7022         21   6.09084        107   NaN  \n",
       "3   96.6354         50  11.47740         59   NaN  \n",
       "4  109.1420        265 -22.66000        344   NaN  \n",
       "5  110.9610        304 -16.36330        329   NaN  \n",
       "6  108.0060        250  -9.85221        277   NaN  \n",
       "7  113.4270        332 -24.64300        349   NaN  \n",
       "8  104.9190        186  -3.13075        198   NaN  \n",
       "9  109.5440        274  -3.60901        205   NaN  "
      ]
     },
     "execution_count": 813,
     "metadata": {},
     "output_type": "execute_result"
    }
   ],
   "source": [
    "kp = pd.read_csv('/Users/caldavis/Documents/GitHub/Capstone-project/Data folder/KenPom Team Metrics.csv')\n",
    "#kp.head(10)\n",
    "kp_conf_rat = pd.read_csv('/Users/caldavis/Documents/GitHub/Capstone-project/Data folder/KP_Conf_Ratings.csv')\n",
    "kp_conf_rat = kp_conf_rat[['Year_Conf', 'Conf_Abb', 'Conf_Rk', 'Conf_Full', 'Conf_Rating']]\n",
    "kp_conf_rat.head(10)\n",
    "kp.head(10)"
   ]
  },
  {
   "cell_type": "code",
   "execution_count": 930,
   "metadata": {},
   "outputs": [
    {
     "name": "stderr",
     "output_type": "stream",
     "text": [
      "/var/folders/cq/16hkxgp926d466c0g9jzx2900000gq/T/ipykernel_38297/3461368442.py:4: DtypeWarning: Columns (13,16,38,144,147,169) have mixed types. Specify dtype option on import or set low_memory=False.\n",
      "  d = pd.read_csv('/Users/caldavis/Documents/GitHub/Capstone-project/Data folder/final_data_by_player_type.csv')\n",
      "/var/folders/cq/16hkxgp926d466c0g9jzx2900000gq/T/ipykernel_38297/3461368442.py:29: PerformanceWarning: DataFrame is highly fragmented.  This is usually the result of calling `frame.insert` many times, which has poor performance.  Consider joining all columns at once using pd.concat(axis=1) instead. To get a de-fragmented frame, use `newframe = frame.copy()`\n",
      "  df['Contribution_n1'] = np.select(conditions, values)\n",
      "/var/folders/cq/16hkxgp926d466c0g9jzx2900000gq/T/ipykernel_38297/3461368442.py:35: PerformanceWarning: DataFrame is highly fragmented.  This is usually the result of calling `frame.insert` many times, which has poor performance.  Consider joining all columns at once using pd.concat(axis=1) instead. To get a de-fragmented frame, use `newframe = frame.copy()`\n",
      "  df['Class'] = np.select(year_cond, year_val)\n",
      "/var/folders/cq/16hkxgp926d466c0g9jzx2900000gq/T/ipykernel_38297/3461368442.py:42: PerformanceWarning: DataFrame is highly fragmented.  This is usually the result of calling `frame.insert` many times, which has poor performance.  Consider joining all columns at once using pd.concat(axis=1) instead. To get a de-fragmented frame, use `newframe = frame.copy()`\n",
      "  df['Pos_Ht'] = np.select(ht_cond, ht_val)\n"
     ]
    }
   ],
   "source": [
    "# All In One Go,\n",
    "\n",
    "# Prep initial df,\n",
    "d = pd.read_csv('/Users/caldavis/Documents/GitHub/Capstone-project/Data folder/final_data_by_player_type.csv')\n",
    "d = pd.merge(d, kp, left_on=['Team', 'year'], right_on=['TeamName', 'Season'], how='left')\n",
    "d = pd.merge(d, kp, left_on=['Team_n1', 'year'], right_on=['TeamName', 'Season'], how='left')\n",
    "df = pd.merge(d, kp, left_on=['Team_n1', 'year_n1'], right_on=['TeamName', 'Season'], how='left')\n",
    "df = pd.merge(df, kp_conf_rat, left_on=['conf_abbr', 'year'], right_on=['Conf_Abb', 'Year_Conf'], how='left')\n",
    "df = pd.merge(df, kp_conf_rat, left_on=['conf_abbr_n1', 'year'], right_on=['Conf_Abb', 'Year_Conf'], how='left')\n",
    "df = pd.merge(df, kp_conf_rat, left_on=['conf_abbr_n1', 'year_n1'], right_on=['Conf_Abb', 'Year_Conf'], how='left')\n",
    "df = df.replace(to_replace='NO IDEA', value=0)\n",
    "df = df.replace(to_replace='---', value=0)\n",
    "df = df.fillna(0)\n",
    "\n",
    "# Convert to Numeric,\n",
    "df[['games', 'games_started', 'mp_per_g', 'fg_per_g', 'fga_per_g', 'fg_pct', 'fg2_per_g', 'fg2a_per_g', 'fg2_pct', 'fg3_per_g', 'fg3a_per_g', 'fg3_pct', 'ft_per_g', 'fta_per_g', 'ft_pct', 'orb_per_g', 'drb_per_g', 'trb_per_g', 'ast_per_g', 'stl_per_g', 'blk_per_g', 'tov_per_g', 'pf_per_g', 'pts_per_g', 'sos', 'mp', 'fg', 'fga', 'fg2', 'fg2a', 'fg2_pct.1', 'fg3', 'fg3a', 'ft', 'fta', 'orb', 'drb', 'trb', 'ast', 'stl', 'blk', 'tov', 'pf', 'pts', \n",
    "    'fg_per_min', 'fga_per_min', 'fg2_per_min', 'fg2a_per_min', 'fg3_per_min', 'fg3a_per_min', 'ft_per_min', 'fta_per_min', 'trb_per_min', 'ast_per_min', 'stl_per_min', 'blk_per_min', 'tov_per_min', 'pf_per_min', 'pts_per_min', \n",
    "    'fg_per_poss', 'fga_per_poss', 'fg2_per_poss', 'fg2a_per_poss', 'fg3_per_poss', 'fg3a_per_poss', 'ft_per_poss', 'fta_per_poss', 'trb_per_poss', 'ast_per_poss', 'stl_per_poss', 'blk_per_poss', 'tov_per_poss', 'pf_per_poss', 'pts_per_poss', 'off_rtg', 'def_rtg', 'per', 'ts_pct', 'efg_pct', 'fg3a_per_fga_pct', 'fta_per_fga_pct', 'pprod', 'orb_pct', 'drb_pct', 'trb_pct', 'ast_pct', 'stl_pct', 'blk_pct', 'tov_pct', 'usg_pct', 'ows', 'dws', 'ws', 'ws_per_40', 'obpm', 'dbpm', 'bpm', 'year', 'Ht', 'Wt', 'G', 'S', 'X.Min', 'ORtg', 'X.Poss', 'X.Shots', 'games_n1', 'games_started_n1', 'mp_per_g_n1', 'fg_per_g_n1', 'fga_per_g_n1', 'fg_pct_n1', 'fg2_per_g_n1', 'fg2a_per_g_n1', 'fg2_pct_n1', 'fg3_per_g_n1', 'fg3a_per_g_n1', 'fg3_pct_n1', 'ft_per_g_n1', 'fta_per_g_n1', 'ft_pct_n1', 'orb_per_g_n1', 'drb_per_g_n1', 'trb_per_g_n1', 'ast_per_g_n1', 'stl_per_g_n1', 'blk_per_g_n1', 'tov_per_g_n1', 'pf_per_g_n1', 'pts_per_g_n1', 'sos_n1', 'mp_n1', 'fg_n1', 'fga_n1', 'fg2_n1', 'fg2a_n1', 'fg2_pct.1_n1', 'fg3_n1', 'fg3a_n1', 'ft_n1', 'fta_n1', 'orb_n1', 'drb_n1', 'trb_n1', 'ast_n1', 'stl_n1', 'blk_n1', 'tov_n1', 'pf_n1', 'pts_n1', 'fg_per_min_n1', 'fga_per_min_n1', 'fg2_per_min_n1', 'fg2a_per_min_n1', 'fg3_per_min_n1', 'fg3a_per_min_n1', 'ft_per_min_n1', 'fta_per_min_n1', 'trb_per_min_n1', 'ast_per_min_n1', 'stl_per_min_n1', 'blk_per_min_n1', 'tov_per_min_n1', 'pf_per_min_n1', 'pts_per_min_n1', 'fg_per_poss_n1', 'fga_per_poss_n1', 'fg2_per_poss_n1', 'fg2a_per_poss_n1', 'fg3_per_poss_n1', 'fg3a_per_poss_n1', 'ft_per_poss_n1', 'fta_per_poss_n1', 'trb_per_poss_n1', 'ast_per_poss_n1', 'stl_per_poss_n1', 'blk_per_poss_n1', 'tov_per_poss_n1', 'pf_per_poss_n1', 'pts_per_poss_n1', 'off_rtg_n1', 'def_rtg_n1', 'per_n1', 'ts_pct_n1', 'efg_pct_n1', 'fg3a_per_fga_pct_n1', 'fta_per_fga_pct_n1', 'pprod_n1', 'orb_pct_n1', 'drb_pct_n1', \n",
    "    'trb_pct_n1', 'ast_pct_n1', 'stl_pct_n1', 'blk_pct_n1', 'tov_pct_n1', 'usg_pct_n1', 'ows_n1', 'dws_n1', 'ws_n1', 'ws_per_40_n1', 'obpm_n1', 'dbpm_n1', 'bpm_n1', 'year_n1', 'Ht_n1', 'Wt_n1', 'G_n1', 'S_n1', 'X.Min_n1', 'ORtg_n1', 'X.Poss_n1', 'X.Shots_n1']] = df[['games', 'games_started', 'mp_per_g', 'fg_per_g', 'fga_per_g', 'fg_pct', 'fg2_per_g', 'fg2a_per_g', 'fg2_pct', 'fg3_per_g', 'fg3a_per_g', 'fg3_pct', 'ft_per_g', 'fta_per_g', 'ft_pct', 'orb_per_g', 'drb_per_g', 'trb_per_g', 'ast_per_g', 'stl_per_g', 'blk_per_g', 'tov_per_g', 'pf_per_g', 'pts_per_g', 'sos', 'mp', 'fg', 'fga', 'fg2', 'fg2a', 'fg2_pct.1', 'fg3', 'fg3a', 'ft', 'fta', 'orb', 'drb', 'trb', 'ast', 'stl', 'blk', 'tov', 'pf', 'pts', 'fg_per_min', 'fga_per_min', 'fg2_per_min', 'fg2a_per_min', 'fg3_per_min', 'fg3a_per_min', 'ft_per_min', 'fta_per_min', 'trb_per_min', 'ast_per_min', 'stl_per_min', 'blk_per_min', 'tov_per_min', 'pf_per_min', 'pts_per_min', 'fg_per_poss', 'fga_per_poss', 'fg2_per_poss', 'fg2a_per_poss', 'fg3_per_poss', 'fg3a_per_poss', 'ft_per_poss', 'fta_per_poss', 'trb_per_poss', 'ast_per_poss', 'stl_per_poss', 'blk_per_poss', 'tov_per_poss', 'pf_per_poss', 'pts_per_poss', 'off_rtg', 'def_rtg', 'per', 'ts_pct', 'efg_pct', 'fg3a_per_fga_pct', 'fta_per_fga_pct', 'pprod', 'orb_pct', 'drb_pct', 'trb_pct', 'ast_pct', 'stl_pct', 'blk_pct', 'tov_pct', 'usg_pct', 'ows', 'dws', 'ws', 'ws_per_40', 'obpm', 'dbpm', 'bpm', 'year', 'Ht', 'Wt', 'G', 'S', 'X.Min', 'ORtg', 'X.Poss', 'X.Shots', 'games_n1', 'games_started_n1', 'mp_per_g_n1', 'fg_per_g_n1', 'fga_per_g_n1', 'fg_pct_n1', 'fg2_per_g_n1', 'fg2a_per_g_n1', 'fg2_pct_n1', 'fg3_per_g_n1', 'fg3a_per_g_n1', 'fg3_pct_n1', 'ft_per_g_n1', 'fta_per_g_n1', 'ft_pct_n1', 'orb_per_g_n1', 'drb_per_g_n1', 'trb_per_g_n1', 'ast_per_g_n1', 'stl_per_g_n1', 'blk_per_g_n1', 'tov_per_g_n1', 'pf_per_g_n1', 'pts_per_g_n1', 'sos_n1', 'mp_n1', 'fg_n1', 'fga_n1', 'fg2_n1', 'fg2a_n1', 'fg2_pct.1_n1', 'fg3_n1', 'fg3a_n1', 'ft_n1', 'fta_n1', 'orb_n1', 'drb_n1', 'trb_n1', 'ast_n1', 'stl_n1', 'blk_n1', 'tov_n1', 'pf_n1', 'pts_n1', 'fg_per_min_n1', 'fga_per_min_n1', 'fg2_per_min_n1', 'fg2a_per_min_n1', 'fg3_per_min_n1', 'fg3a_per_min_n1', 'ft_per_min_n1', 'fta_per_min_n1', 'trb_per_min_n1', 'ast_per_min_n1', 'stl_per_min_n1', 'blk_per_min_n1', 'tov_per_min_n1', 'pf_per_min_n1', 'pts_per_min_n1', 'fg_per_poss_n1', 'fga_per_poss_n1', 'fg2_per_poss_n1', 'fg2a_per_poss_n1', 'fg3_per_poss_n1', 'fg3a_per_poss_n1', 'ft_per_poss_n1', 'fta_per_poss_n1', 'trb_per_poss_n1', 'ast_per_poss_n1', 'stl_per_poss_n1', 'blk_per_poss_n1', 'tov_per_poss_n1', 'pf_per_poss_n1', 'pts_per_poss_n1', 'off_rtg_n1', 'def_rtg_n1', 'per_n1', 'ts_pct_n1', 'efg_pct_n1', 'fg3a_per_fga_pct_n1', 'fta_per_fga_pct_n1', 'pprod_n1', 'orb_pct_n1', 'drb_pct_n1', 'trb_pct_n1', 'ast_pct_n1', 'stl_pct_n1', 'blk_pct_n1', 'tov_pct_n1', 'usg_pct_n1', 'ows_n1', 'dws_n1', 'ws_n1', 'ws_per_40_n1', 'obpm_n1', 'dbpm_n1', 'bpm_n1', 'year_n1', 'Ht_n1', 'Wt_n1', 'G_n1', 'S_n1', 'X.Min_n1', 'ORtg_n1', 'X.Poss_n1', 'X.Shots_n1']].apply(pd.to_numeric, errors='ignore')\n",
    "\n",
    "# Add Contributions,\n",
    "conditions = [(df['X.Poss_n1']>=28.0) & (df['X.Min_n1']>10.0), (df['X.Poss_n1']>=24.0)& (df['X.Min_n1']>10.0), \n",
    "              (df['X.Poss_n1']>=20.0) & (df['X.Min_n1']>10.0), (df['X.Poss_n1']>=16) & (df['X.Min_n1']>10.0),\n",
    "            (df['X.Poss_n1']>=12.0) & (df['X.Min_n1']>10.0), (df['X.Poss_n1']<12) & (df['X.Min_n1']>10.0), \n",
    "            (df['X.Min_n1']<10)]\n",
    "#(df['X.Min_n1']<10),,\n",
    "#values = ['Go-To Guy', 'Major Contributor', 'Significant Contributor', 'Role Players', 'Limited Role', 'Nearly Invisible', 'Bench Warmer'],\n",
    "values = [0, 1, 2, 3, 4, 5, 6]\n",
    "df['Contribution_n1'] = np.select(conditions, values)\n",
    "\n",
    "# Add Year in School KP,\n",
    "year_cond = [(df['Yr_n1']=='Fr'), (df['Yr_n1']=='So'),\n",
    "            (df['Yr_n1']=='Jr'), (df['Yr_n1']=='Sr')]\n",
    "year_val = [1, 2, 3, 4]\n",
    "df['Class'] = np.select(year_cond, year_val)\n",
    "\n",
    "# Add Ht. Categories,\n",
    "ht_cond = [(df['Ht']<=74), (df['Ht']>74) & (df['Ht']<=76), (df['Ht']>76) & (df['Ht']<=78),\n",
    "   (df['Ht']>78) & (df['Ht']<=80), (df['Ht']>80)]\n",
    "\n",
    "ht_val = [0, 1, 2, 3, 4]\n",
    "df['Pos_Ht'] = np.select(ht_cond, ht_val)\n",
    "#df[‘column’] =( df[‘column’] – df[‘column’].mean() ) / df[‘column’].std(),\n",
    "\n",
    "    \n",
    "# Additional Features + Model Prep,\n",
    "#df = df.drop(df[(df['games']<=13) & (df['games_started']/df['games']>0.3)].index)\n",
    "#df = df.drop(df[(df['games_n1']<=13) & (df['games_started_n1']/df['games_n1']>0.3)].index)\n",
    "#df = df.drop(df[(df['games']<=13) & (df['games_started']/df['games']>0.1)].index)\n",
    "#df = df.drop(df[(df['games_n1']<=13) & (df['games_started_n1']/df['games_n1']>0.1)].index)\n",
    "\n",
    "\n",
    "df = df.drop(df.loc[((df['games']>39) & (df['year']==2023)) | ((df['games_n1']>39) & (df['year_n1']==2023)) | \n",
    "   ((df['games']>40) & (df['year']==2022)) | ((df['games_n1']>40) & (df['year_n1']==2022)) | \n",
    "   ((df['games']>33) & (df['year']==2021)) | ((df['games_n1']>33) & (df['year_n1']==2021)) | \n",
    "   ((df['games']>35) & (df['year']==2020)) | ((df['games_n1']>35) & (df['year_n1']==2020)) | \n",
    "   ((df['games']>40) & (df['year']==2019)) | ((df['games_n1']>40) & (df['year_n1']==2019)) |\n",
    "   (df['year']==0)]['Player.Name'].index)\n",
    "idx = df.groupby(['Team', 'year'])['games'].max()\n",
    "a = pd.DataFrame(idx)\n",
    "ab = a.reset_index()\n",
    "ab.columns = ['Team_max', 'year_max', 'games_max']\n",
    "df = pd.merge(df, ab, left_on=['Team', 'year'], right_on=['Team_max', 'year_max'], how='left')\n",
    "idx2 = df.groupby(['Team_n1', 'year_n1'])['games_n1'].max()\n",
    "a2 = pd.DataFrame(idx2)\n",
    "ab2 = a2.reset_index()\n",
    "ab2.columns = ['Team_max', 'year_max', 'games_max']\n",
    "df = pd.merge(df, ab2, left_on=['Team_n1', 'year_n1'], right_on=['Team_max', 'year_max'], how='left')\n",
    "df.columns\n",
    "tt = df[['Player.Name', 'Team', 'year', 'games_max_x', 'Team_n1', 'year_n1', 'games_max_y', 'games_n1']]\n",
    "tt[tt['Player.Name']=='tevin-mack-1']\n",
    "#df = df.drop(df[(df['games']<=0.1*df['games_max_x'])].index)\n",
    "#df = df.drop(df[(df['games_n1']<=0.1*df['games_max_y'])].index)\n",
    "#df = df.drop(df.loc[(df['games_max_x']<15)].index)\n",
    "#df = df.drop(df.loc[(df['games_max_y']<15)].index)\n",
    "\n",
    "#df = df.drop(df.loc[(df['year']==2020) | (df['year_n1']==2020)].index)\n",
    "#df = df.drop(df[(df['X.Min_n1']<=10)].index)\n",
    "#df = df.drop(df[(df['X.Min']<=10)].index)\n",
    "df['Year_dif'] = df['year_n1']-df['year']\n",
    "df['Team_AdjEM_dif'] = df['AdjEM_y']-df['AdjEM_x']\n",
    "df['KP_Rk_Dif'] = df['RankAdjEM_y']-df['RankAdjEM_x']\n",
    "df['KP_Conf_Dif'] = df['Conf_Rating_y']-df['Conf_Rating_x']\n",
    "df['Calc A'] = df['X.Min']*df['ws']\n",
    "df['Calc A2'] = df['X.Min']*df['bpm']\n",
    "df['Calc A3'] = df['X.Min']*df['ORtg']\n",
    "df['Calc A2_n1'] = df['X.Min_n1']*df['bpm_n1']\n",
    "df['Calc A_n1'] =df['X.Min_n1']*df['ws_n1']\n",
    "df['Calc A3_n1'] = df['X.Min_n1']*df['ORtg_n1']\n",
    "df['Calc B'] = (df['stl_per_poss']+df['blk_per_poss']+df['DR.'])*df['X.Min']\n",
    "df['Calc B_n1'] = (df['stl_per_poss_n1']+df['blk_per_poss_n1']+df['DR._n1'])*df['X.Min_n1']\n",
    "df['Calc C']=(df['off_rtg']-df['def_rtg'])*df['X.Min']\n",
    "df['Calc C_n1']=(df['off_rtg_n1']-df['def_rtg_n1'])*df['X.Min_n1']\n",
    "df['Calc Overall A'] = df['Calc A'] + df['Calc B']\n",
    "df['Calc Overall A2'] = df['Calc A2'] + df['Calc B']\n",
    "df['Calc Overall A3'] = df['Calc A3'] + df['Calc B']\n",
    "df['Calc Overall A_n1'] = df['Calc A_n1'] + df['Calc B_n1']\n",
    "df['Calc Overall A2_n1'] = df['Calc A2_n1'] + df['Calc B_n1']\n",
    "df['Calc Overall A3_n1'] = df['Calc A3_n1'] + df['Calc B_n1']\n",
    "    \n",
    "    \n",
    "# Calc_A_n1_cond = [(df['Calc A_n1']<=340), (df['Calc A_n1']>340) & (df['Calc A_n1']<=664), (df['Calc A_n1']>664) & (df['Calc A_n1']<=1010),,\n",
    "#            (df['Calc A_n1']>1010) & (df['Calc A_n1']<=1415), (df['Calc A_n1']>1415)],\n",
    "\n",
    "# Calc_A_n1_val = [0, 1, 2, 3, 4],\n",
    "# df['Calc_A_Contr'] = np.select(Calc_A_n1_cond, Calc_A_n1_val),\n",
    "column_to_test = 'Calc A2_n1'\n",
    "# Calc_overall_n1_cond = [(df[column_to_test]<=(df[column_to_test].max()-df[column_to_test].min())/10+df[column_to_test].min()), ,\n",
    "#                         (df[column_to_test]>(df[column_to_test].max()-df[column_to_test].min())/10+df[column_to_test].min()) & (df[column_to_test]<=(df[column_to_test].max()-df[column_to_test].min())/2+df[column_to_test].min()), ,\n",
    "#                         (df[column_to_test]>(df[column_to_test].max()-df[column_to_test].min())/2+df[column_to_test].min()) & (df[column_to_test]<=8*(df[column_to_test].max()-df[column_to_test].min())/10+df[column_to_test].min()),,\n",
    "#                         (df[column_to_test]>8*(df[column_to_test].max()-df[column_to_test].min())/10+df[column_to_test].min())],\n",
    "\n",
    "                        # & (df[column_to_test]<=4*(df[column_to_test].max()-df[column_to_test].min())/6+df[column_to_test].min()), ,\n",
    "                        #(df[column_to_test]>4*(df[column_to_test].max()-df[column_to_test].min())/6+df[column_to_test].min())],\n",
    "Calc_overall_n1_cond = [(df[column_to_test]<=df[column_to_test].quantile(0.12)),\n",
    "                        (df[column_to_test]>df[column_to_test].quantile(0.12)) & (df[column_to_test]<=df[column_to_test].quantile(0.4)),\n",
    "                        (df[column_to_test]>df[column_to_test].quantile(0.4)) & (df[column_to_test]<=df[column_to_test].quantile(0.88)),\n",
    "                        (df[column_to_test]>df[column_to_test].quantile(0.88))]\n",
    "# Calc_overall_n1_cond = [(df[column_to_test]<=df[column_to_test].quantile(0.5)),\n",
    "#                         (df[column_to_test]>df[column_to_test].quantile(0.5)) & (df[column_to_test]<=df[column_to_test].quantile(0.88)),\n",
    "#                         (df[column_to_test]>df[column_to_test].quantile(0.88))]\n",
    "#Calc_A_n1_val = [2, 1, 0]\n",
    "Calc_A_n1_val = [3, 2, 1, 0]\n",
    "df['Calc_Overall_n1_Contr'] = np.select(Calc_overall_n1_cond, Calc_A_n1_val)"
   ]
  },
  {
   "cell_type": "code",
   "execution_count": 931,
   "metadata": {},
   "outputs": [],
   "source": [
    "pd.set_option('display.max_columns', None)\n",
    "#df[['X.Poss_n1', 'X.Min_n1','Contribution_n1']].head(20)"
   ]
  },
  {
   "cell_type": "code",
   "execution_count": 932,
   "metadata": {},
   "outputs": [],
   "source": [
    "#df[['Team', 'year', 'games_max']].sort_values('games_max')\n"
   ]
  },
  {
   "cell_type": "code",
   "execution_count": 933,
   "metadata": {},
   "outputs": [
    {
     "data": {
      "text/html": [
       "<div>\n",
       "<style scoped>\n",
       "    .dataframe tbody tr th:only-of-type {\n",
       "        vertical-align: middle;\n",
       "    }\n",
       "\n",
       "    .dataframe tbody tr th {\n",
       "        vertical-align: top;\n",
       "    }\n",
       "\n",
       "    .dataframe thead th {\n",
       "        text-align: right;\n",
       "    }\n",
       "</style>\n",
       "<table border=\"1\" class=\"dataframe\">\n",
       "  <thead>\n",
       "    <tr style=\"text-align: right;\">\n",
       "      <th></th>\n",
       "      <th>0</th>\n",
       "      <th>1</th>\n",
       "      <th>2</th>\n",
       "      <th>3</th>\n",
       "      <th>4</th>\n",
       "      <th>5</th>\n",
       "      <th>6</th>\n",
       "      <th>7</th>\n",
       "      <th>8</th>\n",
       "      <th>9</th>\n",
       "      <th>10</th>\n",
       "      <th>11</th>\n",
       "      <th>12</th>\n",
       "      <th>13</th>\n",
       "      <th>14</th>\n",
       "      <th>15</th>\n",
       "      <th>16</th>\n",
       "    </tr>\n",
       "  </thead>\n",
       "  <tbody>\n",
       "    <tr>\n",
       "      <th>0</th>\n",
       "      <td>-0.061128</td>\n",
       "      <td>-1.615087</td>\n",
       "      <td>-1.305139</td>\n",
       "      <td>-0.563619</td>\n",
       "      <td>-0.575463</td>\n",
       "      <td>-0.383214</td>\n",
       "      <td>-0.014492</td>\n",
       "      <td>-0.749639</td>\n",
       "      <td>0.679057</td>\n",
       "      <td>0.261988</td>\n",
       "      <td>0.577575</td>\n",
       "      <td>-0.358752</td>\n",
       "      <td>-0.053041</td>\n",
       "      <td>0.189156</td>\n",
       "      <td>-0.651109</td>\n",
       "      <td>-0.530279</td>\n",
       "      <td>0.739153</td>\n",
       "    </tr>\n",
       "    <tr>\n",
       "      <th>1</th>\n",
       "      <td>0.645016</td>\n",
       "      <td>-0.048978</td>\n",
       "      <td>-1.880775</td>\n",
       "      <td>0.750845</td>\n",
       "      <td>-0.467320</td>\n",
       "      <td>-0.231654</td>\n",
       "      <td>0.562831</td>\n",
       "      <td>1.030691</td>\n",
       "      <td>0.720103</td>\n",
       "      <td>-0.264934</td>\n",
       "      <td>0.315108</td>\n",
       "      <td>0.052287</td>\n",
       "      <td>-0.822601</td>\n",
       "      <td>-0.844270</td>\n",
       "      <td>0.928793</td>\n",
       "      <td>0.625666</td>\n",
       "      <td>-1.083692</td>\n",
       "    </tr>\n",
       "    <tr>\n",
       "      <th>2</th>\n",
       "      <td>1.911785</td>\n",
       "      <td>0.511984</td>\n",
       "      <td>-0.968269</td>\n",
       "      <td>-0.115002</td>\n",
       "      <td>0.244470</td>\n",
       "      <td>0.003093</td>\n",
       "      <td>0.373183</td>\n",
       "      <td>0.513832</td>\n",
       "      <td>-0.225640</td>\n",
       "      <td>-0.287855</td>\n",
       "      <td>0.074223</td>\n",
       "      <td>1.336272</td>\n",
       "      <td>0.674833</td>\n",
       "      <td>-0.730281</td>\n",
       "      <td>0.588056</td>\n",
       "      <td>0.804825</td>\n",
       "      <td>-0.883081</td>\n",
       "    </tr>\n",
       "    <tr>\n",
       "      <th>3</th>\n",
       "      <td>0.215166</td>\n",
       "      <td>-1.940889</td>\n",
       "      <td>-0.362093</td>\n",
       "      <td>1.741050</td>\n",
       "      <td>-1.269128</td>\n",
       "      <td>0.512565</td>\n",
       "      <td>-0.073179</td>\n",
       "      <td>1.560004</td>\n",
       "      <td>0.345930</td>\n",
       "      <td>-0.994793</td>\n",
       "      <td>-0.204324</td>\n",
       "      <td>0.076584</td>\n",
       "      <td>-0.964451</td>\n",
       "      <td>1.020834</td>\n",
       "      <td>-0.304131</td>\n",
       "      <td>-0.138892</td>\n",
       "      <td>0.699533</td>\n",
       "    </tr>\n",
       "    <tr>\n",
       "      <th>4</th>\n",
       "      <td>-0.558171</td>\n",
       "      <td>-1.222094</td>\n",
       "      <td>1.067502</td>\n",
       "      <td>1.392688</td>\n",
       "      <td>-0.802959</td>\n",
       "      <td>0.389765</td>\n",
       "      <td>-0.064342</td>\n",
       "      <td>1.045127</td>\n",
       "      <td>0.897024</td>\n",
       "      <td>-1.211409</td>\n",
       "      <td>-0.794323</td>\n",
       "      <td>0.712192</td>\n",
       "      <td>1.236286</td>\n",
       "      <td>1.251350</td>\n",
       "      <td>-0.295475</td>\n",
       "      <td>-0.032531</td>\n",
       "      <td>-1.058521</td>\n",
       "    </tr>\n",
       "    <tr>\n",
       "      <th>5</th>\n",
       "      <td>-0.540562</td>\n",
       "      <td>-1.071011</td>\n",
       "      <td>0.209027</td>\n",
       "      <td>1.544068</td>\n",
       "      <td>-0.020278</td>\n",
       "      <td>0.060390</td>\n",
       "      <td>-1.056147</td>\n",
       "      <td>1.001912</td>\n",
       "      <td>0.203745</td>\n",
       "      <td>0.937195</td>\n",
       "      <td>-0.031243</td>\n",
       "      <td>-0.475171</td>\n",
       "      <td>0.920846</td>\n",
       "      <td>0.500098</td>\n",
       "      <td>-0.828265</td>\n",
       "      <td>-0.392382</td>\n",
       "      <td>0.570211</td>\n",
       "    </tr>\n",
       "    <tr>\n",
       "      <th>6</th>\n",
       "      <td>-0.022532</td>\n",
       "      <td>-1.252848</td>\n",
       "      <td>-1.037522</td>\n",
       "      <td>1.543743</td>\n",
       "      <td>-0.122363</td>\n",
       "      <td>0.183195</td>\n",
       "      <td>-0.989797</td>\n",
       "      <td>-0.377836</td>\n",
       "      <td>-0.368603</td>\n",
       "      <td>-0.445699</td>\n",
       "      <td>-0.437954</td>\n",
       "      <td>0.392039</td>\n",
       "      <td>-1.009114</td>\n",
       "      <td>0.360235</td>\n",
       "      <td>-0.521746</td>\n",
       "      <td>-1.079208</td>\n",
       "      <td>0.827729</td>\n",
       "    </tr>\n",
       "    <tr>\n",
       "      <th>7</th>\n",
       "      <td>-0.291132</td>\n",
       "      <td>0.904739</td>\n",
       "      <td>-2.677370</td>\n",
       "      <td>-0.781067</td>\n",
       "      <td>0.227697</td>\n",
       "      <td>-1.044612</td>\n",
       "      <td>1.459034</td>\n",
       "      <td>0.284752</td>\n",
       "      <td>-0.754368</td>\n",
       "      <td>0.886505</td>\n",
       "      <td>-1.162415</td>\n",
       "      <td>0.881283</td>\n",
       "      <td>-0.060078</td>\n",
       "      <td>-1.165579</td>\n",
       "      <td>-0.844814</td>\n",
       "      <td>-0.233477</td>\n",
       "      <td>-0.744633</td>\n",
       "    </tr>\n",
       "    <tr>\n",
       "      <th>8</th>\n",
       "      <td>-0.546186</td>\n",
       "      <td>1.247091</td>\n",
       "      <td>-1.750224</td>\n",
       "      <td>0.700062</td>\n",
       "      <td>0.810918</td>\n",
       "      <td>-0.337169</td>\n",
       "      <td>-1.163144</td>\n",
       "      <td>0.956307</td>\n",
       "      <td>-0.720820</td>\n",
       "      <td>1.143834</td>\n",
       "      <td>0.424122</td>\n",
       "      <td>0.038623</td>\n",
       "      <td>-0.610700</td>\n",
       "      <td>-0.369127</td>\n",
       "      <td>0.248824</td>\n",
       "      <td>-0.782235</td>\n",
       "      <td>-0.162509</td>\n",
       "    </tr>\n",
       "    <tr>\n",
       "      <th>9</th>\n",
       "      <td>-0.172568</td>\n",
       "      <td>-0.814169</td>\n",
       "      <td>0.988317</td>\n",
       "      <td>0.398663</td>\n",
       "      <td>-0.217941</td>\n",
       "      <td>-0.490880</td>\n",
       "      <td>-0.299620</td>\n",
       "      <td>-1.931092</td>\n",
       "      <td>0.667731</td>\n",
       "      <td>0.167716</td>\n",
       "      <td>0.359338</td>\n",
       "      <td>-0.701668</td>\n",
       "      <td>-0.795509</td>\n",
       "      <td>-0.628235</td>\n",
       "      <td>-1.226214</td>\n",
       "      <td>-1.900772</td>\n",
       "      <td>-1.031704</td>\n",
       "    </tr>\n",
       "  </tbody>\n",
       "</table>\n",
       "</div>"
      ],
      "text/plain": [
       "         0         1         2         3         4         5         6   \\\n",
       "0 -0.061128 -1.615087 -1.305139 -0.563619 -0.575463 -0.383214 -0.014492   \n",
       "1  0.645016 -0.048978 -1.880775  0.750845 -0.467320 -0.231654  0.562831   \n",
       "2  1.911785  0.511984 -0.968269 -0.115002  0.244470  0.003093  0.373183   \n",
       "3  0.215166 -1.940889 -0.362093  1.741050 -1.269128  0.512565 -0.073179   \n",
       "4 -0.558171 -1.222094  1.067502  1.392688 -0.802959  0.389765 -0.064342   \n",
       "5 -0.540562 -1.071011  0.209027  1.544068 -0.020278  0.060390 -1.056147   \n",
       "6 -0.022532 -1.252848 -1.037522  1.543743 -0.122363  0.183195 -0.989797   \n",
       "7 -0.291132  0.904739 -2.677370 -0.781067  0.227697 -1.044612  1.459034   \n",
       "8 -0.546186  1.247091 -1.750224  0.700062  0.810918 -0.337169 -1.163144   \n",
       "9 -0.172568 -0.814169  0.988317  0.398663 -0.217941 -0.490880 -0.299620   \n",
       "\n",
       "         7         8         9         10        11        12        13  \\\n",
       "0 -0.749639  0.679057  0.261988  0.577575 -0.358752 -0.053041  0.189156   \n",
       "1  1.030691  0.720103 -0.264934  0.315108  0.052287 -0.822601 -0.844270   \n",
       "2  0.513832 -0.225640 -0.287855  0.074223  1.336272  0.674833 -0.730281   \n",
       "3  1.560004  0.345930 -0.994793 -0.204324  0.076584 -0.964451  1.020834   \n",
       "4  1.045127  0.897024 -1.211409 -0.794323  0.712192  1.236286  1.251350   \n",
       "5  1.001912  0.203745  0.937195 -0.031243 -0.475171  0.920846  0.500098   \n",
       "6 -0.377836 -0.368603 -0.445699 -0.437954  0.392039 -1.009114  0.360235   \n",
       "7  0.284752 -0.754368  0.886505 -1.162415  0.881283 -0.060078 -1.165579   \n",
       "8  0.956307 -0.720820  1.143834  0.424122  0.038623 -0.610700 -0.369127   \n",
       "9 -1.931092  0.667731  0.167716  0.359338 -0.701668 -0.795509 -0.628235   \n",
       "\n",
       "         14        15        16  \n",
       "0 -0.651109 -0.530279  0.739153  \n",
       "1  0.928793  0.625666 -1.083692  \n",
       "2  0.588056  0.804825 -0.883081  \n",
       "3 -0.304131 -0.138892  0.699533  \n",
       "4 -0.295475 -0.032531 -1.058521  \n",
       "5 -0.828265 -0.392382  0.570211  \n",
       "6 -0.521746 -1.079208  0.827729  \n",
       "7 -0.844814 -0.233477 -0.744633  \n",
       "8  0.248824 -0.782235 -0.162509  \n",
       "9 -1.226214 -1.900772 -1.031704  "
      ]
     },
     "execution_count": 933,
     "metadata": {},
     "output_type": "execute_result"
    }
   ],
   "source": [
    "from sklearn.preprocessing import StandardScaler\n",
    "# feature1 = ['bpm', 'Calc A2', 'ws', 'dws', 'ows', 'Calc Overall', 'KP_Conf_Dif', 'X.Poss', \n",
    "#                    'Year_dif',  'Calc A', 'Calc B', \n",
    "#                  'DR.',  'Team_AdjEM_dif', 'player_type',\n",
    "#                  'Class', 'player_type', 'Pos_Ht', 'Calc C', 'off_rtg', 'def_rtg', 'ORtg']\n",
    "feature1 = ['games', 'games_started', 'mp_per_g', 'fg_per_g', 'fga_per_g', 'fg_pct', 'fg2_per_g', 'fg2a_per_g', \n",
    "            'fg2_pct', 'fg3_per_g', 'fg3a_per_g', 'fg3_pct', 'ft_per_g', 'fta_per_g', 'ft_pct', 'orb_per_g', \n",
    "            'drb_per_g', 'trb_per_g', 'ast_per_g', 'stl_per_g', 'blk_per_g', 'tov_per_g', 'pf_per_g', 'pts_per_g', \n",
    "            'sos', 'mp', 'fg', 'fga', 'fg2', 'fg2a', 'fg2_pct.1', 'fg3', 'fg3a', 'ft', 'fta', 'orb', 'drb', 'trb', \n",
    "            'ast', 'stl', 'blk', 'tov', 'pf', 'pts', \n",
    "    'fg_per_min', 'fga_per_min', 'fg2_per_min', 'fg2a_per_min', 'fg3_per_min', 'fg3a_per_min', 'ft_per_min', \n",
    "    'fta_per_min', 'trb_per_min', 'ast_per_min', 'stl_per_min', 'blk_per_min', 'tov_per_min', 'pf_per_min', \n",
    "    'pts_per_min', \n",
    "    'fg_per_poss', 'fga_per_poss', 'fg2_per_poss', 'fg2a_per_poss', 'fg3_per_poss', 'fg3a_per_poss', \n",
    "    'ft_per_poss', 'fta_per_poss', 'trb_per_poss', 'ast_per_poss', 'stl_per_poss', 'blk_per_poss', 'tov_per_poss', \n",
    "    'pf_per_poss', 'pts_per_poss', 'off_rtg', 'def_rtg', 'per', 'ts_pct', 'efg_pct', 'fg3a_per_fga_pct', \n",
    "    'fta_per_fga_pct', 'pprod', 'orb_pct', 'drb_pct', 'trb_pct', 'ast_pct', 'stl_pct', 'blk_pct', 'tov_pct', \n",
    "    'usg_pct', 'ows', 'dws', 'ws', 'ws_per_40', 'obpm', 'dbpm', 'bpm', 'year', 'Ht', 'Wt', 'G', 'S', 'X.Min', 'ORtg', \n",
    "    'X.Poss', 'X.Shots']\n",
    "# , 'X.Min', 'obpm', 'dbpm\n",
    "# , 'Calc_Overall_n1_Contr'\n",
    "y_try = df[['Calc_Overall_n1_Contr']]\n",
    "#y_try = df[['Contribution_n1']]\n",
    "df_temp = df\n",
    "#print(df_temp.columns)\n",
    "df_temp = df_temp.drop(['Calc_Overall_n1_Contr'], axis=1)\n",
    "#df_temp = df_temp.drop(['Contribution_n1'], axis=1)\n",
    "x_try = df_temp.loc[:, feature1].values\n",
    "#y_try = df.loc[:,['target']].values\n",
    "\n",
    "x_try = StandardScaler().fit_transform(x_try)\n",
    "\n",
    "from sklearn.decomposition import PCA\n",
    "\n",
    "pca = PCA(n_components=0.9, whiten=True)\n",
    "\n",
    "principalComponents = pca.fit_transform(x_try)\n",
    "\n",
    "principalDf = pd.DataFrame(data = principalComponents)\n",
    "#principalDf = pd.concat([principalDf, df_temp['player_type']], axis=1)\n",
    "principalDf.head(10)"
   ]
  },
  {
   "cell_type": "code",
   "execution_count": 934,
   "metadata": {},
   "outputs": [],
   "source": [
    "# loadings = pd.DataFrame(pca.components_.T, columns=['PC1', 'PC2', 'PC3', 'PC4', 'PC5', 'PC6', 'PC7', 'PC8', 'PC9', 'PCA10'], index=feature1)\n",
    "# pd.set_option('display.max_rows', None)\n",
    "# loadings"
   ]
  },
  {
   "cell_type": "code",
   "execution_count": 935,
   "metadata": {},
   "outputs": [
    {
     "data": {
      "text/plain": [
       "218.7779999999995"
      ]
     },
     "execution_count": 935,
     "metadata": {},
     "output_type": "execute_result"
    }
   ],
   "source": [
    "df['Calc A2_n1'].quantile(0.83)"
   ]
  },
  {
   "cell_type": "code",
   "execution_count": 936,
   "metadata": {},
   "outputs": [
    {
     "data": {
      "text/plain": [
       "array([[<Axes: title={'center': 'Calc A2_n1'}>]], dtype=object)"
      ]
     },
     "execution_count": 936,
     "metadata": {},
     "output_type": "execute_result"
    },
    {
     "data": {
      "image/png": "[encoded data removed]",
      "text/plain": [
       "<Figure size 640x480 with 1 Axes>"
      ]
     },
     "metadata": {},
     "output_type": "display_data"
    }
   ],
   "source": [
    "df.hist('Calc A2_n1', bins=30)"
   ]
  },
  {
   "cell_type": "code",
   "execution_count": 949,
   "metadata": {},
   "outputs": [
    {
     "name": "stdout",
     "output_type": "stream",
     "text": [
      "(9462, 12)\n",
      "(9462, 13)\n"
     ]
    },
    {
     "name": "stderr",
     "output_type": "stream",
     "text": [
      "/opt/anaconda3/lib/python3.11/site-packages/sklearn/ensemble/_gb.py:437: DataConversionWarning: A column-vector y was passed when a 1d array was expected. Please change the shape of y to (n_samples, ), for example using ravel().\n",
      "  y = column_or_1d(y, warn=True)\n"
     ]
    },
    {
     "name": "stdout",
     "output_type": "stream",
     "text": [
      "['player_type', '0']\n",
      "Accuracy:  27.74647887323944\n"
     ]
    },
    {
     "name": "stderr",
     "output_type": "stream",
     "text": [
      "/opt/anaconda3/lib/python3.11/site-packages/sklearn/ensemble/_gb.py:437: DataConversionWarning: A column-vector y was passed when a 1d array was expected. Please change the shape of y to (n_samples, ), for example using ravel().\n",
      "  y = column_or_1d(y, warn=True)\n"
     ]
    },
    {
     "name": "stdout",
     "output_type": "stream",
     "text": [
      "['player_type', '1']\n",
      "Accuracy:  28.30985915492958\n"
     ]
    },
    {
     "name": "stderr",
     "output_type": "stream",
     "text": [
      "/opt/anaconda3/lib/python3.11/site-packages/sklearn/ensemble/_gb.py:437: DataConversionWarning: A column-vector y was passed when a 1d array was expected. Please change the shape of y to (n_samples, ), for example using ravel().\n",
      "  y = column_or_1d(y, warn=True)\n"
     ]
    },
    {
     "name": "stdout",
     "output_type": "stream",
     "text": [
      "['player_type', '2']\n",
      "Accuracy:  28.380281690140848\n"
     ]
    },
    {
     "name": "stderr",
     "output_type": "stream",
     "text": [
      "/opt/anaconda3/lib/python3.11/site-packages/sklearn/ensemble/_gb.py:437: DataConversionWarning: A column-vector y was passed when a 1d array was expected. Please change the shape of y to (n_samples, ), for example using ravel().\n",
      "  y = column_or_1d(y, warn=True)\n"
     ]
    },
    {
     "name": "stdout",
     "output_type": "stream",
     "text": [
      "['player_type', '3']\n",
      "Accuracy:  29.507042253521128\n"
     ]
    },
    {
     "name": "stderr",
     "output_type": "stream",
     "text": [
      "/opt/anaconda3/lib/python3.11/site-packages/sklearn/ensemble/_gb.py:437: DataConversionWarning: A column-vector y was passed when a 1d array was expected. Please change the shape of y to (n_samples, ), for example using ravel().\n",
      "  y = column_or_1d(y, warn=True)\n"
     ]
    },
    {
     "name": "stdout",
     "output_type": "stream",
     "text": [
      "['player_type', '4']\n",
      "Accuracy:  26.901408450704224\n"
     ]
    },
    {
     "name": "stderr",
     "output_type": "stream",
     "text": [
      "/opt/anaconda3/lib/python3.11/site-packages/sklearn/ensemble/_gb.py:437: DataConversionWarning: A column-vector y was passed when a 1d array was expected. Please change the shape of y to (n_samples, ), for example using ravel().\n",
      "  y = column_or_1d(y, warn=True)\n"
     ]
    },
    {
     "name": "stdout",
     "output_type": "stream",
     "text": [
      "['player_type', '5']\n",
      "Accuracy:  31.760563380281692\n"
     ]
    },
    {
     "name": "stderr",
     "output_type": "stream",
     "text": [
      "/opt/anaconda3/lib/python3.11/site-packages/sklearn/ensemble/_gb.py:437: DataConversionWarning: A column-vector y was passed when a 1d array was expected. Please change the shape of y to (n_samples, ), for example using ravel().\n",
      "  y = column_or_1d(y, warn=True)\n"
     ]
    },
    {
     "name": "stdout",
     "output_type": "stream",
     "text": [
      "['player_type', '6']\n",
      "Accuracy:  28.661971830985916\n"
     ]
    },
    {
     "name": "stderr",
     "output_type": "stream",
     "text": [
      "/opt/anaconda3/lib/python3.11/site-packages/sklearn/ensemble/_gb.py:437: DataConversionWarning: A column-vector y was passed when a 1d array was expected. Please change the shape of y to (n_samples, ), for example using ravel().\n",
      "  y = column_or_1d(y, warn=True)\n"
     ]
    },
    {
     "name": "stdout",
     "output_type": "stream",
     "text": [
      "['player_type', '7']\n",
      "Accuracy:  27.605633802816904\n"
     ]
    },
    {
     "name": "stderr",
     "output_type": "stream",
     "text": [
      "/opt/anaconda3/lib/python3.11/site-packages/sklearn/ensemble/_gb.py:437: DataConversionWarning: A column-vector y was passed when a 1d array was expected. Please change the shape of y to (n_samples, ), for example using ravel().\n",
      "  y = column_or_1d(y, warn=True)\n"
     ]
    },
    {
     "name": "stdout",
     "output_type": "stream",
     "text": [
      "['player_type', '8']\n",
      "Accuracy:  28.591549295774648\n"
     ]
    },
    {
     "name": "stderr",
     "output_type": "stream",
     "text": [
      "/opt/anaconda3/lib/python3.11/site-packages/sklearn/ensemble/_gb.py:437: DataConversionWarning: A column-vector y was passed when a 1d array was expected. Please change the shape of y to (n_samples, ), for example using ravel().\n",
      "  y = column_or_1d(y, warn=True)\n"
     ]
    },
    {
     "name": "stdout",
     "output_type": "stream",
     "text": [
      "['player_type', '9']\n",
      "Accuracy:  27.11267605633803\n"
     ]
    },
    {
     "name": "stderr",
     "output_type": "stream",
     "text": [
      "/opt/anaconda3/lib/python3.11/site-packages/sklearn/ensemble/_gb.py:437: DataConversionWarning: A column-vector y was passed when a 1d array was expected. Please change the shape of y to (n_samples, ), for example using ravel().\n",
      "  y = column_or_1d(y, warn=True)\n"
     ]
    },
    {
     "name": "stdout",
     "output_type": "stream",
     "text": [
      "['player_type', '10']\n",
      "Accuracy:  27.816901408450708\n"
     ]
    },
    {
     "name": "stderr",
     "output_type": "stream",
     "text": [
      "/opt/anaconda3/lib/python3.11/site-packages/sklearn/ensemble/_gb.py:437: DataConversionWarning: A column-vector y was passed when a 1d array was expected. Please change the shape of y to (n_samples, ), for example using ravel().\n",
      "  y = column_or_1d(y, warn=True)\n"
     ]
    },
    {
     "name": "stdout",
     "output_type": "stream",
     "text": [
      "['player_type', '11']\n",
      "Accuracy:  26.97183098591549\n",
      "Adding:  5\n",
      "Rem Columns:  ['0', '1', '2', '3', '4', '5', '6', '7', '8', '9', '10', '11', 'player_type']\n",
      "Accuracy:  31.760563380281692\n",
      "['player_type', '5']\n"
     ]
    },
    {
     "name": "stderr",
     "output_type": "stream",
     "text": [
      "/opt/anaconda3/lib/python3.11/site-packages/sklearn/ensemble/_gb.py:437: DataConversionWarning: A column-vector y was passed when a 1d array was expected. Please change the shape of y to (n_samples, ), for example using ravel().\n",
      "  y = column_or_1d(y, warn=True)\n"
     ]
    },
    {
     "name": "stdout",
     "output_type": "stream",
     "text": [
      "['player_type', '5', '0']\n",
      "Accuracy:  33.23943661971831\n"
     ]
    },
    {
     "name": "stderr",
     "output_type": "stream",
     "text": [
      "/opt/anaconda3/lib/python3.11/site-packages/sklearn/ensemble/_gb.py:437: DataConversionWarning: A column-vector y was passed when a 1d array was expected. Please change the shape of y to (n_samples, ), for example using ravel().\n",
      "  y = column_or_1d(y, warn=True)\n"
     ]
    },
    {
     "name": "stdout",
     "output_type": "stream",
     "text": [
      "['player_type', '5', '1']\n",
      "Accuracy:  31.971830985915496\n"
     ]
    },
    {
     "name": "stderr",
     "output_type": "stream",
     "text": [
      "/opt/anaconda3/lib/python3.11/site-packages/sklearn/ensemble/_gb.py:437: DataConversionWarning: A column-vector y was passed when a 1d array was expected. Please change the shape of y to (n_samples, ), for example using ravel().\n",
      "  y = column_or_1d(y, warn=True)\n"
     ]
    },
    {
     "name": "stdout",
     "output_type": "stream",
     "text": [
      "['player_type', '5', '2']\n",
      "Accuracy:  31.197183098591548\n"
     ]
    },
    {
     "name": "stderr",
     "output_type": "stream",
     "text": [
      "/opt/anaconda3/lib/python3.11/site-packages/sklearn/ensemble/_gb.py:437: DataConversionWarning: A column-vector y was passed when a 1d array was expected. Please change the shape of y to (n_samples, ), for example using ravel().\n",
      "  y = column_or_1d(y, warn=True)\n"
     ]
    },
    {
     "name": "stdout",
     "output_type": "stream",
     "text": [
      "['player_type', '5', '3']\n",
      "Accuracy:  30.915492957746476\n"
     ]
    },
    {
     "name": "stderr",
     "output_type": "stream",
     "text": [
      "/opt/anaconda3/lib/python3.11/site-packages/sklearn/ensemble/_gb.py:437: DataConversionWarning: A column-vector y was passed when a 1d array was expected. Please change the shape of y to (n_samples, ), for example using ravel().\n",
      "  y = column_or_1d(y, warn=True)\n"
     ]
    },
    {
     "name": "stdout",
     "output_type": "stream",
     "text": [
      "['player_type', '5', '4']\n",
      "Accuracy:  30.915492957746476\n"
     ]
    },
    {
     "name": "stderr",
     "output_type": "stream",
     "text": [
      "/opt/anaconda3/lib/python3.11/site-packages/sklearn/ensemble/_gb.py:437: DataConversionWarning: A column-vector y was passed when a 1d array was expected. Please change the shape of y to (n_samples, ), for example using ravel().\n",
      "  y = column_or_1d(y, warn=True)\n"
     ]
    },
    {
     "name": "stdout",
     "output_type": "stream",
     "text": [
      "['player_type', '5', '6']\n",
      "Accuracy:  32.74647887323944\n"
     ]
    },
    {
     "name": "stderr",
     "output_type": "stream",
     "text": [
      "/opt/anaconda3/lib/python3.11/site-packages/sklearn/ensemble/_gb.py:437: DataConversionWarning: A column-vector y was passed when a 1d array was expected. Please change the shape of y to (n_samples, ), for example using ravel().\n",
      "  y = column_or_1d(y, warn=True)\n"
     ]
    },
    {
     "name": "stdout",
     "output_type": "stream",
     "text": [
      "['player_type', '5', '7']\n",
      "Accuracy:  30.84507042253521\n"
     ]
    },
    {
     "name": "stderr",
     "output_type": "stream",
     "text": [
      "/opt/anaconda3/lib/python3.11/site-packages/sklearn/ensemble/_gb.py:437: DataConversionWarning: A column-vector y was passed when a 1d array was expected. Please change the shape of y to (n_samples, ), for example using ravel().\n",
      "  y = column_or_1d(y, warn=True)\n"
     ]
    },
    {
     "name": "stdout",
     "output_type": "stream",
     "text": [
      "['player_type', '5', '8']\n",
      "Accuracy:  32.183098591549296\n"
     ]
    },
    {
     "name": "stderr",
     "output_type": "stream",
     "text": [
      "/opt/anaconda3/lib/python3.11/site-packages/sklearn/ensemble/_gb.py:437: DataConversionWarning: A column-vector y was passed when a 1d array was expected. Please change the shape of y to (n_samples, ), for example using ravel().\n",
      "  y = column_or_1d(y, warn=True)\n"
     ]
    },
    {
     "name": "stdout",
     "output_type": "stream",
     "text": [
      "['player_type', '5', '9']\n",
      "Accuracy:  30.140845070422532\n"
     ]
    },
    {
     "name": "stderr",
     "output_type": "stream",
     "text": [
      "/opt/anaconda3/lib/python3.11/site-packages/sklearn/ensemble/_gb.py:437: DataConversionWarning: A column-vector y was passed when a 1d array was expected. Please change the shape of y to (n_samples, ), for example using ravel().\n",
      "  y = column_or_1d(y, warn=True)\n"
     ]
    },
    {
     "name": "stdout",
     "output_type": "stream",
     "text": [
      "['player_type', '5', '10']\n",
      "Accuracy:  29.507042253521128\n"
     ]
    },
    {
     "name": "stderr",
     "output_type": "stream",
     "text": [
      "/opt/anaconda3/lib/python3.11/site-packages/sklearn/ensemble/_gb.py:437: DataConversionWarning: A column-vector y was passed when a 1d array was expected. Please change the shape of y to (n_samples, ), for example using ravel().\n",
      "  y = column_or_1d(y, warn=True)\n"
     ]
    },
    {
     "name": "stdout",
     "output_type": "stream",
     "text": [
      "['player_type', '5', '11']\n",
      "Accuracy:  31.408450704225356\n",
      "Adding:  0\n",
      "Rem Columns:  ['0', '1', '2', '3', '4', '6', '7', '8', '9', '10', '11', 'player_type']\n",
      "Accuracy:  33.23943661971831\n",
      "['player_type', '5', '0']\n"
     ]
    },
    {
     "name": "stderr",
     "output_type": "stream",
     "text": [
      "/opt/anaconda3/lib/python3.11/site-packages/sklearn/ensemble/_gb.py:437: DataConversionWarning: A column-vector y was passed when a 1d array was expected. Please change the shape of y to (n_samples, ), for example using ravel().\n",
      "  y = column_or_1d(y, warn=True)\n"
     ]
    },
    {
     "name": "stdout",
     "output_type": "stream",
     "text": [
      "['player_type', '5', '0', '1']\n",
      "Accuracy:  34.29577464788732\n"
     ]
    },
    {
     "name": "stderr",
     "output_type": "stream",
     "text": [
      "/opt/anaconda3/lib/python3.11/site-packages/sklearn/ensemble/_gb.py:437: DataConversionWarning: A column-vector y was passed when a 1d array was expected. Please change the shape of y to (n_samples, ), for example using ravel().\n",
      "  y = column_or_1d(y, warn=True)\n"
     ]
    },
    {
     "name": "stdout",
     "output_type": "stream",
     "text": [
      "['player_type', '5', '0', '2']\n",
      "Accuracy:  32.887323943661976\n"
     ]
    },
    {
     "name": "stderr",
     "output_type": "stream",
     "text": [
      "/opt/anaconda3/lib/python3.11/site-packages/sklearn/ensemble/_gb.py:437: DataConversionWarning: A column-vector y was passed when a 1d array was expected. Please change the shape of y to (n_samples, ), for example using ravel().\n",
      "  y = column_or_1d(y, warn=True)\n"
     ]
    },
    {
     "name": "stdout",
     "output_type": "stream",
     "text": [
      "['player_type', '5', '0', '3']\n",
      "Accuracy:  34.78873239436619\n"
     ]
    },
    {
     "name": "stderr",
     "output_type": "stream",
     "text": [
      "/opt/anaconda3/lib/python3.11/site-packages/sklearn/ensemble/_gb.py:437: DataConversionWarning: A column-vector y was passed when a 1d array was expected. Please change the shape of y to (n_samples, ), for example using ravel().\n",
      "  y = column_or_1d(y, warn=True)\n"
     ]
    },
    {
     "name": "stdout",
     "output_type": "stream",
     "text": [
      "['player_type', '5', '0', '4']\n",
      "Accuracy:  33.23943661971831\n"
     ]
    },
    {
     "name": "stderr",
     "output_type": "stream",
     "text": [
      "/opt/anaconda3/lib/python3.11/site-packages/sklearn/ensemble/_gb.py:437: DataConversionWarning: A column-vector y was passed when a 1d array was expected. Please change the shape of y to (n_samples, ), for example using ravel().\n",
      "  y = column_or_1d(y, warn=True)\n"
     ]
    },
    {
     "name": "stdout",
     "output_type": "stream",
     "text": [
      "['player_type', '5', '0', '6']\n",
      "Accuracy:  32.32394366197183\n"
     ]
    },
    {
     "name": "stderr",
     "output_type": "stream",
     "text": [
      "/opt/anaconda3/lib/python3.11/site-packages/sklearn/ensemble/_gb.py:437: DataConversionWarning: A column-vector y was passed when a 1d array was expected. Please change the shape of y to (n_samples, ), for example using ravel().\n",
      "  y = column_or_1d(y, warn=True)\n"
     ]
    },
    {
     "name": "stdout",
     "output_type": "stream",
     "text": [
      "['player_type', '5', '0', '7']\n",
      "Accuracy:  33.52112676056338\n"
     ]
    },
    {
     "name": "stderr",
     "output_type": "stream",
     "text": [
      "/opt/anaconda3/lib/python3.11/site-packages/sklearn/ensemble/_gb.py:437: DataConversionWarning: A column-vector y was passed when a 1d array was expected. Please change the shape of y to (n_samples, ), for example using ravel().\n",
      "  y = column_or_1d(y, warn=True)\n"
     ]
    },
    {
     "name": "stdout",
     "output_type": "stream",
     "text": [
      "['player_type', '5', '0', '8']\n",
      "Accuracy:  34.436619718309856\n"
     ]
    },
    {
     "name": "stderr",
     "output_type": "stream",
     "text": [
      "/opt/anaconda3/lib/python3.11/site-packages/sklearn/ensemble/_gb.py:437: DataConversionWarning: A column-vector y was passed when a 1d array was expected. Please change the shape of y to (n_samples, ), for example using ravel().\n",
      "  y = column_or_1d(y, warn=True)\n"
     ]
    },
    {
     "name": "stdout",
     "output_type": "stream",
     "text": [
      "['player_type', '5', '0', '9']\n",
      "Accuracy:  33.59154929577465\n"
     ]
    },
    {
     "name": "stderr",
     "output_type": "stream",
     "text": [
      "/opt/anaconda3/lib/python3.11/site-packages/sklearn/ensemble/_gb.py:437: DataConversionWarning: A column-vector y was passed when a 1d array was expected. Please change the shape of y to (n_samples, ), for example using ravel().\n",
      "  y = column_or_1d(y, warn=True)\n"
     ]
    },
    {
     "name": "stdout",
     "output_type": "stream",
     "text": [
      "['player_type', '5', '0', '10']\n",
      "Accuracy:  32.183098591549296\n"
     ]
    },
    {
     "name": "stderr",
     "output_type": "stream",
     "text": [
      "/opt/anaconda3/lib/python3.11/site-packages/sklearn/ensemble/_gb.py:437: DataConversionWarning: A column-vector y was passed when a 1d array was expected. Please change the shape of y to (n_samples, ), for example using ravel().\n",
      "  y = column_or_1d(y, warn=True)\n"
     ]
    },
    {
     "name": "stdout",
     "output_type": "stream",
     "text": [
      "['player_type', '5', '0', '11']\n",
      "Accuracy:  34.71830985915493\n",
      "Adding:  3\n",
      "Rem Columns:  ['1', '2', '3', '4', '6', '7', '8', '9', '10', '11', 'player_type']\n",
      "Accuracy:  34.78873239436619\n",
      "['player_type', '5', '0', '3']\n"
     ]
    },
    {
     "name": "stderr",
     "output_type": "stream",
     "text": [
      "/opt/anaconda3/lib/python3.11/site-packages/sklearn/ensemble/_gb.py:437: DataConversionWarning: A column-vector y was passed when a 1d array was expected. Please change the shape of y to (n_samples, ), for example using ravel().\n",
      "  y = column_or_1d(y, warn=True)\n"
     ]
    },
    {
     "name": "stdout",
     "output_type": "stream",
     "text": [
      "['player_type', '5', '0', '3', '1']\n",
      "Accuracy:  34.92957746478873\n"
     ]
    },
    {
     "name": "stderr",
     "output_type": "stream",
     "text": [
      "/opt/anaconda3/lib/python3.11/site-packages/sklearn/ensemble/_gb.py:437: DataConversionWarning: A column-vector y was passed when a 1d array was expected. Please change the shape of y to (n_samples, ), for example using ravel().\n",
      "  y = column_or_1d(y, warn=True)\n"
     ]
    },
    {
     "name": "stdout",
     "output_type": "stream",
     "text": [
      "['player_type', '5', '0', '3', '2']\n",
      "Accuracy:  34.225352112676056\n"
     ]
    },
    {
     "name": "stderr",
     "output_type": "stream",
     "text": [
      "/opt/anaconda3/lib/python3.11/site-packages/sklearn/ensemble/_gb.py:437: DataConversionWarning: A column-vector y was passed when a 1d array was expected. Please change the shape of y to (n_samples, ), for example using ravel().\n",
      "  y = column_or_1d(y, warn=True)\n"
     ]
    },
    {
     "name": "stdout",
     "output_type": "stream",
     "text": [
      "['player_type', '5', '0', '3', '4']\n",
      "Accuracy:  35.42253521126761\n"
     ]
    },
    {
     "name": "stderr",
     "output_type": "stream",
     "text": [
      "/opt/anaconda3/lib/python3.11/site-packages/sklearn/ensemble/_gb.py:437: DataConversionWarning: A column-vector y was passed when a 1d array was expected. Please change the shape of y to (n_samples, ), for example using ravel().\n",
      "  y = column_or_1d(y, warn=True)\n"
     ]
    },
    {
     "name": "stdout",
     "output_type": "stream",
     "text": [
      "['player_type', '5', '0', '3', '6']\n",
      "Accuracy:  34.647887323943664\n"
     ]
    },
    {
     "name": "stderr",
     "output_type": "stream",
     "text": [
      "/opt/anaconda3/lib/python3.11/site-packages/sklearn/ensemble/_gb.py:437: DataConversionWarning: A column-vector y was passed when a 1d array was expected. Please change the shape of y to (n_samples, ), for example using ravel().\n",
      "  y = column_or_1d(y, warn=True)\n"
     ]
    },
    {
     "name": "stdout",
     "output_type": "stream",
     "text": [
      "['player_type', '5', '0', '3', '7']\n",
      "Accuracy:  34.08450704225352\n"
     ]
    },
    {
     "name": "stderr",
     "output_type": "stream",
     "text": [
      "/opt/anaconda3/lib/python3.11/site-packages/sklearn/ensemble/_gb.py:437: DataConversionWarning: A column-vector y was passed when a 1d array was expected. Please change the shape of y to (n_samples, ), for example using ravel().\n",
      "  y = column_or_1d(y, warn=True)\n"
     ]
    },
    {
     "name": "stdout",
     "output_type": "stream",
     "text": [
      "['player_type', '5', '0', '3', '8']\n",
      "Accuracy:  34.154929577464785\n"
     ]
    },
    {
     "name": "stderr",
     "output_type": "stream",
     "text": [
      "/opt/anaconda3/lib/python3.11/site-packages/sklearn/ensemble/_gb.py:437: DataConversionWarning: A column-vector y was passed when a 1d array was expected. Please change the shape of y to (n_samples, ), for example using ravel().\n",
      "  y = column_or_1d(y, warn=True)\n"
     ]
    },
    {
     "name": "stdout",
     "output_type": "stream",
     "text": [
      "['player_type', '5', '0', '3', '9']\n",
      "Accuracy:  35.63380281690141\n"
     ]
    },
    {
     "name": "stderr",
     "output_type": "stream",
     "text": [
      "/opt/anaconda3/lib/python3.11/site-packages/sklearn/ensemble/_gb.py:437: DataConversionWarning: A column-vector y was passed when a 1d array was expected. Please change the shape of y to (n_samples, ), for example using ravel().\n",
      "  y = column_or_1d(y, warn=True)\n"
     ]
    },
    {
     "name": "stdout",
     "output_type": "stream",
     "text": [
      "['player_type', '5', '0', '3', '10']\n",
      "Accuracy:  34.154929577464785\n"
     ]
    },
    {
     "name": "stderr",
     "output_type": "stream",
     "text": [
      "/opt/anaconda3/lib/python3.11/site-packages/sklearn/ensemble/_gb.py:437: DataConversionWarning: A column-vector y was passed when a 1d array was expected. Please change the shape of y to (n_samples, ), for example using ravel().\n",
      "  y = column_or_1d(y, warn=True)\n"
     ]
    },
    {
     "name": "stdout",
     "output_type": "stream",
     "text": [
      "['player_type', '5', '0', '3', '11']\n",
      "Accuracy:  34.647887323943664\n",
      "Adding:  9\n",
      "Rem Columns:  ['1', '2', '4', '6', '7', '8', '9', '10', '11', 'player_type']\n",
      "Accuracy:  35.63380281690141\n",
      "['player_type', '5', '0', '3', '9']\n"
     ]
    },
    {
     "name": "stderr",
     "output_type": "stream",
     "text": [
      "/opt/anaconda3/lib/python3.11/site-packages/sklearn/ensemble/_gb.py:437: DataConversionWarning: A column-vector y was passed when a 1d array was expected. Please change the shape of y to (n_samples, ), for example using ravel().\n",
      "  y = column_or_1d(y, warn=True)\n"
     ]
    },
    {
     "name": "stdout",
     "output_type": "stream",
     "text": [
      "['player_type', '5', '0', '3', '9', '1']\n",
      "Accuracy:  37.25352112676056\n"
     ]
    },
    {
     "name": "stderr",
     "output_type": "stream",
     "text": [
      "/opt/anaconda3/lib/python3.11/site-packages/sklearn/ensemble/_gb.py:437: DataConversionWarning: A column-vector y was passed when a 1d array was expected. Please change the shape of y to (n_samples, ), for example using ravel().\n",
      "  y = column_or_1d(y, warn=True)\n"
     ]
    },
    {
     "name": "stdout",
     "output_type": "stream",
     "text": [
      "['player_type', '5', '0', '3', '9', '2']\n",
      "Accuracy:  35.845070422535215\n"
     ]
    },
    {
     "name": "stderr",
     "output_type": "stream",
     "text": [
      "/opt/anaconda3/lib/python3.11/site-packages/sklearn/ensemble/_gb.py:437: DataConversionWarning: A column-vector y was passed when a 1d array was expected. Please change the shape of y to (n_samples, ), for example using ravel().\n",
      "  y = column_or_1d(y, warn=True)\n"
     ]
    },
    {
     "name": "stdout",
     "output_type": "stream",
     "text": [
      "['player_type', '5', '0', '3', '9', '4']\n",
      "Accuracy:  35.91549295774648\n"
     ]
    },
    {
     "name": "stderr",
     "output_type": "stream",
     "text": [
      "/opt/anaconda3/lib/python3.11/site-packages/sklearn/ensemble/_gb.py:437: DataConversionWarning: A column-vector y was passed when a 1d array was expected. Please change the shape of y to (n_samples, ), for example using ravel().\n",
      "  y = column_or_1d(y, warn=True)\n"
     ]
    },
    {
     "name": "stdout",
     "output_type": "stream",
     "text": [
      "['player_type', '5', '0', '3', '9', '6']\n",
      "Accuracy:  34.50704225352113\n"
     ]
    },
    {
     "name": "stderr",
     "output_type": "stream",
     "text": [
      "/opt/anaconda3/lib/python3.11/site-packages/sklearn/ensemble/_gb.py:437: DataConversionWarning: A column-vector y was passed when a 1d array was expected. Please change the shape of y to (n_samples, ), for example using ravel().\n",
      "  y = column_or_1d(y, warn=True)\n"
     ]
    },
    {
     "name": "stdout",
     "output_type": "stream",
     "text": [
      "['player_type', '5', '0', '3', '9', '7']\n",
      "Accuracy:  35.140845070422536\n"
     ]
    },
    {
     "name": "stderr",
     "output_type": "stream",
     "text": [
      "/opt/anaconda3/lib/python3.11/site-packages/sklearn/ensemble/_gb.py:437: DataConversionWarning: A column-vector y was passed when a 1d array was expected. Please change the shape of y to (n_samples, ), for example using ravel().\n",
      "  y = column_or_1d(y, warn=True)\n"
     ]
    },
    {
     "name": "stdout",
     "output_type": "stream",
     "text": [
      "['player_type', '5', '0', '3', '9', '8']\n",
      "Accuracy:  35.42253521126761\n"
     ]
    },
    {
     "name": "stderr",
     "output_type": "stream",
     "text": [
      "/opt/anaconda3/lib/python3.11/site-packages/sklearn/ensemble/_gb.py:437: DataConversionWarning: A column-vector y was passed when a 1d array was expected. Please change the shape of y to (n_samples, ), for example using ravel().\n",
      "  y = column_or_1d(y, warn=True)\n"
     ]
    },
    {
     "name": "stdout",
     "output_type": "stream",
     "text": [
      "['player_type', '5', '0', '3', '9', '10']\n",
      "Accuracy:  35.352112676056336\n"
     ]
    },
    {
     "name": "stderr",
     "output_type": "stream",
     "text": [
      "/opt/anaconda3/lib/python3.11/site-packages/sklearn/ensemble/_gb.py:437: DataConversionWarning: A column-vector y was passed when a 1d array was expected. Please change the shape of y to (n_samples, ), for example using ravel().\n",
      "  y = column_or_1d(y, warn=True)\n"
     ]
    },
    {
     "name": "stdout",
     "output_type": "stream",
     "text": [
      "['player_type', '5', '0', '3', '9', '11']\n",
      "Accuracy:  36.54929577464789\n",
      "Adding:  1\n",
      "Rem Columns:  ['1', '2', '4', '6', '7', '8', '10', '11', 'player_type']\n",
      "Accuracy:  37.25352112676056\n",
      "['player_type', '5', '0', '3', '9', '1']\n"
     ]
    },
    {
     "name": "stderr",
     "output_type": "stream",
     "text": [
      "/opt/anaconda3/lib/python3.11/site-packages/sklearn/ensemble/_gb.py:437: DataConversionWarning: A column-vector y was passed when a 1d array was expected. Please change the shape of y to (n_samples, ), for example using ravel().\n",
      "  y = column_or_1d(y, warn=True)\n"
     ]
    },
    {
     "name": "stdout",
     "output_type": "stream",
     "text": [
      "['player_type', '5', '0', '3', '9', '1', '2']\n",
      "Accuracy:  37.46478873239437\n"
     ]
    },
    {
     "name": "stderr",
     "output_type": "stream",
     "text": [
      "/opt/anaconda3/lib/python3.11/site-packages/sklearn/ensemble/_gb.py:437: DataConversionWarning: A column-vector y was passed when a 1d array was expected. Please change the shape of y to (n_samples, ), for example using ravel().\n",
      "  y = column_or_1d(y, warn=True)\n"
     ]
    },
    {
     "name": "stdout",
     "output_type": "stream",
     "text": [
      "['player_type', '5', '0', '3', '9', '1', '4']\n",
      "Accuracy:  36.690140845070424\n"
     ]
    },
    {
     "name": "stderr",
     "output_type": "stream",
     "text": [
      "/opt/anaconda3/lib/python3.11/site-packages/sklearn/ensemble/_gb.py:437: DataConversionWarning: A column-vector y was passed when a 1d array was expected. Please change the shape of y to (n_samples, ), for example using ravel().\n",
      "  y = column_or_1d(y, warn=True)\n"
     ]
    },
    {
     "name": "stdout",
     "output_type": "stream",
     "text": [
      "['player_type', '5', '0', '3', '9', '1', '6']\n",
      "Accuracy:  36.971830985915496\n"
     ]
    },
    {
     "name": "stderr",
     "output_type": "stream",
     "text": [
      "/opt/anaconda3/lib/python3.11/site-packages/sklearn/ensemble/_gb.py:437: DataConversionWarning: A column-vector y was passed when a 1d array was expected. Please change the shape of y to (n_samples, ), for example using ravel().\n",
      "  y = column_or_1d(y, warn=True)\n"
     ]
    },
    {
     "name": "stdout",
     "output_type": "stream",
     "text": [
      "['player_type', '5', '0', '3', '9', '1', '7']\n",
      "Accuracy:  36.12676056338028\n"
     ]
    },
    {
     "name": "stderr",
     "output_type": "stream",
     "text": [
      "/opt/anaconda3/lib/python3.11/site-packages/sklearn/ensemble/_gb.py:437: DataConversionWarning: A column-vector y was passed when a 1d array was expected. Please change the shape of y to (n_samples, ), for example using ravel().\n",
      "  y = column_or_1d(y, warn=True)\n"
     ]
    },
    {
     "name": "stdout",
     "output_type": "stream",
     "text": [
      "['player_type', '5', '0', '3', '9', '1', '8']\n",
      "Accuracy:  37.32394366197183\n"
     ]
    },
    {
     "name": "stderr",
     "output_type": "stream",
     "text": [
      "/opt/anaconda3/lib/python3.11/site-packages/sklearn/ensemble/_gb.py:437: DataConversionWarning: A column-vector y was passed when a 1d array was expected. Please change the shape of y to (n_samples, ), for example using ravel().\n",
      "  y = column_or_1d(y, warn=True)\n"
     ]
    },
    {
     "name": "stdout",
     "output_type": "stream",
     "text": [
      "['player_type', '5', '0', '3', '9', '1', '10']\n",
      "Accuracy:  36.12676056338028\n"
     ]
    },
    {
     "name": "stderr",
     "output_type": "stream",
     "text": [
      "/opt/anaconda3/lib/python3.11/site-packages/sklearn/ensemble/_gb.py:437: DataConversionWarning: A column-vector y was passed when a 1d array was expected. Please change the shape of y to (n_samples, ), for example using ravel().\n",
      "  y = column_or_1d(y, warn=True)\n"
     ]
    },
    {
     "name": "stdout",
     "output_type": "stream",
     "text": [
      "['player_type', '5', '0', '3', '9', '1', '11']\n",
      "Accuracy:  37.816901408450704\n",
      "Adding:  11\n",
      "Rem Columns:  ['2', '4', '6', '7', '8', '10', '11', 'player_type']\n",
      "Accuracy:  37.816901408450704\n",
      "['player_type', '5', '0', '3', '9', '1', '11']\n"
     ]
    },
    {
     "name": "stderr",
     "output_type": "stream",
     "text": [
      "/opt/anaconda3/lib/python3.11/site-packages/sklearn/ensemble/_gb.py:437: DataConversionWarning: A column-vector y was passed when a 1d array was expected. Please change the shape of y to (n_samples, ), for example using ravel().\n",
      "  y = column_or_1d(y, warn=True)\n"
     ]
    },
    {
     "name": "stdout",
     "output_type": "stream",
     "text": [
      "['player_type', '5', '0', '3', '9', '1', '11', '2']\n",
      "Accuracy:  37.88732394366197\n"
     ]
    },
    {
     "name": "stderr",
     "output_type": "stream",
     "text": [
      "/opt/anaconda3/lib/python3.11/site-packages/sklearn/ensemble/_gb.py:437: DataConversionWarning: A column-vector y was passed when a 1d array was expected. Please change the shape of y to (n_samples, ), for example using ravel().\n",
      "  y = column_or_1d(y, warn=True)\n"
     ]
    },
    {
     "name": "stdout",
     "output_type": "stream",
     "text": [
      "['player_type', '5', '0', '3', '9', '1', '11', '4']\n",
      "Accuracy:  37.32394366197183\n"
     ]
    },
    {
     "name": "stderr",
     "output_type": "stream",
     "text": [
      "/opt/anaconda3/lib/python3.11/site-packages/sklearn/ensemble/_gb.py:437: DataConversionWarning: A column-vector y was passed when a 1d array was expected. Please change the shape of y to (n_samples, ), for example using ravel().\n",
      "  y = column_or_1d(y, warn=True)\n"
     ]
    },
    {
     "name": "stdout",
     "output_type": "stream",
     "text": [
      "['player_type', '5', '0', '3', '9', '1', '11', '6']\n",
      "Accuracy:  37.53521126760563\n"
     ]
    },
    {
     "name": "stderr",
     "output_type": "stream",
     "text": [
      "/opt/anaconda3/lib/python3.11/site-packages/sklearn/ensemble/_gb.py:437: DataConversionWarning: A column-vector y was passed when a 1d array was expected. Please change the shape of y to (n_samples, ), for example using ravel().\n",
      "  y = column_or_1d(y, warn=True)\n"
     ]
    },
    {
     "name": "stdout",
     "output_type": "stream",
     "text": [
      "['player_type', '5', '0', '3', '9', '1', '11', '7']\n",
      "Accuracy:  37.605633802816904\n"
     ]
    },
    {
     "name": "stderr",
     "output_type": "stream",
     "text": [
      "/opt/anaconda3/lib/python3.11/site-packages/sklearn/ensemble/_gb.py:437: DataConversionWarning: A column-vector y was passed when a 1d array was expected. Please change the shape of y to (n_samples, ), for example using ravel().\n",
      "  y = column_or_1d(y, warn=True)\n"
     ]
    },
    {
     "name": "stdout",
     "output_type": "stream",
     "text": [
      "['player_type', '5', '0', '3', '9', '1', '11', '8']\n",
      "Accuracy:  37.74647887323944\n"
     ]
    },
    {
     "name": "stderr",
     "output_type": "stream",
     "text": [
      "/opt/anaconda3/lib/python3.11/site-packages/sklearn/ensemble/_gb.py:437: DataConversionWarning: A column-vector y was passed when a 1d array was expected. Please change the shape of y to (n_samples, ), for example using ravel().\n",
      "  y = column_or_1d(y, warn=True)\n"
     ]
    },
    {
     "name": "stdout",
     "output_type": "stream",
     "text": [
      "['player_type', '5', '0', '3', '9', '1', '11', '10']\n",
      "Accuracy:  36.76056338028169\n",
      "Adding:  2\n",
      "Rem Columns:  ['2', '4', '6', '7', '8', '10', 'player_type']\n",
      "Accuracy:  37.88732394366197\n",
      "['player_type', '5', '0', '3', '9', '1', '11', '2']\n"
     ]
    },
    {
     "name": "stderr",
     "output_type": "stream",
     "text": [
      "/opt/anaconda3/lib/python3.11/site-packages/sklearn/ensemble/_gb.py:437: DataConversionWarning: A column-vector y was passed when a 1d array was expected. Please change the shape of y to (n_samples, ), for example using ravel().\n",
      "  y = column_or_1d(y, warn=True)\n"
     ]
    },
    {
     "name": "stdout",
     "output_type": "stream",
     "text": [
      "['player_type', '5', '0', '3', '9', '1', '11', '2', '4']\n",
      "Accuracy:  37.53521126760563\n"
     ]
    },
    {
     "name": "stderr",
     "output_type": "stream",
     "text": [
      "/opt/anaconda3/lib/python3.11/site-packages/sklearn/ensemble/_gb.py:437: DataConversionWarning: A column-vector y was passed when a 1d array was expected. Please change the shape of y to (n_samples, ), for example using ravel().\n",
      "  y = column_or_1d(y, warn=True)\n"
     ]
    },
    {
     "name": "stdout",
     "output_type": "stream",
     "text": [
      "['player_type', '5', '0', '3', '9', '1', '11', '2', '6']\n",
      "Accuracy:  37.25352112676056\n"
     ]
    },
    {
     "name": "stderr",
     "output_type": "stream",
     "text": [
      "/opt/anaconda3/lib/python3.11/site-packages/sklearn/ensemble/_gb.py:437: DataConversionWarning: A column-vector y was passed when a 1d array was expected. Please change the shape of y to (n_samples, ), for example using ravel().\n",
      "  y = column_or_1d(y, warn=True)\n"
     ]
    },
    {
     "name": "stdout",
     "output_type": "stream",
     "text": [
      "['player_type', '5', '0', '3', '9', '1', '11', '2', '7']\n",
      "Accuracy:  37.95774647887324\n"
     ]
    },
    {
     "name": "stderr",
     "output_type": "stream",
     "text": [
      "/opt/anaconda3/lib/python3.11/site-packages/sklearn/ensemble/_gb.py:437: DataConversionWarning: A column-vector y was passed when a 1d array was expected. Please change the shape of y to (n_samples, ), for example using ravel().\n",
      "  y = column_or_1d(y, warn=True)\n"
     ]
    },
    {
     "name": "stdout",
     "output_type": "stream",
     "text": [
      "['player_type', '5', '0', '3', '9', '1', '11', '2', '8']\n",
      "Accuracy:  38.028169014084504\n"
     ]
    },
    {
     "name": "stderr",
     "output_type": "stream",
     "text": [
      "/opt/anaconda3/lib/python3.11/site-packages/sklearn/ensemble/_gb.py:437: DataConversionWarning: A column-vector y was passed when a 1d array was expected. Please change the shape of y to (n_samples, ), for example using ravel().\n",
      "  y = column_or_1d(y, warn=True)\n"
     ]
    },
    {
     "name": "stdout",
     "output_type": "stream",
     "text": [
      "['player_type', '5', '0', '3', '9', '1', '11', '2', '10']\n",
      "Accuracy:  37.32394366197183\n",
      "Adding:  8\n",
      "Rem Columns:  ['4', '6', '7', '8', '10', 'player_type']\n",
      "Accuracy:  38.028169014084504\n",
      "['player_type', '5', '0', '3', '9', '1', '11', '2', '8']\n"
     ]
    },
    {
     "name": "stderr",
     "output_type": "stream",
     "text": [
      "/opt/anaconda3/lib/python3.11/site-packages/sklearn/ensemble/_gb.py:437: DataConversionWarning: A column-vector y was passed when a 1d array was expected. Please change the shape of y to (n_samples, ), for example using ravel().\n",
      "  y = column_or_1d(y, warn=True)\n"
     ]
    },
    {
     "name": "stdout",
     "output_type": "stream",
     "text": [
      "['player_type', '5', '0', '3', '9', '1', '11', '2', '8', '4']\n",
      "Accuracy:  38.87323943661972\n"
     ]
    },
    {
     "name": "stderr",
     "output_type": "stream",
     "text": [
      "/opt/anaconda3/lib/python3.11/site-packages/sklearn/ensemble/_gb.py:437: DataConversionWarning: A column-vector y was passed when a 1d array was expected. Please change the shape of y to (n_samples, ), for example using ravel().\n",
      "  y = column_or_1d(y, warn=True)\n"
     ]
    },
    {
     "name": "stdout",
     "output_type": "stream",
     "text": [
      "['player_type', '5', '0', '3', '9', '1', '11', '2', '8', '6']\n",
      "Accuracy:  38.16901408450704\n"
     ]
    },
    {
     "name": "stderr",
     "output_type": "stream",
     "text": [
      "/opt/anaconda3/lib/python3.11/site-packages/sklearn/ensemble/_gb.py:437: DataConversionWarning: A column-vector y was passed when a 1d array was expected. Please change the shape of y to (n_samples, ), for example using ravel().\n",
      "  y = column_or_1d(y, warn=True)\n"
     ]
    },
    {
     "name": "stdout",
     "output_type": "stream",
     "text": [
      "['player_type', '5', '0', '3', '9', '1', '11', '2', '8', '7']\n",
      "Accuracy:  38.45070422535211\n"
     ]
    },
    {
     "name": "stderr",
     "output_type": "stream",
     "text": [
      "/opt/anaconda3/lib/python3.11/site-packages/sklearn/ensemble/_gb.py:437: DataConversionWarning: A column-vector y was passed when a 1d array was expected. Please change the shape of y to (n_samples, ), for example using ravel().\n",
      "  y = column_or_1d(y, warn=True)\n"
     ]
    },
    {
     "name": "stdout",
     "output_type": "stream",
     "text": [
      "['player_type', '5', '0', '3', '9', '1', '11', '2', '8', '10']\n",
      "Accuracy:  37.816901408450704\n",
      "Adding:  4\n",
      "Rem Columns:  ['4', '6', '7', '10', 'player_type']\n",
      "Accuracy:  38.87323943661972\n",
      "['player_type', '5', '0', '3', '9', '1', '11', '2', '8', '4']\n"
     ]
    },
    {
     "name": "stderr",
     "output_type": "stream",
     "text": [
      "/opt/anaconda3/lib/python3.11/site-packages/sklearn/ensemble/_gb.py:437: DataConversionWarning: A column-vector y was passed when a 1d array was expected. Please change the shape of y to (n_samples, ), for example using ravel().\n",
      "  y = column_or_1d(y, warn=True)\n"
     ]
    },
    {
     "name": "stdout",
     "output_type": "stream",
     "text": [
      "['player_type', '5', '0', '3', '9', '1', '11', '2', '8', '4', '6']\n",
      "Accuracy:  38.16901408450704\n"
     ]
    },
    {
     "name": "stderr",
     "output_type": "stream",
     "text": [
      "/opt/anaconda3/lib/python3.11/site-packages/sklearn/ensemble/_gb.py:437: DataConversionWarning: A column-vector y was passed when a 1d array was expected. Please change the shape of y to (n_samples, ), for example using ravel().\n",
      "  y = column_or_1d(y, warn=True)\n"
     ]
    },
    {
     "name": "stdout",
     "output_type": "stream",
     "text": [
      "['player_type', '5', '0', '3', '9', '1', '11', '2', '8', '4', '7']\n",
      "Accuracy:  37.67605633802817\n"
     ]
    },
    {
     "name": "stderr",
     "output_type": "stream",
     "text": [
      "/opt/anaconda3/lib/python3.11/site-packages/sklearn/ensemble/_gb.py:437: DataConversionWarning: A column-vector y was passed when a 1d array was expected. Please change the shape of y to (n_samples, ), for example using ravel().\n",
      "  y = column_or_1d(y, warn=True)\n"
     ]
    },
    {
     "name": "stdout",
     "output_type": "stream",
     "text": [
      "['player_type', '5', '0', '3', '9', '1', '11', '2', '8', '4', '10']\n",
      "Accuracy:  38.16901408450704\n",
      "Fails 0.38873239436619716 0.3816901408450704\n",
      "['player_type', '5', '0', '3', '9', '1', '11', '2', '8', '4']\n"
     ]
    }
   ],
   "source": [
    "from sklearn.ensemble import RandomForestClassifier\n",
    "from sklearn.naive_bayes import GaussianNB\n",
    "from sklearn import neighbors\n",
    "from sklearn import svm\n",
    "from sklearn.ensemble import GradientBoostingClassifier\n",
    "\n",
    "\n",
    "#df_test1 = principalDf - This one\n",
    "df_test1 = df[['bpm', 'Calc A2', 'ws', 'Calc Overall A', 'Calc Overall A2', 'Calc Overall A3',\n",
    "                 'KP_Conf_Dif', 'X.Poss', 'Year_dif',  'Calc A', 'Calc B', 'Calc A3',\n",
    "                 'DR.',  'Team_AdjEM_dif', 'player_type',\n",
    "                 'Class', 'Calc C', 'ORtg',\n",
    "                 'Contribution_n1', 'Calc_Overall_n1_Contr', \n",
    "                 'per', 'efg_pct', 'fta_per_fga_pct', 'pprod', 'orb_pct', 'usg_pct', 'tov_pct']]\n",
    "df_test1 = df_test1.reset_index()\n",
    "columns = list(df_test1.columns)\n",
    "columns.remove('Contribution_n1')\n",
    "\n",
    "#columns.remove('Calc_Overall_Contr'),\n",
    "columns.remove('Calc_Overall_n1_Contr')\n",
    "# PCA\n",
    "from sklearn.preprocessing import StandardScaler\n",
    "#y_try = df[['Calc_Overall_n1_Contr']]\n",
    "y_try = df_test1[['Contribution_n1']]\n",
    "df_temp = df_test1\n",
    "#print(df_temp.columns)\n",
    "df_temp = df_temp.drop(['Calc_Overall_n1_Contr', 'Contribution_n1'], axis=1)\n",
    "#df_temp = df_temp.drop(['Contribution_n1'], axis=1)\n",
    "x_try = df_temp.loc[:, columns].values\n",
    "#y_try = df.loc[:,['target']].values\n",
    "\n",
    "x_try = StandardScaler().fit_transform(x_try)\n",
    "\n",
    "from sklearn.decomposition import PCA\n",
    "\n",
    "pca = PCA(n_components=0.9, whiten=True)\n",
    "\n",
    "principalComponents = pca.fit_transform(x_try)\n",
    "\n",
    "principalDf = pd.DataFrame(data = principalComponents)\n",
    "principalDf.columns = principalDf.columns.astype(str)\n",
    "print(principalDf.shape)\n",
    "principalDf = pd.merge(principalDf, df_test1['player_type'],  left_index=True, right_index=True, how='left')\n",
    "print(principalDf.shape)\n",
    "# 'games', 'games_started', 'Calc A', 'Calc B', 'ast_per_poss', 'pts_per_poss', 'Ht', 'Wt', 'stl_per_poss', 'blk_per_poss', , ,\n",
    "#df_test1 = df_test1[df_test1['player_type']==0],\n",
    "# 'Calc Overall', 'Calc_Overall_Contr',\n",
    "#'player_type', 'KP_Rk_Dif', 'ORtg', 'X.Min',,\n",
    "#'Team_AdjEM_dif', 'X.Min_n1', 'X.Poss_n1',,\n",
    "#df_test1 = df_test1[df_test1['player_type']==0],\n",
    "#columns = list(df_test1.columns)\n",
    "\n",
    "columns.remove('player_type')\n",
    "#columns.remove('Calc A2')\n",
    "#,\n",
    "keep_col = ['player_type'] #- This one\n",
    "#keep_col = []\n",
    "rem_columns = list(principalDf.columns)\n",
    "#rem_columns = columns\n",
    "check = True\n",
    "accuracy_end = 0\n",
    "while len(rem_columns)>0 and check == True:\n",
    "    acc_check = 0\n",
    "\n",
    "    for col in rem_columns:\n",
    "        if col=='player_type': continue\n",
    "        X = principalDf[keep_col + [col]]\n",
    "    # X = df_test1[['player_type', 'X.Poss', 'X.Min', 'X.Min_n1', 'ORtg', ,\n",
    "    #                       'Year_dif', 'stl_per_poss', 'blk_per_poss', ,\n",
    "    #                       'DR.', 'KP_Rk_Dif', 'Calc A']],\n",
    "        #y = principalDf[['Contribution_n1']]\n",
    "        #y = df_test1[['Calc_Overall_n1_Contr']]\n",
    "        y = y_try\n",
    "        #y = df_test1[['Contribution_n1']],\n",
    "        # Model,\n",
    "        seed = 7\n",
    "        test_size = 0.15\n",
    "        X_train, X_test, y_train, y_test = train_test_split(X, y, test_size=test_size, random_state=seed)\n",
    "        # Random Forrest\n",
    "        # model = RandomForestClassifier()\n",
    "        # model.fit(X_train, y_train)\n",
    "\n",
    "        # Naive-Bayes\n",
    "        # model = GaussianNB()\n",
    "        # model.fit(X_train, y_train)\n",
    "\n",
    "        # Nearest Neighbors\n",
    "        # model = neighbors.KNeighborsClassifier()\n",
    "        # model.fit(X_train, y_train)\n",
    "\n",
    "        # Support Vector Machine\n",
    "        # model = svm.SVC(kernel='linear')\n",
    "        # model.fit(X_train, y_train)\n",
    "        \n",
    "        # Gradient Boosting Classifier\n",
    "        model = GradientBoostingClassifier()\n",
    "        model.fit(X_train, y_train)\n",
    "    \n",
    "        # Find Accuracy,\n",
    "        accuracy = model.score(X_test, y_test)\n",
    "        # y_pred = model.predict(X_test),\n",
    "        # predictions = [round(value) for value in y_pred],\n",
    "        # accuracy = accuracy_score(y_test, predictions),\n",
    "        print(keep_col + [col])\n",
    "        print('Accuracy: ', accuracy * 100)\n",
    "        if accuracy > acc_check:\n",
    "            acc_check = accuracy\n",
    "            col_to_add = col\n",
    "            check = True\n",
    "    #print(\\Adding: \\, col_to_add),\n",
    "    \n",
    "    #print(\\Rem Columns: \\, rem_columns),\n",
    "    #keep_col = keep_col + [col_to_add],\n",
    "    if accuracy_end < acc_check:\n",
    "        print('Adding: ', col_to_add)\n",
    "        print('Rem Columns: ', rem_columns)\n",
    "        accuracy_end = acc_check\n",
    "        print('Accuracy: ', accuracy_end * 100)\n",
    "        rem_columns.remove(col_to_add)\n",
    "        keep_col = keep_col + [col_to_add]\n",
    "    else:\n",
    "        print('Fails', accuracy_end, acc_check)\n",
    "        check = False\n",
    "    print(keep_col)\n"
   ]
  },
  {
   "cell_type": "code",
   "execution_count": 950,
   "metadata": {},
   "outputs": [
    {
     "name": "stdout",
     "output_type": "stream",
     "text": [
      "['player_type', '5', '0', '3', '9', '1', '11', '2', '8', '4']\n"
     ]
    }
   ],
   "source": [
    "print(keep_col)"
   ]
  },
  {
   "cell_type": "code",
   "execution_count": 951,
   "metadata": {},
   "outputs": [
    {
     "name": "stdout",
     "output_type": "stream",
     "text": [
      "0.38873239436619716 0.3816901408450704\n"
     ]
    }
   ],
   "source": [
    "print(accuracy_end, acc_check)"
   ]
  },
  {
   "cell_type": "code",
   "execution_count": 952,
   "metadata": {},
   "outputs": [
    {
     "data": {
      "text/html": [
       "<div>\n",
       "<style scoped>\n",
       "    .dataframe tbody tr th:only-of-type {\n",
       "        vertical-align: middle;\n",
       "    }\n",
       "\n",
       "    .dataframe tbody tr th {\n",
       "        vertical-align: top;\n",
       "    }\n",
       "\n",
       "    .dataframe thead th {\n",
       "        text-align: right;\n",
       "    }\n",
       "</style>\n",
       "<table border=\"1\" class=\"dataframe\">\n",
       "  <thead>\n",
       "    <tr style=\"text-align: right;\">\n",
       "      <th></th>\n",
       "      <th></th>\n",
       "      <th>Better</th>\n",
       "    </tr>\n",
       "    <tr>\n",
       "      <th>Actual</th>\n",
       "      <th>Predictions</th>\n",
       "      <th></th>\n",
       "    </tr>\n",
       "  </thead>\n",
       "  <tbody>\n",
       "    <tr>\n",
       "      <th rowspan=\"6\" valign=\"top\">0</th>\n",
       "      <th>0</th>\n",
       "      <td>11</td>\n",
       "    </tr>\n",
       "    <tr>\n",
       "      <th>1</th>\n",
       "      <td>16</td>\n",
       "    </tr>\n",
       "    <tr>\n",
       "      <th>2</th>\n",
       "      <td>19</td>\n",
       "    </tr>\n",
       "    <tr>\n",
       "      <th>3</th>\n",
       "      <td>6</td>\n",
       "    </tr>\n",
       "    <tr>\n",
       "      <th>4</th>\n",
       "      <td>1</td>\n",
       "    </tr>\n",
       "    <tr>\n",
       "      <th>6</th>\n",
       "      <td>1</td>\n",
       "    </tr>\n",
       "    <tr>\n",
       "      <th rowspan=\"6\" valign=\"top\">1</th>\n",
       "      <th>0</th>\n",
       "      <td>8</td>\n",
       "    </tr>\n",
       "    <tr>\n",
       "      <th>1</th>\n",
       "      <td>47</td>\n",
       "    </tr>\n",
       "    <tr>\n",
       "      <th>2</th>\n",
       "      <td>58</td>\n",
       "    </tr>\n",
       "    <tr>\n",
       "      <th>3</th>\n",
       "      <td>33</td>\n",
       "    </tr>\n",
       "    <tr>\n",
       "      <th>4</th>\n",
       "      <td>4</td>\n",
       "    </tr>\n",
       "    <tr>\n",
       "      <th>6</th>\n",
       "      <td>2</td>\n",
       "    </tr>\n",
       "    <tr>\n",
       "      <th rowspan=\"7\" valign=\"top\">2</th>\n",
       "      <th>0</th>\n",
       "      <td>5</td>\n",
       "    </tr>\n",
       "    <tr>\n",
       "      <th>1</th>\n",
       "      <td>30</td>\n",
       "    </tr>\n",
       "    <tr>\n",
       "      <th>2</th>\n",
       "      <td>144</td>\n",
       "    </tr>\n",
       "    <tr>\n",
       "      <th>3</th>\n",
       "      <td>128</td>\n",
       "    </tr>\n",
       "    <tr>\n",
       "      <th>4</th>\n",
       "      <td>15</td>\n",
       "    </tr>\n",
       "    <tr>\n",
       "      <th>5</th>\n",
       "      <td>1</td>\n",
       "    </tr>\n",
       "    <tr>\n",
       "      <th>6</th>\n",
       "      <td>6</td>\n",
       "    </tr>\n",
       "    <tr>\n",
       "      <th rowspan=\"7\" valign=\"top\">3</th>\n",
       "      <th>0</th>\n",
       "      <td>1</td>\n",
       "    </tr>\n",
       "    <tr>\n",
       "      <th>1</th>\n",
       "      <td>9</td>\n",
       "    </tr>\n",
       "    <tr>\n",
       "      <th>2</th>\n",
       "      <td>98</td>\n",
       "    </tr>\n",
       "    <tr>\n",
       "      <th>3</th>\n",
       "      <td>211</td>\n",
       "    </tr>\n",
       "    <tr>\n",
       "      <th>4</th>\n",
       "      <td>70</td>\n",
       "    </tr>\n",
       "    <tr>\n",
       "      <th>5</th>\n",
       "      <td>6</td>\n",
       "    </tr>\n",
       "    <tr>\n",
       "      <th>6</th>\n",
       "      <td>21</td>\n",
       "    </tr>\n",
       "    <tr>\n",
       "      <th rowspan=\"6\" valign=\"top\">4</th>\n",
       "      <th>0</th>\n",
       "      <td>1</td>\n",
       "    </tr>\n",
       "    <tr>\n",
       "      <th>2</th>\n",
       "      <td>17</td>\n",
       "    </tr>\n",
       "    <tr>\n",
       "      <th>3</th>\n",
       "      <td>137</td>\n",
       "    </tr>\n",
       "    <tr>\n",
       "      <th>4</th>\n",
       "      <td>85</td>\n",
       "    </tr>\n",
       "    <tr>\n",
       "      <th>5</th>\n",
       "      <td>13</td>\n",
       "    </tr>\n",
       "    <tr>\n",
       "      <th>6</th>\n",
       "      <td>23</td>\n",
       "    </tr>\n",
       "    <tr>\n",
       "      <th rowspan=\"4\" valign=\"top\">5</th>\n",
       "      <th>3</th>\n",
       "      <td>18</td>\n",
       "    </tr>\n",
       "    <tr>\n",
       "      <th>4</th>\n",
       "      <td>23</td>\n",
       "    </tr>\n",
       "    <tr>\n",
       "      <th>5</th>\n",
       "      <td>13</td>\n",
       "    </tr>\n",
       "    <tr>\n",
       "      <th>6</th>\n",
       "      <td>11</td>\n",
       "    </tr>\n",
       "    <tr>\n",
       "      <th rowspan=\"7\" valign=\"top\">6</th>\n",
       "      <th>0</th>\n",
       "      <td>1</td>\n",
       "    </tr>\n",
       "    <tr>\n",
       "      <th>1</th>\n",
       "      <td>4</td>\n",
       "    </tr>\n",
       "    <tr>\n",
       "      <th>2</th>\n",
       "      <td>9</td>\n",
       "    </tr>\n",
       "    <tr>\n",
       "      <th>3</th>\n",
       "      <td>44</td>\n",
       "    </tr>\n",
       "    <tr>\n",
       "      <th>4</th>\n",
       "      <td>28</td>\n",
       "    </tr>\n",
       "    <tr>\n",
       "      <th>5</th>\n",
       "      <td>11</td>\n",
       "    </tr>\n",
       "    <tr>\n",
       "      <th>6</th>\n",
       "      <td>31</td>\n",
       "    </tr>\n",
       "  </tbody>\n",
       "</table>\n",
       "</div>"
      ],
      "text/plain": [
       "                    Better\n",
       "Actual Predictions        \n",
       "0      0                11\n",
       "       1                16\n",
       "       2                19\n",
       "       3                 6\n",
       "       4                 1\n",
       "       6                 1\n",
       "1      0                 8\n",
       "       1                47\n",
       "       2                58\n",
       "       3                33\n",
       "       4                 4\n",
       "       6                 2\n",
       "2      0                 5\n",
       "       1                30\n",
       "       2               144\n",
       "       3               128\n",
       "       4                15\n",
       "       5                 1\n",
       "       6                 6\n",
       "3      0                 1\n",
       "       1                 9\n",
       "       2                98\n",
       "       3               211\n",
       "       4                70\n",
       "       5                 6\n",
       "       6                21\n",
       "4      0                 1\n",
       "       2                17\n",
       "       3               137\n",
       "       4                85\n",
       "       5                13\n",
       "       6                23\n",
       "5      3                18\n",
       "       4                23\n",
       "       5                13\n",
       "       6                11\n",
       "6      0                 1\n",
       "       1                 4\n",
       "       2                 9\n",
       "       3                44\n",
       "       4                28\n",
       "       5                11\n",
       "       6                31"
      ]
     },
     "execution_count": 952,
     "metadata": {},
     "output_type": "execute_result"
    }
   ],
   "source": [
    "#output = pd.DataFrame(y_test['Calc_Overall_n1_Contr'])\n",
    "#output = output.rename(columns={'Calc_Overall_n1_Contr': 'Actual'})\n",
    "\n",
    "output = pd.DataFrame(y_test['Contribution_n1'])\n",
    "output = output.rename(columns={'Contribution_n1': 'Actual'})\n",
    "\n",
    "output['Predictions'] = model.predict(X_test)\n",
    "output3 = output.groupby('Predictions').count()\n",
    "output['Better'] = np.where(output['Predictions']==output['Actual'], 1, 0)\n",
    "output2 = output.groupby(['Actual', 'Predictions']).count()\n",
    "\n",
    "output2"
   ]
  },
  {
   "cell_type": "code",
   "execution_count": null,
   "metadata": {},
   "outputs": [],
   "source": []
  }
 ],
 "metadata": {
  "kernelspec": {
   "display_name": "base",
   "language": "python",
   "name": "python3"
  },
  "language_info": {
   "codemirror_mode": {
    "name": "ipython",
    "version": 3
   },
   "file_extension": ".py",
   "mimetype": "text/x-python",
   "name": "python",
   "nbconvert_exporter": "python",
   "pygments_lexer": "ipython3",
   "version": "3.11.7"
  }
 },
 "nbformat": 4,
 "nbformat_minor": 2
}
