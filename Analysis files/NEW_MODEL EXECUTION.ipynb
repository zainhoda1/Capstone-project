{
 "cells": [
  {
   "cell_type": "code",
   "execution_count": 782,
   "metadata": {},
   "outputs": [],
   "source": [
    "import pandas as pd\n",
    "from xgboost import XGBClassifier\n",
    "from sklearn.model_selection import train_test_split\n",
    "from sklearn.metrics import accuracy_score\n",
    "import numpy as np\n",
    "import matplotlib.pyplot as plt\n",
    "import seaborn as sns\n",
    "from fitter import Fitter, get_common_distributions, get_distributions\n",
    "#pd.options.display.max_rows"
   ]
  },
  {
   "cell_type": "code",
   "execution_count": 783,
   "metadata": {},
   "outputs": [
    {
     "data": {
      "text/html": [
       "<div>\n",
       "<style scoped>\n",
       "    .dataframe tbody tr th:only-of-type {\n",
       "        vertical-align: middle;\n",
       "    }\n",
       "\n",
       "    .dataframe tbody tr th {\n",
       "        vertical-align: top;\n",
       "    }\n",
       "\n",
       "    .dataframe thead th {\n",
       "        text-align: right;\n",
       "    }\n",
       "</style>\n",
       "<table border=\"1\" class=\"dataframe\">\n",
       "  <thead>\n",
       "    <tr style=\"text-align: right;\">\n",
       "      <th></th>\n",
       "      <th>Season</th>\n",
       "      <th>TeamName</th>\n",
       "      <th>TeamName 2</th>\n",
       "      <th>Tempo</th>\n",
       "      <th>RankTempo</th>\n",
       "      <th>AdjTempo</th>\n",
       "      <th>RankAdjTempo</th>\n",
       "      <th>OE</th>\n",
       "      <th>RankOE</th>\n",
       "      <th>AdjOE</th>\n",
       "      <th>RankAdjOE</th>\n",
       "      <th>DE</th>\n",
       "      <th>RankDE</th>\n",
       "      <th>AdjDE</th>\n",
       "      <th>RankAdjDE</th>\n",
       "      <th>AdjEM</th>\n",
       "      <th>RankAdjEM</th>\n",
       "      <th>seed</th>\n",
       "    </tr>\n",
       "  </thead>\n",
       "  <tbody>\n",
       "    <tr>\n",
       "      <th>0</th>\n",
       "      <td>2019</td>\n",
       "      <td>ABILENE CHRISTIAN</td>\n",
       "      <td>Abilene Christian</td>\n",
       "      <td>66.5681</td>\n",
       "      <td>293</td>\n",
       "      <td>66.0042</td>\n",
       "      <td>254</td>\n",
       "      <td>107.1020</td>\n",
       "      <td>87</td>\n",
       "      <td>103.6250</td>\n",
       "      <td>186</td>\n",
       "      <td>96.7466</td>\n",
       "      <td>43</td>\n",
       "      <td>101.5390</td>\n",
       "      <td>119</td>\n",
       "      <td>2.08626</td>\n",
       "      <td>145</td>\n",
       "      <td>15.0</td>\n",
       "    </tr>\n",
       "    <tr>\n",
       "      <th>1</th>\n",
       "      <td>2019</td>\n",
       "      <td>AIR FORCE</td>\n",
       "      <td>Air Force</td>\n",
       "      <td>67.2794</td>\n",
       "      <td>269</td>\n",
       "      <td>66.4070</td>\n",
       "      <td>234</td>\n",
       "      <td>98.7687</td>\n",
       "      <td>274</td>\n",
       "      <td>100.4310</td>\n",
       "      <td>250</td>\n",
       "      <td>105.6820</td>\n",
       "      <td>242</td>\n",
       "      <td>107.2750</td>\n",
       "      <td>238</td>\n",
       "      <td>-6.84432</td>\n",
       "      <td>241</td>\n",
       "      <td>NaN</td>\n",
       "    </tr>\n",
       "    <tr>\n",
       "      <th>2</th>\n",
       "      <td>2019</td>\n",
       "      <td>AKRON</td>\n",
       "      <td>Akron</td>\n",
       "      <td>68.4518</td>\n",
       "      <td>207</td>\n",
       "      <td>66.0150</td>\n",
       "      <td>253</td>\n",
       "      <td>99.4248</td>\n",
       "      <td>264</td>\n",
       "      <td>99.7930</td>\n",
       "      <td>257</td>\n",
       "      <td>94.0099</td>\n",
       "      <td>11</td>\n",
       "      <td>93.7022</td>\n",
       "      <td>21</td>\n",
       "      <td>6.09084</td>\n",
       "      <td>107</td>\n",
       "      <td>NaN</td>\n",
       "    </tr>\n",
       "    <tr>\n",
       "      <th>3</th>\n",
       "      <td>2019</td>\n",
       "      <td>ALABAMA</td>\n",
       "      <td>Alabama</td>\n",
       "      <td>69.8652</td>\n",
       "      <td>124</td>\n",
       "      <td>68.6333</td>\n",
       "      <td>115</td>\n",
       "      <td>102.4780</td>\n",
       "      <td>185</td>\n",
       "      <td>108.1130</td>\n",
       "      <td>100</td>\n",
       "      <td>102.2220</td>\n",
       "      <td>155</td>\n",
       "      <td>96.6354</td>\n",
       "      <td>50</td>\n",
       "      <td>11.47740</td>\n",
       "      <td>59</td>\n",
       "      <td>NaN</td>\n",
       "    </tr>\n",
       "    <tr>\n",
       "      <th>4</th>\n",
       "      <td>2019</td>\n",
       "      <td>ALABAMA A&amp;M</td>\n",
       "      <td>Alabama A&amp;M</td>\n",
       "      <td>67.5600</td>\n",
       "      <td>252</td>\n",
       "      <td>65.4905</td>\n",
       "      <td>282</td>\n",
       "      <td>88.7657</td>\n",
       "      <td>347</td>\n",
       "      <td>86.4818</td>\n",
       "      <td>350</td>\n",
       "      <td>104.8620</td>\n",
       "      <td>219</td>\n",
       "      <td>109.1420</td>\n",
       "      <td>265</td>\n",
       "      <td>-22.66000</td>\n",
       "      <td>344</td>\n",
       "      <td>NaN</td>\n",
       "    </tr>\n",
       "    <tr>\n",
       "      <th>5</th>\n",
       "      <td>2019</td>\n",
       "      <td>ALABAMA STATE</td>\n",
       "      <td>Alabama State</td>\n",
       "      <td>68.4214</td>\n",
       "      <td>210</td>\n",
       "      <td>67.0597</td>\n",
       "      <td>198</td>\n",
       "      <td>95.3075</td>\n",
       "      <td>322</td>\n",
       "      <td>94.5978</td>\n",
       "      <td>326</td>\n",
       "      <td>106.1970</td>\n",
       "      <td>250</td>\n",
       "      <td>110.9610</td>\n",
       "      <td>304</td>\n",
       "      <td>-16.36330</td>\n",
       "      <td>329</td>\n",
       "      <td>NaN</td>\n",
       "    </tr>\n",
       "    <tr>\n",
       "      <th>6</th>\n",
       "      <td>2019</td>\n",
       "      <td>ALBANY (NY)</td>\n",
       "      <td>Albany (NY)</td>\n",
       "      <td>66.3119</td>\n",
       "      <td>301</td>\n",
       "      <td>65.7351</td>\n",
       "      <td>268</td>\n",
       "      <td>99.2601</td>\n",
       "      <td>267</td>\n",
       "      <td>98.1540</td>\n",
       "      <td>283</td>\n",
       "      <td>103.2160</td>\n",
       "      <td>176</td>\n",
       "      <td>108.0060</td>\n",
       "      <td>250</td>\n",
       "      <td>-9.85221</td>\n",
       "      <td>277</td>\n",
       "      <td>NaN</td>\n",
       "    </tr>\n",
       "    <tr>\n",
       "      <th>7</th>\n",
       "      <td>2019</td>\n",
       "      <td>ALCORN STATE</td>\n",
       "      <td>Alcorn State</td>\n",
       "      <td>67.4020</td>\n",
       "      <td>260</td>\n",
       "      <td>65.6105</td>\n",
       "      <td>277</td>\n",
       "      <td>89.3041</td>\n",
       "      <td>346</td>\n",
       "      <td>88.7838</td>\n",
       "      <td>348</td>\n",
       "      <td>108.2200</td>\n",
       "      <td>288</td>\n",
       "      <td>113.4270</td>\n",
       "      <td>332</td>\n",
       "      <td>-24.64300</td>\n",
       "      <td>349</td>\n",
       "      <td>NaN</td>\n",
       "    </tr>\n",
       "    <tr>\n",
       "      <th>8</th>\n",
       "      <td>2019</td>\n",
       "      <td>AMERICAN</td>\n",
       "      <td>American</td>\n",
       "      <td>67.6929</td>\n",
       "      <td>247</td>\n",
       "      <td>66.4126</td>\n",
       "      <td>233</td>\n",
       "      <td>104.5920</td>\n",
       "      <td>141</td>\n",
       "      <td>101.7880</td>\n",
       "      <td>221</td>\n",
       "      <td>100.1360</td>\n",
       "      <td>104</td>\n",
       "      <td>104.9190</td>\n",
       "      <td>186</td>\n",
       "      <td>-3.13075</td>\n",
       "      <td>198</td>\n",
       "      <td>NaN</td>\n",
       "    </tr>\n",
       "    <tr>\n",
       "      <th>9</th>\n",
       "      <td>2019</td>\n",
       "      <td>APPALACHIAN STATE</td>\n",
       "      <td>Appalachian State</td>\n",
       "      <td>73.1875</td>\n",
       "      <td>27</td>\n",
       "      <td>71.4297</td>\n",
       "      <td>27</td>\n",
       "      <td>104.6920</td>\n",
       "      <td>138</td>\n",
       "      <td>105.9350</td>\n",
       "      <td>141</td>\n",
       "      <td>110.2310</td>\n",
       "      <td>315</td>\n",
       "      <td>109.5440</td>\n",
       "      <td>274</td>\n",
       "      <td>-3.60901</td>\n",
       "      <td>205</td>\n",
       "      <td>NaN</td>\n",
       "    </tr>\n",
       "  </tbody>\n",
       "</table>\n",
       "</div>"
      ],
      "text/plain": [
       "   Season           TeamName         TeamName 2    Tempo  RankTempo  AdjTempo  \\\n",
       "0    2019  ABILENE CHRISTIAN  Abilene Christian  66.5681        293   66.0042   \n",
       "1    2019          AIR FORCE          Air Force  67.2794        269   66.4070   \n",
       "2    2019              AKRON              Akron  68.4518        207   66.0150   \n",
       "3    2019            ALABAMA            Alabama  69.8652        124   68.6333   \n",
       "4    2019        ALABAMA A&M        Alabama A&M  67.5600        252   65.4905   \n",
       "5    2019      ALABAMA STATE      Alabama State  68.4214        210   67.0597   \n",
       "6    2019        ALBANY (NY)        Albany (NY)  66.3119        301   65.7351   \n",
       "7    2019       ALCORN STATE       Alcorn State  67.4020        260   65.6105   \n",
       "8    2019           AMERICAN           American  67.6929        247   66.4126   \n",
       "9    2019  APPALACHIAN STATE  Appalachian State  73.1875         27   71.4297   \n",
       "\n",
       "   RankAdjTempo        OE  RankOE     AdjOE  RankAdjOE        DE  RankDE  \\\n",
       "0           254  107.1020      87  103.6250        186   96.7466      43   \n",
       "1           234   98.7687     274  100.4310        250  105.6820     242   \n",
       "2           253   99.4248     264   99.7930        257   94.0099      11   \n",
       "3           115  102.4780     185  108.1130        100  102.2220     155   \n",
       "4           282   88.7657     347   86.4818        350  104.8620     219   \n",
       "5           198   95.3075     322   94.5978        326  106.1970     250   \n",
       "6           268   99.2601     267   98.1540        283  103.2160     176   \n",
       "7           277   89.3041     346   88.7838        348  108.2200     288   \n",
       "8           233  104.5920     141  101.7880        221  100.1360     104   \n",
       "9            27  104.6920     138  105.9350        141  110.2310     315   \n",
       "\n",
       "      AdjDE  RankAdjDE     AdjEM  RankAdjEM  seed  \n",
       "0  101.5390        119   2.08626        145  15.0  \n",
       "1  107.2750        238  -6.84432        241   NaN  \n",
       "2   93.7022         21   6.09084        107   NaN  \n",
       "3   96.6354         50  11.47740         59   NaN  \n",
       "4  109.1420        265 -22.66000        344   NaN  \n",
       "5  110.9610        304 -16.36330        329   NaN  \n",
       "6  108.0060        250  -9.85221        277   NaN  \n",
       "7  113.4270        332 -24.64300        349   NaN  \n",
       "8  104.9190        186  -3.13075        198   NaN  \n",
       "9  109.5440        274  -3.60901        205   NaN  "
      ]
     },
     "execution_count": 783,
     "metadata": {},
     "output_type": "execute_result"
    }
   ],
   "source": [
    "kp = pd.read_csv('/Users/caldavis/Documents/GitHub/Capstone-project/Data folder/KenPom Team Metrics.csv')\n",
    "#kp.head(10)\n",
    "kp_conf_rat = pd.read_csv('/Users/caldavis/Documents/GitHub/Capstone-project/Data folder/KP_Conf_Ratings.csv')\n",
    "kp_conf_rat = kp_conf_rat[['Year_Conf', 'Conf_Abb', 'Conf_Rk', 'Conf_Full', 'Conf_Rating']]\n",
    "kp_conf_rat.head(10)\n",
    "kp.head(10)"
   ]
  },
  {
   "cell_type": "code",
   "execution_count": 893,
   "metadata": {},
   "outputs": [
    {
     "name": "stderr",
     "output_type": "stream",
     "text": [
      "/var/folders/cq/16hkxgp926d466c0g9jzx2900000gq/T/ipykernel_46438/2720375662.py:4: DtypeWarning: Columns (13,16,38,144,147,169) have mixed types. Specify dtype option on import or set low_memory=False.\n",
      "  d = pd.read_csv('/Users/caldavis/Documents/GitHub/Capstone-project/Data folder/final_data_by_player_type.csv')\n",
      "/var/folders/cq/16hkxgp926d466c0g9jzx2900000gq/T/ipykernel_46438/2720375662.py:29: PerformanceWarning: DataFrame is highly fragmented.  This is usually the result of calling `frame.insert` many times, which has poor performance.  Consider joining all columns at once using pd.concat(axis=1) instead. To get a de-fragmented frame, use `newframe = frame.copy()`\n",
      "  df['Contribution_n1'] = np.select(conditions, values)\n",
      "/var/folders/cq/16hkxgp926d466c0g9jzx2900000gq/T/ipykernel_46438/2720375662.py:35: PerformanceWarning: DataFrame is highly fragmented.  This is usually the result of calling `frame.insert` many times, which has poor performance.  Consider joining all columns at once using pd.concat(axis=1) instead. To get a de-fragmented frame, use `newframe = frame.copy()`\n",
      "  df['Class'] = np.select(year_cond, year_val)\n",
      "/var/folders/cq/16hkxgp926d466c0g9jzx2900000gq/T/ipykernel_46438/2720375662.py:42: PerformanceWarning: DataFrame is highly fragmented.  This is usually the result of calling `frame.insert` many times, which has poor performance.  Consider joining all columns at once using pd.concat(axis=1) instead. To get a de-fragmented frame, use `newframe = frame.copy()`\n",
      "  df['Pos_Ht'] = np.select(ht_cond, ht_val)\n"
     ]
    }
   ],
   "source": [
    "# All In One Go,\n",
    "\n",
    "# Prep initial df,\n",
    "d = pd.read_csv('/Users/caldavis/Documents/GitHub/Capstone-project/Data folder/final_data_by_player_type.csv')\n",
    "d = pd.merge(d, kp, left_on=['Team', 'year'], right_on=['TeamName', 'Season'], how='left')\n",
    "d = pd.merge(d, kp, left_on=['Team_n1', 'year'], right_on=['TeamName', 'Season'], how='left')\n",
    "df = pd.merge(d, kp, left_on=['Team_n1', 'year_n1'], right_on=['TeamName', 'Season'], how='left')\n",
    "df = pd.merge(df, kp_conf_rat, left_on=['conf_abbr', 'year'], right_on=['Conf_Abb', 'Year_Conf'], how='left')\n",
    "df = pd.merge(df, kp_conf_rat, left_on=['conf_abbr_n1', 'year'], right_on=['Conf_Abb', 'Year_Conf'], how='left')\n",
    "df = pd.merge(df, kp_conf_rat, left_on=['conf_abbr_n1', 'year_n1'], right_on=['Conf_Abb', 'Year_Conf'], how='left')\n",
    "df = df.replace(to_replace='NO IDEA', value=0)\n",
    "df = df.replace(to_replace='---', value=0)\n",
    "df = df.fillna(0)\n",
    "\n",
    "# Convert to Numeric,\n",
    "df[['games', 'games_started', 'mp_per_g', 'fg_per_g', 'fga_per_g', 'fg_pct', 'fg2_per_g', 'fg2a_per_g', 'fg2_pct', 'fg3_per_g', 'fg3a_per_g', 'fg3_pct', 'ft_per_g', 'fta_per_g', 'ft_pct', 'orb_per_g', 'drb_per_g', 'trb_per_g', 'ast_per_g', 'stl_per_g', 'blk_per_g', 'tov_per_g', 'pf_per_g', 'pts_per_g', 'sos', 'mp', 'fg', 'fga', 'fg2', 'fg2a', 'fg2_pct.1', 'fg3', 'fg3a', 'ft', 'fta', 'orb', 'drb', 'trb', 'ast', 'stl', 'blk', 'tov', 'pf', 'pts', \n",
    "    'fg_per_min', 'fga_per_min', 'fg2_per_min', 'fg2a_per_min', 'fg3_per_min', 'fg3a_per_min', 'ft_per_min', 'fta_per_min', 'trb_per_min', 'ast_per_min', 'stl_per_min', 'blk_per_min', 'tov_per_min', 'pf_per_min', 'pts_per_min', \n",
    "    'fg_per_poss', 'fga_per_poss', 'fg2_per_poss', 'fg2a_per_poss', 'fg3_per_poss', 'fg3a_per_poss', 'ft_per_poss', 'fta_per_poss', 'trb_per_poss', 'ast_per_poss', 'stl_per_poss', 'blk_per_poss', 'tov_per_poss', 'pf_per_poss', 'pts_per_poss', 'off_rtg', 'def_rtg', 'per', 'ts_pct', 'efg_pct', 'fg3a_per_fga_pct', 'fta_per_fga_pct', 'pprod', 'orb_pct', 'drb_pct', 'trb_pct', 'ast_pct', 'stl_pct', 'blk_pct', 'tov_pct', 'usg_pct', 'ows', 'dws', 'ws', 'ws_per_40', 'obpm', 'dbpm', 'bpm', 'year', 'Ht', 'Wt', 'G', 'S', 'X.Min', 'ORtg', 'X.Poss', 'X.Shots', 'games_n1', 'games_started_n1', 'mp_per_g_n1', 'fg_per_g_n1', 'fga_per_g_n1', 'fg_pct_n1', 'fg2_per_g_n1', 'fg2a_per_g_n1', 'fg2_pct_n1', 'fg3_per_g_n1', 'fg3a_per_g_n1', 'fg3_pct_n1', 'ft_per_g_n1', 'fta_per_g_n1', 'ft_pct_n1', 'orb_per_g_n1', 'drb_per_g_n1', 'trb_per_g_n1', 'ast_per_g_n1', 'stl_per_g_n1', 'blk_per_g_n1', 'tov_per_g_n1', 'pf_per_g_n1', 'pts_per_g_n1', 'sos_n1', 'mp_n1', 'fg_n1', 'fga_n1', 'fg2_n1', 'fg2a_n1', 'fg2_pct.1_n1', 'fg3_n1', 'fg3a_n1', 'ft_n1', 'fta_n1', 'orb_n1', 'drb_n1', 'trb_n1', 'ast_n1', 'stl_n1', 'blk_n1', 'tov_n1', 'pf_n1', 'pts_n1', 'fg_per_min_n1', 'fga_per_min_n1', 'fg2_per_min_n1', 'fg2a_per_min_n1', 'fg3_per_min_n1', 'fg3a_per_min_n1', 'ft_per_min_n1', 'fta_per_min_n1', 'trb_per_min_n1', 'ast_per_min_n1', 'stl_per_min_n1', 'blk_per_min_n1', 'tov_per_min_n1', 'pf_per_min_n1', 'pts_per_min_n1', 'fg_per_poss_n1', 'fga_per_poss_n1', 'fg2_per_poss_n1', 'fg2a_per_poss_n1', 'fg3_per_poss_n1', 'fg3a_per_poss_n1', 'ft_per_poss_n1', 'fta_per_poss_n1', 'trb_per_poss_n1', 'ast_per_poss_n1', 'stl_per_poss_n1', 'blk_per_poss_n1', 'tov_per_poss_n1', 'pf_per_poss_n1', 'pts_per_poss_n1', 'off_rtg_n1', 'def_rtg_n1', 'per_n1', 'ts_pct_n1', 'efg_pct_n1', 'fg3a_per_fga_pct_n1', 'fta_per_fga_pct_n1', 'pprod_n1', 'orb_pct_n1', 'drb_pct_n1', \n",
    "    'trb_pct_n1', 'ast_pct_n1', 'stl_pct_n1', 'blk_pct_n1', 'tov_pct_n1', 'usg_pct_n1', 'ows_n1', 'dws_n1', 'ws_n1', 'ws_per_40_n1', 'obpm_n1', 'dbpm_n1', 'bpm_n1', 'year_n1', 'Ht_n1', 'Wt_n1', 'G_n1', 'S_n1', 'X.Min_n1', 'ORtg_n1', 'X.Poss_n1', 'X.Shots_n1']] = df[['games', 'games_started', 'mp_per_g', 'fg_per_g', 'fga_per_g', 'fg_pct', 'fg2_per_g', 'fg2a_per_g', 'fg2_pct', 'fg3_per_g', 'fg3a_per_g', 'fg3_pct', 'ft_per_g', 'fta_per_g', 'ft_pct', 'orb_per_g', 'drb_per_g', 'trb_per_g', 'ast_per_g', 'stl_per_g', 'blk_per_g', 'tov_per_g', 'pf_per_g', 'pts_per_g', 'sos', 'mp', 'fg', 'fga', 'fg2', 'fg2a', 'fg2_pct.1', 'fg3', 'fg3a', 'ft', 'fta', 'orb', 'drb', 'trb', 'ast', 'stl', 'blk', 'tov', 'pf', 'pts', 'fg_per_min', 'fga_per_min', 'fg2_per_min', 'fg2a_per_min', 'fg3_per_min', 'fg3a_per_min', 'ft_per_min', 'fta_per_min', 'trb_per_min', 'ast_per_min', 'stl_per_min', 'blk_per_min', 'tov_per_min', 'pf_per_min', 'pts_per_min', 'fg_per_poss', 'fga_per_poss', 'fg2_per_poss', 'fg2a_per_poss', 'fg3_per_poss', 'fg3a_per_poss', 'ft_per_poss', 'fta_per_poss', 'trb_per_poss', 'ast_per_poss', 'stl_per_poss', 'blk_per_poss', 'tov_per_poss', 'pf_per_poss', 'pts_per_poss', 'off_rtg', 'def_rtg', 'per', 'ts_pct', 'efg_pct', 'fg3a_per_fga_pct', 'fta_per_fga_pct', 'pprod', 'orb_pct', 'drb_pct', 'trb_pct', 'ast_pct', 'stl_pct', 'blk_pct', 'tov_pct', 'usg_pct', 'ows', 'dws', 'ws', 'ws_per_40', 'obpm', 'dbpm', 'bpm', 'year', 'Ht', 'Wt', 'G', 'S', 'X.Min', 'ORtg', 'X.Poss', 'X.Shots', 'games_n1', 'games_started_n1', 'mp_per_g_n1', 'fg_per_g_n1', 'fga_per_g_n1', 'fg_pct_n1', 'fg2_per_g_n1', 'fg2a_per_g_n1', 'fg2_pct_n1', 'fg3_per_g_n1', 'fg3a_per_g_n1', 'fg3_pct_n1', 'ft_per_g_n1', 'fta_per_g_n1', 'ft_pct_n1', 'orb_per_g_n1', 'drb_per_g_n1', 'trb_per_g_n1', 'ast_per_g_n1', 'stl_per_g_n1', 'blk_per_g_n1', 'tov_per_g_n1', 'pf_per_g_n1', 'pts_per_g_n1', 'sos_n1', 'mp_n1', 'fg_n1', 'fga_n1', 'fg2_n1', 'fg2a_n1', 'fg2_pct.1_n1', 'fg3_n1', 'fg3a_n1', 'ft_n1', 'fta_n1', 'orb_n1', 'drb_n1', 'trb_n1', 'ast_n1', 'stl_n1', 'blk_n1', 'tov_n1', 'pf_n1', 'pts_n1', 'fg_per_min_n1', 'fga_per_min_n1', 'fg2_per_min_n1', 'fg2a_per_min_n1', 'fg3_per_min_n1', 'fg3a_per_min_n1', 'ft_per_min_n1', 'fta_per_min_n1', 'trb_per_min_n1', 'ast_per_min_n1', 'stl_per_min_n1', 'blk_per_min_n1', 'tov_per_min_n1', 'pf_per_min_n1', 'pts_per_min_n1', 'fg_per_poss_n1', 'fga_per_poss_n1', 'fg2_per_poss_n1', 'fg2a_per_poss_n1', 'fg3_per_poss_n1', 'fg3a_per_poss_n1', 'ft_per_poss_n1', 'fta_per_poss_n1', 'trb_per_poss_n1', 'ast_per_poss_n1', 'stl_per_poss_n1', 'blk_per_poss_n1', 'tov_per_poss_n1', 'pf_per_poss_n1', 'pts_per_poss_n1', 'off_rtg_n1', 'def_rtg_n1', 'per_n1', 'ts_pct_n1', 'efg_pct_n1', 'fg3a_per_fga_pct_n1', 'fta_per_fga_pct_n1', 'pprod_n1', 'orb_pct_n1', 'drb_pct_n1', 'trb_pct_n1', 'ast_pct_n1', 'stl_pct_n1', 'blk_pct_n1', 'tov_pct_n1', 'usg_pct_n1', 'ows_n1', 'dws_n1', 'ws_n1', 'ws_per_40_n1', 'obpm_n1', 'dbpm_n1', 'bpm_n1', 'year_n1', 'Ht_n1', 'Wt_n1', 'G_n1', 'S_n1', 'X.Min_n1', 'ORtg_n1', 'X.Poss_n1', 'X.Shots_n1']].apply(pd.to_numeric, errors='ignore')\n",
    "\n",
    "# Add Contributions,\n",
    "conditions = [(df['X.Poss_n1']>=28.0) & (df['X.Min_n1']>10.0), (df['X.Poss_n1']>=24.0)& (df['X.Min_n1']>10.0), \n",
    "              (df['X.Poss_n1']>=20.0) & (df['X.Min_n1']>10.0), (df['X.Poss_n1']>=16) & (df['X.Min_n1']>10.0),\n",
    "            (df['X.Poss_n1']>=12.0) & (df['X.Min_n1']>10.0), (df['X.Poss_n1']<12) & (df['X.Min_n1']>10.0), \n",
    "            (df['X.Min_n1']<10)]\n",
    "#(df['X.Min_n1']<10),,\n",
    "#values = ['Go-To Guy', 'Major Contributor', 'Significant Contributor', 'Role Players', 'Limited Role', 'Nearly Invisible', 'Bench Warmer'],\n",
    "values = [0, 1, 2, 3, 4, 5, 6]\n",
    "df['Contribution_n1'] = np.select(conditions, values)\n",
    "\n",
    "# Add Year in School KP,\n",
    "year_cond = [(df['Yr_n1']=='Fr'), (df['Yr_n1']=='So'),\n",
    "            (df['Yr_n1']=='Jr'), (df['Yr_n1']=='Sr')]\n",
    "year_val = [1, 2, 3, 4]\n",
    "df['Class'] = np.select(year_cond, year_val)\n",
    "\n",
    "# Add Ht. Categories,\n",
    "ht_cond = [(df['Ht']<=74), (df['Ht']>74) & (df['Ht']<=76), (df['Ht']>76) & (df['Ht']<=78),\n",
    "   (df['Ht']>78) & (df['Ht']<=80), (df['Ht']>80)]\n",
    "\n",
    "ht_val = [1, 2, 3, 4, 5]\n",
    "df['Pos_Ht'] = np.select(ht_cond, ht_val)\n",
    "#df[‘column’] =( df[‘column’] – df[‘column’].mean() ) / df[‘column’].std(),\n",
    "\n",
    "    \n",
    "# Additional Features + Model Prep,\n",
    "df = df.drop(df[(df['games']<=13) & (df['games_started']/df['games']>0.3)].index)\n",
    "df = df.drop(df[(df['games_n1']<=13) & (df['games_started_n1']/df['games_n1']>0.3)].index)\n",
    "#df = df.drop(df[(df['games']<=13) & (df['games_started']/df['games']>0.1)].index)\n",
    "#df = df.drop(df[(df['games_n1']<=13) & (df['games_started_n1']/df['games_n1']>0.1)].index)\n",
    "\n",
    "\n",
    "df = df.drop(df.loc[((df['games']>39) & (df['year']==2023)) | ((df['games_n1']>39) & (df['year_n1']==2023)) | \n",
    "   ((df['games']>40) & (df['year']==2022)) | ((df['games_n1']>40) & (df['year_n1']==2022)) | \n",
    "   ((df['games']>33) & (df['year']==2021)) | ((df['games_n1']>33) & (df['year_n1']==2021)) | \n",
    "   ((df['games']>35) & (df['year']==2020)) | ((df['games_n1']>35) & (df['year_n1']==2020)) | \n",
    "   ((df['games']>40) & (df['year']==2019)) | ((df['games_n1']>40) & (df['year_n1']==2019)) |\n",
    "   (df['year']==0)]['Player.Name'].index)\n",
    "idx = df.groupby(['Team', 'year'])['games'].max()\n",
    "a = pd.DataFrame(idx)\n",
    "ab = a.reset_index()\n",
    "ab.columns = ['Team_max', 'year_max', 'games_max']\n",
    "df = pd.merge(df, ab, left_on=['Team', 'year'], right_on=['Team_max', 'year_max'], how='left')\n",
    "idx2 = df.groupby(['Team_n1', 'year_n1'])['games_n1'].max()\n",
    "a2 = pd.DataFrame(idx2)\n",
    "ab2 = a2.reset_index()\n",
    "ab2.columns = ['Team_max', 'year_max', 'games_max']\n",
    "df = pd.merge(df, ab2, left_on=['Team_n1', 'year_n1'], right_on=['Team_max', 'year_max'], how='left')\n",
    "df.columns\n",
    "tt = df[['Player.Name', 'Team', 'year', 'games_max_x', 'Team_n1', 'year_n1', 'games_max_y', 'games_n1']]\n",
    "tt[tt['Player.Name']=='tevin-mack-1']\n",
    "#df = df.drop(df[(df['games']<=0.1*df['games_max_x'])].index)\n",
    "#df = df.drop(df[(df['games_n1']<=0.1*df['games_max_y'])].index)\n",
    "#df = df.drop(df.loc[(df['games_max_x']<15)].index)\n",
    "#df = df.drop(df.loc[(df['games_max_y']<15)].index)\n",
    "\n",
    "#df = df.drop(df.loc[(df['year']==2020) | (df['year_n1']==2020)].index)\n",
    "#df = df.drop(df[(df['X.Min_n1']<=10)].index)\n",
    "#df = df.drop(df[(df['X.Min']<=10)].index)\n",
    "df['Year_dif'] = df['year_n1']-df['year']\n",
    "df['Team_AdjEM_dif'] = df['AdjEM_y']-df['AdjEM_x']\n",
    "df['KP_Rk_Dif'] = df['RankAdjEM_y']-df['RankAdjEM_x']\n",
    "df['KP_Conf_Dif'] = df['Conf_Rating_y']-df['Conf_Rating_x']\n",
    "df['Calc A'] = df['X.Min']*df['ws']\n",
    "df['Calc A2'] = df['X.Min']*df['bpm']\n",
    "df['Calc A3'] = df['X.Min']*df['ORtg']\n",
    "df['Calc A2_n1'] = df['X.Min_n1']*df['bpm_n1']\n",
    "df['Calc A_n1'] =df['X.Min_n1']*df['ws_n1']\n",
    "df['Calc A3_n1'] = df['X.Min_n1']*df['ORtg_n1']\n",
    "df['Calc B'] = (df['stl_per_poss']+df['blk_per_poss']+df['DR.'])*df['X.Min']\n",
    "df['Calc B_n1'] = (df['stl_per_poss_n1']+df['blk_per_poss_n1']+df['DR._n1'])*df['X.Min_n1']\n",
    "df['Calc C']=(df['off_rtg']-df['def_rtg'])*df['X.Min']\n",
    "df['Calc C_n1']=(df['off_rtg_n1']-df['def_rtg_n1'])*df['X.Min_n1']\n",
    "df['Calc Overall A'] = df['Calc A'] + df['Calc B']\n",
    "df['Calc Overall A2'] = df['Calc A2'] + df['Calc B']\n",
    "df['Calc Overall A3'] = df['Calc A3'] + df['Calc B']\n",
    "df['Calc Overall A_n1'] = df['Calc A_n1'] + df['Calc B_n1']\n",
    "df['Calc Overall A2_n1'] = df['Calc A2_n1'] + df['Calc B_n1']\n",
    "df['Calc Overall A3_n1'] = df['Calc A3_n1'] + df['Calc B_n1']\n",
    "\n",
    "# Calc_A_n1_cond = [(df['Calc A_n1']<=340), (df['Calc A_n1']>340) & (df['Calc A_n1']<=664), (df['Calc A_n1']>664) & (df['Calc A_n1']<=1010),,\n",
    "#            (df['Calc A_n1']>1010) & (df['Calc A_n1']<=1415), (df['Calc A_n1']>1415)],\n",
    "\n",
    "# Calc_A_n1_val = [0, 1, 2, 3, 4],\n",
    "# df['Calc_A_Contr'] = np.select(Calc_A_n1_cond, Calc_A_n1_val),\n",
    "column_to_test = 'Calc Overall A_n1'\n",
    "# Calc_overall_n1_cond = [(df[column_to_test]<=(df[column_to_test].max()-df[column_to_test].min())/10+df[column_to_test].min()), ,\n",
    "#                         (df[column_to_test]>(df[column_to_test].max()-df[column_to_test].min())/10+df[column_to_test].min()) & (df[column_to_test]<=(df[column_to_test].max()-df[column_to_test].min())/2+df[column_to_test].min()), ,\n",
    "#                         (df[column_to_test]>(df[column_to_test].max()-df[column_to_test].min())/2+df[column_to_test].min()) & (df[column_to_test]<=8*(df[column_to_test].max()-df[column_to_test].min())/10+df[column_to_test].min()),,\n",
    "#                         (df[column_to_test]>8*(df[column_to_test].max()-df[column_to_test].min())/10+df[column_to_test].min())],\n",
    "\n",
    "                        # & (df[column_to_test]<=4*(df[column_to_test].max()-df[column_to_test].min())/6+df[column_to_test].min()), ,\n",
    "                        #(df[column_to_test]>4*(df[column_to_test].max()-df[column_to_test].min())/6+df[column_to_test].min())],\n",
    "# Calc_overall_n1_cond = [(df[column_to_test]<=df[column_to_test].quantile(0.12)),\n",
    "#                         (df[column_to_test]>df[column_to_test].quantile(0.12)) & (df[column_to_test]<=df[column_to_test].quantile(0.4)),\n",
    "#                         (df[column_to_test]>df[column_to_test].quantile(0.4)) & (df[column_to_test]<=df[column_to_test].quantile(0.88)),\n",
    "#                         (df[column_to_test]>df[column_to_test].quantile(0.88))]\n",
    "Calc_overall_n1_cond = [(df[column_to_test]<=df[column_to_test].quantile(0.5)),\n",
    "                        (df[column_to_test]>df[column_to_test].quantile(0.5)) & (df[column_to_test]<=df[column_to_test].quantile(0.88)),\n",
    "                        (df[column_to_test]>df[column_to_test].quantile(0.88))]\n",
    "Calc_A_n1_val = [2, 1, 0]\n",
    "# Calc_A_n1_val = [3, 2, 1, 0]\n",
    "df['Calc_Overall_n1_Contr'] = np.select(Calc_overall_n1_cond, Calc_A_n1_val)"
   ]
  },
  {
   "cell_type": "code",
   "execution_count": 894,
   "metadata": {},
   "outputs": [],
   "source": [
    "pd.set_option('display.max_columns', None)\n",
    "#df[['X.Poss_n1', 'X.Min_n1','Contribution_n1']].head(20)"
   ]
  },
  {
   "cell_type": "code",
   "execution_count": 895,
   "metadata": {},
   "outputs": [],
   "source": [
    "#df[['Team', 'year', 'games_max']].sort_values('games_max')\n"
   ]
  },
  {
   "cell_type": "code",
   "execution_count": 896,
   "metadata": {},
   "outputs": [
    {
     "data": {
      "text/html": [
       "<div>\n",
       "<style scoped>\n",
       "    .dataframe tbody tr th:only-of-type {\n",
       "        vertical-align: middle;\n",
       "    }\n",
       "\n",
       "    .dataframe tbody tr th {\n",
       "        vertical-align: top;\n",
       "    }\n",
       "\n",
       "    .dataframe thead th {\n",
       "        text-align: right;\n",
       "    }\n",
       "</style>\n",
       "<table border=\"1\" class=\"dataframe\">\n",
       "  <thead>\n",
       "    <tr style=\"text-align: right;\">\n",
       "      <th></th>\n",
       "      <th>0</th>\n",
       "      <th>1</th>\n",
       "      <th>2</th>\n",
       "      <th>3</th>\n",
       "      <th>4</th>\n",
       "      <th>5</th>\n",
       "      <th>6</th>\n",
       "      <th>7</th>\n",
       "      <th>8</th>\n",
       "      <th>9</th>\n",
       "      <th>10</th>\n",
       "      <th>11</th>\n",
       "      <th>12</th>\n",
       "      <th>13</th>\n",
       "      <th>14</th>\n",
       "      <th>15</th>\n",
       "    </tr>\n",
       "  </thead>\n",
       "  <tbody>\n",
       "    <tr>\n",
       "      <th>0</th>\n",
       "      <td>-0.058267</td>\n",
       "      <td>-1.617108</td>\n",
       "      <td>-1.269737</td>\n",
       "      <td>-0.635451</td>\n",
       "      <td>-0.609634</td>\n",
       "      <td>-0.380040</td>\n",
       "      <td>0.057381</td>\n",
       "      <td>-0.744638</td>\n",
       "      <td>0.670564</td>\n",
       "      <td>-0.259715</td>\n",
       "      <td>-0.611616</td>\n",
       "      <td>-0.287369</td>\n",
       "      <td>-0.151165</td>\n",
       "      <td>0.211692</td>\n",
       "      <td>-0.561659</td>\n",
       "      <td>-0.582513</td>\n",
       "    </tr>\n",
       "    <tr>\n",
       "      <th>1</th>\n",
       "      <td>0.643187</td>\n",
       "      <td>-0.049352</td>\n",
       "      <td>-1.906853</td>\n",
       "      <td>0.656794</td>\n",
       "      <td>-0.503006</td>\n",
       "      <td>-0.198410</td>\n",
       "      <td>0.492725</td>\n",
       "      <td>1.073080</td>\n",
       "      <td>0.726424</td>\n",
       "      <td>0.298251</td>\n",
       "      <td>-0.299545</td>\n",
       "      <td>0.024178</td>\n",
       "      <td>-0.678951</td>\n",
       "      <td>-1.261319</td>\n",
       "      <td>0.620358</td>\n",
       "      <td>0.515210</td>\n",
       "    </tr>\n",
       "    <tr>\n",
       "      <th>2</th>\n",
       "      <td>1.899180</td>\n",
       "      <td>0.519716</td>\n",
       "      <td>-0.923803</td>\n",
       "      <td>-0.155950</td>\n",
       "      <td>0.215187</td>\n",
       "      <td>0.031122</td>\n",
       "      <td>0.313672</td>\n",
       "      <td>0.540536</td>\n",
       "      <td>-0.237633</td>\n",
       "      <td>0.310109</td>\n",
       "      <td>0.015159</td>\n",
       "      <td>1.345536</td>\n",
       "      <td>0.814352</td>\n",
       "      <td>-0.634941</td>\n",
       "      <td>0.429798</td>\n",
       "      <td>0.810794</td>\n",
       "    </tr>\n",
       "    <tr>\n",
       "      <th>3</th>\n",
       "      <td>0.214718</td>\n",
       "      <td>-1.946273</td>\n",
       "      <td>-0.388255</td>\n",
       "      <td>1.709421</td>\n",
       "      <td>-1.257012</td>\n",
       "      <td>0.520738</td>\n",
       "      <td>-0.174852</td>\n",
       "      <td>1.567528</td>\n",
       "      <td>0.330869</td>\n",
       "      <td>1.001513</td>\n",
       "      <td>0.229680</td>\n",
       "      <td>0.003411</td>\n",
       "      <td>-1.250433</td>\n",
       "      <td>0.745761</td>\n",
       "      <td>-0.240699</td>\n",
       "      <td>-0.167114</td>\n",
       "    </tr>\n",
       "    <tr>\n",
       "      <th>4</th>\n",
       "      <td>-0.559020</td>\n",
       "      <td>-1.227136</td>\n",
       "      <td>1.050971</td>\n",
       "      <td>1.431133</td>\n",
       "      <td>-0.779943</td>\n",
       "      <td>0.413127</td>\n",
       "      <td>-0.150700</td>\n",
       "      <td>1.054578</td>\n",
       "      <td>0.866716</td>\n",
       "      <td>1.170814</td>\n",
       "      <td>0.812573</td>\n",
       "      <td>0.674385</td>\n",
       "      <td>0.989310</td>\n",
       "      <td>1.731248</td>\n",
       "      <td>-0.181945</td>\n",
       "      <td>0.079719</td>\n",
       "    </tr>\n",
       "    <tr>\n",
       "      <th>5</th>\n",
       "      <td>-0.539559</td>\n",
       "      <td>-1.075621</td>\n",
       "      <td>0.174869</td>\n",
       "      <td>1.538914</td>\n",
       "      <td>-0.018408</td>\n",
       "      <td>0.075079</td>\n",
       "      <td>-1.110718</td>\n",
       "      <td>0.933737</td>\n",
       "      <td>0.220590</td>\n",
       "      <td>-1.009790</td>\n",
       "      <td>-0.021336</td>\n",
       "      <td>-0.411504</td>\n",
       "      <td>0.805205</td>\n",
       "      <td>0.922938</td>\n",
       "      <td>-0.592552</td>\n",
       "      <td>-0.333867</td>\n",
       "    </tr>\n",
       "    <tr>\n",
       "      <th>6</th>\n",
       "      <td>-0.020585</td>\n",
       "      <td>-1.254647</td>\n",
       "      <td>-1.077321</td>\n",
       "      <td>1.475361</td>\n",
       "      <td>-0.147160</td>\n",
       "      <td>0.184585</td>\n",
       "      <td>-0.974400</td>\n",
       "      <td>-0.441952</td>\n",
       "      <td>-0.363561</td>\n",
       "      <td>0.470303</td>\n",
       "      <td>0.488682</td>\n",
       "      <td>0.328953</td>\n",
       "      <td>-1.051509</td>\n",
       "      <td>0.171190</td>\n",
       "      <td>-0.359478</td>\n",
       "      <td>-1.115429</td>\n",
       "    </tr>\n",
       "    <tr>\n",
       "      <th>7</th>\n",
       "      <td>-0.285328</td>\n",
       "      <td>0.904162</td>\n",
       "      <td>-2.689258</td>\n",
       "      <td>-0.911349</td>\n",
       "      <td>0.154760</td>\n",
       "      <td>-1.009565</td>\n",
       "      <td>1.449556</td>\n",
       "      <td>0.402524</td>\n",
       "      <td>-0.739409</td>\n",
       "      <td>-0.844403</td>\n",
       "      <td>1.234957</td>\n",
       "      <td>0.795706</td>\n",
       "      <td>0.205446</td>\n",
       "      <td>-1.298049</td>\n",
       "      <td>-1.009562</td>\n",
       "      <td>-0.452736</td>\n",
       "    </tr>\n",
       "    <tr>\n",
       "      <th>8</th>\n",
       "      <td>-0.538861</td>\n",
       "      <td>1.247699</td>\n",
       "      <td>-1.800752</td>\n",
       "      <td>0.601938</td>\n",
       "      <td>0.758731</td>\n",
       "      <td>-0.327022</td>\n",
       "      <td>-1.210355</td>\n",
       "      <td>0.887619</td>\n",
       "      <td>-0.673979</td>\n",
       "      <td>-1.164503</td>\n",
       "      <td>-0.418946</td>\n",
       "      <td>0.075209</td>\n",
       "      <td>-0.654271</td>\n",
       "      <td>-0.723490</td>\n",
       "      <td>0.176201</td>\n",
       "      <td>-0.906879</td>\n",
       "    </tr>\n",
       "    <tr>\n",
       "      <th>9</th>\n",
       "      <td>-0.164527</td>\n",
       "      <td>-0.816643</td>\n",
       "      <td>1.024982</td>\n",
       "      <td>0.442286</td>\n",
       "      <td>-0.181727</td>\n",
       "      <td>-0.532296</td>\n",
       "      <td>-0.127182</td>\n",
       "      <td>-1.954154</td>\n",
       "      <td>0.721085</td>\n",
       "      <td>-0.103702</td>\n",
       "      <td>-0.372358</td>\n",
       "      <td>-0.716131</td>\n",
       "      <td>-0.545514</td>\n",
       "      <td>-0.723363</td>\n",
       "      <td>-1.348026</td>\n",
       "      <td>-2.132760</td>\n",
       "    </tr>\n",
       "  </tbody>\n",
       "</table>\n",
       "</div>"
      ],
      "text/plain": [
       "         0         1         2         3         4         5         6   \\\n",
       "0 -0.058267 -1.617108 -1.269737 -0.635451 -0.609634 -0.380040  0.057381   \n",
       "1  0.643187 -0.049352 -1.906853  0.656794 -0.503006 -0.198410  0.492725   \n",
       "2  1.899180  0.519716 -0.923803 -0.155950  0.215187  0.031122  0.313672   \n",
       "3  0.214718 -1.946273 -0.388255  1.709421 -1.257012  0.520738 -0.174852   \n",
       "4 -0.559020 -1.227136  1.050971  1.431133 -0.779943  0.413127 -0.150700   \n",
       "5 -0.539559 -1.075621  0.174869  1.538914 -0.018408  0.075079 -1.110718   \n",
       "6 -0.020585 -1.254647 -1.077321  1.475361 -0.147160  0.184585 -0.974400   \n",
       "7 -0.285328  0.904162 -2.689258 -0.911349  0.154760 -1.009565  1.449556   \n",
       "8 -0.538861  1.247699 -1.800752  0.601938  0.758731 -0.327022 -1.210355   \n",
       "9 -0.164527 -0.816643  1.024982  0.442286 -0.181727 -0.532296 -0.127182   \n",
       "\n",
       "         7         8         9         10        11        12        13  \\\n",
       "0 -0.744638  0.670564 -0.259715 -0.611616 -0.287369 -0.151165  0.211692   \n",
       "1  1.073080  0.726424  0.298251 -0.299545  0.024178 -0.678951 -1.261319   \n",
       "2  0.540536 -0.237633  0.310109  0.015159  1.345536  0.814352 -0.634941   \n",
       "3  1.567528  0.330869  1.001513  0.229680  0.003411 -1.250433  0.745761   \n",
       "4  1.054578  0.866716  1.170814  0.812573  0.674385  0.989310  1.731248   \n",
       "5  0.933737  0.220590 -1.009790 -0.021336 -0.411504  0.805205  0.922938   \n",
       "6 -0.441952 -0.363561  0.470303  0.488682  0.328953 -1.051509  0.171190   \n",
       "7  0.402524 -0.739409 -0.844403  1.234957  0.795706  0.205446 -1.298049   \n",
       "8  0.887619 -0.673979 -1.164503 -0.418946  0.075209 -0.654271 -0.723490   \n",
       "9 -1.954154  0.721085 -0.103702 -0.372358 -0.716131 -0.545514 -0.723363   \n",
       "\n",
       "         14        15  \n",
       "0 -0.561659 -0.582513  \n",
       "1  0.620358  0.515210  \n",
       "2  0.429798  0.810794  \n",
       "3 -0.240699 -0.167114  \n",
       "4 -0.181945  0.079719  \n",
       "5 -0.592552 -0.333867  \n",
       "6 -0.359478 -1.115429  \n",
       "7 -1.009562 -0.452736  \n",
       "8  0.176201 -0.906879  \n",
       "9 -1.348026 -2.132760  "
      ]
     },
     "execution_count": 896,
     "metadata": {},
     "output_type": "execute_result"
    }
   ],
   "source": [
    "from sklearn.preprocessing import StandardScaler\n",
    "# feature1 = ['bpm', 'Calc A2', 'ws', 'dws', 'ows', 'Calc Overall', 'KP_Conf_Dif', 'X.Poss', \n",
    "#                    'Year_dif',  'Calc A', 'Calc B', \n",
    "#                  'DR.',  'Team_AdjEM_dif', 'player_type',\n",
    "#                  'Class', 'player_type', 'Pos_Ht', 'Calc C', 'off_rtg', 'def_rtg', 'ORtg']\n",
    "feature1 = ['games', 'games_started', 'mp_per_g', 'fg_per_g', 'fga_per_g', 'fg_pct', 'fg2_per_g', 'fg2a_per_g', \n",
    "            'fg2_pct', 'fg3_per_g', 'fg3a_per_g', 'fg3_pct', 'ft_per_g', 'fta_per_g', 'ft_pct', 'orb_per_g', \n",
    "            'drb_per_g', 'trb_per_g', 'ast_per_g', 'stl_per_g', 'blk_per_g', 'tov_per_g', 'pf_per_g', 'pts_per_g', \n",
    "            'sos', 'mp', 'fg', 'fga', 'fg2', 'fg2a', 'fg2_pct.1', 'fg3', 'fg3a', 'ft', 'fta', 'orb', 'drb', 'trb', \n",
    "            'ast', 'stl', 'blk', 'tov', 'pf', 'pts', \n",
    "    'fg_per_min', 'fga_per_min', 'fg2_per_min', 'fg2a_per_min', 'fg3_per_min', 'fg3a_per_min', 'ft_per_min', \n",
    "    'fta_per_min', 'trb_per_min', 'ast_per_min', 'stl_per_min', 'blk_per_min', 'tov_per_min', 'pf_per_min', \n",
    "    'pts_per_min', \n",
    "    'fg_per_poss', 'fga_per_poss', 'fg2_per_poss', 'fg2a_per_poss', 'fg3_per_poss', 'fg3a_per_poss', \n",
    "    'ft_per_poss', 'fta_per_poss', 'trb_per_poss', 'ast_per_poss', 'stl_per_poss', 'blk_per_poss', 'tov_per_poss', \n",
    "    'pf_per_poss', 'pts_per_poss', 'off_rtg', 'def_rtg', 'per', 'ts_pct', 'efg_pct', 'fg3a_per_fga_pct', \n",
    "    'fta_per_fga_pct', 'pprod', 'orb_pct', 'drb_pct', 'trb_pct', 'ast_pct', 'stl_pct', 'blk_pct', 'tov_pct', \n",
    "    'usg_pct', 'ows', 'dws', 'ws', 'ws_per_40', 'obpm', 'dbpm', 'bpm', 'year', 'Ht', 'Wt', 'G', 'S', 'X.Min', 'ORtg', \n",
    "    'X.Poss', 'X.Shots']\n",
    "# , 'X.Min', 'obpm', 'dbpm\n",
    "# , 'Calc_Overall_n1_Contr'\n",
    "y_try = df[['Calc_Overall_n1_Contr']]\n",
    "#y_try = df[['Contribution_n1']]\n",
    "df_temp = df\n",
    "#print(df_temp.columns)\n",
    "df_temp = df_temp.drop(['Calc_Overall_n1_Contr'], axis=1)\n",
    "#df_temp = df_temp.drop(['Contribution_n1'], axis=1)\n",
    "x_try = df_temp.loc[:, feature1].values\n",
    "#y_try = df.loc[:,['target']].values\n",
    "\n",
    "x_try = StandardScaler().fit_transform(x_try)\n",
    "\n",
    "from sklearn.decomposition import PCA\n",
    "\n",
    "pca = PCA(n_components=0.9, whiten=True)\n",
    "\n",
    "principalComponents = pca.fit_transform(x_try)\n",
    "\n",
    "principalDf = pd.DataFrame(data = principalComponents)\n",
    "#principalDf = pd.concat([principalDf, df_temp['player_type']], axis=1)\n",
    "principalDf.head(10)"
   ]
  },
  {
   "cell_type": "code",
   "execution_count": 897,
   "metadata": {},
   "outputs": [],
   "source": [
    "# loadings = pd.DataFrame(pca.components_.T, columns=['PC1', 'PC2', 'PC3', 'PC4', 'PC5', 'PC6', 'PC7', 'PC8', 'PC9', 'PCA10'], index=feature1)\n",
    "# pd.set_option('display.max_rows', None)\n",
    "# loadings"
   ]
  },
  {
   "cell_type": "code",
   "execution_count": 898,
   "metadata": {},
   "outputs": [
    {
     "data": {
      "text/plain": [
       "699.3"
      ]
     },
     "execution_count": 898,
     "metadata": {},
     "output_type": "execute_result"
    }
   ],
   "source": [
    "df[column_to_test].quantile(0.4)"
   ]
  },
  {
   "cell_type": "code",
   "execution_count": 899,
   "metadata": {},
   "outputs": [
    {
     "data": {
      "text/plain": [
       "88"
      ]
     },
     "execution_count": 899,
     "metadata": {},
     "output_type": "execute_result"
    }
   ],
   "source": [
    "df['Ht'].max()"
   ]
  },
  {
   "cell_type": "code",
   "execution_count": 900,
   "metadata": {},
   "outputs": [
    {
     "data": {
      "text/plain": [
       "array([[<Axes: title={'center': 'Ht'}>]], dtype=object)"
      ]
     },
     "execution_count": 900,
     "metadata": {},
     "output_type": "execute_result"
    },
    {
     "data": {
      "image/png": "[encoded data removed]",
      "text/plain": [
       "<Figure size 640x480 with 1 Axes>"
      ]
     },
     "metadata": {},
     "output_type": "display_data"
    }
   ],
   "source": [
    "df.hist('Ht', bins=15)"
   ]
  },
  {
   "cell_type": "code",
   "execution_count": 901,
   "metadata": {},
   "outputs": [
    {
     "name": "stderr",
     "output_type": "stream",
     "text": [
      "/opt/anaconda3/lib/python3.11/site-packages/sklearn/ensemble/_gb.py:437: DataConversionWarning: A column-vector y was passed when a 1d array was expected. Please change the shape of y to (n_samples, ), for example using ravel().\n",
      "  y = column_or_1d(y, warn=True)\n"
     ]
    },
    {
     "name": "stdout",
     "output_type": "stream",
     "text": [
      "['player_type', 'bpm']\n",
      "Accuracy:  55.31437125748503\n"
     ]
    },
    {
     "name": "stderr",
     "output_type": "stream",
     "text": [
      "/opt/anaconda3/lib/python3.11/site-packages/sklearn/ensemble/_gb.py:437: DataConversionWarning: A column-vector y was passed when a 1d array was expected. Please change the shape of y to (n_samples, ), for example using ravel().\n",
      "  y = column_or_1d(y, warn=True)\n"
     ]
    },
    {
     "name": "stdout",
     "output_type": "stream",
     "text": [
      "['player_type', 'Calc A2']\n",
      "Accuracy:  57.33532934131736\n"
     ]
    },
    {
     "name": "stderr",
     "output_type": "stream",
     "text": [
      "/opt/anaconda3/lib/python3.11/site-packages/sklearn/ensemble/_gb.py:437: DataConversionWarning: A column-vector y was passed when a 1d array was expected. Please change the shape of y to (n_samples, ), for example using ravel().\n",
      "  y = column_or_1d(y, warn=True)\n"
     ]
    },
    {
     "name": "stdout",
     "output_type": "stream",
     "text": [
      "['player_type', 'ws']\n",
      "Accuracy:  61.52694610778443\n"
     ]
    },
    {
     "name": "stderr",
     "output_type": "stream",
     "text": [
      "/opt/anaconda3/lib/python3.11/site-packages/sklearn/ensemble/_gb.py:437: DataConversionWarning: A column-vector y was passed when a 1d array was expected. Please change the shape of y to (n_samples, ), for example using ravel().\n",
      "  y = column_or_1d(y, warn=True)\n"
     ]
    },
    {
     "name": "stdout",
     "output_type": "stream",
     "text": [
      "['player_type', 'Calc Overall A']\n",
      "Accuracy:  64.37125748502994\n"
     ]
    },
    {
     "name": "stderr",
     "output_type": "stream",
     "text": [
      "/opt/anaconda3/lib/python3.11/site-packages/sklearn/ensemble/_gb.py:437: DataConversionWarning: A column-vector y was passed when a 1d array was expected. Please change the shape of y to (n_samples, ), for example using ravel().\n",
      "  y = column_or_1d(y, warn=True)\n"
     ]
    },
    {
     "name": "stdout",
     "output_type": "stream",
     "text": [
      "['player_type', 'Calc Overall A2']\n",
      "Accuracy:  63.622754491017965\n"
     ]
    },
    {
     "name": "stderr",
     "output_type": "stream",
     "text": [
      "/opt/anaconda3/lib/python3.11/site-packages/sklearn/ensemble/_gb.py:437: DataConversionWarning: A column-vector y was passed when a 1d array was expected. Please change the shape of y to (n_samples, ), for example using ravel().\n",
      "  y = column_or_1d(y, warn=True)\n"
     ]
    },
    {
     "name": "stdout",
     "output_type": "stream",
     "text": [
      "['player_type', 'Calc Overall A3']\n",
      "Accuracy:  61.97604790419161\n"
     ]
    },
    {
     "name": "stderr",
     "output_type": "stream",
     "text": [
      "/opt/anaconda3/lib/python3.11/site-packages/sklearn/ensemble/_gb.py:437: DataConversionWarning: A column-vector y was passed when a 1d array was expected. Please change the shape of y to (n_samples, ), for example using ravel().\n",
      "  y = column_or_1d(y, warn=True)\n"
     ]
    },
    {
     "name": "stdout",
     "output_type": "stream",
     "text": [
      "['player_type', 'KP_Conf_Dif']\n",
      "Accuracy:  51.42215568862275\n"
     ]
    },
    {
     "name": "stderr",
     "output_type": "stream",
     "text": [
      "/opt/anaconda3/lib/python3.11/site-packages/sklearn/ensemble/_gb.py:437: DataConversionWarning: A column-vector y was passed when a 1d array was expected. Please change the shape of y to (n_samples, ), for example using ravel().\n",
      "  y = column_or_1d(y, warn=True)\n"
     ]
    },
    {
     "name": "stdout",
     "output_type": "stream",
     "text": [
      "['player_type', 'X.Poss']\n",
      "Accuracy:  52.24550898203593\n"
     ]
    },
    {
     "name": "stderr",
     "output_type": "stream",
     "text": [
      "/opt/anaconda3/lib/python3.11/site-packages/sklearn/ensemble/_gb.py:437: DataConversionWarning: A column-vector y was passed when a 1d array was expected. Please change the shape of y to (n_samples, ), for example using ravel().\n",
      "  y = column_or_1d(y, warn=True)\n"
     ]
    },
    {
     "name": "stdout",
     "output_type": "stream",
     "text": [
      "['player_type', 'Year_dif']\n",
      "Accuracy:  50.82335329341318\n"
     ]
    },
    {
     "name": "stderr",
     "output_type": "stream",
     "text": [
      "/opt/anaconda3/lib/python3.11/site-packages/sklearn/ensemble/_gb.py:437: DataConversionWarning: A column-vector y was passed when a 1d array was expected. Please change the shape of y to (n_samples, ), for example using ravel().\n",
      "  y = column_or_1d(y, warn=True)\n"
     ]
    },
    {
     "name": "stdout",
     "output_type": "stream",
     "text": [
      "['player_type', 'Calc A']\n",
      "Accuracy:  61.67664670658682\n"
     ]
    },
    {
     "name": "stderr",
     "output_type": "stream",
     "text": [
      "/opt/anaconda3/lib/python3.11/site-packages/sklearn/ensemble/_gb.py:437: DataConversionWarning: A column-vector y was passed when a 1d array was expected. Please change the shape of y to (n_samples, ), for example using ravel().\n",
      "  y = column_or_1d(y, warn=True)\n"
     ]
    },
    {
     "name": "stdout",
     "output_type": "stream",
     "text": [
      "['player_type', 'Calc B']\n",
      "Accuracy:  63.99700598802395\n"
     ]
    },
    {
     "name": "stderr",
     "output_type": "stream",
     "text": [
      "/opt/anaconda3/lib/python3.11/site-packages/sklearn/ensemble/_gb.py:437: DataConversionWarning: A column-vector y was passed when a 1d array was expected. Please change the shape of y to (n_samples, ), for example using ravel().\n",
      "  y = column_or_1d(y, warn=True)\n"
     ]
    },
    {
     "name": "stdout",
     "output_type": "stream",
     "text": [
      "['player_type', 'Calc A3']\n",
      "Accuracy:  60.853293413173645\n"
     ]
    },
    {
     "name": "stderr",
     "output_type": "stream",
     "text": [
      "/opt/anaconda3/lib/python3.11/site-packages/sklearn/ensemble/_gb.py:437: DataConversionWarning: A column-vector y was passed when a 1d array was expected. Please change the shape of y to (n_samples, ), for example using ravel().\n",
      "  y = column_or_1d(y, warn=True)\n"
     ]
    },
    {
     "name": "stdout",
     "output_type": "stream",
     "text": [
      "['player_type', 'DR.']\n",
      "Accuracy:  50.1497005988024\n"
     ]
    },
    {
     "name": "stderr",
     "output_type": "stream",
     "text": [
      "/opt/anaconda3/lib/python3.11/site-packages/sklearn/ensemble/_gb.py:437: DataConversionWarning: A column-vector y was passed when a 1d array was expected. Please change the shape of y to (n_samples, ), for example using ravel().\n",
      "  y = column_or_1d(y, warn=True)\n"
     ]
    },
    {
     "name": "stdout",
     "output_type": "stream",
     "text": [
      "['player_type', 'Team_AdjEM_dif']\n",
      "Accuracy:  50.59880239520959\n"
     ]
    },
    {
     "name": "stderr",
     "output_type": "stream",
     "text": [
      "/opt/anaconda3/lib/python3.11/site-packages/sklearn/ensemble/_gb.py:437: DataConversionWarning: A column-vector y was passed when a 1d array was expected. Please change the shape of y to (n_samples, ), for example using ravel().\n",
      "  y = column_or_1d(y, warn=True)\n"
     ]
    },
    {
     "name": "stdout",
     "output_type": "stream",
     "text": [
      "['player_type', 'Class']\n",
      "Accuracy:  53.293413173652695\n"
     ]
    },
    {
     "name": "stderr",
     "output_type": "stream",
     "text": [
      "/opt/anaconda3/lib/python3.11/site-packages/sklearn/ensemble/_gb.py:437: DataConversionWarning: A column-vector y was passed when a 1d array was expected. Please change the shape of y to (n_samples, ), for example using ravel().\n",
      "  y = column_or_1d(y, warn=True)\n"
     ]
    },
    {
     "name": "stdout",
     "output_type": "stream",
     "text": [
      "['player_type', 'Calc C']\n",
      "Accuracy:  55.38922155688623\n"
     ]
    },
    {
     "name": "stderr",
     "output_type": "stream",
     "text": [
      "/opt/anaconda3/lib/python3.11/site-packages/sklearn/ensemble/_gb.py:437: DataConversionWarning: A column-vector y was passed when a 1d array was expected. Please change the shape of y to (n_samples, ), for example using ravel().\n",
      "  y = column_or_1d(y, warn=True)\n"
     ]
    },
    {
     "name": "stdout",
     "output_type": "stream",
     "text": [
      "['player_type', 'ORtg']\n",
      "Accuracy:  52.39520958083832\n"
     ]
    },
    {
     "name": "stderr",
     "output_type": "stream",
     "text": [
      "/opt/anaconda3/lib/python3.11/site-packages/sklearn/ensemble/_gb.py:437: DataConversionWarning: A column-vector y was passed when a 1d array was expected. Please change the shape of y to (n_samples, ), for example using ravel().\n",
      "  y = column_or_1d(y, warn=True)\n"
     ]
    },
    {
     "name": "stdout",
     "output_type": "stream",
     "text": [
      "['player_type', 'per']\n",
      "Accuracy:  57.784431137724546\n"
     ]
    },
    {
     "name": "stderr",
     "output_type": "stream",
     "text": [
      "/opt/anaconda3/lib/python3.11/site-packages/sklearn/ensemble/_gb.py:437: DataConversionWarning: A column-vector y was passed when a 1d array was expected. Please change the shape of y to (n_samples, ), for example using ravel().\n",
      "  y = column_or_1d(y, warn=True)\n"
     ]
    },
    {
     "name": "stdout",
     "output_type": "stream",
     "text": [
      "['player_type', 'efg_pct']\n",
      "Accuracy:  52.544910179640716\n"
     ]
    },
    {
     "name": "stderr",
     "output_type": "stream",
     "text": [
      "/opt/anaconda3/lib/python3.11/site-packages/sklearn/ensemble/_gb.py:437: DataConversionWarning: A column-vector y was passed when a 1d array was expected. Please change the shape of y to (n_samples, ), for example using ravel().\n",
      "  y = column_or_1d(y, warn=True)\n"
     ]
    },
    {
     "name": "stdout",
     "output_type": "stream",
     "text": [
      "['player_type', 'fta_per_fga_pct']\n",
      "Accuracy:  49.25149700598803\n"
     ]
    },
    {
     "name": "stderr",
     "output_type": "stream",
     "text": [
      "/opt/anaconda3/lib/python3.11/site-packages/sklearn/ensemble/_gb.py:437: DataConversionWarning: A column-vector y was passed when a 1d array was expected. Please change the shape of y to (n_samples, ), for example using ravel().\n",
      "  y = column_or_1d(y, warn=True)\n"
     ]
    },
    {
     "name": "stdout",
     "output_type": "stream",
     "text": [
      "['player_type', 'pprod']\n",
      "Accuracy:  61.452095808383234\n"
     ]
    },
    {
     "name": "stderr",
     "output_type": "stream",
     "text": [
      "/opt/anaconda3/lib/python3.11/site-packages/sklearn/ensemble/_gb.py:437: DataConversionWarning: A column-vector y was passed when a 1d array was expected. Please change the shape of y to (n_samples, ), for example using ravel().\n",
      "  y = column_or_1d(y, warn=True)\n"
     ]
    },
    {
     "name": "stdout",
     "output_type": "stream",
     "text": [
      "['player_type', 'orb_pct']\n",
      "Accuracy:  49.101796407185624\n"
     ]
    },
    {
     "name": "stderr",
     "output_type": "stream",
     "text": [
      "/opt/anaconda3/lib/python3.11/site-packages/sklearn/ensemble/_gb.py:437: DataConversionWarning: A column-vector y was passed when a 1d array was expected. Please change the shape of y to (n_samples, ), for example using ravel().\n",
      "  y = column_or_1d(y, warn=True)\n"
     ]
    },
    {
     "name": "stdout",
     "output_type": "stream",
     "text": [
      "['player_type', 'usg_pct']\n",
      "Accuracy:  53.1437125748503\n"
     ]
    },
    {
     "name": "stderr",
     "output_type": "stream",
     "text": [
      "/opt/anaconda3/lib/python3.11/site-packages/sklearn/ensemble/_gb.py:437: DataConversionWarning: A column-vector y was passed when a 1d array was expected. Please change the shape of y to (n_samples, ), for example using ravel().\n",
      "  y = column_or_1d(y, warn=True)\n"
     ]
    },
    {
     "name": "stdout",
     "output_type": "stream",
     "text": [
      "['player_type', 'tov_pct']\n",
      "Accuracy:  50.374251497005986\n",
      "Adding:  Calc Overall A\n",
      "Rem Columns:  ['bpm', 'Calc A2', 'ws', 'Calc Overall A', 'Calc Overall A2', 'Calc Overall A3', 'KP_Conf_Dif', 'X.Poss', 'Year_dif', 'Calc A', 'Calc B', 'Calc A3', 'DR.', 'Team_AdjEM_dif', 'Class', 'Calc C', 'ORtg', 'per', 'efg_pct', 'fta_per_fga_pct', 'pprod', 'orb_pct', 'usg_pct', 'tov_pct']\n",
      "Accuracy:  64.37125748502994\n",
      "['player_type', 'Calc Overall A']\n"
     ]
    },
    {
     "name": "stderr",
     "output_type": "stream",
     "text": [
      "/opt/anaconda3/lib/python3.11/site-packages/sklearn/ensemble/_gb.py:437: DataConversionWarning: A column-vector y was passed when a 1d array was expected. Please change the shape of y to (n_samples, ), for example using ravel().\n",
      "  y = column_or_1d(y, warn=True)\n"
     ]
    },
    {
     "name": "stdout",
     "output_type": "stream",
     "text": [
      "['player_type', 'Calc Overall A', 'bpm']\n",
      "Accuracy:  63.398203592814376\n"
     ]
    },
    {
     "name": "stderr",
     "output_type": "stream",
     "text": [
      "/opt/anaconda3/lib/python3.11/site-packages/sklearn/ensemble/_gb.py:437: DataConversionWarning: A column-vector y was passed when a 1d array was expected. Please change the shape of y to (n_samples, ), for example using ravel().\n",
      "  y = column_or_1d(y, warn=True)\n"
     ]
    },
    {
     "name": "stdout",
     "output_type": "stream",
     "text": [
      "['player_type', 'Calc Overall A', 'Calc A2']\n",
      "Accuracy:  62.72455089820359\n"
     ]
    },
    {
     "name": "stderr",
     "output_type": "stream",
     "text": [
      "/opt/anaconda3/lib/python3.11/site-packages/sklearn/ensemble/_gb.py:437: DataConversionWarning: A column-vector y was passed when a 1d array was expected. Please change the shape of y to (n_samples, ), for example using ravel().\n",
      "  y = column_or_1d(y, warn=True)\n"
     ]
    },
    {
     "name": "stdout",
     "output_type": "stream",
     "text": [
      "['player_type', 'Calc Overall A', 'ws']\n",
      "Accuracy:  63.772455089820355\n"
     ]
    },
    {
     "name": "stderr",
     "output_type": "stream",
     "text": [
      "/opt/anaconda3/lib/python3.11/site-packages/sklearn/ensemble/_gb.py:437: DataConversionWarning: A column-vector y was passed when a 1d array was expected. Please change the shape of y to (n_samples, ), for example using ravel().\n",
      "  y = column_or_1d(y, warn=True)\n"
     ]
    },
    {
     "name": "stdout",
     "output_type": "stream",
     "text": [
      "['player_type', 'Calc Overall A', 'Calc Overall A2']\n",
      "Accuracy:  63.772455089820355\n"
     ]
    },
    {
     "name": "stderr",
     "output_type": "stream",
     "text": [
      "/opt/anaconda3/lib/python3.11/site-packages/sklearn/ensemble/_gb.py:437: DataConversionWarning: A column-vector y was passed when a 1d array was expected. Please change the shape of y to (n_samples, ), for example using ravel().\n",
      "  y = column_or_1d(y, warn=True)\n"
     ]
    },
    {
     "name": "stdout",
     "output_type": "stream",
     "text": [
      "['player_type', 'Calc Overall A', 'Calc Overall A3']\n",
      "Accuracy:  65.11976047904191\n"
     ]
    },
    {
     "name": "stderr",
     "output_type": "stream",
     "text": [
      "/opt/anaconda3/lib/python3.11/site-packages/sklearn/ensemble/_gb.py:437: DataConversionWarning: A column-vector y was passed when a 1d array was expected. Please change the shape of y to (n_samples, ), for example using ravel().\n",
      "  y = column_or_1d(y, warn=True)\n"
     ]
    },
    {
     "name": "stdout",
     "output_type": "stream",
     "text": [
      "['player_type', 'Calc Overall A', 'KP_Conf_Dif']\n",
      "Accuracy:  65.26946107784431\n"
     ]
    },
    {
     "name": "stderr",
     "output_type": "stream",
     "text": [
      "/opt/anaconda3/lib/python3.11/site-packages/sklearn/ensemble/_gb.py:437: DataConversionWarning: A column-vector y was passed when a 1d array was expected. Please change the shape of y to (n_samples, ), for example using ravel().\n",
      "  y = column_or_1d(y, warn=True)\n"
     ]
    },
    {
     "name": "stdout",
     "output_type": "stream",
     "text": [
      "['player_type', 'Calc Overall A', 'X.Poss']\n",
      "Accuracy:  65.4940119760479\n"
     ]
    },
    {
     "name": "stderr",
     "output_type": "stream",
     "text": [
      "/opt/anaconda3/lib/python3.11/site-packages/sklearn/ensemble/_gb.py:437: DataConversionWarning: A column-vector y was passed when a 1d array was expected. Please change the shape of y to (n_samples, ), for example using ravel().\n",
      "  y = column_or_1d(y, warn=True)\n"
     ]
    },
    {
     "name": "stdout",
     "output_type": "stream",
     "text": [
      "['player_type', 'Calc Overall A', 'Year_dif']\n",
      "Accuracy:  64.82035928143712\n"
     ]
    },
    {
     "name": "stderr",
     "output_type": "stream",
     "text": [
      "/opt/anaconda3/lib/python3.11/site-packages/sklearn/ensemble/_gb.py:437: DataConversionWarning: A column-vector y was passed when a 1d array was expected. Please change the shape of y to (n_samples, ), for example using ravel().\n",
      "  y = column_or_1d(y, warn=True)\n"
     ]
    },
    {
     "name": "stdout",
     "output_type": "stream",
     "text": [
      "['player_type', 'Calc Overall A', 'Calc A']\n",
      "Accuracy:  64.52095808383234\n"
     ]
    },
    {
     "name": "stderr",
     "output_type": "stream",
     "text": [
      "/opt/anaconda3/lib/python3.11/site-packages/sklearn/ensemble/_gb.py:437: DataConversionWarning: A column-vector y was passed when a 1d array was expected. Please change the shape of y to (n_samples, ), for example using ravel().\n",
      "  y = column_or_1d(y, warn=True)\n"
     ]
    },
    {
     "name": "stdout",
     "output_type": "stream",
     "text": [
      "['player_type', 'Calc Overall A', 'Calc B']\n",
      "Accuracy:  65.41916167664671\n"
     ]
    },
    {
     "name": "stderr",
     "output_type": "stream",
     "text": [
      "/opt/anaconda3/lib/python3.11/site-packages/sklearn/ensemble/_gb.py:437: DataConversionWarning: A column-vector y was passed when a 1d array was expected. Please change the shape of y to (n_samples, ), for example using ravel().\n",
      "  y = column_or_1d(y, warn=True)\n"
     ]
    },
    {
     "name": "stdout",
     "output_type": "stream",
     "text": [
      "['player_type', 'Calc Overall A', 'Calc A3']\n",
      "Accuracy:  64.97005988023952\n"
     ]
    },
    {
     "name": "stderr",
     "output_type": "stream",
     "text": [
      "/opt/anaconda3/lib/python3.11/site-packages/sklearn/ensemble/_gb.py:437: DataConversionWarning: A column-vector y was passed when a 1d array was expected. Please change the shape of y to (n_samples, ), for example using ravel().\n",
      "  y = column_or_1d(y, warn=True)\n"
     ]
    },
    {
     "name": "stdout",
     "output_type": "stream",
     "text": [
      "['player_type', 'Calc Overall A', 'DR.']\n",
      "Accuracy:  64.89520958083833\n"
     ]
    },
    {
     "name": "stderr",
     "output_type": "stream",
     "text": [
      "/opt/anaconda3/lib/python3.11/site-packages/sklearn/ensemble/_gb.py:437: DataConversionWarning: A column-vector y was passed when a 1d array was expected. Please change the shape of y to (n_samples, ), for example using ravel().\n",
      "  y = column_or_1d(y, warn=True)\n"
     ]
    },
    {
     "name": "stdout",
     "output_type": "stream",
     "text": [
      "['player_type', 'Calc Overall A', 'Team_AdjEM_dif']\n",
      "Accuracy:  67.06586826347305\n"
     ]
    },
    {
     "name": "stderr",
     "output_type": "stream",
     "text": [
      "/opt/anaconda3/lib/python3.11/site-packages/sklearn/ensemble/_gb.py:437: DataConversionWarning: A column-vector y was passed when a 1d array was expected. Please change the shape of y to (n_samples, ), for example using ravel().\n",
      "  y = column_or_1d(y, warn=True)\n"
     ]
    },
    {
     "name": "stdout",
     "output_type": "stream",
     "text": [
      "['player_type', 'Calc Overall A', 'Class']\n",
      "Accuracy:  64.74550898203593\n"
     ]
    },
    {
     "name": "stderr",
     "output_type": "stream",
     "text": [
      "/opt/anaconda3/lib/python3.11/site-packages/sklearn/ensemble/_gb.py:437: DataConversionWarning: A column-vector y was passed when a 1d array was expected. Please change the shape of y to (n_samples, ), for example using ravel().\n",
      "  y = column_or_1d(y, warn=True)\n"
     ]
    },
    {
     "name": "stdout",
     "output_type": "stream",
     "text": [
      "['player_type', 'Calc Overall A', 'Calc C']\n",
      "Accuracy:  63.99700598802395\n"
     ]
    },
    {
     "name": "stderr",
     "output_type": "stream",
     "text": [
      "/opt/anaconda3/lib/python3.11/site-packages/sklearn/ensemble/_gb.py:437: DataConversionWarning: A column-vector y was passed when a 1d array was expected. Please change the shape of y to (n_samples, ), for example using ravel().\n",
      "  y = column_or_1d(y, warn=True)\n"
     ]
    },
    {
     "name": "stdout",
     "output_type": "stream",
     "text": [
      "['player_type', 'Calc Overall A', 'ORtg']\n",
      "Accuracy:  63.92215568862275\n"
     ]
    },
    {
     "name": "stderr",
     "output_type": "stream",
     "text": [
      "/opt/anaconda3/lib/python3.11/site-packages/sklearn/ensemble/_gb.py:437: DataConversionWarning: A column-vector y was passed when a 1d array was expected. Please change the shape of y to (n_samples, ), for example using ravel().\n",
      "  y = column_or_1d(y, warn=True)\n"
     ]
    },
    {
     "name": "stdout",
     "output_type": "stream",
     "text": [
      "['player_type', 'Calc Overall A', 'per']\n",
      "Accuracy:  64.67065868263472\n"
     ]
    },
    {
     "name": "stderr",
     "output_type": "stream",
     "text": [
      "/opt/anaconda3/lib/python3.11/site-packages/sklearn/ensemble/_gb.py:437: DataConversionWarning: A column-vector y was passed when a 1d array was expected. Please change the shape of y to (n_samples, ), for example using ravel().\n",
      "  y = column_or_1d(y, warn=True)\n"
     ]
    },
    {
     "name": "stdout",
     "output_type": "stream",
     "text": [
      "['player_type', 'Calc Overall A', 'efg_pct']\n",
      "Accuracy:  64.44610778443113\n"
     ]
    },
    {
     "name": "stderr",
     "output_type": "stream",
     "text": [
      "/opt/anaconda3/lib/python3.11/site-packages/sklearn/ensemble/_gb.py:437: DataConversionWarning: A column-vector y was passed when a 1d array was expected. Please change the shape of y to (n_samples, ), for example using ravel().\n",
      "  y = column_or_1d(y, warn=True)\n"
     ]
    },
    {
     "name": "stdout",
     "output_type": "stream",
     "text": [
      "['player_type', 'Calc Overall A', 'fta_per_fga_pct']\n",
      "Accuracy:  64.52095808383234\n"
     ]
    },
    {
     "name": "stderr",
     "output_type": "stream",
     "text": [
      "/opt/anaconda3/lib/python3.11/site-packages/sklearn/ensemble/_gb.py:437: DataConversionWarning: A column-vector y was passed when a 1d array was expected. Please change the shape of y to (n_samples, ), for example using ravel().\n",
      "  y = column_or_1d(y, warn=True)\n"
     ]
    },
    {
     "name": "stdout",
     "output_type": "stream",
     "text": [
      "['player_type', 'Calc Overall A', 'pprod']\n",
      "Accuracy:  64.74550898203593\n"
     ]
    },
    {
     "name": "stderr",
     "output_type": "stream",
     "text": [
      "/opt/anaconda3/lib/python3.11/site-packages/sklearn/ensemble/_gb.py:437: DataConversionWarning: A column-vector y was passed when a 1d array was expected. Please change the shape of y to (n_samples, ), for example using ravel().\n",
      "  y = column_or_1d(y, warn=True)\n"
     ]
    },
    {
     "name": "stdout",
     "output_type": "stream",
     "text": [
      "['player_type', 'Calc Overall A', 'orb_pct']\n",
      "Accuracy:  64.44610778443113\n"
     ]
    },
    {
     "name": "stderr",
     "output_type": "stream",
     "text": [
      "/opt/anaconda3/lib/python3.11/site-packages/sklearn/ensemble/_gb.py:437: DataConversionWarning: A column-vector y was passed when a 1d array was expected. Please change the shape of y to (n_samples, ), for example using ravel().\n",
      "  y = column_or_1d(y, warn=True)\n"
     ]
    },
    {
     "name": "stdout",
     "output_type": "stream",
     "text": [
      "['player_type', 'Calc Overall A', 'usg_pct']\n",
      "Accuracy:  65.41916167664671\n"
     ]
    },
    {
     "name": "stderr",
     "output_type": "stream",
     "text": [
      "/opt/anaconda3/lib/python3.11/site-packages/sklearn/ensemble/_gb.py:437: DataConversionWarning: A column-vector y was passed when a 1d array was expected. Please change the shape of y to (n_samples, ), for example using ravel().\n",
      "  y = column_or_1d(y, warn=True)\n"
     ]
    },
    {
     "name": "stdout",
     "output_type": "stream",
     "text": [
      "['player_type', 'Calc Overall A', 'tov_pct']\n",
      "Accuracy:  64.59580838323353\n",
      "Adding:  Team_AdjEM_dif\n",
      "Rem Columns:  ['bpm', 'Calc A2', 'ws', 'Calc Overall A2', 'Calc Overall A3', 'KP_Conf_Dif', 'X.Poss', 'Year_dif', 'Calc A', 'Calc B', 'Calc A3', 'DR.', 'Team_AdjEM_dif', 'Class', 'Calc C', 'ORtg', 'per', 'efg_pct', 'fta_per_fga_pct', 'pprod', 'orb_pct', 'usg_pct', 'tov_pct']\n",
      "Accuracy:  67.06586826347305\n",
      "['player_type', 'Calc Overall A', 'Team_AdjEM_dif']\n"
     ]
    },
    {
     "name": "stderr",
     "output_type": "stream",
     "text": [
      "/opt/anaconda3/lib/python3.11/site-packages/sklearn/ensemble/_gb.py:437: DataConversionWarning: A column-vector y was passed when a 1d array was expected. Please change the shape of y to (n_samples, ), for example using ravel().\n",
      "  y = column_or_1d(y, warn=True)\n"
     ]
    },
    {
     "name": "stdout",
     "output_type": "stream",
     "text": [
      "['player_type', 'Calc Overall A', 'Team_AdjEM_dif', 'bpm']\n",
      "Accuracy:  65.19461077844312\n"
     ]
    },
    {
     "name": "stderr",
     "output_type": "stream",
     "text": [
      "/opt/anaconda3/lib/python3.11/site-packages/sklearn/ensemble/_gb.py:437: DataConversionWarning: A column-vector y was passed when a 1d array was expected. Please change the shape of y to (n_samples, ), for example using ravel().\n",
      "  y = column_or_1d(y, warn=True)\n"
     ]
    },
    {
     "name": "stdout",
     "output_type": "stream",
     "text": [
      "['player_type', 'Calc Overall A', 'Team_AdjEM_dif', 'Calc A2']\n",
      "Accuracy:  65.11976047904191\n"
     ]
    },
    {
     "name": "stderr",
     "output_type": "stream",
     "text": [
      "/opt/anaconda3/lib/python3.11/site-packages/sklearn/ensemble/_gb.py:437: DataConversionWarning: A column-vector y was passed when a 1d array was expected. Please change the shape of y to (n_samples, ), for example using ravel().\n",
      "  y = column_or_1d(y, warn=True)\n"
     ]
    },
    {
     "name": "stdout",
     "output_type": "stream",
     "text": [
      "['player_type', 'Calc Overall A', 'Team_AdjEM_dif', 'ws']\n",
      "Accuracy:  65.7934131736527\n"
     ]
    },
    {
     "name": "stderr",
     "output_type": "stream",
     "text": [
      "/opt/anaconda3/lib/python3.11/site-packages/sklearn/ensemble/_gb.py:437: DataConversionWarning: A column-vector y was passed when a 1d array was expected. Please change the shape of y to (n_samples, ), for example using ravel().\n",
      "  y = column_or_1d(y, warn=True)\n"
     ]
    },
    {
     "name": "stdout",
     "output_type": "stream",
     "text": [
      "['player_type', 'Calc Overall A', 'Team_AdjEM_dif', 'Calc Overall A2']\n",
      "Accuracy:  64.82035928143712\n"
     ]
    },
    {
     "name": "stderr",
     "output_type": "stream",
     "text": [
      "/opt/anaconda3/lib/python3.11/site-packages/sklearn/ensemble/_gb.py:437: DataConversionWarning: A column-vector y was passed when a 1d array was expected. Please change the shape of y to (n_samples, ), for example using ravel().\n",
      "  y = column_or_1d(y, warn=True)\n"
     ]
    },
    {
     "name": "stdout",
     "output_type": "stream",
     "text": [
      "['player_type', 'Calc Overall A', 'Team_AdjEM_dif', 'Calc Overall A3']\n",
      "Accuracy:  66.84131736526946\n"
     ]
    },
    {
     "name": "stderr",
     "output_type": "stream",
     "text": [
      "/opt/anaconda3/lib/python3.11/site-packages/sklearn/ensemble/_gb.py:437: DataConversionWarning: A column-vector y was passed when a 1d array was expected. Please change the shape of y to (n_samples, ), for example using ravel().\n",
      "  y = column_or_1d(y, warn=True)\n"
     ]
    },
    {
     "name": "stdout",
     "output_type": "stream",
     "text": [
      "['player_type', 'Calc Overall A', 'Team_AdjEM_dif', 'KP_Conf_Dif']\n",
      "Accuracy:  66.39221556886228\n"
     ]
    },
    {
     "name": "stderr",
     "output_type": "stream",
     "text": [
      "/opt/anaconda3/lib/python3.11/site-packages/sklearn/ensemble/_gb.py:437: DataConversionWarning: A column-vector y was passed when a 1d array was expected. Please change the shape of y to (n_samples, ), for example using ravel().\n",
      "  y = column_or_1d(y, warn=True)\n"
     ]
    },
    {
     "name": "stdout",
     "output_type": "stream",
     "text": [
      "['player_type', 'Calc Overall A', 'Team_AdjEM_dif', 'X.Poss']\n",
      "Accuracy:  66.76646706586826\n"
     ]
    },
    {
     "name": "stderr",
     "output_type": "stream",
     "text": [
      "/opt/anaconda3/lib/python3.11/site-packages/sklearn/ensemble/_gb.py:437: DataConversionWarning: A column-vector y was passed when a 1d array was expected. Please change the shape of y to (n_samples, ), for example using ravel().\n",
      "  y = column_or_1d(y, warn=True)\n"
     ]
    },
    {
     "name": "stdout",
     "output_type": "stream",
     "text": [
      "['player_type', 'Calc Overall A', 'Team_AdjEM_dif', 'Year_dif']\n",
      "Accuracy:  66.84131736526946\n"
     ]
    },
    {
     "name": "stderr",
     "output_type": "stream",
     "text": [
      "/opt/anaconda3/lib/python3.11/site-packages/sklearn/ensemble/_gb.py:437: DataConversionWarning: A column-vector y was passed when a 1d array was expected. Please change the shape of y to (n_samples, ), for example using ravel().\n",
      "  y = column_or_1d(y, warn=True)\n"
     ]
    },
    {
     "name": "stdout",
     "output_type": "stream",
     "text": [
      "['player_type', 'Calc Overall A', 'Team_AdjEM_dif', 'Calc A']\n",
      "Accuracy:  65.71856287425149\n"
     ]
    },
    {
     "name": "stderr",
     "output_type": "stream",
     "text": [
      "/opt/anaconda3/lib/python3.11/site-packages/sklearn/ensemble/_gb.py:437: DataConversionWarning: A column-vector y was passed when a 1d array was expected. Please change the shape of y to (n_samples, ), for example using ravel().\n",
      "  y = column_or_1d(y, warn=True)\n"
     ]
    },
    {
     "name": "stdout",
     "output_type": "stream",
     "text": [
      "['player_type', 'Calc Overall A', 'Team_AdjEM_dif', 'Calc B']\n",
      "Accuracy:  66.39221556886228\n"
     ]
    },
    {
     "name": "stderr",
     "output_type": "stream",
     "text": [
      "/opt/anaconda3/lib/python3.11/site-packages/sklearn/ensemble/_gb.py:437: DataConversionWarning: A column-vector y was passed when a 1d array was expected. Please change the shape of y to (n_samples, ), for example using ravel().\n",
      "  y = column_or_1d(y, warn=True)\n"
     ]
    },
    {
     "name": "stdout",
     "output_type": "stream",
     "text": [
      "['player_type', 'Calc Overall A', 'Team_AdjEM_dif', 'Calc A3']\n",
      "Accuracy:  66.76646706586826\n"
     ]
    },
    {
     "name": "stderr",
     "output_type": "stream",
     "text": [
      "/opt/anaconda3/lib/python3.11/site-packages/sklearn/ensemble/_gb.py:437: DataConversionWarning: A column-vector y was passed when a 1d array was expected. Please change the shape of y to (n_samples, ), for example using ravel().\n",
      "  y = column_or_1d(y, warn=True)\n"
     ]
    },
    {
     "name": "stdout",
     "output_type": "stream",
     "text": [
      "['player_type', 'Calc Overall A', 'Team_AdjEM_dif', 'DR.']\n",
      "Accuracy:  66.76646706586826\n"
     ]
    },
    {
     "name": "stderr",
     "output_type": "stream",
     "text": [
      "/opt/anaconda3/lib/python3.11/site-packages/sklearn/ensemble/_gb.py:437: DataConversionWarning: A column-vector y was passed when a 1d array was expected. Please change the shape of y to (n_samples, ), for example using ravel().\n",
      "  y = column_or_1d(y, warn=True)\n"
     ]
    },
    {
     "name": "stdout",
     "output_type": "stream",
     "text": [
      "['player_type', 'Calc Overall A', 'Team_AdjEM_dif', 'Class']\n",
      "Accuracy:  66.91616766467065\n"
     ]
    },
    {
     "name": "stderr",
     "output_type": "stream",
     "text": [
      "/opt/anaconda3/lib/python3.11/site-packages/sklearn/ensemble/_gb.py:437: DataConversionWarning: A column-vector y was passed when a 1d array was expected. Please change the shape of y to (n_samples, ), for example using ravel().\n",
      "  y = column_or_1d(y, warn=True)\n"
     ]
    },
    {
     "name": "stdout",
     "output_type": "stream",
     "text": [
      "['player_type', 'Calc Overall A', 'Team_AdjEM_dif', 'Calc C']\n",
      "Accuracy:  65.26946107784431\n"
     ]
    },
    {
     "name": "stderr",
     "output_type": "stream",
     "text": [
      "/opt/anaconda3/lib/python3.11/site-packages/sklearn/ensemble/_gb.py:437: DataConversionWarning: A column-vector y was passed when a 1d array was expected. Please change the shape of y to (n_samples, ), for example using ravel().\n",
      "  y = column_or_1d(y, warn=True)\n"
     ]
    },
    {
     "name": "stdout",
     "output_type": "stream",
     "text": [
      "['player_type', 'Calc Overall A', 'Team_AdjEM_dif', 'ORtg']\n",
      "Accuracy:  65.41916167664671\n"
     ]
    },
    {
     "name": "stderr",
     "output_type": "stream",
     "text": [
      "/opt/anaconda3/lib/python3.11/site-packages/sklearn/ensemble/_gb.py:437: DataConversionWarning: A column-vector y was passed when a 1d array was expected. Please change the shape of y to (n_samples, ), for example using ravel().\n",
      "  y = column_or_1d(y, warn=True)\n"
     ]
    },
    {
     "name": "stdout",
     "output_type": "stream",
     "text": [
      "['player_type', 'Calc Overall A', 'Team_AdjEM_dif', 'per']\n",
      "Accuracy:  66.76646706586826\n"
     ]
    },
    {
     "name": "stderr",
     "output_type": "stream",
     "text": [
      "/opt/anaconda3/lib/python3.11/site-packages/sklearn/ensemble/_gb.py:437: DataConversionWarning: A column-vector y was passed when a 1d array was expected. Please change the shape of y to (n_samples, ), for example using ravel().\n",
      "  y = column_or_1d(y, warn=True)\n"
     ]
    },
    {
     "name": "stdout",
     "output_type": "stream",
     "text": [
      "['player_type', 'Calc Overall A', 'Team_AdjEM_dif', 'efg_pct']\n",
      "Accuracy:  65.86826347305389\n"
     ]
    },
    {
     "name": "stderr",
     "output_type": "stream",
     "text": [
      "/opt/anaconda3/lib/python3.11/site-packages/sklearn/ensemble/_gb.py:437: DataConversionWarning: A column-vector y was passed when a 1d array was expected. Please change the shape of y to (n_samples, ), for example using ravel().\n",
      "  y = column_or_1d(y, warn=True)\n"
     ]
    },
    {
     "name": "stdout",
     "output_type": "stream",
     "text": [
      "['player_type', 'Calc Overall A', 'Team_AdjEM_dif', 'fta_per_fga_pct']\n",
      "Accuracy:  66.76646706586826\n"
     ]
    },
    {
     "name": "stderr",
     "output_type": "stream",
     "text": [
      "/opt/anaconda3/lib/python3.11/site-packages/sklearn/ensemble/_gb.py:437: DataConversionWarning: A column-vector y was passed when a 1d array was expected. Please change the shape of y to (n_samples, ), for example using ravel().\n",
      "  y = column_or_1d(y, warn=True)\n"
     ]
    },
    {
     "name": "stdout",
     "output_type": "stream",
     "text": [
      "['player_type', 'Calc Overall A', 'Team_AdjEM_dif', 'pprod']\n",
      "Accuracy:  65.71856287425149\n"
     ]
    },
    {
     "name": "stderr",
     "output_type": "stream",
     "text": [
      "/opt/anaconda3/lib/python3.11/site-packages/sklearn/ensemble/_gb.py:437: DataConversionWarning: A column-vector y was passed when a 1d array was expected. Please change the shape of y to (n_samples, ), for example using ravel().\n",
      "  y = column_or_1d(y, warn=True)\n"
     ]
    },
    {
     "name": "stdout",
     "output_type": "stream",
     "text": [
      "['player_type', 'Calc Overall A', 'Team_AdjEM_dif', 'orb_pct']\n",
      "Accuracy:  65.71856287425149\n"
     ]
    },
    {
     "name": "stderr",
     "output_type": "stream",
     "text": [
      "/opt/anaconda3/lib/python3.11/site-packages/sklearn/ensemble/_gb.py:437: DataConversionWarning: A column-vector y was passed when a 1d array was expected. Please change the shape of y to (n_samples, ), for example using ravel().\n",
      "  y = column_or_1d(y, warn=True)\n"
     ]
    },
    {
     "name": "stdout",
     "output_type": "stream",
     "text": [
      "['player_type', 'Calc Overall A', 'Team_AdjEM_dif', 'usg_pct']\n",
      "Accuracy:  66.54191616766467\n"
     ]
    },
    {
     "name": "stderr",
     "output_type": "stream",
     "text": [
      "/opt/anaconda3/lib/python3.11/site-packages/sklearn/ensemble/_gb.py:437: DataConversionWarning: A column-vector y was passed when a 1d array was expected. Please change the shape of y to (n_samples, ), for example using ravel().\n",
      "  y = column_or_1d(y, warn=True)\n"
     ]
    },
    {
     "name": "stdout",
     "output_type": "stream",
     "text": [
      "['player_type', 'Calc Overall A', 'Team_AdjEM_dif', 'tov_pct']\n",
      "Accuracy:  66.24251497005989\n",
      "Fails 0.6706586826347305 0.6691616766467066\n",
      "['player_type', 'Calc Overall A', 'Team_AdjEM_dif']\n"
     ]
    }
   ],
   "source": [
    "from sklearn.ensemble import RandomForestClassifier\n",
    "from sklearn.naive_bayes import GaussianNB\n",
    "from sklearn import neighbors\n",
    "from sklearn import svm\n",
    "from sklearn.ensemble import GradientBoostingClassifier\n",
    "\n",
    "\n",
    "#df_test1 = principalDf - This one\n",
    "df_test1 = df[['bpm', 'Calc A2', 'ws', 'Calc Overall A', 'Calc Overall A2', 'Calc Overall A3',\n",
    "                 'KP_Conf_Dif', 'X.Poss', 'Year_dif',  'Calc A', 'Calc B', 'Calc A3',\n",
    "                 'DR.',  'Team_AdjEM_dif', 'player_type', 'Contribution_n1',\n",
    "                 'Class', 'Calc C', 'ORtg',\n",
    "                 'Calc_Overall_n1_Contr', \n",
    "                 'per', 'efg_pct', 'fta_per_fga_pct', 'pprod', 'orb_pct', 'usg_pct', 'tov_pct']]\n",
    "#df_test1 = df_test1.reset_index()\n",
    "columns = list(df_test1.columns)\n",
    "columns.remove('Contribution_n1')\n",
    "\n",
    "# #columns.remove('Calc_Overall_Contr'),\n",
    "columns.remove('Calc_Overall_n1_Contr')\n",
    "# # PCA\n",
    "# from sklearn.preprocessing import StandardScaler\n",
    "# #y_try = df[['Calc_Overall_n1_Contr']]\n",
    "# y_try = df_test1[['Contribution_n1']]\n",
    "# df_temp = df_test1\n",
    "# #print(df_temp.columns)\n",
    "# df_temp = df_temp.drop(['Calc_Overall_n1_Contr', 'Contribution_n1'], axis=1)\n",
    "# #df_temp = df_temp.drop(['Contribution_n1'], axis=1)\n",
    "# x_try = df_temp.loc[:, columns].values\n",
    "# #y_try = df.loc[:,['target']].values\n",
    "\n",
    "# x_try = StandardScaler().fit_transform(x_try)\n",
    "\n",
    "# from sklearn.decomposition import PCA\n",
    "\n",
    "# pca = PCA(n_components=0.9, whiten=True)\n",
    "\n",
    "# principalComponents = pca.fit_transform(x_try)\n",
    "\n",
    "# principalDf = pd.DataFrame(data = principalComponents)\n",
    "# principalDf.columns = principalDf.columns.astype(str)\n",
    "# print(principalDf.shape)\n",
    "# principalDf = pd.merge(principalDf, df_test1['player_type'],  left_index=True, right_index=True, how='left')\n",
    "# print(principalDf.shape)\n",
    "# 'games', 'games_started', 'Calc A', 'Calc B', 'ast_per_poss', 'pts_per_poss', 'Ht', 'Wt', 'stl_per_poss', 'blk_per_poss', , ,\n",
    "#df_test1 = df_test1[df_test1['player_type']==0],\n",
    "# 'Calc Overall', 'Calc_Overall_Contr',\n",
    "#'player_type', 'KP_Rk_Dif', 'ORtg', 'X.Min',,\n",
    "#'Team_AdjEM_dif', 'X.Min_n1', 'X.Poss_n1',,\n",
    "#df_test1 = df_test1[df_test1['player_type']==0],\n",
    "#columns = list(df_test1.columns)\n",
    "\n",
    "columns.remove('player_type')\n",
    "#columns.remove('Calc A2')\n",
    "#,\n",
    "keep_col = ['player_type'] #- This one\n",
    "#keep_col = []\n",
    "#rem_columns = list(principalDf.columns)\n",
    "rem_columns = columns\n",
    "check = True\n",
    "accuracy_end = 0\n",
    "while len(rem_columns)>0 and check == True:\n",
    "    acc_check = 0\n",
    "\n",
    "    for col in rem_columns:\n",
    "        if col=='player_type': continue\n",
    "        X = df_test1[keep_col + [col]]\n",
    "    # X = df_test1[['player_type', 'X.Poss', 'X.Min', 'X.Min_n1', 'ORtg', ,\n",
    "    #                       'Year_dif', 'stl_per_poss', 'blk_per_poss', ,\n",
    "    #                       'DR.', 'KP_Rk_Dif', 'Calc A']],\n",
    "        #y = principalDf[['Contribution_n1']]\n",
    "        y = df_test1[['Calc_Overall_n1_Contr']]\n",
    "        #y = y_try\n",
    "        #y = df_test1[['Contribution_n1']],\n",
    "        # Model,\n",
    "        seed = 7\n",
    "        test_size = 0.15\n",
    "        X_train, X_test, y_train, y_test = train_test_split(X, y, test_size=test_size, random_state=seed)\n",
    "        # Random Forrest\n",
    "        # model = RandomForestClassifier()\n",
    "        # model.fit(X_train, y_train)\n",
    "\n",
    "        # Naive-Bayes\n",
    "        # model = GaussianNB()\n",
    "        # model.fit(X_train, y_train)\n",
    "\n",
    "        # Nearest Neighbors\n",
    "        # model = neighbors.KNeighborsClassifier()\n",
    "        # model.fit(X_train, y_train)\n",
    "\n",
    "        # Support Vector Machine\n",
    "        # model = svm.SVC(kernel='linear')\n",
    "        # model.fit(X_train, y_train)\n",
    "        \n",
    "        # Gradient Boosting Classifier\n",
    "        model = GradientBoostingClassifier()\n",
    "        model.fit(X_train, y_train)\n",
    "    \n",
    "        # Find Accuracy,\n",
    "        accuracy = model.score(X_test, y_test)\n",
    "        # y_pred = model.predict(X_test),\n",
    "        # predictions = [round(value) for value in y_pred],\n",
    "        # accuracy = accuracy_score(y_test, predictions),\n",
    "        print(keep_col + [col])\n",
    "        print('Accuracy: ', accuracy * 100)\n",
    "        if accuracy > acc_check:\n",
    "            acc_check = accuracy\n",
    "            col_to_add = col\n",
    "            check = True\n",
    "    #print(\\Adding: \\, col_to_add),\n",
    "    \n",
    "    #print(\\Rem Columns: \\, rem_columns),\n",
    "    #keep_col = keep_col + [col_to_add],\n",
    "    if accuracy_end < acc_check:\n",
    "        print('Adding: ', col_to_add)\n",
    "        print('Rem Columns: ', rem_columns)\n",
    "        accuracy_end = acc_check\n",
    "        print('Accuracy: ', accuracy_end * 100)\n",
    "        rem_columns.remove(col_to_add)\n",
    "        keep_col = keep_col + [col_to_add]\n",
    "    else:\n",
    "        print('Fails', accuracy_end, acc_check)\n",
    "        check = False\n",
    "    print(keep_col)\n"
   ]
  },
  {
   "cell_type": "code",
   "execution_count": 902,
   "metadata": {},
   "outputs": [
    {
     "name": "stdout",
     "output_type": "stream",
     "text": [
      "['player_type', 'Calc Overall A', 'Team_AdjEM_dif']\n"
     ]
    }
   ],
   "source": [
    "print(keep_col)"
   ]
  },
  {
   "cell_type": "code",
   "execution_count": 903,
   "metadata": {},
   "outputs": [
    {
     "name": "stdout",
     "output_type": "stream",
     "text": [
      "0.6706586826347305 0.6691616766467066\n"
     ]
    }
   ],
   "source": [
    "print(accuracy_end, acc_check)"
   ]
  },
  {
   "cell_type": "code",
   "execution_count": 904,
   "metadata": {},
   "outputs": [
    {
     "data": {
      "text/html": [
       "<div>\n",
       "<style scoped>\n",
       "    .dataframe tbody tr th:only-of-type {\n",
       "        vertical-align: middle;\n",
       "    }\n",
       "\n",
       "    .dataframe tbody tr th {\n",
       "        vertical-align: top;\n",
       "    }\n",
       "\n",
       "    .dataframe thead th {\n",
       "        text-align: right;\n",
       "    }\n",
       "</style>\n",
       "<table border=\"1\" class=\"dataframe\">\n",
       "  <thead>\n",
       "    <tr style=\"text-align: right;\">\n",
       "      <th></th>\n",
       "      <th></th>\n",
       "      <th>Better</th>\n",
       "    </tr>\n",
       "    <tr>\n",
       "      <th>Actual</th>\n",
       "      <th>Predictions</th>\n",
       "      <th></th>\n",
       "    </tr>\n",
       "  </thead>\n",
       "  <tbody>\n",
       "    <tr>\n",
       "      <th rowspan=\"3\" valign=\"top\">0</th>\n",
       "      <th>0</th>\n",
       "      <td>58</td>\n",
       "    </tr>\n",
       "    <tr>\n",
       "      <th>1</th>\n",
       "      <td>78</td>\n",
       "    </tr>\n",
       "    <tr>\n",
       "      <th>2</th>\n",
       "      <td>18</td>\n",
       "    </tr>\n",
       "    <tr>\n",
       "      <th rowspan=\"3\" valign=\"top\">1</th>\n",
       "      <th>0</th>\n",
       "      <td>30</td>\n",
       "    </tr>\n",
       "    <tr>\n",
       "      <th>1</th>\n",
       "      <td>287</td>\n",
       "    </tr>\n",
       "    <tr>\n",
       "      <th>2</th>\n",
       "      <td>185</td>\n",
       "    </tr>\n",
       "    <tr>\n",
       "      <th rowspan=\"3\" valign=\"top\">2</th>\n",
       "      <th>0</th>\n",
       "      <td>5</td>\n",
       "    </tr>\n",
       "    <tr>\n",
       "      <th>1</th>\n",
       "      <td>135</td>\n",
       "    </tr>\n",
       "    <tr>\n",
       "      <th>2</th>\n",
       "      <td>540</td>\n",
       "    </tr>\n",
       "  </tbody>\n",
       "</table>\n",
       "</div>"
      ],
      "text/plain": [
       "                    Better\n",
       "Actual Predictions        \n",
       "0      0                58\n",
       "       1                78\n",
       "       2                18\n",
       "1      0                30\n",
       "       1               287\n",
       "       2               185\n",
       "2      0                 5\n",
       "       1               135\n",
       "       2               540"
      ]
     },
     "execution_count": 904,
     "metadata": {},
     "output_type": "execute_result"
    }
   ],
   "source": [
    "output = pd.DataFrame(y_test['Calc_Overall_n1_Contr'])\n",
    "output = output.rename(columns={'Calc_Overall_n1_Contr': 'Actual'})\n",
    "\n",
    "# output = pd.DataFrame(y_test['Contribution_n1'])\n",
    "# output = output.rename(columns={'Contribution_n1': 'Actual'})\n",
    "\n",
    "output['Predictions'] = model.predict(X_test)\n",
    "output3 = output.groupby('Predictions').count()\n",
    "output['Better'] = np.where(output['Predictions']==output['Actual'], 1, 0)\n",
    "output2 = output.groupby(['Actual', 'Predictions']).count()\n",
    "\n",
    "output2"
   ]
  },
  {
   "cell_type": "code",
   "execution_count": null,
   "metadata": {},
   "outputs": [],
   "source": []
  }
 ],
 "metadata": {
  "kernelspec": {
   "display_name": "base",
   "language": "python",
   "name": "python3"
  },
  "language_info": {
   "codemirror_mode": {
    "name": "ipython",
    "version": 3
   },
   "file_extension": ".py",
   "mimetype": "text/x-python",
   "name": "python",
   "nbconvert_exporter": "python",
   "pygments_lexer": "ipython3",
   "version": "3.11.7"
  }
 },
 "nbformat": 4,
 "nbformat_minor": 2
}
