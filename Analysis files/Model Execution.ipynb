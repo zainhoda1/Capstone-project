{
 "cells": [
  {
   "cell_type": "code",
   "execution_count": 59,
   "metadata": {},
   "outputs": [
    {
     "data": {
      "text/plain": [
       "60"
      ]
     },
     "execution_count": 59,
     "metadata": {},
     "output_type": "execute_result"
    }
   ],
   "source": [
    "import pandas as pd\n",
    "from xgboost import XGBClassifier\n",
    "from sklearn.model_selection import train_test_split\n",
    "from sklearn.metrics import accuracy_score\n",
    "import numpy as np\n",
    "import matplotlib.pyplot as plt\n",
    "pd.options.display.max_rows"
   ]
  },
  {
   "cell_type": "code",
   "execution_count": 45,
   "metadata": {},
   "outputs": [
    {
     "data": {
      "text/html": [
       "<div>\n",
       "<style scoped>\n",
       "    .dataframe tbody tr th:only-of-type {\n",
       "        vertical-align: middle;\n",
       "    }\n",
       "\n",
       "    .dataframe tbody tr th {\n",
       "        vertical-align: top;\n",
       "    }\n",
       "\n",
       "    .dataframe thead th {\n",
       "        text-align: right;\n",
       "    }\n",
       "</style>\n",
       "<table border=\"1\" class=\"dataframe\">\n",
       "  <thead>\n",
       "    <tr style=\"text-align: right;\">\n",
       "      <th></th>\n",
       "      <th>Year_Conf</th>\n",
       "      <th>Conf_Abb</th>\n",
       "      <th>Conf_Rk</th>\n",
       "      <th>Conf_Full</th>\n",
       "      <th>Conf_Rating</th>\n",
       "    </tr>\n",
       "  </thead>\n",
       "  <tbody>\n",
       "    <tr>\n",
       "      <th>0</th>\n",
       "      <td>2023</td>\n",
       "      <td>Big 12</td>\n",
       "      <td>1</td>\n",
       "      <td>Big 12 Conference</td>\n",
       "      <td>17.99</td>\n",
       "    </tr>\n",
       "    <tr>\n",
       "      <th>1</th>\n",
       "      <td>2023</td>\n",
       "      <td>Big Ten</td>\n",
       "      <td>2</td>\n",
       "      <td>Big Ten Conference</td>\n",
       "      <td>14.88</td>\n",
       "    </tr>\n",
       "    <tr>\n",
       "      <th>2</th>\n",
       "      <td>2023</td>\n",
       "      <td>Big East</td>\n",
       "      <td>3</td>\n",
       "      <td>Big East Conference</td>\n",
       "      <td>13.95</td>\n",
       "    </tr>\n",
       "    <tr>\n",
       "      <th>3</th>\n",
       "      <td>2023</td>\n",
       "      <td>SEC</td>\n",
       "      <td>4</td>\n",
       "      <td>Southeastern Conference</td>\n",
       "      <td>12.57</td>\n",
       "    </tr>\n",
       "    <tr>\n",
       "      <th>4</th>\n",
       "      <td>2023</td>\n",
       "      <td>Pac-12</td>\n",
       "      <td>5</td>\n",
       "      <td>Pac 12 Conference</td>\n",
       "      <td>11.58</td>\n",
       "    </tr>\n",
       "    <tr>\n",
       "      <th>5</th>\n",
       "      <td>2023</td>\n",
       "      <td>MWC</td>\n",
       "      <td>6</td>\n",
       "      <td>Mountain West Conference</td>\n",
       "      <td>9.26</td>\n",
       "    </tr>\n",
       "    <tr>\n",
       "      <th>6</th>\n",
       "      <td>2023</td>\n",
       "      <td>ACC</td>\n",
       "      <td>7</td>\n",
       "      <td>Atlantic Coast Conference</td>\n",
       "      <td>8.58</td>\n",
       "    </tr>\n",
       "    <tr>\n",
       "      <th>7</th>\n",
       "      <td>2023</td>\n",
       "      <td>AAC</td>\n",
       "      <td>8</td>\n",
       "      <td>American Athletic Conference</td>\n",
       "      <td>6.72</td>\n",
       "    </tr>\n",
       "    <tr>\n",
       "      <th>8</th>\n",
       "      <td>2023</td>\n",
       "      <td>WCC</td>\n",
       "      <td>9</td>\n",
       "      <td>West Coast Conference</td>\n",
       "      <td>6.27</td>\n",
       "    </tr>\n",
       "    <tr>\n",
       "      <th>9</th>\n",
       "      <td>2023</td>\n",
       "      <td>CUSA</td>\n",
       "      <td>10</td>\n",
       "      <td>Conference USA</td>\n",
       "      <td>3.60</td>\n",
       "    </tr>\n",
       "  </tbody>\n",
       "</table>\n",
       "</div>"
      ],
      "text/plain": [
       "   Year_Conf  Conf_Abb  Conf_Rk                     Conf_Full  Conf_Rating\n",
       "0       2023    Big 12        1             Big 12 Conference        17.99\n",
       "1       2023   Big Ten        2            Big Ten Conference        14.88\n",
       "2       2023  Big East        3           Big East Conference        13.95\n",
       "3       2023       SEC        4       Southeastern Conference        12.57\n",
       "4       2023    Pac-12        5             Pac 12 Conference        11.58\n",
       "5       2023       MWC        6      Mountain West Conference         9.26\n",
       "6       2023       ACC        7     Atlantic Coast Conference         8.58\n",
       "7       2023       AAC        8  American Athletic Conference         6.72\n",
       "8       2023       WCC        9         West Coast Conference         6.27\n",
       "9       2023      CUSA       10                Conference USA         3.60"
      ]
     },
     "execution_count": 45,
     "metadata": {},
     "output_type": "execute_result"
    }
   ],
   "source": [
    "kp = pd.read_csv(\"/Users/caldavis/Documents/GitHub/Capstone-project/Data folder/KenPom Team Metrics.csv\")\n",
    "#kp.head(10)\n",
    "kp_conf_rat = pd.read_csv(\"/Users/caldavis/Documents/GitHub/Capstone-project/Data folder/KP_Conf_Ratings.csv\")\n",
    "kp_conf_rat = kp_conf_rat[[\"Year_Conf\", \"Conf_Abb\", \"Conf_Rk\", \"Conf_Full\", \"Conf_Rating\"]]\n",
    "kp_conf_rat.head(10)"
   ]
  },
  {
   "cell_type": "code",
   "execution_count": 49,
   "metadata": {},
   "outputs": [
    {
     "name": "stderr",
     "output_type": "stream",
     "text": [
      "/var/folders/cq/16hkxgp926d466c0g9jzx2900000gq/T/ipykernel_83214/1518560658.py:1: DtypeWarning: Columns (13,16,38,144,147,169) have mixed types. Specify dtype option on import or set low_memory=False.\n",
      "  d = pd.read_csv(\"/Users/caldavis/Documents/GitHub/Capstone-project/Data folder/final_data_by_player_type.csv\")\n"
     ]
    },
    {
     "data": {
      "text/html": [
       "<div>\n",
       "<style scoped>\n",
       "    .dataframe tbody tr th:only-of-type {\n",
       "        vertical-align: middle;\n",
       "    }\n",
       "\n",
       "    .dataframe tbody tr th {\n",
       "        vertical-align: top;\n",
       "    }\n",
       "\n",
       "    .dataframe thead th {\n",
       "        text-align: right;\n",
       "    }\n",
       "</style>\n",
       "<table border=\"1\" class=\"dataframe\">\n",
       "  <thead>\n",
       "    <tr style=\"text-align: right;\">\n",
       "      <th></th>\n",
       "      <th>Unnamed: 0</th>\n",
       "      <th>player_type</th>\n",
       "      <th>Team</th>\n",
       "      <th>Team_n1</th>\n",
       "      <th>Unnamed..0_x</th>\n",
       "      <th>Player.Name</th>\n",
       "      <th>season</th>\n",
       "      <th>conf_abbr</th>\n",
       "      <th>games</th>\n",
       "      <th>games_started</th>\n",
       "      <th>...</th>\n",
       "      <th>Year_Conf_y</th>\n",
       "      <th>Conf_Abb_y</th>\n",
       "      <th>Conf_Rk_y</th>\n",
       "      <th>Conf_Full_y</th>\n",
       "      <th>Conf_Rating_y</th>\n",
       "      <th>Year_Conf</th>\n",
       "      <th>Conf_Abb</th>\n",
       "      <th>Conf_Rk</th>\n",
       "      <th>Conf_Full</th>\n",
       "      <th>Conf_Rating</th>\n",
       "    </tr>\n",
       "  </thead>\n",
       "  <tbody>\n",
       "    <tr>\n",
       "      <th>0</th>\n",
       "      <td>1</td>\n",
       "      <td>1</td>\n",
       "      <td>JACKSONVILLE</td>\n",
       "      <td>JACKSONVILLE</td>\n",
       "      <td>16199.0</td>\n",
       "      <td>aamahne-santos-1</td>\n",
       "      <td>2018-19</td>\n",
       "      <td>A-Sun</td>\n",
       "      <td>32</td>\n",
       "      <td>31</td>\n",
       "      <td>...</td>\n",
       "      <td>2019.0</td>\n",
       "      <td>A-Sun</td>\n",
       "      <td>20.0</td>\n",
       "      <td>ASUN Conference</td>\n",
       "      <td>-4.43</td>\n",
       "      <td>2020.0</td>\n",
       "      <td>A-Sun</td>\n",
       "      <td>26.0</td>\n",
       "      <td>ASUN Conference</td>\n",
       "      <td>-8.16</td>\n",
       "    </tr>\n",
       "    <tr>\n",
       "      <th>1</th>\n",
       "      <td>2</td>\n",
       "      <td>1</td>\n",
       "      <td>CLEMSON</td>\n",
       "      <td>CLEMSON</td>\n",
       "      <td>7084.0</td>\n",
       "      <td>aamir-simms-1</td>\n",
       "      <td>2018-19</td>\n",
       "      <td>ACC</td>\n",
       "      <td>34</td>\n",
       "      <td>34</td>\n",
       "      <td>...</td>\n",
       "      <td>2019.0</td>\n",
       "      <td>ACC</td>\n",
       "      <td>3.0</td>\n",
       "      <td>Atlantic Coast Conference</td>\n",
       "      <td>15.33</td>\n",
       "      <td>2020.0</td>\n",
       "      <td>ACC</td>\n",
       "      <td>4.0</td>\n",
       "      <td>Atlantic Coast Conference</td>\n",
       "      <td>11.45</td>\n",
       "    </tr>\n",
       "    <tr>\n",
       "      <th>2</th>\n",
       "      <td>3</td>\n",
       "      <td>1</td>\n",
       "      <td>CLEMSON</td>\n",
       "      <td>CLEMSON</td>\n",
       "      <td>7085.0</td>\n",
       "      <td>aamir-simms-1</td>\n",
       "      <td>2019-20</td>\n",
       "      <td>ACC</td>\n",
       "      <td>30</td>\n",
       "      <td>30</td>\n",
       "      <td>...</td>\n",
       "      <td>2020.0</td>\n",
       "      <td>ACC</td>\n",
       "      <td>4.0</td>\n",
       "      <td>Atlantic Coast Conference</td>\n",
       "      <td>11.45</td>\n",
       "      <td>2021.0</td>\n",
       "      <td>ACC</td>\n",
       "      <td>5.0</td>\n",
       "      <td>Atlantic Coast Conference</td>\n",
       "      <td>13.22</td>\n",
       "    </tr>\n",
       "    <tr>\n",
       "      <th>3</th>\n",
       "      <td>4</td>\n",
       "      <td>1</td>\n",
       "      <td>NORTH DAKOTA</td>\n",
       "      <td>NORTH DAKOTA</td>\n",
       "      <td>0.0</td>\n",
       "      <td>aanen-moody-1</td>\n",
       "      <td>2018-19</td>\n",
       "      <td>Summit</td>\n",
       "      <td>30</td>\n",
       "      <td>0</td>\n",
       "      <td>...</td>\n",
       "      <td>2019.0</td>\n",
       "      <td>Summit</td>\n",
       "      <td>23.0</td>\n",
       "      <td>Summit League</td>\n",
       "      <td>-5.49</td>\n",
       "      <td>2020.0</td>\n",
       "      <td>Summit</td>\n",
       "      <td>19.0</td>\n",
       "      <td>Summit League</td>\n",
       "      <td>-3.53</td>\n",
       "    </tr>\n",
       "    <tr>\n",
       "      <th>4</th>\n",
       "      <td>5</td>\n",
       "      <td>0</td>\n",
       "      <td>NORTH DAKOTA</td>\n",
       "      <td>SOUTHERN UTAH</td>\n",
       "      <td>0.0</td>\n",
       "      <td>aanen-moody-1</td>\n",
       "      <td>2019-20</td>\n",
       "      <td>Summit</td>\n",
       "      <td>9</td>\n",
       "      <td>0</td>\n",
       "      <td>...</td>\n",
       "      <td>2020.0</td>\n",
       "      <td>Big Sky</td>\n",
       "      <td>17.0</td>\n",
       "      <td>Big Sky Conference</td>\n",
       "      <td>-2.26</td>\n",
       "      <td>2021.0</td>\n",
       "      <td>Big Sky</td>\n",
       "      <td>18.0</td>\n",
       "      <td>Big Sky Conference</td>\n",
       "      <td>-4.89</td>\n",
       "    </tr>\n",
       "    <tr>\n",
       "      <th>...</th>\n",
       "      <td>...</td>\n",
       "      <td>...</td>\n",
       "      <td>...</td>\n",
       "      <td>...</td>\n",
       "      <td>...</td>\n",
       "      <td>...</td>\n",
       "      <td>...</td>\n",
       "      <td>...</td>\n",
       "      <td>...</td>\n",
       "      <td>...</td>\n",
       "      <td>...</td>\n",
       "      <td>...</td>\n",
       "      <td>...</td>\n",
       "      <td>...</td>\n",
       "      <td>...</td>\n",
       "      <td>...</td>\n",
       "      <td>...</td>\n",
       "      <td>...</td>\n",
       "      <td>...</td>\n",
       "      <td>...</td>\n",
       "      <td>...</td>\n",
       "    </tr>\n",
       "    <tr>\n",
       "      <th>11037</th>\n",
       "      <td>11038</td>\n",
       "      <td>1</td>\n",
       "      <td>NORTHERN ILLINOIS</td>\n",
       "      <td>NORTHERN ILLINOIS</td>\n",
       "      <td>23247.0</td>\n",
       "      <td>zool-kueth-1</td>\n",
       "      <td>2020-21</td>\n",
       "      <td>MAC</td>\n",
       "      <td>32</td>\n",
       "      <td>4</td>\n",
       "      <td>...</td>\n",
       "      <td>2021.0</td>\n",
       "      <td>MAC</td>\n",
       "      <td>12.0</td>\n",
       "      <td>Mid American Conference</td>\n",
       "      <td>1.22</td>\n",
       "      <td>2022.0</td>\n",
       "      <td>MAC</td>\n",
       "      <td>20.0</td>\n",
       "      <td>Mid American Conference</td>\n",
       "      <td>-5.45</td>\n",
       "    </tr>\n",
       "    <tr>\n",
       "      <th>11038</th>\n",
       "      <td>11039</td>\n",
       "      <td>0</td>\n",
       "      <td>NORTHERN ILLINOIS</td>\n",
       "      <td>TENNESSEE STATE</td>\n",
       "      <td>23248.0</td>\n",
       "      <td>zool-kueth-1</td>\n",
       "      <td>2021-22</td>\n",
       "      <td>MAC</td>\n",
       "      <td>80</td>\n",
       "      <td>18</td>\n",
       "      <td>...</td>\n",
       "      <td>2022.0</td>\n",
       "      <td>OVC</td>\n",
       "      <td>23.0</td>\n",
       "      <td>Ohio Valley Conference</td>\n",
       "      <td>-6.46</td>\n",
       "      <td>2023.0</td>\n",
       "      <td>OVC</td>\n",
       "      <td>29.0</td>\n",
       "      <td>Ohio Valley Conference</td>\n",
       "      <td>-10.36</td>\n",
       "    </tr>\n",
       "    <tr>\n",
       "      <th>11039</th>\n",
       "      <td>11040</td>\n",
       "      <td>1</td>\n",
       "      <td>UC-RIVERSIDE</td>\n",
       "      <td>UC-RIVERSIDE</td>\n",
       "      <td>2036.0</td>\n",
       "      <td>zyon-pullin-1</td>\n",
       "      <td>2019-20</td>\n",
       "      <td>Big West</td>\n",
       "      <td>31</td>\n",
       "      <td>0</td>\n",
       "      <td>...</td>\n",
       "      <td>2020.0</td>\n",
       "      <td>Big West</td>\n",
       "      <td>20.0</td>\n",
       "      <td>Big West Conference</td>\n",
       "      <td>-5.07</td>\n",
       "      <td>2021.0</td>\n",
       "      <td>Big West</td>\n",
       "      <td>15.0</td>\n",
       "      <td>Big West Conference</td>\n",
       "      <td>-2.36</td>\n",
       "    </tr>\n",
       "    <tr>\n",
       "      <th>11040</th>\n",
       "      <td>11041</td>\n",
       "      <td>1</td>\n",
       "      <td>UC-RIVERSIDE</td>\n",
       "      <td>UC-RIVERSIDE</td>\n",
       "      <td>2037.0</td>\n",
       "      <td>zyon-pullin-1</td>\n",
       "      <td>2020-21</td>\n",
       "      <td>Big West</td>\n",
       "      <td>22</td>\n",
       "      <td>22</td>\n",
       "      <td>...</td>\n",
       "      <td>2021.0</td>\n",
       "      <td>Big West</td>\n",
       "      <td>15.0</td>\n",
       "      <td>Big West Conference</td>\n",
       "      <td>-2.36</td>\n",
       "      <td>2022.0</td>\n",
       "      <td>Big West</td>\n",
       "      <td>19.0</td>\n",
       "      <td>Big West Conference</td>\n",
       "      <td>-3.47</td>\n",
       "    </tr>\n",
       "    <tr>\n",
       "      <th>11041</th>\n",
       "      <td>11042</td>\n",
       "      <td>1</td>\n",
       "      <td>UC-RIVERSIDE</td>\n",
       "      <td>UC-RIVERSIDE</td>\n",
       "      <td>2038.0</td>\n",
       "      <td>zyon-pullin-1</td>\n",
       "      <td>2021-22</td>\n",
       "      <td>Big West</td>\n",
       "      <td>27</td>\n",
       "      <td>26</td>\n",
       "      <td>...</td>\n",
       "      <td>2022.0</td>\n",
       "      <td>Big West</td>\n",
       "      <td>19.0</td>\n",
       "      <td>Big West Conference</td>\n",
       "      <td>-3.47</td>\n",
       "      <td>2023.0</td>\n",
       "      <td>Big West</td>\n",
       "      <td>15.0</td>\n",
       "      <td>Big West Conference</td>\n",
       "      <td>-1.51</td>\n",
       "    </tr>\n",
       "  </tbody>\n",
       "</table>\n",
       "<p>11042 rows × 335 columns</p>\n",
       "</div>"
      ],
      "text/plain": [
       "       Unnamed: 0  player_type               Team            Team_n1  \\\n",
       "0               1            1       JACKSONVILLE       JACKSONVILLE   \n",
       "1               2            1            CLEMSON            CLEMSON   \n",
       "2               3            1            CLEMSON            CLEMSON   \n",
       "3               4            1       NORTH DAKOTA       NORTH DAKOTA   \n",
       "4               5            0       NORTH DAKOTA      SOUTHERN UTAH   \n",
       "...           ...          ...                ...                ...   \n",
       "11037       11038            1  NORTHERN ILLINOIS  NORTHERN ILLINOIS   \n",
       "11038       11039            0  NORTHERN ILLINOIS    TENNESSEE STATE   \n",
       "11039       11040            1       UC-RIVERSIDE       UC-RIVERSIDE   \n",
       "11040       11041            1       UC-RIVERSIDE       UC-RIVERSIDE   \n",
       "11041       11042            1       UC-RIVERSIDE       UC-RIVERSIDE   \n",
       "\n",
       "       Unnamed..0_x       Player.Name   season conf_abbr  games  \\\n",
       "0           16199.0  aamahne-santos-1  2018-19     A-Sun     32   \n",
       "1            7084.0     aamir-simms-1  2018-19       ACC     34   \n",
       "2            7085.0     aamir-simms-1  2019-20       ACC     30   \n",
       "3               0.0     aanen-moody-1  2018-19    Summit     30   \n",
       "4               0.0     aanen-moody-1  2019-20    Summit      9   \n",
       "...             ...               ...      ...       ...    ...   \n",
       "11037       23247.0      zool-kueth-1  2020-21       MAC     32   \n",
       "11038       23248.0      zool-kueth-1  2021-22       MAC     80   \n",
       "11039        2036.0     zyon-pullin-1  2019-20  Big West     31   \n",
       "11040        2037.0     zyon-pullin-1  2020-21  Big West     22   \n",
       "11041        2038.0     zyon-pullin-1  2021-22  Big West     27   \n",
       "\n",
       "       games_started  ...  Year_Conf_y  Conf_Abb_y  Conf_Rk_y  \\\n",
       "0                 31  ...       2019.0       A-Sun       20.0   \n",
       "1                 34  ...       2019.0         ACC        3.0   \n",
       "2                 30  ...       2020.0         ACC        4.0   \n",
       "3                  0  ...       2019.0      Summit       23.0   \n",
       "4                  0  ...       2020.0     Big Sky       17.0   \n",
       "...              ...  ...          ...         ...        ...   \n",
       "11037              4  ...       2021.0         MAC       12.0   \n",
       "11038             18  ...       2022.0         OVC       23.0   \n",
       "11039              0  ...       2020.0    Big West       20.0   \n",
       "11040             22  ...       2021.0    Big West       15.0   \n",
       "11041             26  ...       2022.0    Big West       19.0   \n",
       "\n",
       "                     Conf_Full_y  Conf_Rating_y  Year_Conf  Conf_Abb  Conf_Rk  \\\n",
       "0                ASUN Conference          -4.43     2020.0     A-Sun     26.0   \n",
       "1      Atlantic Coast Conference          15.33     2020.0       ACC      4.0   \n",
       "2      Atlantic Coast Conference          11.45     2021.0       ACC      5.0   \n",
       "3                  Summit League          -5.49     2020.0    Summit     19.0   \n",
       "4             Big Sky Conference          -2.26     2021.0   Big Sky     18.0   \n",
       "...                          ...            ...        ...       ...      ...   \n",
       "11037    Mid American Conference           1.22     2022.0       MAC     20.0   \n",
       "11038     Ohio Valley Conference          -6.46     2023.0       OVC     29.0   \n",
       "11039        Big West Conference          -5.07     2021.0  Big West     15.0   \n",
       "11040        Big West Conference          -2.36     2022.0  Big West     19.0   \n",
       "11041        Big West Conference          -3.47     2023.0  Big West     15.0   \n",
       "\n",
       "                       Conf_Full Conf_Rating  \n",
       "0                ASUN Conference       -8.16  \n",
       "1      Atlantic Coast Conference       11.45  \n",
       "2      Atlantic Coast Conference       13.22  \n",
       "3                  Summit League       -3.53  \n",
       "4             Big Sky Conference       -4.89  \n",
       "...                          ...         ...  \n",
       "11037    Mid American Conference       -5.45  \n",
       "11038     Ohio Valley Conference      -10.36  \n",
       "11039        Big West Conference       -2.36  \n",
       "11040        Big West Conference       -3.47  \n",
       "11041        Big West Conference       -1.51  \n",
       "\n",
       "[11042 rows x 335 columns]"
      ]
     },
     "execution_count": 49,
     "metadata": {},
     "output_type": "execute_result"
    }
   ],
   "source": [
    "d = pd.read_csv(\"/Users/caldavis/Documents/GitHub/Capstone-project/Data folder/final_data_by_player_type.csv\")\n",
    "d = pd.merge(d, kp, left_on=['Team', 'year'], right_on=['TeamName', 'Season'], how='left')\n",
    "d = pd.merge(d, kp, left_on=['Team_n1', 'year'], right_on=['TeamName', 'Season'], how='left')\n",
    "df = pd.merge(d, kp, left_on=['Team_n1', 'year_n1'], right_on=['TeamName', 'Season'], how='left')\n",
    "df = pd.merge(df, kp_conf_rat, left_on=['conf_abbr', 'year'], right_on=['Conf_Abb', 'Year_Conf'], how='left')\n",
    "df = pd.merge(df, kp_conf_rat, left_on=['conf_abbr_n1', 'year'], right_on=['Conf_Abb', 'Year_Conf'], how='left')\n",
    "df = pd.merge(df, kp_conf_rat, left_on=['conf_abbr_n1', 'year_n1'], right_on=['Conf_Abb', 'Year_Conf'], how='left')\n",
    "df = df.replace(to_replace=\"NO IDEA\", value=0)\n",
    "df = df.replace(to_replace=\"---\", value=0)\n",
    "df = df.fillna(0)\n",
    "pd.options.display.max_columns\n",
    "#pd.options.display.max_rows\n",
    "df\n",
    "\n"
   ]
  },
  {
   "cell_type": "code",
   "execution_count": 61,
   "metadata": {},
   "outputs": [
    {
     "data": {
      "text/html": [
       "<div>\n",
       "<style scoped>\n",
       "    .dataframe tbody tr th:only-of-type {\n",
       "        vertical-align: middle;\n",
       "    }\n",
       "\n",
       "    .dataframe tbody tr th {\n",
       "        vertical-align: top;\n",
       "    }\n",
       "\n",
       "    .dataframe thead th {\n",
       "        text-align: right;\n",
       "    }\n",
       "</style>\n",
       "<table border=\"1\" class=\"dataframe\">\n",
       "  <thead>\n",
       "    <tr style=\"text-align: right;\">\n",
       "      <th></th>\n",
       "      <th>Unnamed: 0</th>\n",
       "      <th>player_type</th>\n",
       "      <th>Team</th>\n",
       "      <th>Team_n1</th>\n",
       "      <th>Unnamed..0_x</th>\n",
       "      <th>Player.Name</th>\n",
       "      <th>season</th>\n",
       "      <th>conf_abbr</th>\n",
       "      <th>games</th>\n",
       "      <th>games_started</th>\n",
       "      <th>...</th>\n",
       "      <th>Conf_Rating</th>\n",
       "      <th>Contribution_n1</th>\n",
       "      <th>Class</th>\n",
       "      <th>Pos_Ht</th>\n",
       "      <th>Year_dif</th>\n",
       "      <th>Team_AdjEM_dif</th>\n",
       "      <th>KP_Rk_Dif</th>\n",
       "      <th>KP_Conf_Dif</th>\n",
       "      <th>Calc A</th>\n",
       "      <th>Calc B</th>\n",
       "    </tr>\n",
       "  </thead>\n",
       "  <tbody>\n",
       "  </tbody>\n",
       "</table>\n",
       "<p>0 rows × 344 columns</p>\n",
       "</div>"
      ],
      "text/plain": [
       "Empty DataFrame\n",
       "Columns: [Unnamed: 0, player_type, Team, Team_n1, Unnamed..0_x, Player.Name, season, conf_abbr, games, games_started, mp_per_g, fg_per_g, fga_per_g, fg_pct, fg2_per_g, fg2a_per_g, fg2_pct, fg3_per_g, fg3a_per_g, fg3_pct, ft_per_g, fta_per_g, ft_pct, orb_per_g, drb_per_g, trb_per_g, ast_per_g, stl_per_g, blk_per_g, tov_per_g, pf_per_g, pts_per_g, sos, mp, fg, fga, fg2, fg2a, fg2_pct.1, fg3, fg3a, ft, fta, orb, drb, trb, ast, stl, blk, tov, pf, pts, fg_per_min, fga_per_min, fg2_per_min, fg2a_per_min, fg3_per_min, fg3a_per_min, ft_per_min, fta_per_min, trb_per_min, ast_per_min, stl_per_min, blk_per_min, tov_per_min, pf_per_min, pts_per_min, fg_per_poss, fga_per_poss, fg2_per_poss, fg2a_per_poss, fg3_per_poss, fg3a_per_poss, ft_per_poss, fta_per_poss, trb_per_poss, ast_per_poss, stl_per_poss, blk_per_poss, tov_per_poss, pf_per_poss, pts_per_poss, off_rtg, def_rtg, per, ts_pct, efg_pct, fg3a_per_fga_pct, fta_per_fga_pct, pprod, orb_pct, drb_pct, trb_pct, ast_pct, stl_pct, blk_pct, tov_pct, usg_pct, ows, dws, ...]\n",
       "Index: []\n",
       "\n",
       "[0 rows x 344 columns]"
      ]
     },
     "execution_count": 61,
     "metadata": {},
     "output_type": "execute_result"
    }
   ],
   "source": [
    "#df[(df['games']>39) | (df['games_n1']>39)]\n",
    "df[((df['games']>39) & (df['year']==2023)) | ((df['games_n1']>39) & (df['year_n1']==2023)) | \n",
    "   ((df['games']>40) & (df['year']==2022)) | ((df['games_n1']>40) & (df['year_n1']==2022)) | \n",
    "   ((df['games']>33) & (df['year']==2021)) | ((df['games_n1']>33) & (df['year_n1']==2021)) | \n",
    "   ((df['games']>35) & (df['year']==2020)) | ((df['games_n1']>35) & (df['year_n1']==2020)) | \n",
    "   ((df['games']>40) & (df['year']==2019)) | ((df['games_n1']>40) & (df['year_n1']==2019))]"
   ]
  },
  {
   "cell_type": "code",
   "execution_count": 36,
   "metadata": {},
   "outputs": [
    {
     "data": {
      "text/plain": [
       "array([[<Axes: title={'center': 'games'}>]], dtype=object)"
      ]
     },
     "execution_count": 36,
     "metadata": {},
     "output_type": "execute_result"
    },
    {
     "data": {
      "image/png": "[encoded data removed]",
      "text/plain": [
       "<Figure size 640x480 with 1 Axes>"
      ]
     },
     "metadata": {},
     "output_type": "display_data"
    }
   ],
   "source": [
    "games_df = pd.DataFrame(zip(df.games), columns=['games'])\n",
    "games_df\n",
    "df.hist(column='games')\n"
   ]
  },
  {
   "cell_type": "code",
   "execution_count": 5,
   "metadata": {},
   "outputs": [],
   "source": [
    "team_df = df[[\"Team\", \"Team_n1\"]]\n",
    "team_df_n = team_df[[\"Team\"]]\n",
    "team_df_n = team_df_n.sort_values(by=[\"Team\"])\n",
    "\n",
    "team_df_n1 = team_df[[\"Team_n1\"]]\n",
    "team_df_n1 = team_df_n1.sort_values(by=[\"Team_n1\"])\n",
    "\n",
    "#print(len(team_df.Team.unique()))\n",
    "#print(list(team_df_n1.Team_n1.unique()))"
   ]
  },
  {
   "cell_type": "code",
   "execution_count": 6,
   "metadata": {},
   "outputs": [],
   "source": [
    "# Converts to numeric\n",
    "df[['games', 'games_started', 'mp_per_g', 'fg_per_g', 'fga_per_g', 'fg_pct', 'fg2_per_g', 'fg2a_per_g', 'fg2_pct', 'fg3_per_g', 'fg3a_per_g', 'fg3_pct', 'ft_per_g', 'fta_per_g', 'ft_pct', 'orb_per_g', 'drb_per_g', 'trb_per_g', 'ast_per_g', 'stl_per_g', 'blk_per_g', 'tov_per_g', 'pf_per_g', 'pts_per_g', 'sos', 'mp', 'fg', 'fga', 'fg2', 'fg2a', 'fg2_pct.1', 'fg3', 'fg3a', 'ft', 'fta', 'orb', 'drb', 'trb', 'ast', 'stl', 'blk', 'tov', 'pf', 'pts', 'fg_per_min', 'fga_per_min', 'fg2_per_min', 'fg2a_per_min', 'fg3_per_min', 'fg3a_per_min', 'ft_per_min', 'fta_per_min', 'trb_per_min', 'ast_per_min', 'stl_per_min', 'blk_per_min', 'tov_per_min', 'pf_per_min', 'pts_per_min', 'fg_per_poss', 'fga_per_poss', 'fg2_per_poss', 'fg2a_per_poss', 'fg3_per_poss', 'fg3a_per_poss', 'ft_per_poss', 'fta_per_poss', 'trb_per_poss', 'ast_per_poss', 'stl_per_poss', 'blk_per_poss', 'tov_per_poss', 'pf_per_poss', 'pts_per_poss', 'off_rtg', 'def_rtg', 'per', 'ts_pct', 'efg_pct', 'fg3a_per_fga_pct', 'fta_per_fga_pct', 'pprod', 'orb_pct', 'drb_pct', 'trb_pct', 'ast_pct', 'stl_pct', 'blk_pct', 'tov_pct', 'usg_pct', 'ows', 'dws', 'ws', 'ws_per_40', 'obpm', 'dbpm', 'bpm', 'year', 'Ht', 'Wt', 'G', 'S', 'X.Min', 'ORtg', 'X.Poss', 'X.Shots', 'games_n1', 'games_started_n1', 'mp_per_g_n1', 'fg_per_g_n1', 'fga_per_g_n1', 'fg_pct_n1', 'fg2_per_g_n1', 'fg2a_per_g_n1', 'fg2_pct_n1', 'fg3_per_g_n1', 'fg3a_per_g_n1', 'fg3_pct_n1', 'ft_per_g_n1', 'fta_per_g_n1', 'ft_pct_n1', 'orb_per_g_n1', 'drb_per_g_n1', 'trb_per_g_n1', 'ast_per_g_n1', 'stl_per_g_n1', 'blk_per_g_n1', 'tov_per_g_n1', 'pf_per_g_n1', 'pts_per_g_n1', 'sos_n1', 'mp_n1', 'fg_n1', 'fga_n1', 'fg2_n1', 'fg2a_n1', 'fg2_pct.1_n1', 'fg3_n1', 'fg3a_n1', 'ft_n1', 'fta_n1', 'orb_n1', 'drb_n1', 'trb_n1', 'ast_n1', 'stl_n1', 'blk_n1', 'tov_n1', 'pf_n1', 'pts_n1', 'fg_per_min_n1', 'fga_per_min_n1', 'fg2_per_min_n1', 'fg2a_per_min_n1', 'fg3_per_min_n1', 'fg3a_per_min_n1', 'ft_per_min_n1', 'fta_per_min_n1', 'trb_per_min_n1', 'ast_per_min_n1', 'stl_per_min_n1', 'blk_per_min_n1', 'tov_per_min_n1', 'pf_per_min_n1', 'pts_per_min_n1', 'fg_per_poss_n1', 'fga_per_poss_n1', 'fg2_per_poss_n1', 'fg2a_per_poss_n1', 'fg3_per_poss_n1', 'fg3a_per_poss_n1', 'ft_per_poss_n1', 'fta_per_poss_n1', 'trb_per_poss_n1', 'ast_per_poss_n1', 'stl_per_poss_n1', 'blk_per_poss_n1', 'tov_per_poss_n1', 'pf_per_poss_n1', 'pts_per_poss_n1', 'off_rtg_n1', 'def_rtg_n1', 'per_n1', 'ts_pct_n1', 'efg_pct_n1', 'fg3a_per_fga_pct_n1', 'fta_per_fga_pct_n1', 'pprod_n1', 'orb_pct_n1', 'drb_pct_n1', 'trb_pct_n1', 'ast_pct_n1', 'stl_pct_n1', 'blk_pct_n1', 'tov_pct_n1', 'usg_pct_n1', 'ows_n1', 'dws_n1', 'ws_n1', 'ws_per_40_n1', 'obpm_n1', 'dbpm_n1', 'bpm_n1', 'year_n1', 'Ht_n1', 'Wt_n1', 'G_n1', 'S_n1', 'X.Min_n1', 'ORtg_n1', 'X.Poss_n1', 'X.Shots_n1']] = df[['games', 'games_started', 'mp_per_g', 'fg_per_g', 'fga_per_g', 'fg_pct', 'fg2_per_g', 'fg2a_per_g', 'fg2_pct', 'fg3_per_g', 'fg3a_per_g', 'fg3_pct', 'ft_per_g', 'fta_per_g', 'ft_pct', 'orb_per_g', 'drb_per_g', 'trb_per_g', 'ast_per_g', 'stl_per_g', 'blk_per_g', 'tov_per_g', 'pf_per_g', 'pts_per_g', 'sos', 'mp', 'fg', 'fga', 'fg2', 'fg2a', 'fg2_pct.1', 'fg3', 'fg3a', 'ft', 'fta', 'orb', 'drb', 'trb', 'ast', 'stl', 'blk', 'tov', 'pf', 'pts', 'fg_per_min', 'fga_per_min', 'fg2_per_min', 'fg2a_per_min', 'fg3_per_min', 'fg3a_per_min', 'ft_per_min', 'fta_per_min', 'trb_per_min', 'ast_per_min', 'stl_per_min', 'blk_per_min', 'tov_per_min', 'pf_per_min', 'pts_per_min', 'fg_per_poss', 'fga_per_poss', 'fg2_per_poss', 'fg2a_per_poss', 'fg3_per_poss', 'fg3a_per_poss', 'ft_per_poss', 'fta_per_poss', 'trb_per_poss', 'ast_per_poss', 'stl_per_poss', 'blk_per_poss', 'tov_per_poss', 'pf_per_poss', 'pts_per_poss', 'off_rtg', 'def_rtg', 'per', 'ts_pct', 'efg_pct', 'fg3a_per_fga_pct', 'fta_per_fga_pct', 'pprod', 'orb_pct', 'drb_pct', 'trb_pct', 'ast_pct', 'stl_pct', 'blk_pct', 'tov_pct', 'usg_pct', 'ows', 'dws', 'ws', 'ws_per_40', 'obpm', 'dbpm', 'bpm', 'year', 'Ht', 'Wt', 'G', 'S', 'X.Min', 'ORtg', 'X.Poss', 'X.Shots', 'games_n1', 'games_started_n1', 'mp_per_g_n1', 'fg_per_g_n1', 'fga_per_g_n1', 'fg_pct_n1', 'fg2_per_g_n1', 'fg2a_per_g_n1', 'fg2_pct_n1', 'fg3_per_g_n1', 'fg3a_per_g_n1', 'fg3_pct_n1', 'ft_per_g_n1', 'fta_per_g_n1', 'ft_pct_n1', 'orb_per_g_n1', 'drb_per_g_n1', 'trb_per_g_n1', 'ast_per_g_n1', 'stl_per_g_n1', 'blk_per_g_n1', 'tov_per_g_n1', 'pf_per_g_n1', 'pts_per_g_n1', 'sos_n1', 'mp_n1', 'fg_n1', 'fga_n1', 'fg2_n1', 'fg2a_n1', 'fg2_pct.1_n1', 'fg3_n1', 'fg3a_n1', 'ft_n1', 'fta_n1', 'orb_n1', 'drb_n1', 'trb_n1', 'ast_n1', 'stl_n1', 'blk_n1', 'tov_n1', 'pf_n1', 'pts_n1', 'fg_per_min_n1', 'fga_per_min_n1', 'fg2_per_min_n1', 'fg2a_per_min_n1', 'fg3_per_min_n1', 'fg3a_per_min_n1', 'ft_per_min_n1', 'fta_per_min_n1', 'trb_per_min_n1', 'ast_per_min_n1', 'stl_per_min_n1', 'blk_per_min_n1', 'tov_per_min_n1', 'pf_per_min_n1', 'pts_per_min_n1', 'fg_per_poss_n1', 'fga_per_poss_n1', 'fg2_per_poss_n1', 'fg2a_per_poss_n1', 'fg3_per_poss_n1', 'fg3a_per_poss_n1', 'ft_per_poss_n1', 'fta_per_poss_n1', 'trb_per_poss_n1', 'ast_per_poss_n1', 'stl_per_poss_n1', 'blk_per_poss_n1', 'tov_per_poss_n1', 'pf_per_poss_n1', 'pts_per_poss_n1', 'off_rtg_n1', 'def_rtg_n1', 'per_n1', 'ts_pct_n1', 'efg_pct_n1', 'fg3a_per_fga_pct_n1', 'fta_per_fga_pct_n1', 'pprod_n1', 'orb_pct_n1', 'drb_pct_n1', 'trb_pct_n1', 'ast_pct_n1', 'stl_pct_n1', 'blk_pct_n1', 'tov_pct_n1', 'usg_pct_n1', 'ows_n1', 'dws_n1', 'ws_n1', 'ws_per_40_n1', 'obpm_n1', 'dbpm_n1', 'bpm_n1', 'year_n1', 'Ht_n1', 'Wt_n1', 'G_n1', 'S_n1', 'X.Min_n1', 'ORtg_n1', 'X.Poss_n1', 'X.Shots_n1']].apply(pd.to_numeric, errors=\"ignore\")\n"
   ]
  },
  {
   "cell_type": "code",
   "execution_count": 7,
   "metadata": {},
   "outputs": [
    {
     "name": "stderr",
     "output_type": "stream",
     "text": [
      "/var/folders/cq/16hkxgp926d466c0g9jzx2900000gq/T/ipykernel_83214/1823136958.py:5: PerformanceWarning: DataFrame is highly fragmented.  This is usually the result of calling `frame.insert` many times, which has poor performance.  Consider joining all columns at once using pd.concat(axis=1) instead. To get a de-fragmented frame, use `newframe = frame.copy()`\n",
      "  df['Contribution_n1'] = np.select(conditions, values)\n"
     ]
    }
   ],
   "source": [
    "conditions = [(df['X.Poss_n1']>=28.0), (df['X.Poss_n1']>=24.0), (df['X.Poss_n1']>=20.0), (df['X.Poss_n1']>=16), \n",
    "              (df['X.Poss_n1']>=12.0), (df['X.Poss_n1']<=12) & (df['X.Min_n1']>=10.0), (df['X.Min_n1']<10)]\n",
    "#values = ['Go-To Guy', 'Major Contributor', 'Significant Contributor', 'Role Players', 'Limited Role', 'Nearly Invisible', 'Bench Warmer']\n",
    "values = [0, 1, 2, 3, 4, 5, 6]\n",
    "df['Contribution_n1'] = np.select(conditions, values)"
   ]
  },
  {
   "cell_type": "code",
   "execution_count": 8,
   "metadata": {},
   "outputs": [
    {
     "data": {
      "text/html": [
       "<div>\n",
       "<style scoped>\n",
       "    .dataframe tbody tr th:only-of-type {\n",
       "        vertical-align: middle;\n",
       "    }\n",
       "\n",
       "    .dataframe tbody tr th {\n",
       "        vertical-align: top;\n",
       "    }\n",
       "\n",
       "    .dataframe thead th {\n",
       "        text-align: right;\n",
       "    }\n",
       "</style>\n",
       "<table border=\"1\" class=\"dataframe\">\n",
       "  <thead>\n",
       "    <tr style=\"text-align: right;\">\n",
       "      <th></th>\n",
       "      <th>Unnamed: 0</th>\n",
       "      <th>player_type</th>\n",
       "      <th>Team</th>\n",
       "      <th>Team_n1</th>\n",
       "      <th>Unnamed..0_x</th>\n",
       "      <th>Player.Name</th>\n",
       "      <th>season</th>\n",
       "      <th>conf_abbr</th>\n",
       "      <th>games</th>\n",
       "      <th>games_started</th>\n",
       "      <th>...</th>\n",
       "      <th>Conf_Abb_y</th>\n",
       "      <th>Conf_Rk_y</th>\n",
       "      <th>Conf_Full_y</th>\n",
       "      <th>Conf_Rating_y</th>\n",
       "      <th>Year_Conf</th>\n",
       "      <th>Conf_Abb</th>\n",
       "      <th>Conf_Rk</th>\n",
       "      <th>Conf_Full</th>\n",
       "      <th>Conf_Rating</th>\n",
       "      <th>Contribution_n1</th>\n",
       "    </tr>\n",
       "  </thead>\n",
       "  <tbody>\n",
       "    <tr>\n",
       "      <th>14</th>\n",
       "      <td>15</td>\n",
       "      <td>0</td>\n",
       "      <td>SOUTHERN ILLINOIS</td>\n",
       "      <td>GONZAGA</td>\n",
       "      <td>0.0</td>\n",
       "      <td>aaron-cook-2</td>\n",
       "      <td>2019-20</td>\n",
       "      <td>MVC</td>\n",
       "      <td>6</td>\n",
       "      <td>6</td>\n",
       "      <td>...</td>\n",
       "      <td>WCC</td>\n",
       "      <td>8.0</td>\n",
       "      <td>West Coast Conference</td>\n",
       "      <td>5.29</td>\n",
       "      <td>2021.0</td>\n",
       "      <td>WCC</td>\n",
       "      <td>8.0</td>\n",
       "      <td>West Coast Conference</td>\n",
       "      <td>7.78</td>\n",
       "      <td>3</td>\n",
       "    </tr>\n",
       "    <tr>\n",
       "      <th>187</th>\n",
       "      <td>188</td>\n",
       "      <td>1</td>\n",
       "      <td>TOLEDO</td>\n",
       "      <td>TOLEDO</td>\n",
       "      <td>23531.0</td>\n",
       "      <td>aj-edu-1</td>\n",
       "      <td>2020-21</td>\n",
       "      <td>MAC</td>\n",
       "      <td>2</td>\n",
       "      <td>2</td>\n",
       "      <td>...</td>\n",
       "      <td>MAC</td>\n",
       "      <td>12.0</td>\n",
       "      <td>Mid American Conference</td>\n",
       "      <td>1.22</td>\n",
       "      <td>2023.0</td>\n",
       "      <td>MAC</td>\n",
       "      <td>19.0</td>\n",
       "      <td>Mid American Conference</td>\n",
       "      <td>-3.71</td>\n",
       "      <td>4</td>\n",
       "    </tr>\n",
       "    <tr>\n",
       "      <th>191</th>\n",
       "      <td>192</td>\n",
       "      <td>1</td>\n",
       "      <td>NORTHERN IOWA</td>\n",
       "      <td>NORTHERN IOWA</td>\n",
       "      <td>801.0</td>\n",
       "      <td>aj-green-1</td>\n",
       "      <td>2020-21</td>\n",
       "      <td>MVC</td>\n",
       "      <td>3</td>\n",
       "      <td>3</td>\n",
       "      <td>...</td>\n",
       "      <td>0</td>\n",
       "      <td>0.0</td>\n",
       "      <td>0</td>\n",
       "      <td>0.00</td>\n",
       "      <td>0.0</td>\n",
       "      <td>0</td>\n",
       "      <td>0.0</td>\n",
       "      <td>0</td>\n",
       "      <td>0.00</td>\n",
       "      <td>1</td>\n",
       "    </tr>\n",
       "    <tr>\n",
       "      <th>251</th>\n",
       "      <td>252</td>\n",
       "      <td>0</td>\n",
       "      <td>SOUTH CAROLINA</td>\n",
       "      <td>EAST CAROLINA</td>\n",
       "      <td>21092.0</td>\n",
       "      <td>alanzo-frink-1</td>\n",
       "      <td>2020-21</td>\n",
       "      <td>SEC</td>\n",
       "      <td>3</td>\n",
       "      <td>3</td>\n",
       "      <td>...</td>\n",
       "      <td>AAC</td>\n",
       "      <td>7.0</td>\n",
       "      <td>American Athletic Conference</td>\n",
       "      <td>8.02</td>\n",
       "      <td>2022.0</td>\n",
       "      <td>AAC</td>\n",
       "      <td>8.0</td>\n",
       "      <td>American Athletic Conference</td>\n",
       "      <td>7.00</td>\n",
       "      <td>2</td>\n",
       "    </tr>\n",
       "    <tr>\n",
       "      <th>423</th>\n",
       "      <td>424</td>\n",
       "      <td>0</td>\n",
       "      <td>GEORGIA</td>\n",
       "      <td>JACKSONVILLE STATE</td>\n",
       "      <td>17390.0</td>\n",
       "      <td>amanze-ngumezi-1</td>\n",
       "      <td>2019-20</td>\n",
       "      <td>SEC</td>\n",
       "      <td>7</td>\n",
       "      <td>7</td>\n",
       "      <td>...</td>\n",
       "      <td>OVC</td>\n",
       "      <td>29.0</td>\n",
       "      <td>Ohio Valley Conference</td>\n",
       "      <td>-9.67</td>\n",
       "      <td>2021.0</td>\n",
       "      <td>OVC</td>\n",
       "      <td>22.0</td>\n",
       "      <td>Ohio Valley Conference</td>\n",
       "      <td>-6.98</td>\n",
       "      <td>1</td>\n",
       "    </tr>\n",
       "    <tr>\n",
       "      <th>...</th>\n",
       "      <td>...</td>\n",
       "      <td>...</td>\n",
       "      <td>...</td>\n",
       "      <td>...</td>\n",
       "      <td>...</td>\n",
       "      <td>...</td>\n",
       "      <td>...</td>\n",
       "      <td>...</td>\n",
       "      <td>...</td>\n",
       "      <td>...</td>\n",
       "      <td>...</td>\n",
       "      <td>...</td>\n",
       "      <td>...</td>\n",
       "      <td>...</td>\n",
       "      <td>...</td>\n",
       "      <td>...</td>\n",
       "      <td>...</td>\n",
       "      <td>...</td>\n",
       "      <td>...</td>\n",
       "      <td>...</td>\n",
       "      <td>...</td>\n",
       "    </tr>\n",
       "    <tr>\n",
       "      <th>10167</th>\n",
       "      <td>10168</td>\n",
       "      <td>1</td>\n",
       "      <td>DRAKE</td>\n",
       "      <td>DRAKE</td>\n",
       "      <td>0.0</td>\n",
       "      <td>tremell-murphy-2</td>\n",
       "      <td>2019-20</td>\n",
       "      <td>MVC</td>\n",
       "      <td>5</td>\n",
       "      <td>5</td>\n",
       "      <td>...</td>\n",
       "      <td>0</td>\n",
       "      <td>0.0</td>\n",
       "      <td>0</td>\n",
       "      <td>0.00</td>\n",
       "      <td>0.0</td>\n",
       "      <td>0</td>\n",
       "      <td>0.0</td>\n",
       "      <td>0</td>\n",
       "      <td>0.00</td>\n",
       "      <td>3</td>\n",
       "    </tr>\n",
       "    <tr>\n",
       "      <th>10518</th>\n",
       "      <td>10519</td>\n",
       "      <td>1</td>\n",
       "      <td>TEXAS STATE</td>\n",
       "      <td>TEXAS STATE</td>\n",
       "      <td>13561.0</td>\n",
       "      <td>tyrel-morgan-1</td>\n",
       "      <td>2021-22</td>\n",
       "      <td>Sun Belt</td>\n",
       "      <td>2</td>\n",
       "      <td>2</td>\n",
       "      <td>...</td>\n",
       "      <td>Sun Belt</td>\n",
       "      <td>17.0</td>\n",
       "      <td>Sun Belt Conference</td>\n",
       "      <td>-2.32</td>\n",
       "      <td>2023.0</td>\n",
       "      <td>Sun Belt</td>\n",
       "      <td>14.0</td>\n",
       "      <td>Sun Belt Conference</td>\n",
       "      <td>0.09</td>\n",
       "      <td>3</td>\n",
       "    </tr>\n",
       "    <tr>\n",
       "      <th>10546</th>\n",
       "      <td>10547</td>\n",
       "      <td>1</td>\n",
       "      <td>VANDERBILT</td>\n",
       "      <td>VANDERBILT</td>\n",
       "      <td>3639.0</td>\n",
       "      <td>tyrin-lawrence-1</td>\n",
       "      <td>2020-21</td>\n",
       "      <td>SEC</td>\n",
       "      <td>7</td>\n",
       "      <td>5</td>\n",
       "      <td>...</td>\n",
       "      <td>SEC</td>\n",
       "      <td>4.0</td>\n",
       "      <td>Southeastern Conference</td>\n",
       "      <td>14.32</td>\n",
       "      <td>2022.0</td>\n",
       "      <td>SEC</td>\n",
       "      <td>2.0</td>\n",
       "      <td>Southeastern Conference</td>\n",
       "      <td>14.46</td>\n",
       "      <td>3</td>\n",
       "    </tr>\n",
       "    <tr>\n",
       "      <th>10594</th>\n",
       "      <td>10595</td>\n",
       "      <td>1</td>\n",
       "      <td>KANSAS</td>\n",
       "      <td>KANSAS</td>\n",
       "      <td>5409.0</td>\n",
       "      <td>udoka-azubuike-1</td>\n",
       "      <td>2018-19</td>\n",
       "      <td>Big 12</td>\n",
       "      <td>9</td>\n",
       "      <td>9</td>\n",
       "      <td>...</td>\n",
       "      <td>Big 12</td>\n",
       "      <td>1.0</td>\n",
       "      <td>Big 12 Conference</td>\n",
       "      <td>17.68</td>\n",
       "      <td>2020.0</td>\n",
       "      <td>Big 12</td>\n",
       "      <td>2.0</td>\n",
       "      <td>Big 12 Conference</td>\n",
       "      <td>15.73</td>\n",
       "      <td>2</td>\n",
       "    </tr>\n",
       "    <tr>\n",
       "      <th>10969</th>\n",
       "      <td>10970</td>\n",
       "      <td>0</td>\n",
       "      <td>UAB</td>\n",
       "      <td>GEORGIA SOUTHERN</td>\n",
       "      <td>2658.0</td>\n",
       "      <td>zack-bryant-1</td>\n",
       "      <td>2019-20</td>\n",
       "      <td>CUSA</td>\n",
       "      <td>3</td>\n",
       "      <td>3</td>\n",
       "      <td>...</td>\n",
       "      <td>Sun Belt</td>\n",
       "      <td>14.0</td>\n",
       "      <td>Sun Belt Conference</td>\n",
       "      <td>-0.14</td>\n",
       "      <td>2021.0</td>\n",
       "      <td>Sun Belt</td>\n",
       "      <td>21.0</td>\n",
       "      <td>Sun Belt Conference</td>\n",
       "      <td>-6.02</td>\n",
       "      <td>1</td>\n",
       "    </tr>\n",
       "  </tbody>\n",
       "</table>\n",
       "<p>124 rows × 336 columns</p>\n",
       "</div>"
      ],
      "text/plain": [
       "       Unnamed: 0  player_type               Team             Team_n1  \\\n",
       "14             15            0  SOUTHERN ILLINOIS             GONZAGA   \n",
       "187           188            1             TOLEDO              TOLEDO   \n",
       "191           192            1      NORTHERN IOWA       NORTHERN IOWA   \n",
       "251           252            0     SOUTH CAROLINA       EAST CAROLINA   \n",
       "423           424            0            GEORGIA  JACKSONVILLE STATE   \n",
       "...           ...          ...                ...                 ...   \n",
       "10167       10168            1              DRAKE               DRAKE   \n",
       "10518       10519            1        TEXAS STATE         TEXAS STATE   \n",
       "10546       10547            1         VANDERBILT          VANDERBILT   \n",
       "10594       10595            1             KANSAS              KANSAS   \n",
       "10969       10970            0                UAB    GEORGIA SOUTHERN   \n",
       "\n",
       "       Unnamed..0_x       Player.Name   season conf_abbr  games  \\\n",
       "14              0.0      aaron-cook-2  2019-20       MVC      6   \n",
       "187         23531.0          aj-edu-1  2020-21       MAC      2   \n",
       "191           801.0        aj-green-1  2020-21       MVC      3   \n",
       "251         21092.0    alanzo-frink-1  2020-21       SEC      3   \n",
       "423         17390.0  amanze-ngumezi-1  2019-20       SEC      7   \n",
       "...             ...               ...      ...       ...    ...   \n",
       "10167           0.0  tremell-murphy-2  2019-20       MVC      5   \n",
       "10518       13561.0    tyrel-morgan-1  2021-22  Sun Belt      2   \n",
       "10546        3639.0  tyrin-lawrence-1  2020-21       SEC      7   \n",
       "10594        5409.0  udoka-azubuike-1  2018-19    Big 12      9   \n",
       "10969        2658.0     zack-bryant-1  2019-20      CUSA      3   \n",
       "\n",
       "       games_started  ...  Conf_Abb_y  Conf_Rk_y  \\\n",
       "14                 6  ...         WCC        8.0   \n",
       "187                2  ...         MAC       12.0   \n",
       "191                3  ...           0        0.0   \n",
       "251                3  ...         AAC        7.0   \n",
       "423                7  ...         OVC       29.0   \n",
       "...              ...  ...         ...        ...   \n",
       "10167              5  ...           0        0.0   \n",
       "10518              2  ...    Sun Belt       17.0   \n",
       "10546              5  ...         SEC        4.0   \n",
       "10594              9  ...      Big 12        1.0   \n",
       "10969              3  ...    Sun Belt       14.0   \n",
       "\n",
       "                        Conf_Full_y  Conf_Rating_y  Year_Conf  Conf_Abb  \\\n",
       "14            West Coast Conference           5.29     2021.0       WCC   \n",
       "187         Mid American Conference           1.22     2023.0       MAC   \n",
       "191                               0           0.00        0.0         0   \n",
       "251    American Athletic Conference           8.02     2022.0       AAC   \n",
       "423          Ohio Valley Conference          -9.67     2021.0       OVC   \n",
       "...                             ...            ...        ...       ...   \n",
       "10167                             0           0.00        0.0         0   \n",
       "10518           Sun Belt Conference          -2.32     2023.0  Sun Belt   \n",
       "10546       Southeastern Conference          14.32     2022.0       SEC   \n",
       "10594             Big 12 Conference          17.68     2020.0    Big 12   \n",
       "10969           Sun Belt Conference          -0.14     2021.0  Sun Belt   \n",
       "\n",
       "       Conf_Rk                     Conf_Full  Conf_Rating  Contribution_n1  \n",
       "14         8.0         West Coast Conference         7.78                3  \n",
       "187       19.0       Mid American Conference        -3.71                4  \n",
       "191        0.0                             0         0.00                1  \n",
       "251        8.0  American Athletic Conference         7.00                2  \n",
       "423       22.0        Ohio Valley Conference        -6.98                1  \n",
       "...        ...                           ...          ...              ...  \n",
       "10167      0.0                             0         0.00                3  \n",
       "10518     14.0           Sun Belt Conference         0.09                3  \n",
       "10546      2.0       Southeastern Conference        14.46                3  \n",
       "10594      2.0             Big 12 Conference        15.73                2  \n",
       "10969     21.0           Sun Belt Conference        -6.02                1  \n",
       "\n",
       "[124 rows x 336 columns]"
      ]
     },
     "execution_count": 8,
     "metadata": {},
     "output_type": "execute_result"
    }
   ],
   "source": [
    "df_redshirt = df.loc[(df['games']<=10) & (df['games_started']/df['games']>=0.7)]\n",
    "#& (df.games_started/df.games>=0.7)]\n",
    "df_redshirt"
   ]
  },
  {
   "cell_type": "code",
   "execution_count": 9,
   "metadata": {},
   "outputs": [
    {
     "name": "stderr",
     "output_type": "stream",
     "text": [
      "/var/folders/cq/16hkxgp926d466c0g9jzx2900000gq/T/ipykernel_83214/3416284705.py:2: PerformanceWarning: DataFrame is highly fragmented.  This is usually the result of calling `frame.insert` many times, which has poor performance.  Consider joining all columns at once using pd.concat(axis=1) instead. To get a de-fragmented frame, use `newframe = frame.copy()`\n",
      "  df['Year_dif'] = df['year_n1']-df['year']\n",
      "/var/folders/cq/16hkxgp926d466c0g9jzx2900000gq/T/ipykernel_83214/3416284705.py:3: PerformanceWarning: DataFrame is highly fragmented.  This is usually the result of calling `frame.insert` many times, which has poor performance.  Consider joining all columns at once using pd.concat(axis=1) instead. To get a de-fragmented frame, use `newframe = frame.copy()`\n",
      "  df['Team_AdjEM_dif'] = df['AdjEM_y']-df['AdjEM_x']\n",
      "/var/folders/cq/16hkxgp926d466c0g9jzx2900000gq/T/ipykernel_83214/3416284705.py:4: PerformanceWarning: DataFrame is highly fragmented.  This is usually the result of calling `frame.insert` many times, which has poor performance.  Consider joining all columns at once using pd.concat(axis=1) instead. To get a de-fragmented frame, use `newframe = frame.copy()`\n",
      "  df['KP_Rk_Dif'] = df['RankAdjEM_y']-df['RankAdjEM_x']\n",
      "/var/folders/cq/16hkxgp926d466c0g9jzx2900000gq/T/ipykernel_83214/3416284705.py:5: PerformanceWarning: DataFrame is highly fragmented.  This is usually the result of calling `frame.insert` many times, which has poor performance.  Consider joining all columns at once using pd.concat(axis=1) instead. To get a de-fragmented frame, use `newframe = frame.copy()`\n",
      "  df['Calc A'] = df['X.Min']*df['ORtg']\n"
     ]
    }
   ],
   "source": [
    "#df = df.drop(df[(df['games']<=12) & (df['games_started']/df['games']>=0.6)].index)\n",
    "df['Year_dif'] = df['year_n1']-df['year']\n",
    "df['Team_AdjEM_dif'] = df['AdjEM_y']-df['AdjEM_x']\n",
    "df['KP_Rk_Dif'] = df['RankAdjEM_y']-df['RankAdjEM_x']\n",
    "df['Calc A'] = df['X.Min']*df['ORtg']\n",
    "# Trying to flag red \n",
    "df_test1 = df[['player_type', 'X.Poss', 'X.Poss_n1', 'X.Min',\n",
    "                'X.Min_n1', 'ORtg', 'Contribution_n1', 'Year_dif', 'stl_per_poss', \n",
    "                'blk_per_poss', 'DR.', 'KP_Rk_Dif', 'Calc A']]\n",
    "#'Team_AdjEM_dif'\n",
    "X = df_test1[['player_type', 'X.Poss', 'X.Min', 'X.Min_n1', 'ORtg', \n",
    "                      'Year_dif', 'stl_per_poss', 'blk_per_poss', \n",
    "                      'DR.', 'KP_Rk_Dif', 'Calc A']]\n",
    "y = df_test1[['Contribution_n1']]"
   ]
  },
  {
   "cell_type": "code",
   "execution_count": 10,
   "metadata": {},
   "outputs": [],
   "source": [
    "seed = 7\n",
    "test_size = 0.33\n",
    "X_train, X_test, y_train, y_test = train_test_split(X, y, test_size=test_size, random_state=seed)"
   ]
  },
  {
   "cell_type": "code",
   "execution_count": 11,
   "metadata": {},
   "outputs": [
    {
     "name": "stdout",
     "output_type": "stream",
     "text": [
      "11042\n",
      "7398   3644\n"
     ]
    }
   ],
   "source": [
    "print(len(y))\n",
    "print(len(X_train), \" \", len(X_test))"
   ]
  },
  {
   "cell_type": "code",
   "execution_count": 12,
   "metadata": {},
   "outputs": [
    {
     "data": {
      "text/html": [
       "<style>#sk-container-id-1 {color: black;background-color: white;}#sk-container-id-1 pre{padding: 0;}#sk-container-id-1 div.sk-toggleable {background-color: white;}#sk-container-id-1 label.sk-toggleable__label {cursor: pointer;display: block;width: 100%;margin-bottom: 0;padding: 0.3em;box-sizing: border-box;text-align: center;}#sk-container-id-1 label.sk-toggleable__label-arrow:before {content: \"▸\";float: left;margin-right: 0.25em;color: #696969;}#sk-container-id-1 label.sk-toggleable__label-arrow:hover:before {color: black;}#sk-container-id-1 div.sk-estimator:hover label.sk-toggleable__label-arrow:before {color: black;}#sk-container-id-1 div.sk-toggleable__content {max-height: 0;max-width: 0;overflow: hidden;text-align: left;background-color: #f0f8ff;}#sk-container-id-1 div.sk-toggleable__content pre {margin: 0.2em;color: black;border-radius: 0.25em;background-color: #f0f8ff;}#sk-container-id-1 input.sk-toggleable__control:checked~div.sk-toggleable__content {max-height: 200px;max-width: 100%;overflow: auto;}#sk-container-id-1 input.sk-toggleable__control:checked~label.sk-toggleable__label-arrow:before {content: \"▾\";}#sk-container-id-1 div.sk-estimator input.sk-toggleable__control:checked~label.sk-toggleable__label {background-color: #d4ebff;}#sk-container-id-1 div.sk-label input.sk-toggleable__control:checked~label.sk-toggleable__label {background-color: #d4ebff;}#sk-container-id-1 input.sk-hidden--visually {border: 0;clip: rect(1px 1px 1px 1px);clip: rect(1px, 1px, 1px, 1px);height: 1px;margin: -1px;overflow: hidden;padding: 0;position: absolute;width: 1px;}#sk-container-id-1 div.sk-estimator {font-family: monospace;background-color: #f0f8ff;border: 1px dotted black;border-radius: 0.25em;box-sizing: border-box;margin-bottom: 0.5em;}#sk-container-id-1 div.sk-estimator:hover {background-color: #d4ebff;}#sk-container-id-1 div.sk-parallel-item::after {content: \"\";width: 100%;border-bottom: 1px solid gray;flex-grow: 1;}#sk-container-id-1 div.sk-label:hover label.sk-toggleable__label {background-color: #d4ebff;}#sk-container-id-1 div.sk-serial::before {content: \"\";position: absolute;border-left: 1px solid gray;box-sizing: border-box;top: 0;bottom: 0;left: 50%;z-index: 0;}#sk-container-id-1 div.sk-serial {display: flex;flex-direction: column;align-items: center;background-color: white;padding-right: 0.2em;padding-left: 0.2em;position: relative;}#sk-container-id-1 div.sk-item {position: relative;z-index: 1;}#sk-container-id-1 div.sk-parallel {display: flex;align-items: stretch;justify-content: center;background-color: white;position: relative;}#sk-container-id-1 div.sk-item::before, #sk-container-id-1 div.sk-parallel-item::before {content: \"\";position: absolute;border-left: 1px solid gray;box-sizing: border-box;top: 0;bottom: 0;left: 50%;z-index: -1;}#sk-container-id-1 div.sk-parallel-item {display: flex;flex-direction: column;z-index: 1;position: relative;background-color: white;}#sk-container-id-1 div.sk-parallel-item:first-child::after {align-self: flex-end;width: 50%;}#sk-container-id-1 div.sk-parallel-item:last-child::after {align-self: flex-start;width: 50%;}#sk-container-id-1 div.sk-parallel-item:only-child::after {width: 0;}#sk-container-id-1 div.sk-dashed-wrapped {border: 1px dashed gray;margin: 0 0.4em 0.5em 0.4em;box-sizing: border-box;padding-bottom: 0.4em;background-color: white;}#sk-container-id-1 div.sk-label label {font-family: monospace;font-weight: bold;display: inline-block;line-height: 1.2em;}#sk-container-id-1 div.sk-label-container {text-align: center;}#sk-container-id-1 div.sk-container {/* jupyter's `normalize.less` sets `[hidden] { display: none; }` but bootstrap.min.css set `[hidden] { display: none !important; }` so we also need the `!important` here to be able to override the default hidden behavior on the sphinx rendered scikit-learn.org. See: https://github.com/scikit-learn/scikit-learn/issues/21755 */display: inline-block !important;position: relative;}#sk-container-id-1 div.sk-text-repr-fallback {display: none;}</style><div id=\"sk-container-id-1\" class=\"sk-top-container\"><div class=\"sk-text-repr-fallback\"><pre>XGBClassifier(base_score=None, booster=None, callbacks=None,\n",
       "              colsample_bylevel=None, colsample_bynode=None,\n",
       "              colsample_bytree=None, device=None, early_stopping_rounds=None,\n",
       "              enable_categorical=False, eval_metric=None, feature_types=None,\n",
       "              gamma=None, grow_policy=None, importance_type=None,\n",
       "              interaction_constraints=None, learning_rate=None, max_bin=None,\n",
       "              max_cat_threshold=None, max_cat_to_onehot=None,\n",
       "              max_delta_step=None, max_depth=None, max_leaves=None,\n",
       "              min_child_weight=None, missing=nan, monotone_constraints=None,\n",
       "              multi_strategy=None, n_estimators=None, n_jobs=None,\n",
       "              num_parallel_tree=None, objective=&#x27;multi:softprob&#x27;, ...)</pre><b>In a Jupyter environment, please rerun this cell to show the HTML representation or trust the notebook. <br />On GitHub, the HTML representation is unable to render, please try loading this page with nbviewer.org.</b></div><div class=\"sk-container\" hidden><div class=\"sk-item\"><div class=\"sk-estimator sk-toggleable\"><input class=\"sk-toggleable__control sk-hidden--visually\" id=\"sk-estimator-id-1\" type=\"checkbox\" checked><label for=\"sk-estimator-id-1\" class=\"sk-toggleable__label sk-toggleable__label-arrow\">XGBClassifier</label><div class=\"sk-toggleable__content\"><pre>XGBClassifier(base_score=None, booster=None, callbacks=None,\n",
       "              colsample_bylevel=None, colsample_bynode=None,\n",
       "              colsample_bytree=None, device=None, early_stopping_rounds=None,\n",
       "              enable_categorical=False, eval_metric=None, feature_types=None,\n",
       "              gamma=None, grow_policy=None, importance_type=None,\n",
       "              interaction_constraints=None, learning_rate=None, max_bin=None,\n",
       "              max_cat_threshold=None, max_cat_to_onehot=None,\n",
       "              max_delta_step=None, max_depth=None, max_leaves=None,\n",
       "              min_child_weight=None, missing=nan, monotone_constraints=None,\n",
       "              multi_strategy=None, n_estimators=None, n_jobs=None,\n",
       "              num_parallel_tree=None, objective=&#x27;multi:softprob&#x27;, ...)</pre></div></div></div></div></div>"
      ],
      "text/plain": [
       "XGBClassifier(base_score=None, booster=None, callbacks=None,\n",
       "              colsample_bylevel=None, colsample_bynode=None,\n",
       "              colsample_bytree=None, device=None, early_stopping_rounds=None,\n",
       "              enable_categorical=False, eval_metric=None, feature_types=None,\n",
       "              gamma=None, grow_policy=None, importance_type=None,\n",
       "              interaction_constraints=None, learning_rate=None, max_bin=None,\n",
       "              max_cat_threshold=None, max_cat_to_onehot=None,\n",
       "              max_delta_step=None, max_depth=None, max_leaves=None,\n",
       "              min_child_weight=None, missing=nan, monotone_constraints=None,\n",
       "              multi_strategy=None, n_estimators=None, n_jobs=None,\n",
       "              num_parallel_tree=None, objective='multi:softprob', ...)"
      ]
     },
     "execution_count": 12,
     "metadata": {},
     "output_type": "execute_result"
    }
   ],
   "source": [
    "model = XGBClassifier()\n",
    "model.fit(X_train, y_train)"
   ]
  },
  {
   "cell_type": "code",
   "execution_count": 13,
   "metadata": {},
   "outputs": [
    {
     "name": "stdout",
     "output_type": "stream",
     "text": [
      "Accuracy: 40.61%\n"
     ]
    }
   ],
   "source": [
    "y_pred = model.predict(X_test)\n",
    "predictions = [round(value) for value in y_pred]\n",
    "accuracy = accuracy_score(y_test, predictions)\n",
    "print(\"Accuracy: %.2f%%\" % (accuracy * 100.0))"
   ]
  },
  {
   "cell_type": "code",
   "execution_count": 14,
   "metadata": {},
   "outputs": [
    {
     "name": "stdout",
     "output_type": "stream",
     "text": [
      "2500\n",
      "3644\n",
      "0.69\n"
     ]
    },
    {
     "data": {
      "text/html": [
       "<div>\n",
       "<style scoped>\n",
       "    .dataframe tbody tr th:only-of-type {\n",
       "        vertical-align: middle;\n",
       "    }\n",
       "\n",
       "    .dataframe tbody tr th {\n",
       "        vertical-align: top;\n",
       "    }\n",
       "\n",
       "    .dataframe thead th {\n",
       "        text-align: right;\n",
       "    }\n",
       "</style>\n",
       "<table border=\"1\" class=\"dataframe\">\n",
       "  <thead>\n",
       "    <tr style=\"text-align: right;\">\n",
       "      <th></th>\n",
       "      <th></th>\n",
       "      <th>Better</th>\n",
       "      <th>Worse</th>\n",
       "    </tr>\n",
       "    <tr>\n",
       "      <th>Contribution_n1</th>\n",
       "      <th>Predictions</th>\n",
       "      <th></th>\n",
       "      <th></th>\n",
       "    </tr>\n",
       "  </thead>\n",
       "  <tbody>\n",
       "    <tr>\n",
       "      <th rowspan=\"5\" valign=\"top\">0</th>\n",
       "      <th>0</th>\n",
       "      <td>36</td>\n",
       "      <td>36</td>\n",
       "    </tr>\n",
       "    <tr>\n",
       "      <th>1</th>\n",
       "      <td>58</td>\n",
       "      <td>58</td>\n",
       "    </tr>\n",
       "    <tr>\n",
       "      <th>2</th>\n",
       "      <td>45</td>\n",
       "      <td>45</td>\n",
       "    </tr>\n",
       "    <tr>\n",
       "      <th>3</th>\n",
       "      <td>24</td>\n",
       "      <td>24</td>\n",
       "    </tr>\n",
       "    <tr>\n",
       "      <th>4</th>\n",
       "      <td>3</td>\n",
       "      <td>3</td>\n",
       "    </tr>\n",
       "    <tr>\n",
       "      <th rowspan=\"6\" valign=\"top\">1</th>\n",
       "      <th>0</th>\n",
       "      <td>30</td>\n",
       "      <td>30</td>\n",
       "    </tr>\n",
       "    <tr>\n",
       "      <th>1</th>\n",
       "      <td>148</td>\n",
       "      <td>148</td>\n",
       "    </tr>\n",
       "    <tr>\n",
       "      <th>2</th>\n",
       "      <td>158</td>\n",
       "      <td>158</td>\n",
       "    </tr>\n",
       "    <tr>\n",
       "      <th>3</th>\n",
       "      <td>82</td>\n",
       "      <td>82</td>\n",
       "    </tr>\n",
       "    <tr>\n",
       "      <th>4</th>\n",
       "      <td>11</td>\n",
       "      <td>11</td>\n",
       "    </tr>\n",
       "    <tr>\n",
       "      <th>6</th>\n",
       "      <td>3</td>\n",
       "      <td>3</td>\n",
       "    </tr>\n",
       "    <tr>\n",
       "      <th rowspan=\"7\" valign=\"top\">2</th>\n",
       "      <th>0</th>\n",
       "      <td>15</td>\n",
       "      <td>15</td>\n",
       "    </tr>\n",
       "    <tr>\n",
       "      <th>1</th>\n",
       "      <td>98</td>\n",
       "      <td>98</td>\n",
       "    </tr>\n",
       "    <tr>\n",
       "      <th>2</th>\n",
       "      <td>355</td>\n",
       "      <td>355</td>\n",
       "    </tr>\n",
       "    <tr>\n",
       "      <th>3</th>\n",
       "      <td>316</td>\n",
       "      <td>316</td>\n",
       "    </tr>\n",
       "    <tr>\n",
       "      <th>4</th>\n",
       "      <td>67</td>\n",
       "      <td>67</td>\n",
       "    </tr>\n",
       "    <tr>\n",
       "      <th>5</th>\n",
       "      <td>5</td>\n",
       "      <td>5</td>\n",
       "    </tr>\n",
       "    <tr>\n",
       "      <th>6</th>\n",
       "      <td>7</td>\n",
       "      <td>7</td>\n",
       "    </tr>\n",
       "    <tr>\n",
       "      <th rowspan=\"7\" valign=\"top\">3</th>\n",
       "      <th>0</th>\n",
       "      <td>2</td>\n",
       "      <td>2</td>\n",
       "    </tr>\n",
       "    <tr>\n",
       "      <th>1</th>\n",
       "      <td>36</td>\n",
       "      <td>36</td>\n",
       "    </tr>\n",
       "    <tr>\n",
       "      <th>2</th>\n",
       "      <td>228</td>\n",
       "      <td>228</td>\n",
       "    </tr>\n",
       "    <tr>\n",
       "      <th>3</th>\n",
       "      <td>565</td>\n",
       "      <td>565</td>\n",
       "    </tr>\n",
       "    <tr>\n",
       "      <th>4</th>\n",
       "      <td>265</td>\n",
       "      <td>265</td>\n",
       "    </tr>\n",
       "    <tr>\n",
       "      <th>5</th>\n",
       "      <td>19</td>\n",
       "      <td>19</td>\n",
       "    </tr>\n",
       "    <tr>\n",
       "      <th>6</th>\n",
       "      <td>11</td>\n",
       "      <td>11</td>\n",
       "    </tr>\n",
       "    <tr>\n",
       "      <th rowspan=\"7\" valign=\"top\">4</th>\n",
       "      <th>0</th>\n",
       "      <td>1</td>\n",
       "      <td>1</td>\n",
       "    </tr>\n",
       "    <tr>\n",
       "      <th>1</th>\n",
       "      <td>12</td>\n",
       "      <td>12</td>\n",
       "    </tr>\n",
       "    <tr>\n",
       "      <th>2</th>\n",
       "      <td>62</td>\n",
       "      <td>62</td>\n",
       "    </tr>\n",
       "    <tr>\n",
       "      <th>3</th>\n",
       "      <td>336</td>\n",
       "      <td>336</td>\n",
       "    </tr>\n",
       "    <tr>\n",
       "      <th>4</th>\n",
       "      <td>292</td>\n",
       "      <td>292</td>\n",
       "    </tr>\n",
       "    <tr>\n",
       "      <th>5</th>\n",
       "      <td>46</td>\n",
       "      <td>46</td>\n",
       "    </tr>\n",
       "    <tr>\n",
       "      <th>6</th>\n",
       "      <td>23</td>\n",
       "      <td>23</td>\n",
       "    </tr>\n",
       "    <tr>\n",
       "      <th rowspan=\"6\" valign=\"top\">5</th>\n",
       "      <th>1</th>\n",
       "      <td>1</td>\n",
       "      <td>1</td>\n",
       "    </tr>\n",
       "    <tr>\n",
       "      <th>2</th>\n",
       "      <td>5</td>\n",
       "      <td>5</td>\n",
       "    </tr>\n",
       "    <tr>\n",
       "      <th>3</th>\n",
       "      <td>53</td>\n",
       "      <td>53</td>\n",
       "    </tr>\n",
       "    <tr>\n",
       "      <th>4</th>\n",
       "      <td>92</td>\n",
       "      <td>92</td>\n",
       "    </tr>\n",
       "    <tr>\n",
       "      <th>5</th>\n",
       "      <td>58</td>\n",
       "      <td>58</td>\n",
       "    </tr>\n",
       "    <tr>\n",
       "      <th>6</th>\n",
       "      <td>1</td>\n",
       "      <td>1</td>\n",
       "    </tr>\n",
       "    <tr>\n",
       "      <th rowspan=\"5\" valign=\"top\">6</th>\n",
       "      <th>1</th>\n",
       "      <td>3</td>\n",
       "      <td>3</td>\n",
       "    </tr>\n",
       "    <tr>\n",
       "      <th>2</th>\n",
       "      <td>1</td>\n",
       "      <td>1</td>\n",
       "    </tr>\n",
       "    <tr>\n",
       "      <th>3</th>\n",
       "      <td>11</td>\n",
       "      <td>11</td>\n",
       "    </tr>\n",
       "    <tr>\n",
       "      <th>4</th>\n",
       "      <td>34</td>\n",
       "      <td>34</td>\n",
       "    </tr>\n",
       "    <tr>\n",
       "      <th>6</th>\n",
       "      <td>26</td>\n",
       "      <td>26</td>\n",
       "    </tr>\n",
       "  </tbody>\n",
       "</table>\n",
       "</div>"
      ],
      "text/plain": [
       "                             Better  Worse\n",
       "Contribution_n1 Predictions               \n",
       "0               0                36     36\n",
       "                1                58     58\n",
       "                2                45     45\n",
       "                3                24     24\n",
       "                4                 3      3\n",
       "1               0                30     30\n",
       "                1               148    148\n",
       "                2               158    158\n",
       "                3                82     82\n",
       "                4                11     11\n",
       "                6                 3      3\n",
       "2               0                15     15\n",
       "                1                98     98\n",
       "                2               355    355\n",
       "                3               316    316\n",
       "                4                67     67\n",
       "                5                 5      5\n",
       "                6                 7      7\n",
       "3               0                 2      2\n",
       "                1                36     36\n",
       "                2               228    228\n",
       "                3               565    565\n",
       "                4               265    265\n",
       "                5                19     19\n",
       "                6                11     11\n",
       "4               0                 1      1\n",
       "                1                12     12\n",
       "                2                62     62\n",
       "                3               336    336\n",
       "                4               292    292\n",
       "                5                46     46\n",
       "                6                23     23\n",
       "5               1                 1      1\n",
       "                2                 5      5\n",
       "                3                53     53\n",
       "                4                92     92\n",
       "                5                58     58\n",
       "                6                 1      1\n",
       "6               1                 3      3\n",
       "                2                 1      1\n",
       "                3                11     11\n",
       "                4                34     34\n",
       "                6                26     26"
      ]
     },
     "execution_count": 14,
     "metadata": {},
     "output_type": "execute_result"
    }
   ],
   "source": [
    "#y_test_df = pd.DataFrame({\"Contribution_n1\": y_test})\n",
    "y_test[\"Predictions\"]=y_pred\n",
    "y_test[\"Better\"] = np.where(y_test['Predictions']<=y_test['Contribution_n1'], 1, 0)\n",
    "#y_test[\"Spot On\"] = np.where(y_test['Predictions']==y_test['Contribution_n1'], 1, 0)\n",
    "y_test[\"Worse\"] = np.where(y_test['Predictions']>y_test['Contribution_n1'], 1, 0)\n",
    "print(sum(list(y_test['Better'])))\n",
    "print(len(list(y_test['Better'])))\n",
    "print(round(sum(list(y_test['Better']))/len(list(y_test['Better'])), 2))\n",
    "#y_test[\"Difference\"] = y_test['Predictions']-y_test['Contribution_n1']\n",
    "cond = y_test.groupby(\"Predictions\").sum()\n",
    "cond2 = y_test.groupby([\"Contribution_n1\", \"Predictions\"]).count()\n",
    "cond2\n"
   ]
  },
  {
   "cell_type": "code",
   "execution_count": 15,
   "metadata": {},
   "outputs": [
    {
     "data": {
      "text/html": [
       "<div>\n",
       "<style scoped>\n",
       "    .dataframe tbody tr th:only-of-type {\n",
       "        vertical-align: middle;\n",
       "    }\n",
       "\n",
       "    .dataframe tbody tr th {\n",
       "        vertical-align: top;\n",
       "    }\n",
       "\n",
       "    .dataframe thead th {\n",
       "        text-align: right;\n",
       "    }\n",
       "</style>\n",
       "<table border=\"1\" class=\"dataframe\">\n",
       "  <thead>\n",
       "    <tr style=\"text-align: right;\">\n",
       "      <th></th>\n",
       "      <th>Contribution_n1</th>\n",
       "      <th>Better</th>\n",
       "      <th>Worse</th>\n",
       "    </tr>\n",
       "    <tr>\n",
       "      <th>Predictions</th>\n",
       "      <th></th>\n",
       "      <th></th>\n",
       "      <th></th>\n",
       "    </tr>\n",
       "  </thead>\n",
       "  <tbody>\n",
       "    <tr>\n",
       "      <th>0</th>\n",
       "      <td>70</td>\n",
       "      <td>84</td>\n",
       "      <td>0</td>\n",
       "    </tr>\n",
       "    <tr>\n",
       "      <th>1</th>\n",
       "      <td>523</td>\n",
       "      <td>298</td>\n",
       "      <td>58</td>\n",
       "    </tr>\n",
       "    <tr>\n",
       "      <th>2</th>\n",
       "      <td>1831</td>\n",
       "      <td>651</td>\n",
       "      <td>203</td>\n",
       "    </tr>\n",
       "    <tr>\n",
       "      <th>3</th>\n",
       "      <td>4084</td>\n",
       "      <td>965</td>\n",
       "      <td>422</td>\n",
       "    </tr>\n",
       "    <tr>\n",
       "      <th>4</th>\n",
       "      <td>2772</td>\n",
       "      <td>418</td>\n",
       "      <td>346</td>\n",
       "    </tr>\n",
       "    <tr>\n",
       "      <th>5</th>\n",
       "      <td>541</td>\n",
       "      <td>58</td>\n",
       "      <td>70</td>\n",
       "    </tr>\n",
       "    <tr>\n",
       "      <th>6</th>\n",
       "      <td>303</td>\n",
       "      <td>26</td>\n",
       "      <td>45</td>\n",
       "    </tr>\n",
       "  </tbody>\n",
       "</table>\n",
       "</div>"
      ],
      "text/plain": [
       "             Contribution_n1  Better  Worse\n",
       "Predictions                                \n",
       "0                         70      84      0\n",
       "1                        523     298     58\n",
       "2                       1831     651    203\n",
       "3                       4084     965    422\n",
       "4                       2772     418    346\n",
       "5                        541      58     70\n",
       "6                        303      26     45"
      ]
     },
     "execution_count": 15,
     "metadata": {},
     "output_type": "execute_result"
    }
   ],
   "source": [
    "cond"
   ]
  },
  {
   "cell_type": "code",
   "execution_count": 16,
   "metadata": {},
   "outputs": [],
   "source": [
    "#frames = [y_test, pred_df]\n",
    "#comp = pd.concat([y_test, pred_df])\n",
    "#comp"
   ]
  },
  {
   "cell_type": "markdown",
   "metadata": {},
   "source": [
    "Transfer Models"
   ]
  },
  {
   "cell_type": "code",
   "execution_count": 17,
   "metadata": {},
   "outputs": [],
   "source": [
    "df_transfer = df[df['player_type']==0]\n",
    "#df_transfer['Year_dif'] = df_transfer['year_n1']-df_transfer['year']\n",
    "#df_transfer\n",
    "df_test_transfer = df_transfer[['player_type', 'X.Poss', 'X.Poss_n1', 'X.Min',\n",
    "                'X.Min_n1', 'ORtg', 'Contribution_n1', 'Year_dif', 'stl_per_poss', \n",
    "                'blk_per_poss', 'DR.', 'AdjEM_x']]\n",
    "Xt = df_test_transfer[['X.Poss', 'X.Min', 'X.Min_n1', 'ORtg', \n",
    "                      'Year_dif', 'stl_per_poss', 'blk_per_poss', \n",
    "                      'DR.', 'AdjEM_x']]\n",
    "yt = df_test_transfer[['Contribution_n1']]"
   ]
  },
  {
   "cell_type": "code",
   "execution_count": 18,
   "metadata": {},
   "outputs": [],
   "source": [
    "seed = 7\n",
    "test_size = 0.33\n",
    "Xt_train, Xt_test, yt_train, yt_test = train_test_split(Xt, yt, test_size=test_size, random_state=seed)"
   ]
  },
  {
   "cell_type": "code",
   "execution_count": 19,
   "metadata": {},
   "outputs": [
    {
     "data": {
      "text/html": [
       "<style>#sk-container-id-2 {color: black;background-color: white;}#sk-container-id-2 pre{padding: 0;}#sk-container-id-2 div.sk-toggleable {background-color: white;}#sk-container-id-2 label.sk-toggleable__label {cursor: pointer;display: block;width: 100%;margin-bottom: 0;padding: 0.3em;box-sizing: border-box;text-align: center;}#sk-container-id-2 label.sk-toggleable__label-arrow:before {content: \"▸\";float: left;margin-right: 0.25em;color: #696969;}#sk-container-id-2 label.sk-toggleable__label-arrow:hover:before {color: black;}#sk-container-id-2 div.sk-estimator:hover label.sk-toggleable__label-arrow:before {color: black;}#sk-container-id-2 div.sk-toggleable__content {max-height: 0;max-width: 0;overflow: hidden;text-align: left;background-color: #f0f8ff;}#sk-container-id-2 div.sk-toggleable__content pre {margin: 0.2em;color: black;border-radius: 0.25em;background-color: #f0f8ff;}#sk-container-id-2 input.sk-toggleable__control:checked~div.sk-toggleable__content {max-height: 200px;max-width: 100%;overflow: auto;}#sk-container-id-2 input.sk-toggleable__control:checked~label.sk-toggleable__label-arrow:before {content: \"▾\";}#sk-container-id-2 div.sk-estimator input.sk-toggleable__control:checked~label.sk-toggleable__label {background-color: #d4ebff;}#sk-container-id-2 div.sk-label input.sk-toggleable__control:checked~label.sk-toggleable__label {background-color: #d4ebff;}#sk-container-id-2 input.sk-hidden--visually {border: 0;clip: rect(1px 1px 1px 1px);clip: rect(1px, 1px, 1px, 1px);height: 1px;margin: -1px;overflow: hidden;padding: 0;position: absolute;width: 1px;}#sk-container-id-2 div.sk-estimator {font-family: monospace;background-color: #f0f8ff;border: 1px dotted black;border-radius: 0.25em;box-sizing: border-box;margin-bottom: 0.5em;}#sk-container-id-2 div.sk-estimator:hover {background-color: #d4ebff;}#sk-container-id-2 div.sk-parallel-item::after {content: \"\";width: 100%;border-bottom: 1px solid gray;flex-grow: 1;}#sk-container-id-2 div.sk-label:hover label.sk-toggleable__label {background-color: #d4ebff;}#sk-container-id-2 div.sk-serial::before {content: \"\";position: absolute;border-left: 1px solid gray;box-sizing: border-box;top: 0;bottom: 0;left: 50%;z-index: 0;}#sk-container-id-2 div.sk-serial {display: flex;flex-direction: column;align-items: center;background-color: white;padding-right: 0.2em;padding-left: 0.2em;position: relative;}#sk-container-id-2 div.sk-item {position: relative;z-index: 1;}#sk-container-id-2 div.sk-parallel {display: flex;align-items: stretch;justify-content: center;background-color: white;position: relative;}#sk-container-id-2 div.sk-item::before, #sk-container-id-2 div.sk-parallel-item::before {content: \"\";position: absolute;border-left: 1px solid gray;box-sizing: border-box;top: 0;bottom: 0;left: 50%;z-index: -1;}#sk-container-id-2 div.sk-parallel-item {display: flex;flex-direction: column;z-index: 1;position: relative;background-color: white;}#sk-container-id-2 div.sk-parallel-item:first-child::after {align-self: flex-end;width: 50%;}#sk-container-id-2 div.sk-parallel-item:last-child::after {align-self: flex-start;width: 50%;}#sk-container-id-2 div.sk-parallel-item:only-child::after {width: 0;}#sk-container-id-2 div.sk-dashed-wrapped {border: 1px dashed gray;margin: 0 0.4em 0.5em 0.4em;box-sizing: border-box;padding-bottom: 0.4em;background-color: white;}#sk-container-id-2 div.sk-label label {font-family: monospace;font-weight: bold;display: inline-block;line-height: 1.2em;}#sk-container-id-2 div.sk-label-container {text-align: center;}#sk-container-id-2 div.sk-container {/* jupyter's `normalize.less` sets `[hidden] { display: none; }` but bootstrap.min.css set `[hidden] { display: none !important; }` so we also need the `!important` here to be able to override the default hidden behavior on the sphinx rendered scikit-learn.org. See: https://github.com/scikit-learn/scikit-learn/issues/21755 */display: inline-block !important;position: relative;}#sk-container-id-2 div.sk-text-repr-fallback {display: none;}</style><div id=\"sk-container-id-2\" class=\"sk-top-container\"><div class=\"sk-text-repr-fallback\"><pre>XGBClassifier(base_score=None, booster=None, callbacks=None,\n",
       "              colsample_bylevel=None, colsample_bynode=None,\n",
       "              colsample_bytree=None, device=None, early_stopping_rounds=None,\n",
       "              enable_categorical=False, eval_metric=None, feature_types=None,\n",
       "              gamma=None, grow_policy=None, importance_type=None,\n",
       "              interaction_constraints=None, learning_rate=None, max_bin=None,\n",
       "              max_cat_threshold=None, max_cat_to_onehot=None,\n",
       "              max_delta_step=None, max_depth=None, max_leaves=None,\n",
       "              min_child_weight=None, missing=nan, monotone_constraints=None,\n",
       "              multi_strategy=None, n_estimators=None, n_jobs=None,\n",
       "              num_parallel_tree=None, objective=&#x27;multi:softprob&#x27;, ...)</pre><b>In a Jupyter environment, please rerun this cell to show the HTML representation or trust the notebook. <br />On GitHub, the HTML representation is unable to render, please try loading this page with nbviewer.org.</b></div><div class=\"sk-container\" hidden><div class=\"sk-item\"><div class=\"sk-estimator sk-toggleable\"><input class=\"sk-toggleable__control sk-hidden--visually\" id=\"sk-estimator-id-2\" type=\"checkbox\" checked><label for=\"sk-estimator-id-2\" class=\"sk-toggleable__label sk-toggleable__label-arrow\">XGBClassifier</label><div class=\"sk-toggleable__content\"><pre>XGBClassifier(base_score=None, booster=None, callbacks=None,\n",
       "              colsample_bylevel=None, colsample_bynode=None,\n",
       "              colsample_bytree=None, device=None, early_stopping_rounds=None,\n",
       "              enable_categorical=False, eval_metric=None, feature_types=None,\n",
       "              gamma=None, grow_policy=None, importance_type=None,\n",
       "              interaction_constraints=None, learning_rate=None, max_bin=None,\n",
       "              max_cat_threshold=None, max_cat_to_onehot=None,\n",
       "              max_delta_step=None, max_depth=None, max_leaves=None,\n",
       "              min_child_weight=None, missing=nan, monotone_constraints=None,\n",
       "              multi_strategy=None, n_estimators=None, n_jobs=None,\n",
       "              num_parallel_tree=None, objective=&#x27;multi:softprob&#x27;, ...)</pre></div></div></div></div></div>"
      ],
      "text/plain": [
       "XGBClassifier(base_score=None, booster=None, callbacks=None,\n",
       "              colsample_bylevel=None, colsample_bynode=None,\n",
       "              colsample_bytree=None, device=None, early_stopping_rounds=None,\n",
       "              enable_categorical=False, eval_metric=None, feature_types=None,\n",
       "              gamma=None, grow_policy=None, importance_type=None,\n",
       "              interaction_constraints=None, learning_rate=None, max_bin=None,\n",
       "              max_cat_threshold=None, max_cat_to_onehot=None,\n",
       "              max_delta_step=None, max_depth=None, max_leaves=None,\n",
       "              min_child_weight=None, missing=nan, monotone_constraints=None,\n",
       "              multi_strategy=None, n_estimators=None, n_jobs=None,\n",
       "              num_parallel_tree=None, objective='multi:softprob', ...)"
      ]
     },
     "execution_count": 19,
     "metadata": {},
     "output_type": "execute_result"
    }
   ],
   "source": [
    "model = XGBClassifier()\n",
    "model.fit(Xt_train, yt_train)"
   ]
  },
  {
   "cell_type": "code",
   "execution_count": 20,
   "metadata": {},
   "outputs": [
    {
     "name": "stdout",
     "output_type": "stream",
     "text": [
      "Accuracy: 40.61%\n"
     ]
    }
   ],
   "source": [
    "yt_pred = model.predict(Xt_test)\n",
    "predictionst = [round(value) for value in yt_pred]\n",
    "accuracyt = accuracy_score(yt_test, predictionst)\n",
    "print(\"Accuracy: %.2f%%\" % (accuracy * 100.0))"
   ]
  },
  {
   "cell_type": "code",
   "execution_count": 21,
   "metadata": {},
   "outputs": [
    {
     "data": {
      "text/plain": [
       "array(['Sr', 'Jr', 'So', 'Fr'], dtype=object)"
      ]
     },
     "execution_count": 21,
     "metadata": {},
     "output_type": "execute_result"
    }
   ],
   "source": [
    "df.Yr_n1.unique()"
   ]
  },
  {
   "cell_type": "code",
   "execution_count": 22,
   "metadata": {},
   "outputs": [
    {
     "data": {
      "text/plain": [
       "Ht\n",
       "62       2\n",
       "66       5\n",
       "67      13\n",
       "68      40\n",
       "69      59\n",
       "70     124\n",
       "71     172\n",
       "72     471\n",
       "73     594\n",
       "74     822\n",
       "75    1024\n",
       "76    1107\n",
       "77    1200\n",
       "78    1093\n",
       "79    1215\n",
       "80    1103\n",
       "81     921\n",
       "82     581\n",
       "83     262\n",
       "84     139\n",
       "85      68\n",
       "86      11\n",
       "87      10\n",
       "88       5\n",
       "89       1\n",
       "dtype: int64"
      ]
     },
     "execution_count": 22,
     "metadata": {},
     "output_type": "execute_result"
    }
   ],
   "source": [
    "new = pd.DataFrame(zip(df.Ht), columns=['Ht'])\n",
    "ht_df = new.groupby(['Ht']).size()\n",
    "ht_df"
   ]
  },
  {
   "cell_type": "code",
   "execution_count": 23,
   "metadata": {},
   "outputs": [
    {
     "data": {
      "text/plain": [
       "Wt\n",
       "0.0      108\n",
       "139.0      1\n",
       "140.0     10\n",
       "145.0     13\n",
       "148.0      1\n",
       "        ... \n",
       "295.0      5\n",
       "299.0      1\n",
       "300.0      6\n",
       "305.0      2\n",
       "350.0      1\n",
       "Length: 135, dtype: int64"
      ]
     },
     "execution_count": 23,
     "metadata": {},
     "output_type": "execute_result"
    }
   ],
   "source": [
    "new1 = pd.DataFrame(zip(df.Wt), columns=['Wt'])\n",
    "wt_df = new1.groupby(['Wt']).size()\n",
    "wt_df"
   ]
  },
  {
   "cell_type": "code",
   "execution_count": 53,
   "metadata": {},
   "outputs": [
    {
     "name": "stderr",
     "output_type": "stream",
     "text": [
      "/var/folders/cq/16hkxgp926d466c0g9jzx2900000gq/T/ipykernel_83214/2537455642.py:4: DtypeWarning: Columns (13,16,38,144,147,169) have mixed types. Specify dtype option on import or set low_memory=False.\n",
      "  d = pd.read_csv(\"/Users/caldavis/Documents/GitHub/Capstone-project/Data folder/final_data_by_player_type.csv\")\n",
      "/var/folders/cq/16hkxgp926d466c0g9jzx2900000gq/T/ipykernel_83214/2537455642.py:24: PerformanceWarning: DataFrame is highly fragmented.  This is usually the result of calling `frame.insert` many times, which has poor performance.  Consider joining all columns at once using pd.concat(axis=1) instead. To get a de-fragmented frame, use `newframe = frame.copy()`\n",
      "  df['Contribution_n1'] = np.select(conditions, values)\n",
      "/var/folders/cq/16hkxgp926d466c0g9jzx2900000gq/T/ipykernel_83214/2537455642.py:30: PerformanceWarning: DataFrame is highly fragmented.  This is usually the result of calling `frame.insert` many times, which has poor performance.  Consider joining all columns at once using pd.concat(axis=1) instead. To get a de-fragmented frame, use `newframe = frame.copy()`\n",
      "  df['Class'] = np.select(year_cond, year_val)\n",
      "/var/folders/cq/16hkxgp926d466c0g9jzx2900000gq/T/ipykernel_83214/2537455642.py:37: PerformanceWarning: DataFrame is highly fragmented.  This is usually the result of calling `frame.insert` many times, which has poor performance.  Consider joining all columns at once using pd.concat(axis=1) instead. To get a de-fragmented frame, use `newframe = frame.copy()`\n",
      "  df['Pos_Ht'] = np.select(ht_cond, ht_val)\n",
      "/var/folders/cq/16hkxgp926d466c0g9jzx2900000gq/T/ipykernel_83214/2537455642.py:49: PerformanceWarning: DataFrame is highly fragmented.  This is usually the result of calling `frame.insert` many times, which has poor performance.  Consider joining all columns at once using pd.concat(axis=1) instead. To get a de-fragmented frame, use `newframe = frame.copy()`\n",
      "  df['Year_dif'] = df['year_n1']-df['year']\n",
      "/var/folders/cq/16hkxgp926d466c0g9jzx2900000gq/T/ipykernel_83214/2537455642.py:50: PerformanceWarning: DataFrame is highly fragmented.  This is usually the result of calling `frame.insert` many times, which has poor performance.  Consider joining all columns at once using pd.concat(axis=1) instead. To get a de-fragmented frame, use `newframe = frame.copy()`\n",
      "  df['Team_AdjEM_dif'] = df['AdjEM_y']-df['AdjEM_x']\n",
      "/var/folders/cq/16hkxgp926d466c0g9jzx2900000gq/T/ipykernel_83214/2537455642.py:51: PerformanceWarning: DataFrame is highly fragmented.  This is usually the result of calling `frame.insert` many times, which has poor performance.  Consider joining all columns at once using pd.concat(axis=1) instead. To get a de-fragmented frame, use `newframe = frame.copy()`\n",
      "  df['KP_Rk_Dif'] = df['RankAdjEM_y']-df['RankAdjEM_x']\n",
      "/var/folders/cq/16hkxgp926d466c0g9jzx2900000gq/T/ipykernel_83214/2537455642.py:52: PerformanceWarning: DataFrame is highly fragmented.  This is usually the result of calling `frame.insert` many times, which has poor performance.  Consider joining all columns at once using pd.concat(axis=1) instead. To get a de-fragmented frame, use `newframe = frame.copy()`\n",
      "  df['KP_Conf_Dif'] = df['Conf_Rating_y']-df['Conf_Rating_x']\n",
      "/var/folders/cq/16hkxgp926d466c0g9jzx2900000gq/T/ipykernel_83214/2537455642.py:53: PerformanceWarning: DataFrame is highly fragmented.  This is usually the result of calling `frame.insert` many times, which has poor performance.  Consider joining all columns at once using pd.concat(axis=1) instead. To get a de-fragmented frame, use `newframe = frame.copy()`\n",
      "  df['Calc A'] = df['X.Min']*df['ORtg']\n",
      "/var/folders/cq/16hkxgp926d466c0g9jzx2900000gq/T/ipykernel_83214/2537455642.py:54: PerformanceWarning: DataFrame is highly fragmented.  This is usually the result of calling `frame.insert` many times, which has poor performance.  Consider joining all columns at once using pd.concat(axis=1) instead. To get a de-fragmented frame, use `newframe = frame.copy()`\n",
      "  df['Calc B'] = df['stl_per_poss']+df['blk_per_poss']+df['DR.']\n"
     ]
    },
    {
     "name": "stdout",
     "output_type": "stream",
     "text": [
      "['games']\n",
      "Accuracy:  30.95944609297725\n",
      "['games_started']\n",
      "Accuracy:  30.909990108803164\n",
      "['player_type']\n",
      "Accuracy:  31.454005934718097\n",
      "['KP_Conf_Dif']\n",
      "Accuracy:  30.514342235410485\n",
      "['X.Poss']\n",
      "Accuracy:  40.90009891196835\n",
      "['X.Min']\n",
      "Accuracy:  29.920870425321468\n",
      "['ORtg']\n",
      "Accuracy:  29.376854599406528\n",
      "['Year_dif']\n",
      "Accuracy:  31.355093966369928\n",
      "['stl_per_poss']\n",
      "Accuracy:  30.4648862512364\n",
      "['blk_per_poss']\n",
      "Accuracy:  31.849653808110784\n",
      "['DR.']\n",
      "Accuracy:  30.06923837784372\n",
      "['KP_Rk_Dif']\n",
      "Accuracy:  30.909990108803164\n",
      "['Calc A']\n",
      "Accuracy:  28.931750741839764\n",
      "['Team_AdjEM_dif']\n",
      "Accuracy:  31.05835806132542\n",
      "['Calc B']\n",
      "Accuracy:  28.437190900098912\n",
      "['Class']\n",
      "Accuracy:  31.454005934718097\n",
      "['Pos_Ht']\n",
      "Accuracy:  31.454005934718097\n",
      "['Ht']\n",
      "Accuracy:  30.76162215628091\n",
      "['Wt']\n",
      "Accuracy:  30.909990108803164\n",
      "Rem Columns:  ['games', 'games_started', 'player_type', 'KP_Conf_Dif', 'X.Poss', 'X.Min', 'ORtg', 'Year_dif', 'stl_per_poss', 'blk_per_poss', 'DR.', 'KP_Rk_Dif', 'Calc A', 'Team_AdjEM_dif', 'Calc B', 'Class', 'Pos_Ht', 'Ht', 'Wt']\n",
      "Adding:  X.Poss\n",
      "Rem Columns:  ['games', 'games_started', 'player_type', 'KP_Conf_Dif', 'X.Poss', 'X.Min', 'ORtg', 'Year_dif', 'stl_per_poss', 'blk_per_poss', 'DR.', 'KP_Rk_Dif', 'Calc A', 'Team_AdjEM_dif', 'Calc B', 'Class', 'Pos_Ht', 'Ht', 'Wt']\n",
      "['X.Poss']\n",
      "['X.Poss', 'games']\n",
      "Accuracy:  40.0593471810089\n",
      "['X.Poss', 'games_started']\n",
      "Accuracy:  39.366963402571706\n",
      "['X.Poss', 'player_type']\n",
      "Accuracy:  41.246290801186944\n",
      "['X.Poss', 'KP_Conf_Dif']\n",
      "Accuracy:  40.30662710187933\n",
      "['X.Poss', 'X.Min']\n",
      "Accuracy:  39.51533135509397\n",
      "['X.Poss', 'ORtg']\n",
      "Accuracy:  38.92185954500494\n",
      "['X.Poss', 'Year_dif']\n",
      "Accuracy:  41.196834817012856\n",
      "['X.Poss', 'stl_per_poss']\n",
      "Accuracy:  38.82294757665677\n",
      "['X.Poss', 'blk_per_poss']\n",
      "Accuracy:  39.46587537091988\n",
      "['X.Poss', 'DR.']\n",
      "Accuracy:  36.25123639960435\n",
      "['X.Poss', 'KP_Rk_Dif']\n",
      "Accuracy:  40.94955489614243\n",
      "['X.Poss', 'Calc A']\n",
      "Accuracy:  37.68545994065282\n",
      "['X.Poss', 'Team_AdjEM_dif']\n",
      "Accuracy:  41.740850642927796\n",
      "['X.Poss', 'Calc B']\n",
      "Accuracy:  38.0811078140455\n",
      "['X.Poss', 'Class']\n",
      "Accuracy:  40.0593471810089\n",
      "['X.Poss', 'Pos_Ht']\n",
      "Accuracy:  39.61424332344214\n",
      "['X.Poss', 'Ht']\n",
      "Accuracy:  38.57566765578635\n",
      "['X.Poss', 'Wt']\n",
      "Accuracy:  39.11968348170129\n",
      "Rem Columns:  ['games', 'games_started', 'player_type', 'KP_Conf_Dif', 'X.Min', 'ORtg', 'Year_dif', 'stl_per_poss', 'blk_per_poss', 'DR.', 'KP_Rk_Dif', 'Calc A', 'Team_AdjEM_dif', 'Calc B', 'Class', 'Pos_Ht', 'Ht', 'Wt']\n",
      "Adding:  Team_AdjEM_dif\n",
      "Rem Columns:  ['games', 'games_started', 'player_type', 'KP_Conf_Dif', 'X.Min', 'ORtg', 'Year_dif', 'stl_per_poss', 'blk_per_poss', 'DR.', 'KP_Rk_Dif', 'Calc A', 'Team_AdjEM_dif', 'Calc B', 'Class', 'Pos_Ht', 'Ht', 'Wt']\n",
      "['X.Poss', 'Team_AdjEM_dif']\n",
      "['X.Poss', 'Team_AdjEM_dif', 'games']\n",
      "Accuracy:  40.75173095944609\n",
      "['X.Poss', 'Team_AdjEM_dif', 'games_started']\n",
      "Accuracy:  40.10880316518299\n",
      "['X.Poss', 'Team_AdjEM_dif', 'player_type']\n",
      "Accuracy:  41.59248269040554\n",
      "['X.Poss', 'Team_AdjEM_dif', 'KP_Conf_Dif']\n",
      "Accuracy:  41.49357072205737\n",
      "['X.Poss', 'Team_AdjEM_dif', 'X.Min']\n",
      "Accuracy:  40.0593471810089\n",
      "['X.Poss', 'Team_AdjEM_dif', 'ORtg']\n",
      "Accuracy:  39.81206726013848\n",
      "['X.Poss', 'Team_AdjEM_dif', 'Year_dif']\n",
      "Accuracy:  40.603363006923836\n",
      "['X.Poss', 'Team_AdjEM_dif', 'stl_per_poss']\n",
      "Accuracy:  40.009891196834815\n",
      "['X.Poss', 'Team_AdjEM_dif', 'blk_per_poss']\n",
      "Accuracy:  40.30662710187933\n",
      "['X.Poss', 'Team_AdjEM_dif', 'DR.']\n",
      "Accuracy:  37.932739861523245\n",
      "['X.Poss', 'Team_AdjEM_dif', 'KP_Rk_Dif']\n",
      "Accuracy:  41.69139465875371\n",
      "['X.Poss', 'Team_AdjEM_dif', 'Calc A']\n",
      "Accuracy:  39.02077151335311\n",
      "['X.Poss', 'Team_AdjEM_dif', 'Calc B']\n",
      "Accuracy:  39.51533135509397\n",
      "['X.Poss', 'Team_AdjEM_dif', 'Class']\n",
      "Accuracy:  41.938674579624134\n",
      "['X.Poss', 'Team_AdjEM_dif', 'Pos_Ht']\n",
      "Accuracy:  39.81206726013848\n",
      "['X.Poss', 'Team_AdjEM_dif', 'Ht']\n",
      "Accuracy:  39.02077151335311\n",
      "['X.Poss', 'Team_AdjEM_dif', 'Wt']\n",
      "Accuracy:  40.603363006923836\n",
      "Rem Columns:  ['games', 'games_started', 'player_type', 'KP_Conf_Dif', 'X.Min', 'ORtg', 'Year_dif', 'stl_per_poss', 'blk_per_poss', 'DR.', 'KP_Rk_Dif', 'Calc A', 'Calc B', 'Class', 'Pos_Ht', 'Ht', 'Wt']\n",
      "Adding:  Class\n",
      "Rem Columns:  ['games', 'games_started', 'player_type', 'KP_Conf_Dif', 'X.Min', 'ORtg', 'Year_dif', 'stl_per_poss', 'blk_per_poss', 'DR.', 'KP_Rk_Dif', 'Calc A', 'Calc B', 'Class', 'Pos_Ht', 'Ht', 'Wt']\n",
      "['X.Poss', 'Team_AdjEM_dif', 'Class']\n",
      "['X.Poss', 'Team_AdjEM_dif', 'Class', 'games']\n",
      "Accuracy:  40.35608308605341\n",
      "['X.Poss', 'Team_AdjEM_dif', 'Class', 'games_started']\n",
      "Accuracy:  39.960435212660734\n",
      "['X.Poss', 'Team_AdjEM_dif', 'Class', 'player_type']\n",
      "Accuracy:  41.54302670623146\n",
      "['X.Poss', 'Team_AdjEM_dif', 'Class', 'KP_Conf_Dif']\n",
      "Accuracy:  41.839762611275965\n",
      "['X.Poss', 'Team_AdjEM_dif', 'Class', 'X.Min']\n",
      "Accuracy:  40.80118694362017\n",
      "['X.Poss', 'Team_AdjEM_dif', 'Class', 'ORtg']\n",
      "Accuracy:  39.861523244312565\n",
      "['X.Poss', 'Team_AdjEM_dif', 'Class', 'Year_dif']\n",
      "Accuracy:  40.702274975272005\n",
      "['X.Poss', 'Team_AdjEM_dif', 'Class', 'stl_per_poss']\n",
      "Accuracy:  39.960435212660734\n",
      "['X.Poss', 'Team_AdjEM_dif', 'Class', 'blk_per_poss']\n",
      "Accuracy:  40.702274975272005\n",
      "['X.Poss', 'Team_AdjEM_dif', 'Class', 'DR.']\n",
      "Accuracy:  38.47675568743818\n",
      "['X.Poss', 'Team_AdjEM_dif', 'Class', 'KP_Rk_Dif']\n",
      "Accuracy:  41.839762611275965\n",
      "['X.Poss', 'Team_AdjEM_dif', 'Class', 'Calc A']\n",
      "Accuracy:  39.46587537091988\n",
      "['X.Poss', 'Team_AdjEM_dif', 'Class', 'Calc B']\n",
      "Accuracy:  38.031651829871414\n",
      "['X.Poss', 'Team_AdjEM_dif', 'Class', 'Pos_Ht']\n",
      "Accuracy:  40.553907022749755\n",
      "['X.Poss', 'Team_AdjEM_dif', 'Class', 'Ht']\n",
      "Accuracy:  39.26805143422354\n",
      "['X.Poss', 'Team_AdjEM_dif', 'Class', 'Wt']\n",
      "Accuracy:  40.20771513353116\n",
      "Rem Columns:  ['games', 'games_started', 'player_type', 'KP_Conf_Dif', 'X.Min', 'ORtg', 'Year_dif', 'stl_per_poss', 'blk_per_poss', 'DR.', 'KP_Rk_Dif', 'Calc A', 'Calc B', 'Pos_Ht', 'Ht', 'Wt']\n",
      "Fails 0.41938674579624136 0.41839762611275966\n",
      "['X.Poss', 'Team_AdjEM_dif', 'Class']\n"
     ]
    }
   ],
   "source": [
    "# All In One Go\n",
    "\n",
    "# Prep initial df\n",
    "d = pd.read_csv(\"/Users/caldavis/Documents/GitHub/Capstone-project/Data folder/final_data_by_player_type.csv\")\n",
    "d = pd.merge(d, kp, left_on=['Team', 'year'], right_on=['TeamName', 'Season'], how='left')\n",
    "d = pd.merge(d, kp, left_on=['Team_n1', 'year'], right_on=['TeamName', 'Season'], how='left')\n",
    "df = pd.merge(d, kp, left_on=['Team_n1', 'year_n1'], right_on=['TeamName', 'Season'], how='left')\n",
    "df = pd.merge(df, kp_conf_rat, left_on=['conf_abbr', 'year'], right_on=['Conf_Abb', 'Year_Conf'], how='left')\n",
    "df = pd.merge(df, kp_conf_rat, left_on=['conf_abbr_n1', 'year'], right_on=['Conf_Abb', 'Year_Conf'], how='left')\n",
    "df = pd.merge(df, kp_conf_rat, left_on=['conf_abbr_n1', 'year_n1'], right_on=['Conf_Abb', 'Year_Conf'], how='left')\n",
    "df = df.replace(to_replace=\"NO IDEA\", value=0)\n",
    "df = df.replace(to_replace=\"---\", value=0)\n",
    "df = df.fillna(0)\n",
    "\n",
    "# Convert to Numeric\n",
    "df[['games', 'games_started', 'mp_per_g', 'fg_per_g', 'fga_per_g', 'fg_pct', 'fg2_per_g', 'fg2a_per_g', 'fg2_pct', 'fg3_per_g', 'fg3a_per_g', 'fg3_pct', 'ft_per_g', 'fta_per_g', 'ft_pct', 'orb_per_g', 'drb_per_g', 'trb_per_g', 'ast_per_g', 'stl_per_g', 'blk_per_g', 'tov_per_g', 'pf_per_g', 'pts_per_g', 'sos', 'mp', 'fg', 'fga', 'fg2', 'fg2a', 'fg2_pct.1', 'fg3', 'fg3a', 'ft', 'fta', 'orb', 'drb', 'trb', 'ast', 'stl', 'blk', 'tov', 'pf', 'pts', 'fg_per_min', 'fga_per_min', 'fg2_per_min', 'fg2a_per_min', 'fg3_per_min', 'fg3a_per_min', 'ft_per_min', 'fta_per_min', 'trb_per_min', 'ast_per_min', 'stl_per_min', 'blk_per_min', 'tov_per_min', 'pf_per_min', 'pts_per_min', 'fg_per_poss', 'fga_per_poss', 'fg2_per_poss', 'fg2a_per_poss', 'fg3_per_poss', 'fg3a_per_poss', 'ft_per_poss', 'fta_per_poss', 'trb_per_poss', 'ast_per_poss', 'stl_per_poss', 'blk_per_poss', 'tov_per_poss', 'pf_per_poss', 'pts_per_poss', 'off_rtg', 'def_rtg', 'per', 'ts_pct', 'efg_pct', 'fg3a_per_fga_pct', 'fta_per_fga_pct', 'pprod', 'orb_pct', 'drb_pct', 'trb_pct', 'ast_pct', 'stl_pct', 'blk_pct', 'tov_pct', 'usg_pct', 'ows', 'dws', 'ws', 'ws_per_40', 'obpm', 'dbpm', 'bpm', 'year', 'Ht', 'Wt', 'G', 'S', 'X.Min', 'ORtg', 'X.Poss', 'X.Shots', 'games_n1', 'games_started_n1', 'mp_per_g_n1', 'fg_per_g_n1', 'fga_per_g_n1', 'fg_pct_n1', 'fg2_per_g_n1', 'fg2a_per_g_n1', 'fg2_pct_n1', 'fg3_per_g_n1', 'fg3a_per_g_n1', 'fg3_pct_n1', 'ft_per_g_n1', 'fta_per_g_n1', 'ft_pct_n1', 'orb_per_g_n1', 'drb_per_g_n1', 'trb_per_g_n1', 'ast_per_g_n1', 'stl_per_g_n1', 'blk_per_g_n1', 'tov_per_g_n1', 'pf_per_g_n1', 'pts_per_g_n1', 'sos_n1', 'mp_n1', 'fg_n1', 'fga_n1', 'fg2_n1', 'fg2a_n1', 'fg2_pct.1_n1', 'fg3_n1', 'fg3a_n1', 'ft_n1', 'fta_n1', 'orb_n1', 'drb_n1', 'trb_n1', 'ast_n1', 'stl_n1', 'blk_n1', 'tov_n1', 'pf_n1', 'pts_n1', 'fg_per_min_n1', 'fga_per_min_n1', 'fg2_per_min_n1', 'fg2a_per_min_n1', 'fg3_per_min_n1', 'fg3a_per_min_n1', 'ft_per_min_n1', 'fta_per_min_n1', 'trb_per_min_n1', 'ast_per_min_n1', 'stl_per_min_n1', 'blk_per_min_n1', 'tov_per_min_n1', 'pf_per_min_n1', 'pts_per_min_n1', 'fg_per_poss_n1', 'fga_per_poss_n1', 'fg2_per_poss_n1', 'fg2a_per_poss_n1', 'fg3_per_poss_n1', 'fg3a_per_poss_n1', 'ft_per_poss_n1', 'fta_per_poss_n1', 'trb_per_poss_n1', 'ast_per_poss_n1', 'stl_per_poss_n1', 'blk_per_poss_n1', 'tov_per_poss_n1', 'pf_per_poss_n1', 'pts_per_poss_n1', 'off_rtg_n1', 'def_rtg_n1', 'per_n1', 'ts_pct_n1', 'efg_pct_n1', 'fg3a_per_fga_pct_n1', 'fta_per_fga_pct_n1', 'pprod_n1', 'orb_pct_n1', 'drb_pct_n1', 'trb_pct_n1', 'ast_pct_n1', 'stl_pct_n1', 'blk_pct_n1', 'tov_pct_n1', 'usg_pct_n1', 'ows_n1', 'dws_n1', 'ws_n1', 'ws_per_40_n1', 'obpm_n1', 'dbpm_n1', 'bpm_n1', 'year_n1', 'Ht_n1', 'Wt_n1', 'G_n1', 'S_n1', 'X.Min_n1', 'ORtg_n1', 'X.Poss_n1', 'X.Shots_n1']] = df[['games', 'games_started', 'mp_per_g', 'fg_per_g', 'fga_per_g', 'fg_pct', 'fg2_per_g', 'fg2a_per_g', 'fg2_pct', 'fg3_per_g', 'fg3a_per_g', 'fg3_pct', 'ft_per_g', 'fta_per_g', 'ft_pct', 'orb_per_g', 'drb_per_g', 'trb_per_g', 'ast_per_g', 'stl_per_g', 'blk_per_g', 'tov_per_g', 'pf_per_g', 'pts_per_g', 'sos', 'mp', 'fg', 'fga', 'fg2', 'fg2a', 'fg2_pct.1', 'fg3', 'fg3a', 'ft', 'fta', 'orb', 'drb', 'trb', 'ast', 'stl', 'blk', 'tov', 'pf', 'pts', 'fg_per_min', 'fga_per_min', 'fg2_per_min', 'fg2a_per_min', 'fg3_per_min', 'fg3a_per_min', 'ft_per_min', 'fta_per_min', 'trb_per_min', 'ast_per_min', 'stl_per_min', 'blk_per_min', 'tov_per_min', 'pf_per_min', 'pts_per_min', 'fg_per_poss', 'fga_per_poss', 'fg2_per_poss', 'fg2a_per_poss', 'fg3_per_poss', 'fg3a_per_poss', 'ft_per_poss', 'fta_per_poss', 'trb_per_poss', 'ast_per_poss', 'stl_per_poss', 'blk_per_poss', 'tov_per_poss', 'pf_per_poss', 'pts_per_poss', 'off_rtg', 'def_rtg', 'per', 'ts_pct', 'efg_pct', 'fg3a_per_fga_pct', 'fta_per_fga_pct', 'pprod', 'orb_pct', 'drb_pct', 'trb_pct', 'ast_pct', 'stl_pct', 'blk_pct', 'tov_pct', 'usg_pct', 'ows', 'dws', 'ws', 'ws_per_40', 'obpm', 'dbpm', 'bpm', 'year', 'Ht', 'Wt', 'G', 'S', 'X.Min', 'ORtg', 'X.Poss', 'X.Shots', 'games_n1', 'games_started_n1', 'mp_per_g_n1', 'fg_per_g_n1', 'fga_per_g_n1', 'fg_pct_n1', 'fg2_per_g_n1', 'fg2a_per_g_n1', 'fg2_pct_n1', 'fg3_per_g_n1', 'fg3a_per_g_n1', 'fg3_pct_n1', 'ft_per_g_n1', 'fta_per_g_n1', 'ft_pct_n1', 'orb_per_g_n1', 'drb_per_g_n1', 'trb_per_g_n1', 'ast_per_g_n1', 'stl_per_g_n1', 'blk_per_g_n1', 'tov_per_g_n1', 'pf_per_g_n1', 'pts_per_g_n1', 'sos_n1', 'mp_n1', 'fg_n1', 'fga_n1', 'fg2_n1', 'fg2a_n1', 'fg2_pct.1_n1', 'fg3_n1', 'fg3a_n1', 'ft_n1', 'fta_n1', 'orb_n1', 'drb_n1', 'trb_n1', 'ast_n1', 'stl_n1', 'blk_n1', 'tov_n1', 'pf_n1', 'pts_n1', 'fg_per_min_n1', 'fga_per_min_n1', 'fg2_per_min_n1', 'fg2a_per_min_n1', 'fg3_per_min_n1', 'fg3a_per_min_n1', 'ft_per_min_n1', 'fta_per_min_n1', 'trb_per_min_n1', 'ast_per_min_n1', 'stl_per_min_n1', 'blk_per_min_n1', 'tov_per_min_n1', 'pf_per_min_n1', 'pts_per_min_n1', 'fg_per_poss_n1', 'fga_per_poss_n1', 'fg2_per_poss_n1', 'fg2a_per_poss_n1', 'fg3_per_poss_n1', 'fg3a_per_poss_n1', 'ft_per_poss_n1', 'fta_per_poss_n1', 'trb_per_poss_n1', 'ast_per_poss_n1', 'stl_per_poss_n1', 'blk_per_poss_n1', 'tov_per_poss_n1', 'pf_per_poss_n1', 'pts_per_poss_n1', 'off_rtg_n1', 'def_rtg_n1', 'per_n1', 'ts_pct_n1', 'efg_pct_n1', 'fg3a_per_fga_pct_n1', 'fta_per_fga_pct_n1', 'pprod_n1', 'orb_pct_n1', 'drb_pct_n1', 'trb_pct_n1', 'ast_pct_n1', 'stl_pct_n1', 'blk_pct_n1', 'tov_pct_n1', 'usg_pct_n1', 'ows_n1', 'dws_n1', 'ws_n1', 'ws_per_40_n1', 'obpm_n1', 'dbpm_n1', 'bpm_n1', 'year_n1', 'Ht_n1', 'Wt_n1', 'G_n1', 'S_n1', 'X.Min_n1', 'ORtg_n1', 'X.Poss_n1', 'X.Shots_n1']].apply(pd.to_numeric, errors=\"ignore\")\n",
    "\n",
    "# Add Contributions\n",
    "conditions = [(df['X.Poss_n1']>=28.0), (df['X.Poss_n1']>=24.0), (df['X.Poss_n1']>=20.0), (df['X.Poss_n1']>=16), \n",
    "              (df['X.Poss_n1']>=12.0), (df['X.Poss_n1']<12)]\n",
    "               # & (df['X.Min_n1']>=10.0), (df['X.Min_n1']<10)]\n",
    "#values = ['Go-To Guy', 'Major Contributor', 'Significant Contributor', 'Role Players', 'Limited Role', 'Nearly Invisible', 'Bench Warmer']\n",
    "values = [0, 1, 2, 3, 4, 5]\n",
    "df['Contribution_n1'] = np.select(conditions, values)\n",
    "\n",
    "# Add Year in School KP\n",
    "year_cond = [(df['Yr_n1']=='Fr'), (df['Yr_n1']=='So'), \n",
    "             (df['Yr_n1']=='Jr'), (df['Yr_n1']=='Sr')]\n",
    "year_val = [1, 2, 3, 4]\n",
    "df['Class'] = np.select(year_cond, year_val)\n",
    "\n",
    "# Add Ht. Categories\n",
    "ht_cond = [(df['Ht']<=74), (df['Ht']>74) & (df['Ht']<=76), (df['Ht']>76) & (df['Ht']<=78),\n",
    "           (df['Ht']>78) & (df['Ht']<=80), (df['Ht']>80)]\n",
    "\n",
    "ht_val = [0, 1, 2, 3, 4]\n",
    "df['Pos_Ht'] = np.select(ht_cond, ht_val)\n",
    "#df[‘column’] =( df[‘column’] – df[‘column’].mean() ) / df[‘column’].std()\n",
    "\n",
    "\n",
    "# Additional Features + Model Prep\n",
    "df = df.drop(df[(df['games']<=14) & (df['games_started']/df['games']>0.25)].index)\n",
    "df = df.drop(df[(df['games']<=3)].index)\n",
    "df = df.drop(df[((df['games']>39) & (df['year']==2023)) | ((df['games_n1']>39) & (df['year_n1']==2023)) | \n",
    "   ((df['games']>40) & (df['year']==2022)) | ((df['games_n1']>40) & (df['year_n1']==2022)) | \n",
    "   ((df['games']>33) & (df['year']==2021)) | ((df['games_n1']>33) & (df['year_n1']==2021)) | \n",
    "   ((df['games']>35) & (df['year']==2020)) | ((df['games_n1']>35) & (df['year_n1']==2020)) | \n",
    "   ((df['games']>40) & (df['year']==2019)) | ((df['games_n1']>40) & (df['year_n1']==2019))].index)\n",
    "df['Year_dif'] = df['year_n1']-df['year']\n",
    "df['Team_AdjEM_dif'] = df['AdjEM_y']-df['AdjEM_x']\n",
    "df['KP_Rk_Dif'] = df['RankAdjEM_y']-df['RankAdjEM_x']\n",
    "df['KP_Conf_Dif'] = df['Conf_Rating_y']-df['Conf_Rating_x']\n",
    "df['Calc A'] = df['X.Min']*df['ORtg']\n",
    "df['Calc B'] = df['stl_per_poss']+df['blk_per_poss']+df['DR.']\n",
    "# Trying to flag red \n",
    "df_test1 = df[['games', 'games_started', 'player_type', 'KP_Conf_Dif', 'X.Poss',  'X.Min',\n",
    "                 'ORtg', 'Contribution_n1', 'Year_dif', 'stl_per_poss', \n",
    "                'blk_per_poss', 'DR.', 'KP_Rk_Dif', 'Calc A', 'Team_AdjEM_dif', \n",
    "                'Calc B', 'Class', 'Pos_Ht', 'Ht', 'Wt']]\n",
    "\n",
    "#'Team_AdjEM_dif', 'X.Min_n1', 'X.Poss_n1',\n",
    "#df_test1 = df_test1[df_test1['player_type']==0]\n",
    "columns = list(df_test1.columns)\n",
    "columns.remove('Contribution_n1')\n",
    "#columns.remove('player_type')\n",
    "keep_col = []\n",
    "rem_columns = columns\n",
    "check = True\n",
    "accuracy_end = 0\n",
    "while len(rem_columns)>0 and check == True:\n",
    "    acc_check = 0\n",
    "\n",
    "    for col in rem_columns:\n",
    "        X = df_test1[keep_col + [col]]\n",
    "    # X = df_test1[['player_type', 'X.Poss', 'X.Min', 'X.Min_n1', 'ORtg', \n",
    "    #                       'Year_dif', 'stl_per_poss', 'blk_per_poss', \n",
    "    #                       'DR.', 'KP_Rk_Dif', 'Calc A']]\n",
    "        y = df_test1[['Contribution_n1']]\n",
    "\n",
    "        # Model\n",
    "        seed = 7\n",
    "        test_size = 0.2\n",
    "        X_train, X_test, y_train, y_test = train_test_split(X, y, test_size=test_size, random_state=seed)\n",
    "        model = XGBClassifier()\n",
    "        model.fit(X_train, y_train)\n",
    "\n",
    "        # Find Accuracy\n",
    "        y_pred = model.predict(X_test)\n",
    "        predictions = [round(value) for value in y_pred]\n",
    "        accuracy = accuracy_score(y_test, predictions)\n",
    "        print(keep_col + [col])\n",
    "        print(\"Accuracy: \", accuracy * 100)\n",
    "        if accuracy > acc_check:\n",
    "            acc_check = accuracy\n",
    "            col_to_add = col\n",
    "            check = True\n",
    "    #print(\"Adding: \", col_to_add)\n",
    "    \n",
    "    print(\"Rem Columns: \", rem_columns)\n",
    "    #keep_col = keep_col + [col_to_add]\n",
    "    if accuracy_end < acc_check:\n",
    "        print(\"Adding: \", col_to_add)\n",
    "        print(\"Rem Columns: \", rem_columns)\n",
    "        accuracy_end = acc_check\n",
    "        rem_columns.remove(col_to_add)\n",
    "        keep_col = keep_col + [col_to_add]\n",
    "    else:\n",
    "        print(\"Fails\", accuracy_end, acc_check)\n",
    "        check = False\n",
    "    print(keep_col)\n",
    "    "
   ]
  },
  {
   "cell_type": "code",
   "execution_count": 54,
   "metadata": {},
   "outputs": [
    {
     "name": "stderr",
     "output_type": "stream",
     "text": [
      "/opt/anaconda3/lib/python3.11/site-packages/sklearn/ensemble/_gb.py:437: DataConversionWarning: A column-vector y was passed when a 1d array was expected. Please change the shape of y to (n_samples, ), for example using ravel().\n",
      "  y = column_or_1d(y, warn=True)\n"
     ]
    },
    {
     "name": "stdout",
     "output_type": "stream",
     "text": [
      "['games']\n",
      "Accuracy:  31.948565776458953\n"
     ]
    },
    {
     "name": "stderr",
     "output_type": "stream",
     "text": [
      "/opt/anaconda3/lib/python3.11/site-packages/sklearn/ensemble/_gb.py:437: DataConversionWarning: A column-vector y was passed when a 1d array was expected. Please change the shape of y to (n_samples, ), for example using ravel().\n",
      "  y = column_or_1d(y, warn=True)\n"
     ]
    },
    {
     "name": "stdout",
     "output_type": "stream",
     "text": [
      "['games_started']\n",
      "Accuracy:  34.22354104846686\n"
     ]
    },
    {
     "name": "stderr",
     "output_type": "stream",
     "text": [
      "/opt/anaconda3/lib/python3.11/site-packages/sklearn/ensemble/_gb.py:437: DataConversionWarning: A column-vector y was passed when a 1d array was expected. Please change the shape of y to (n_samples, ), for example using ravel().\n",
      "  y = column_or_1d(y, warn=True)\n"
     ]
    },
    {
     "name": "stdout",
     "output_type": "stream",
     "text": [
      "['KP_Conf_Dif']\n",
      "Accuracy:  31.355093966369928\n"
     ]
    },
    {
     "name": "stderr",
     "output_type": "stream",
     "text": [
      "/opt/anaconda3/lib/python3.11/site-packages/sklearn/ensemble/_gb.py:437: DataConversionWarning: A column-vector y was passed when a 1d array was expected. Please change the shape of y to (n_samples, ), for example using ravel().\n",
      "  y = column_or_1d(y, warn=True)\n"
     ]
    },
    {
     "name": "stdout",
     "output_type": "stream",
     "text": [
      "['X.Poss']\n",
      "Accuracy:  44.31256181998022\n"
     ]
    },
    {
     "name": "stderr",
     "output_type": "stream",
     "text": [
      "/opt/anaconda3/lib/python3.11/site-packages/sklearn/ensemble/_gb.py:437: DataConversionWarning: A column-vector y was passed when a 1d array was expected. Please change the shape of y to (n_samples, ), for example using ravel().\n",
      "  y = column_or_1d(y, warn=True)\n"
     ]
    },
    {
     "name": "stdout",
     "output_type": "stream",
     "text": [
      "['X.Min']\n",
      "Accuracy:  32.838773491592484\n"
     ]
    },
    {
     "name": "stderr",
     "output_type": "stream",
     "text": [
      "/opt/anaconda3/lib/python3.11/site-packages/sklearn/ensemble/_gb.py:437: DataConversionWarning: A column-vector y was passed when a 1d array was expected. Please change the shape of y to (n_samples, ), for example using ravel().\n",
      "  y = column_or_1d(y, warn=True)\n"
     ]
    },
    {
     "name": "stdout",
     "output_type": "stream",
     "text": [
      "['ORtg']\n",
      "Accuracy:  31.55291790306627\n"
     ]
    },
    {
     "name": "stderr",
     "output_type": "stream",
     "text": [
      "/opt/anaconda3/lib/python3.11/site-packages/sklearn/ensemble/_gb.py:437: DataConversionWarning: A column-vector y was passed when a 1d array was expected. Please change the shape of y to (n_samples, ), for example using ravel().\n",
      "  y = column_or_1d(y, warn=True)\n"
     ]
    },
    {
     "name": "stdout",
     "output_type": "stream",
     "text": [
      "['Year_dif']\n",
      "Accuracy:  32.146389713155294\n"
     ]
    },
    {
     "name": "stderr",
     "output_type": "stream",
     "text": [
      "/opt/anaconda3/lib/python3.11/site-packages/sklearn/ensemble/_gb.py:437: DataConversionWarning: A column-vector y was passed when a 1d array was expected. Please change the shape of y to (n_samples, ), for example using ravel().\n",
      "  y = column_or_1d(y, warn=True)\n"
     ]
    },
    {
     "name": "stdout",
     "output_type": "stream",
     "text": [
      "['stl_per_poss']\n",
      "Accuracy:  30.95944609297725\n"
     ]
    },
    {
     "name": "stderr",
     "output_type": "stream",
     "text": [
      "/opt/anaconda3/lib/python3.11/site-packages/sklearn/ensemble/_gb.py:437: DataConversionWarning: A column-vector y was passed when a 1d array was expected. Please change the shape of y to (n_samples, ), for example using ravel().\n",
      "  y = column_or_1d(y, warn=True)\n"
     ]
    },
    {
     "name": "stdout",
     "output_type": "stream",
     "text": [
      "['blk_per_poss']\n",
      "Accuracy:  32.54203758654797\n"
     ]
    },
    {
     "name": "stderr",
     "output_type": "stream",
     "text": [
      "/opt/anaconda3/lib/python3.11/site-packages/sklearn/ensemble/_gb.py:437: DataConversionWarning: A column-vector y was passed when a 1d array was expected. Please change the shape of y to (n_samples, ), for example using ravel().\n",
      "  y = column_or_1d(y, warn=True)\n"
     ]
    },
    {
     "name": "stdout",
     "output_type": "stream",
     "text": [
      "['DR.']\n",
      "Accuracy:  31.55291790306627\n"
     ]
    },
    {
     "name": "stderr",
     "output_type": "stream",
     "text": [
      "/opt/anaconda3/lib/python3.11/site-packages/sklearn/ensemble/_gb.py:437: DataConversionWarning: A column-vector y was passed when a 1d array was expected. Please change the shape of y to (n_samples, ), for example using ravel().\n",
      "  y = column_or_1d(y, warn=True)\n"
     ]
    },
    {
     "name": "stdout",
     "output_type": "stream",
     "text": [
      "['Calc A']\n",
      "Accuracy:  30.76162215628091\n"
     ]
    },
    {
     "name": "stderr",
     "output_type": "stream",
     "text": [
      "/opt/anaconda3/lib/python3.11/site-packages/sklearn/ensemble/_gb.py:437: DataConversionWarning: A column-vector y was passed when a 1d array was expected. Please change the shape of y to (n_samples, ), for example using ravel().\n",
      "  y = column_or_1d(y, warn=True)\n"
     ]
    },
    {
     "name": "stdout",
     "output_type": "stream",
     "text": [
      "['Team_AdjEM_dif']\n",
      "Accuracy:  30.86053412462908\n"
     ]
    },
    {
     "name": "stderr",
     "output_type": "stream",
     "text": [
      "/opt/anaconda3/lib/python3.11/site-packages/sklearn/ensemble/_gb.py:437: DataConversionWarning: A column-vector y was passed when a 1d array was expected. Please change the shape of y to (n_samples, ), for example using ravel().\n",
      "  y = column_or_1d(y, warn=True)\n"
     ]
    },
    {
     "name": "stdout",
     "output_type": "stream",
     "text": [
      "['Calc B']\n",
      "Accuracy:  31.849653808110784\n"
     ]
    },
    {
     "name": "stderr",
     "output_type": "stream",
     "text": [
      "/opt/anaconda3/lib/python3.11/site-packages/sklearn/ensemble/_gb.py:437: DataConversionWarning: A column-vector y was passed when a 1d array was expected. Please change the shape of y to (n_samples, ), for example using ravel().\n",
      "  y = column_or_1d(y, warn=True)\n"
     ]
    },
    {
     "name": "stdout",
     "output_type": "stream",
     "text": [
      "['Class']\n",
      "Accuracy:  32.24530168150346\n"
     ]
    },
    {
     "name": "stderr",
     "output_type": "stream",
     "text": [
      "/opt/anaconda3/lib/python3.11/site-packages/sklearn/ensemble/_gb.py:437: DataConversionWarning: A column-vector y was passed when a 1d array was expected. Please change the shape of y to (n_samples, ), for example using ravel().\n",
      "  y = column_or_1d(y, warn=True)\n"
     ]
    },
    {
     "name": "stdout",
     "output_type": "stream",
     "text": [
      "['Pos_Ht']\n",
      "Accuracy:  32.24530168150346\n"
     ]
    },
    {
     "name": "stderr",
     "output_type": "stream",
     "text": [
      "/opt/anaconda3/lib/python3.11/site-packages/sklearn/ensemble/_gb.py:437: DataConversionWarning: A column-vector y was passed when a 1d array was expected. Please change the shape of y to (n_samples, ), for example using ravel().\n",
      "  y = column_or_1d(y, warn=True)\n"
     ]
    },
    {
     "name": "stdout",
     "output_type": "stream",
     "text": [
      "['Ht']\n",
      "Accuracy:  32.047477744807125\n"
     ]
    },
    {
     "name": "stderr",
     "output_type": "stream",
     "text": [
      "/opt/anaconda3/lib/python3.11/site-packages/sklearn/ensemble/_gb.py:437: DataConversionWarning: A column-vector y was passed when a 1d array was expected. Please change the shape of y to (n_samples, ), for example using ravel().\n",
      "  y = column_or_1d(y, warn=True)\n"
     ]
    },
    {
     "name": "stdout",
     "output_type": "stream",
     "text": [
      "['Wt']\n",
      "Accuracy:  32.93768545994065\n",
      "Rem Columns:  ['games', 'games_started', 'KP_Conf_Dif', 'X.Poss', 'X.Min', 'ORtg', 'Year_dif', 'stl_per_poss', 'blk_per_poss', 'DR.', 'Calc A', 'Team_AdjEM_dif', 'Calc B', 'Class', 'Pos_Ht', 'Ht', 'Wt']\n",
      "Adding:  X.Poss\n",
      "Rem Columns:  ['games', 'games_started', 'KP_Conf_Dif', 'X.Poss', 'X.Min', 'ORtg', 'Year_dif', 'stl_per_poss', 'blk_per_poss', 'DR.', 'Calc A', 'Team_AdjEM_dif', 'Calc B', 'Class', 'Pos_Ht', 'Ht', 'Wt']\n",
      "['X.Poss']\n"
     ]
    },
    {
     "name": "stderr",
     "output_type": "stream",
     "text": [
      "/opt/anaconda3/lib/python3.11/site-packages/sklearn/ensemble/_gb.py:437: DataConversionWarning: A column-vector y was passed when a 1d array was expected. Please change the shape of y to (n_samples, ), for example using ravel().\n",
      "  y = column_or_1d(y, warn=True)\n"
     ]
    },
    {
     "name": "stdout",
     "output_type": "stream",
     "text": [
      "['X.Poss', 'games']\n",
      "Accuracy:  44.609297725024724\n"
     ]
    },
    {
     "name": "stderr",
     "output_type": "stream",
     "text": [
      "/opt/anaconda3/lib/python3.11/site-packages/sklearn/ensemble/_gb.py:437: DataConversionWarning: A column-vector y was passed when a 1d array was expected. Please change the shape of y to (n_samples, ), for example using ravel().\n",
      "  y = column_or_1d(y, warn=True)\n"
     ]
    },
    {
     "name": "stdout",
     "output_type": "stream",
     "text": [
      "['X.Poss', 'games_started']\n",
      "Accuracy:  43.42235410484669\n"
     ]
    },
    {
     "name": "stderr",
     "output_type": "stream",
     "text": [
      "/opt/anaconda3/lib/python3.11/site-packages/sklearn/ensemble/_gb.py:437: DataConversionWarning: A column-vector y was passed when a 1d array was expected. Please change the shape of y to (n_samples, ), for example using ravel().\n",
      "  y = column_or_1d(y, warn=True)\n"
     ]
    },
    {
     "name": "stdout",
     "output_type": "stream",
     "text": [
      "['X.Poss', 'KP_Conf_Dif']\n",
      "Accuracy:  43.62017804154303\n"
     ]
    },
    {
     "name": "stderr",
     "output_type": "stream",
     "text": [
      "/opt/anaconda3/lib/python3.11/site-packages/sklearn/ensemble/_gb.py:437: DataConversionWarning: A column-vector y was passed when a 1d array was expected. Please change the shape of y to (n_samples, ), for example using ravel().\n",
      "  y = column_or_1d(y, warn=True)\n"
     ]
    },
    {
     "name": "stdout",
     "output_type": "stream",
     "text": [
      "['X.Poss', 'X.Min']\n",
      "Accuracy:  43.42235410484669\n"
     ]
    },
    {
     "name": "stderr",
     "output_type": "stream",
     "text": [
      "/opt/anaconda3/lib/python3.11/site-packages/sklearn/ensemble/_gb.py:437: DataConversionWarning: A column-vector y was passed when a 1d array was expected. Please change the shape of y to (n_samples, ), for example using ravel().\n",
      "  y = column_or_1d(y, warn=True)\n"
     ]
    },
    {
     "name": "stdout",
     "output_type": "stream",
     "text": [
      "['X.Poss', 'ORtg']\n",
      "Accuracy:  44.11473788328388\n"
     ]
    },
    {
     "name": "stderr",
     "output_type": "stream",
     "text": [
      "/opt/anaconda3/lib/python3.11/site-packages/sklearn/ensemble/_gb.py:437: DataConversionWarning: A column-vector y was passed when a 1d array was expected. Please change the shape of y to (n_samples, ), for example using ravel().\n",
      "  y = column_or_1d(y, warn=True)\n"
     ]
    },
    {
     "name": "stdout",
     "output_type": "stream",
     "text": [
      "['X.Poss', 'Year_dif']\n",
      "Accuracy:  44.510385756676556\n"
     ]
    },
    {
     "name": "stderr",
     "output_type": "stream",
     "text": [
      "/opt/anaconda3/lib/python3.11/site-packages/sklearn/ensemble/_gb.py:437: DataConversionWarning: A column-vector y was passed when a 1d array was expected. Please change the shape of y to (n_samples, ), for example using ravel().\n",
      "  y = column_or_1d(y, warn=True)\n"
     ]
    },
    {
     "name": "stdout",
     "output_type": "stream",
     "text": [
      "['X.Poss', 'stl_per_poss']\n",
      "Accuracy:  43.224530168150345\n"
     ]
    },
    {
     "name": "stderr",
     "output_type": "stream",
     "text": [
      "/opt/anaconda3/lib/python3.11/site-packages/sklearn/ensemble/_gb.py:437: DataConversionWarning: A column-vector y was passed when a 1d array was expected. Please change the shape of y to (n_samples, ), for example using ravel().\n",
      "  y = column_or_1d(y, warn=True)\n"
     ]
    },
    {
     "name": "stdout",
     "output_type": "stream",
     "text": [
      "['X.Poss', 'blk_per_poss']\n",
      "Accuracy:  43.818001978239366\n"
     ]
    },
    {
     "name": "stderr",
     "output_type": "stream",
     "text": [
      "/opt/anaconda3/lib/python3.11/site-packages/sklearn/ensemble/_gb.py:437: DataConversionWarning: A column-vector y was passed when a 1d array was expected. Please change the shape of y to (n_samples, ), for example using ravel().\n",
      "  y = column_or_1d(y, warn=True)\n"
     ]
    },
    {
     "name": "stdout",
     "output_type": "stream",
     "text": [
      "['X.Poss', 'DR.']\n",
      "Accuracy:  43.818001978239366\n"
     ]
    },
    {
     "name": "stderr",
     "output_type": "stream",
     "text": [
      "/opt/anaconda3/lib/python3.11/site-packages/sklearn/ensemble/_gb.py:437: DataConversionWarning: A column-vector y was passed when a 1d array was expected. Please change the shape of y to (n_samples, ), for example using ravel().\n",
      "  y = column_or_1d(y, warn=True)\n"
     ]
    },
    {
     "name": "stdout",
     "output_type": "stream",
     "text": [
      "['X.Poss', 'Calc A']\n",
      "Accuracy:  42.92779426310583\n"
     ]
    },
    {
     "name": "stderr",
     "output_type": "stream",
     "text": [
      "/opt/anaconda3/lib/python3.11/site-packages/sklearn/ensemble/_gb.py:437: DataConversionWarning: A column-vector y was passed when a 1d array was expected. Please change the shape of y to (n_samples, ), for example using ravel().\n",
      "  y = column_or_1d(y, warn=True)\n"
     ]
    },
    {
     "name": "stdout",
     "output_type": "stream",
     "text": [
      "['X.Poss', 'Team_AdjEM_dif']\n",
      "Accuracy:  43.52126607319486\n"
     ]
    },
    {
     "name": "stderr",
     "output_type": "stream",
     "text": [
      "/opt/anaconda3/lib/python3.11/site-packages/sklearn/ensemble/_gb.py:437: DataConversionWarning: A column-vector y was passed when a 1d array was expected. Please change the shape of y to (n_samples, ), for example using ravel().\n",
      "  y = column_or_1d(y, warn=True)\n"
     ]
    },
    {
     "name": "stdout",
     "output_type": "stream",
     "text": [
      "['X.Poss', 'Calc B']\n",
      "Accuracy:  43.125618199802176\n"
     ]
    },
    {
     "name": "stderr",
     "output_type": "stream",
     "text": [
      "/opt/anaconda3/lib/python3.11/site-packages/sklearn/ensemble/_gb.py:437: DataConversionWarning: A column-vector y was passed when a 1d array was expected. Please change the shape of y to (n_samples, ), for example using ravel().\n",
      "  y = column_or_1d(y, warn=True)\n"
     ]
    },
    {
     "name": "stdout",
     "output_type": "stream",
     "text": [
      "['X.Poss', 'Class']\n",
      "Accuracy:  44.70820969337289\n"
     ]
    },
    {
     "name": "stderr",
     "output_type": "stream",
     "text": [
      "/opt/anaconda3/lib/python3.11/site-packages/sklearn/ensemble/_gb.py:437: DataConversionWarning: A column-vector y was passed when a 1d array was expected. Please change the shape of y to (n_samples, ), for example using ravel().\n",
      "  y = column_or_1d(y, warn=True)\n"
     ]
    },
    {
     "name": "stdout",
     "output_type": "stream",
     "text": [
      "['X.Poss', 'Pos_Ht']\n",
      "Accuracy:  44.21364985163205\n"
     ]
    },
    {
     "name": "stderr",
     "output_type": "stream",
     "text": [
      "/opt/anaconda3/lib/python3.11/site-packages/sklearn/ensemble/_gb.py:437: DataConversionWarning: A column-vector y was passed when a 1d array was expected. Please change the shape of y to (n_samples, ), for example using ravel().\n",
      "  y = column_or_1d(y, warn=True)\n"
     ]
    },
    {
     "name": "stdout",
     "output_type": "stream",
     "text": [
      "['X.Poss', 'Ht']\n",
      "Accuracy:  43.916913946587535\n"
     ]
    },
    {
     "name": "stderr",
     "output_type": "stream",
     "text": [
      "/opt/anaconda3/lib/python3.11/site-packages/sklearn/ensemble/_gb.py:437: DataConversionWarning: A column-vector y was passed when a 1d array was expected. Please change the shape of y to (n_samples, ), for example using ravel().\n",
      "  y = column_or_1d(y, warn=True)\n"
     ]
    },
    {
     "name": "stdout",
     "output_type": "stream",
     "text": [
      "['X.Poss', 'Wt']\n",
      "Accuracy:  43.916913946587535\n",
      "Rem Columns:  ['games', 'games_started', 'KP_Conf_Dif', 'X.Min', 'ORtg', 'Year_dif', 'stl_per_poss', 'blk_per_poss', 'DR.', 'Calc A', 'Team_AdjEM_dif', 'Calc B', 'Class', 'Pos_Ht', 'Ht', 'Wt']\n",
      "Adding:  Class\n",
      "Rem Columns:  ['games', 'games_started', 'KP_Conf_Dif', 'X.Min', 'ORtg', 'Year_dif', 'stl_per_poss', 'blk_per_poss', 'DR.', 'Calc A', 'Team_AdjEM_dif', 'Calc B', 'Class', 'Pos_Ht', 'Ht', 'Wt']\n",
      "['X.Poss', 'Class']\n"
     ]
    },
    {
     "name": "stderr",
     "output_type": "stream",
     "text": [
      "/opt/anaconda3/lib/python3.11/site-packages/sklearn/ensemble/_gb.py:437: DataConversionWarning: A column-vector y was passed when a 1d array was expected. Please change the shape of y to (n_samples, ), for example using ravel().\n",
      "  y = column_or_1d(y, warn=True)\n"
     ]
    },
    {
     "name": "stdout",
     "output_type": "stream",
     "text": [
      "['X.Poss', 'Class', 'games']\n",
      "Accuracy:  43.916913946587535\n"
     ]
    },
    {
     "name": "stderr",
     "output_type": "stream",
     "text": [
      "/opt/anaconda3/lib/python3.11/site-packages/sklearn/ensemble/_gb.py:437: DataConversionWarning: A column-vector y was passed when a 1d array was expected. Please change the shape of y to (n_samples, ), for example using ravel().\n",
      "  y = column_or_1d(y, warn=True)\n"
     ]
    },
    {
     "name": "stdout",
     "output_type": "stream",
     "text": [
      "['X.Poss', 'Class', 'games_started']\n",
      "Accuracy:  43.7190900098912\n"
     ]
    },
    {
     "name": "stderr",
     "output_type": "stream",
     "text": [
      "/opt/anaconda3/lib/python3.11/site-packages/sklearn/ensemble/_gb.py:437: DataConversionWarning: A column-vector y was passed when a 1d array was expected. Please change the shape of y to (n_samples, ), for example using ravel().\n",
      "  y = column_or_1d(y, warn=True)\n"
     ]
    },
    {
     "name": "stdout",
     "output_type": "stream",
     "text": [
      "['X.Poss', 'Class', 'KP_Conf_Dif']\n",
      "Accuracy:  43.7190900098912\n"
     ]
    },
    {
     "name": "stderr",
     "output_type": "stream",
     "text": [
      "/opt/anaconda3/lib/python3.11/site-packages/sklearn/ensemble/_gb.py:437: DataConversionWarning: A column-vector y was passed when a 1d array was expected. Please change the shape of y to (n_samples, ), for example using ravel().\n",
      "  y = column_or_1d(y, warn=True)\n"
     ]
    },
    {
     "name": "stdout",
     "output_type": "stream",
     "text": [
      "['X.Poss', 'Class', 'X.Min']\n",
      "Accuracy:  43.32344213649852\n"
     ]
    },
    {
     "name": "stderr",
     "output_type": "stream",
     "text": [
      "/opt/anaconda3/lib/python3.11/site-packages/sklearn/ensemble/_gb.py:437: DataConversionWarning: A column-vector y was passed when a 1d array was expected. Please change the shape of y to (n_samples, ), for example using ravel().\n",
      "  y = column_or_1d(y, warn=True)\n"
     ]
    },
    {
     "name": "stdout",
     "output_type": "stream",
     "text": [
      "['X.Poss', 'Class', 'ORtg']\n",
      "Accuracy:  43.52126607319486\n"
     ]
    },
    {
     "name": "stderr",
     "output_type": "stream",
     "text": [
      "/opt/anaconda3/lib/python3.11/site-packages/sklearn/ensemble/_gb.py:437: DataConversionWarning: A column-vector y was passed when a 1d array was expected. Please change the shape of y to (n_samples, ), for example using ravel().\n",
      "  y = column_or_1d(y, warn=True)\n"
     ]
    },
    {
     "name": "stdout",
     "output_type": "stream",
     "text": [
      "['X.Poss', 'Class', 'Year_dif']\n",
      "Accuracy:  43.7190900098912\n"
     ]
    },
    {
     "name": "stderr",
     "output_type": "stream",
     "text": [
      "/opt/anaconda3/lib/python3.11/site-packages/sklearn/ensemble/_gb.py:437: DataConversionWarning: A column-vector y was passed when a 1d array was expected. Please change the shape of y to (n_samples, ), for example using ravel().\n",
      "  y = column_or_1d(y, warn=True)\n"
     ]
    },
    {
     "name": "stdout",
     "output_type": "stream",
     "text": [
      "['X.Poss', 'Class', 'stl_per_poss']\n",
      "Accuracy:  43.224530168150345\n"
     ]
    },
    {
     "name": "stderr",
     "output_type": "stream",
     "text": [
      "/opt/anaconda3/lib/python3.11/site-packages/sklearn/ensemble/_gb.py:437: DataConversionWarning: A column-vector y was passed when a 1d array was expected. Please change the shape of y to (n_samples, ), for example using ravel().\n",
      "  y = column_or_1d(y, warn=True)\n"
     ]
    },
    {
     "name": "stdout",
     "output_type": "stream",
     "text": [
      "['X.Poss', 'Class', 'blk_per_poss']\n",
      "Accuracy:  43.818001978239366\n"
     ]
    },
    {
     "name": "stderr",
     "output_type": "stream",
     "text": [
      "/opt/anaconda3/lib/python3.11/site-packages/sklearn/ensemble/_gb.py:437: DataConversionWarning: A column-vector y was passed when a 1d array was expected. Please change the shape of y to (n_samples, ), for example using ravel().\n",
      "  y = column_or_1d(y, warn=True)\n"
     ]
    },
    {
     "name": "stdout",
     "output_type": "stream",
     "text": [
      "['X.Poss', 'Class', 'DR.']\n",
      "Accuracy:  44.01582591493571\n"
     ]
    },
    {
     "name": "stderr",
     "output_type": "stream",
     "text": [
      "/opt/anaconda3/lib/python3.11/site-packages/sklearn/ensemble/_gb.py:437: DataConversionWarning: A column-vector y was passed when a 1d array was expected. Please change the shape of y to (n_samples, ), for example using ravel().\n",
      "  y = column_or_1d(y, warn=True)\n"
     ]
    },
    {
     "name": "stdout",
     "output_type": "stream",
     "text": [
      "['X.Poss', 'Class', 'Calc A']\n",
      "Accuracy:  43.125618199802176\n"
     ]
    },
    {
     "name": "stderr",
     "output_type": "stream",
     "text": [
      "/opt/anaconda3/lib/python3.11/site-packages/sklearn/ensemble/_gb.py:437: DataConversionWarning: A column-vector y was passed when a 1d array was expected. Please change the shape of y to (n_samples, ), for example using ravel().\n",
      "  y = column_or_1d(y, warn=True)\n"
     ]
    },
    {
     "name": "stdout",
     "output_type": "stream",
     "text": [
      "['X.Poss', 'Class', 'Team_AdjEM_dif']\n",
      "Accuracy:  43.224530168150345\n"
     ]
    },
    {
     "name": "stderr",
     "output_type": "stream",
     "text": [
      "/opt/anaconda3/lib/python3.11/site-packages/sklearn/ensemble/_gb.py:437: DataConversionWarning: A column-vector y was passed when a 1d array was expected. Please change the shape of y to (n_samples, ), for example using ravel().\n",
      "  y = column_or_1d(y, warn=True)\n"
     ]
    },
    {
     "name": "stdout",
     "output_type": "stream",
     "text": [
      "['X.Poss', 'Class', 'Calc B']\n",
      "Accuracy:  43.224530168150345\n"
     ]
    },
    {
     "name": "stderr",
     "output_type": "stream",
     "text": [
      "/opt/anaconda3/lib/python3.11/site-packages/sklearn/ensemble/_gb.py:437: DataConversionWarning: A column-vector y was passed when a 1d array was expected. Please change the shape of y to (n_samples, ), for example using ravel().\n",
      "  y = column_or_1d(y, warn=True)\n"
     ]
    },
    {
     "name": "stdout",
     "output_type": "stream",
     "text": [
      "['X.Poss', 'Class', 'Pos_Ht']\n",
      "Accuracy:  44.11473788328388\n"
     ]
    },
    {
     "name": "stderr",
     "output_type": "stream",
     "text": [
      "/opt/anaconda3/lib/python3.11/site-packages/sklearn/ensemble/_gb.py:437: DataConversionWarning: A column-vector y was passed when a 1d array was expected. Please change the shape of y to (n_samples, ), for example using ravel().\n",
      "  y = column_or_1d(y, warn=True)\n"
     ]
    },
    {
     "name": "stdout",
     "output_type": "stream",
     "text": [
      "['X.Poss', 'Class', 'Ht']\n",
      "Accuracy:  43.818001978239366\n"
     ]
    },
    {
     "name": "stderr",
     "output_type": "stream",
     "text": [
      "/opt/anaconda3/lib/python3.11/site-packages/sklearn/ensemble/_gb.py:437: DataConversionWarning: A column-vector y was passed when a 1d array was expected. Please change the shape of y to (n_samples, ), for example using ravel().\n",
      "  y = column_or_1d(y, warn=True)\n"
     ]
    },
    {
     "name": "stdout",
     "output_type": "stream",
     "text": [
      "['X.Poss', 'Class', 'Wt']\n",
      "Accuracy:  44.11473788328388\n",
      "Rem Columns:  ['games', 'games_started', 'KP_Conf_Dif', 'X.Min', 'ORtg', 'Year_dif', 'stl_per_poss', 'blk_per_poss', 'DR.', 'Calc A', 'Team_AdjEM_dif', 'Calc B', 'Pos_Ht', 'Ht', 'Wt']\n",
      "Fails 0.44708209693372897 0.4411473788328388\n",
      "['X.Poss', 'Class']\n"
     ]
    }
   ],
   "source": [
    "from sklearn.ensemble import RandomForestClassifier\n",
    "from sklearn.naive_bayes import GaussianNB\n",
    "from sklearn import neighbors\n",
    "from sklearn import svm\n",
    "from sklearn.ensemble import GradientBoostingClassifier\n",
    "\n",
    "df_test1 = df[['games', 'games_started',  'KP_Conf_Dif', 'X.Poss',  'X.Min',\n",
    "                 'ORtg', 'Contribution_n1', 'Year_dif', 'stl_per_poss', \n",
    "                'blk_per_poss', 'DR.', 'Calc A', 'Team_AdjEM_dif', \n",
    "                'Calc B', 'Class', 'Pos_Ht', 'Ht', 'Wt']]\n",
    "#'player_type', 'KP_Rk_Dif',\n",
    "#'Team_AdjEM_dif', 'X.Min_n1', 'X.Poss_n1',\n",
    "#df_test1 = df_test1[df_test1['player_type']==0]\n",
    "columns = list(df_test1.columns)\n",
    "columns.remove('Contribution_n1')\n",
    "#columns.remove('player_type')\n",
    "keep_col = []\n",
    "rem_columns = columns\n",
    "check = True\n",
    "accuracy_end = 0\n",
    "while len(rem_columns)>0 and check == True:\n",
    "    acc_check = 0\n",
    "\n",
    "    for col in rem_columns:\n",
    "        X = df_test1[keep_col + [col]]\n",
    "    # X = df_test1[['player_type', 'X.Poss', 'X.Min', 'X.Min_n1', 'ORtg', \n",
    "    #                       'Year_dif', 'stl_per_poss', 'blk_per_poss', \n",
    "    #                       'DR.', 'KP_Rk_Dif', 'Calc A']]\n",
    "        y = df_test1[['Contribution_n1']]\n",
    "\n",
    "        # Model\n",
    "        seed = 7\n",
    "        test_size = 0.1\n",
    "        X_train, X_test, y_train, y_test = train_test_split(X, y, test_size=test_size, random_state=seed)\n",
    "        # Random Forrest\n",
    "        #model = RandomForestClassifier()\n",
    "        #model.fit(X_train, y_train)\n",
    "\n",
    "        # Naive-Bayes\n",
    "        # model = GaussianNB()\n",
    "        # model.fit(X_train, y_train)\n",
    "\n",
    "        # Nearest Neighbors\n",
    "        # model = neighbors.KNeighborsClassifier()\n",
    "        # model.fit(X_train, y_train)\n",
    "\n",
    "        # Support Vector Machine\n",
    "        # model = svm.SVC(kernel='linear')\n",
    "        # model.fit(X_train, y_train)\n",
    "        \n",
    "        # Gradient Boosting Classifier\n",
    "        model = GradientBoostingClassifier()\n",
    "        model.fit(X_train, y_train)\n",
    "    \n",
    "        # Find Accuracy\n",
    "        accuracy = model.score(X_test, y_test)\n",
    "        # y_pred = model.predict(X_test)\n",
    "        # predictions = [round(value) for value in y_pred]\n",
    "        # accuracy = accuracy_score(y_test, predictions)\n",
    "        print(keep_col + [col])\n",
    "        print(\"Accuracy: \", accuracy * 100)\n",
    "        if accuracy > acc_check:\n",
    "            acc_check = accuracy\n",
    "            col_to_add = col\n",
    "            check = True\n",
    "    #print(\"Adding: \", col_to_add)\n",
    "    \n",
    "    print(\"Rem Columns: \", rem_columns)\n",
    "    #keep_col = keep_col + [col_to_add]\n",
    "    if accuracy_end < acc_check:\n",
    "        print(\"Adding: \", col_to_add)\n",
    "        print(\"Rem Columns: \", rem_columns)\n",
    "        accuracy_end = acc_check\n",
    "        rem_columns.remove(col_to_add)\n",
    "        keep_col = keep_col + [col_to_add]\n",
    "    else:\n",
    "        print(\"Fails\", accuracy_end, acc_check)\n",
    "        check = False\n",
    "    print(keep_col)"
   ]
  },
  {
   "cell_type": "code",
   "execution_count": 57,
   "metadata": {},
   "outputs": [
    {
     "data": {
      "text/html": [
       "<div>\n",
       "<style scoped>\n",
       "    .dataframe tbody tr th:only-of-type {\n",
       "        vertical-align: middle;\n",
       "    }\n",
       "\n",
       "    .dataframe tbody tr th {\n",
       "        vertical-align: top;\n",
       "    }\n",
       "\n",
       "    .dataframe thead th {\n",
       "        text-align: right;\n",
       "    }\n",
       "</style>\n",
       "<table border=\"1\" class=\"dataframe\">\n",
       "  <thead>\n",
       "    <tr style=\"text-align: right;\">\n",
       "      <th></th>\n",
       "      <th>Ht</th>\n",
       "      <th>X.Poss</th>\n",
       "    </tr>\n",
       "  </thead>\n",
       "  <tbody>\n",
       "    <tr>\n",
       "      <th>0</th>\n",
       "      <td>32</td>\n",
       "      <td>13.8</td>\n",
       "    </tr>\n",
       "    <tr>\n",
       "      <th>1</th>\n",
       "      <td>34</td>\n",
       "      <td>16.9</td>\n",
       "    </tr>\n",
       "    <tr>\n",
       "      <th>2</th>\n",
       "      <td>30</td>\n",
       "      <td>24.1</td>\n",
       "    </tr>\n",
       "    <tr>\n",
       "      <th>3</th>\n",
       "      <td>30</td>\n",
       "      <td>18.8</td>\n",
       "    </tr>\n",
       "    <tr>\n",
       "      <th>4</th>\n",
       "      <td>9</td>\n",
       "      <td>20.7</td>\n",
       "    </tr>\n",
       "    <tr>\n",
       "      <th>...</th>\n",
       "      <td>...</td>\n",
       "      <td>...</td>\n",
       "    </tr>\n",
       "    <tr>\n",
       "      <th>10103</th>\n",
       "      <td>9</td>\n",
       "      <td>14.6</td>\n",
       "    </tr>\n",
       "    <tr>\n",
       "      <th>10104</th>\n",
       "      <td>21</td>\n",
       "      <td>16.3</td>\n",
       "    </tr>\n",
       "    <tr>\n",
       "      <th>10105</th>\n",
       "      <td>31</td>\n",
       "      <td>19.3</td>\n",
       "    </tr>\n",
       "    <tr>\n",
       "      <th>10106</th>\n",
       "      <td>22</td>\n",
       "      <td>22.2</td>\n",
       "    </tr>\n",
       "    <tr>\n",
       "      <th>10107</th>\n",
       "      <td>27</td>\n",
       "      <td>24.8</td>\n",
       "    </tr>\n",
       "  </tbody>\n",
       "</table>\n",
       "<p>10108 rows × 2 columns</p>\n",
       "</div>"
      ],
      "text/plain": [
       "       Ht  X.Poss\n",
       "0      32    13.8\n",
       "1      34    16.9\n",
       "2      30    24.1\n",
       "3      30    18.8\n",
       "4       9    20.7\n",
       "...    ..     ...\n",
       "10103   9    14.6\n",
       "10104  21    16.3\n",
       "10105  31    19.3\n",
       "10106  22    22.2\n",
       "10107  27    24.8\n",
       "\n",
       "[10108 rows x 2 columns]"
      ]
     },
     "execution_count": 57,
     "metadata": {},
     "output_type": "execute_result"
    }
   ],
   "source": [
    "newer = pd.DataFrame(zip(df.games, df['X.Poss']), columns=['Ht', 'X.Poss'])\n",
    "newer"
   ]
  },
  {
   "cell_type": "code",
   "execution_count": 62,
   "metadata": {},
   "outputs": [
    {
     "data": {
      "image/png": "[encoded data removed]",
      "text/plain": [
       "<Figure size 640x480 with 1 Axes>"
      ]
     },
     "metadata": {},
     "output_type": "display_data"
    }
   ],
   "source": [
    "plt.scatter(df['games'], df['X.Poss'])\n",
    "plt.show()"
   ]
  },
  {
   "cell_type": "code",
   "execution_count": null,
   "metadata": {},
   "outputs": [],
   "source": []
  }
 ],
 "metadata": {
  "kernelspec": {
   "display_name": "base",
   "language": "python",
   "name": "python3"
  },
  "language_info": {
   "codemirror_mode": {
    "name": "ipython",
    "version": 3
   },
   "file_extension": ".py",
   "mimetype": "text/x-python",
   "name": "python",
   "nbconvert_exporter": "python",
   "pygments_lexer": "ipython3",
   "version": "3.11.7"
  }
 },
 "nbformat": 4,
 "nbformat_minor": 2
}
